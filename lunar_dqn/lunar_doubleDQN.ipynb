{
 "cells": [
  {
   "cell_type": "markdown",
   "metadata": {
    "id": "ArKFzS5ksz5C",
    "tags": []
   },
   "source": [
    "# Deep Q-Network (DQN): Discrete Lunar Lander problem\n",
    "---\n",
    "In this notebook, you will implement a DQN agent with OpenAI Gym's LunarLander-v2 environment.\n"
   ]
  },
  {
   "cell_type": "markdown",
   "metadata": {
    "tags": []
   },
   "source": [
    "### 1. Import the Necessary Packages"
   ]
  },
  {
   "cell_type": "code",
   "execution_count": 1,
   "metadata": {
    "tags": []
   },
   "outputs": [
    {
     "name": "stdout",
     "output_type": "stream",
     "text": [
      "using device:  cuda:0\n"
     ]
    },
    {
     "data": {
      "text/plain": [
       "<matplotlib.pyplot._IonContext at 0x2c4faea2d00>"
      ]
     },
     "execution_count": 1,
     "metadata": {},
     "output_type": "execute_result"
    }
   ],
   "source": [
    "# render ai gym environment\n",
    "#!pip install gymnasium[box2d]\n",
    "import gymnasium as gym\n",
    "\n",
    "#!pip install progressbar\n",
    "import progressbar as pb\n",
    "\n",
    "from collections import deque\n",
    "import random\n",
    "import time\n",
    "import numpy as np\n",
    "import matplotlib\n",
    "import matplotlib.pyplot as plt\n",
    "from matplotlib import animation\n",
    "from JSAnimation.IPython_display import display_animation\n",
    "#%matplotlib inline\n",
    "\n",
    "is_ipython = 'inline' in plt.get_backend()\n",
    "if is_ipython:\n",
    "    from IPython import display\n",
    "else:  \n",
    "    #!python -m pip install pyvirtualdisplay\n",
    "    from pyvirtualdisplay import Display\n",
    "    display = Display(visible=True, size=(1400, 900))\n",
    "    display.start()\n",
    "\n",
    "# install package for displaying animation\n",
    "#!pip install JSAnimation\n",
    "from JSAnimation.IPython_display import display_animation\n",
    "\n",
    "import torch\n",
    "import torch.nn as nn\n",
    "import torch.nn.functional as F\n",
    "\n",
    "import DQN_agent as dqn_utils\n",
    "from DQN_agent import Agent\n",
    "\n",
    "device = torch.device(\"cuda:0\" if torch.cuda.is_available() else \"cpu\")\n",
    "print(\"using device: \",device) \n",
    "plt.ion()"
   ]
  },
  {
   "cell_type": "code",
   "execution_count": 2,
   "metadata": {
    "tags": []
   },
   "outputs": [],
   "source": [
    "BUFFER_SIZE = int(5e5)  # replay buffer size int(1e5)\n",
    "BATCH_SIZE = 128         # minibatch size 64\n",
    "GAMMA = 0.99            # discount factor 0.99\n",
    "TAU = 1e-3              # for soft update of target parameters 1e-3\n",
    "LR = 2e-4               # learning rate  5e-4\n",
    "UPDATE_EVERY = 4        # how often to update the network 4\n",
    "OFF=0\n",
    "MAIN=2\n",
    "RIGHT=3\n",
    "LEFT=1\n",
    "ACTIONS=[0,2,3,1]\n",
    "num2act = {num:act for num, act in zip(ACTIONS, [\"OFF\", \"MAIN\", \"RIGHT\", \"LEFT\"])}\n",
    "LOWS=np.array([-1.5, -1.5, -5., -5., -3.1415927, -5., False, False])\n",
    "HIGHS=np.array([1.5, 1.5, 5., 5., 3.1415927, 5., True, True])\n",
    "norm = lambda x: (x - x.mean())/x.std() if x.std()!=0. else 0.\n",
    "pix_norm = lambda x: x/255.\n",
    "scale = lambda x: (x - x.min())/(x.max() - x.min()) if x.max()!=x.min() else x\n",
    "SEED = 1234\n",
    "\n",
    "def scale_input(state):\n",
    "    st = np.zeros_like(state)\n",
    "    st[:-2] = (state[:-2] - LOWS[:-2]) / (HIGHS[:-2] - LOWS[:-2])\n",
    "    st[-2:] = state[-2:] \n",
    "    return st\n",
    "\n",
    "def scale_input_batch(states):\n",
    "    sts =  np.array([scale_input(state) for state in states])     \n",
    "    return sts\n",
    "\n",
    "def prep_input(state0, state1):\n",
    "    '''Takes two sequential states and returns input to the network   \n",
    "        Params\n",
    "        states (np.array) shape (8,)\n",
    "        Returns (np.array) shape (2,8) prepped for input \n",
    "    '''\n",
    "    state0 = scale_input(state0)\n",
    "    state1 = scale_input(state1)\n",
    "    state = np.asarray([state0, state1])\n",
    "    return state  \n",
    "\n"
   ]
  },
  {
   "cell_type": "code",
   "execution_count": 3,
   "metadata": {
    "tags": []
   },
   "outputs": [],
   "source": [
    "#print([k for k in gym.envs.registry.keys() if \"Lunar\" in k])  #.all().keys()  #.make\n",
    "#gym.envs.registry['LunarLanderContinuous-v2']"
   ]
  },
  {
   "cell_type": "markdown",
   "metadata": {
    "id": "r4Sl_Wc_sz5E"
   },
   "source": [
    "### 2. Instantiate the Environment and Agent\n",
    "\n",
    "Initialize the environment in the code cell below."
   ]
  },
  {
   "cell_type": "markdown",
   "metadata": {},
   "source": [
    "The observation space is an 8-dimensional vector: \n",
    "* the coordinates of the lander (x & y), \n",
    "* its linear velocities (x & y), \n",
    "* its angle (radians), \n",
    "* its angular velocity, \n",
    "* and two booleans for whether/not each leg has ground contact.\n",
    "\n",
    "Observation Highs:\n",
    "* [1.5  1.5  5.0  5.0  3.14  5.0  True  True ]\n",
    "\n",
    "Observation Lows:\n",
    "* [-1.5  -1.5  -5.0  -5.0  -3.14  -5.0  False  False ]\n",
    "\n",
    "Wind function:\n",
    "\n",
    "tanh(sin(2 k (t+C)) + sin(pi k (t+C))). k is set to 0.01. C is sampled randomly between -9999 and 9999\n"
   ]
  },
  {
   "cell_type": "markdown",
   "metadata": {
    "id": "H4ukSEf9sz5E"
   },
   "source": [
    "### Observation Space\n",
    "\n",
    "The observation space is an 8-dimensional vector: \n",
    "* the coordinates of the lander (x & y), \n",
    "* its linear velocities (x & y), \n",
    "* its angle (radians), \n",
    "* its angular velocity, \n",
    "* and two booleans for whether/not each leg has ground contact.\n",
    "\n",
    "Observation Highs:\n",
    "* [1.5  1.5  5.0  5.0  3.14  5.0  True  True ]\n",
    "\n",
    "Observation Lows:\n",
    "* [-1.5  -1.5  -5.0  -5.0  -3.14  -5.0  False  False ]\n",
    "\n",
    "Wind function:\n",
    "\n",
    "`tanh`(sin(2 k (t+C)) + sin(pi k (t+C))). k is set to 0.01. C is sampled randomly between -9999 and 9999\n",
    "\n",
    "\n",
    "### Discrete Action Space\n",
    "\n",
    "There are four discrete actions available:\n",
    "\n",
    "* 0: do nothing\n",
    "* 1: fire left orientation engine\n",
    "* 2: fire main engine\n",
    "* 3: fire right orientation engine\n",
    "\n",
    "\n",
    "### Rewards\n",
    "\n",
    "After every step a reward is granted. The total reward of an episode is the sum of the rewards for all the steps within that episode.\n",
    "\n",
    "For each step, the reward:\n",
    "\n",
    "* is increased/decreased the closer/further the lander is to the landing pad.\n",
    "* is increased/decreased the slower/faster the lander is moving.\n",
    "* is decreased the more the lander is tilted (angle not horizontal).\n",
    "* is increased by 10 points for each leg that is in contact with the ground.\n",
    "* is decreased by 0.03 points each frame a side engine is firing.\n",
    "* is decreased by 0.3 points each frame the main engine is firing.\n",
    "\n",
    "The episode receives an additional reward of -100 or +100 points for crashing or landing safely respectively.\n",
    "\n",
    "An episode is considered a solution if it scores at least 200 points."
   ]
  },
  {
   "cell_type": "code",
   "execution_count": 4,
   "metadata": {
    "tags": []
   },
   "outputs": [],
   "source": [
    "### \n",
    "OLD_GYM=False\n",
    "if OLD_GYM:\n",
    "    #env = gym.make(\"LunarLander-v2\", render_mode=\"rgb_array\")\n",
    "    env = gym.make(\"LunarLander-v2\", render_mode=\"rgb_array\", options={'continuous': False,\n",
    "                                                                       'gravity': -9.81,\n",
    "                                                                       'enable_wind': True,\n",
    "                                                                       'wind_power': 1.5,\n",
    "                                                                       'turbulence_power': 0.15}\n",
    "                  )\n",
    "    #,\n",
    "    #continuous = False, #False\n",
    "    #gravity = -9.81, #0 and -12\n",
    "    #enable_wind = True, #False\n",
    "    #wind_power = 1.5, #0.0 and 20.0\n",
    "    #turbulence_power = 0.15, #0.0 and 2.0\n",
    "    #)\n",
    "\n",
    "    state, info = env.reset(seed = 1234)\n",
    "    obs = env.render()\n",
    "\n",
    "    done = False\n",
    "    while not done:\n",
    "        action = env.action_space.sample()  # agent policy that uses the observation and info\n",
    "        state, reward, done, trun, info = env.step(action)\n",
    "        print(action, reward)\n",
    "        obs = env.render()\n",
    "        plt.imshow(obs)\n",
    "\n",
    "    state_shape = env.observation_space.shape\n",
    "    state_size = state_shape[0]\n",
    "    action_size = env.action_space.n\n",
    "    print('State shape: ', state_size)\n",
    "    print('Number of actions: ', action_size)\n",
    "    plt.imshow(obs)"
   ]
  },
  {
   "cell_type": "code",
   "execution_count": 5,
   "metadata": {
    "collapsed": true,
    "id": "SY0GEqHHsz5E",
    "jupyter": {
     "outputs_hidden": true
    },
    "tags": []
   },
   "outputs": [
    {
     "name": "stdout",
     "output_type": "stream",
     "text": [
      "State shape:  8\n",
      "Number of actions:  4\n"
     ]
    },
    {
     "data": {
      "text/plain": [
       "<matplotlib.image.AxesImage at 0x2c49057e1f0>"
      ]
     },
     "execution_count": 5,
     "metadata": {},
     "output_type": "execute_result"
    },
    {
     "data": {
      "image/png": "[encoded data removed]",
      "text/plain": [
       "<Figure size 640x480 with 1 Axes>"
      ]
     },
     "metadata": {},
     "output_type": "display_data"
    }
   ],
   "source": [
    "##### NEW GYM = GYMNASIUM\n",
    "#!pip install gymnasium[box2d]\n",
    "#import gymnasium as gym\n",
    "env = gym.make(\"LunarLander-v2\", render_mode=\"rgb_array\",\n",
    "                                 continuous= False,\n",
    "                                 gravity= -9.81,\n",
    "                                 enable_wind= True,\n",
    "                                 wind_power= 0.88,\n",
    "                                 turbulence_power= 0.08)\n",
    "            #new_step_api=False,  )\n",
    "\n",
    "state, info = env.reset(seed = 1234)\n",
    "obs = env.render()\n",
    "    \n",
    "done = False\n",
    "while not done:\n",
    "    action = env.action_space.sample()  # agent policy that uses the observation and info\n",
    "    state, reward, done, trun, info = env.step(action)\n",
    "    #print(action, reward)\n",
    "    obs = env.render()\n",
    "    plt.imshow(obs)\n",
    "\n",
    "state_shape = env.observation_space.shape\n",
    "state_size = state_shape[0]\n",
    "action_size = env.action_space.n\n",
    "print('State shape: ', state_size)\n",
    "print('Number of actions: ', action_size)\n",
    "plt.imshow(obs)"
   ]
  },
  {
   "cell_type": "markdown",
   "metadata": {
    "id": "bYCfgBlUsz5F"
   },
   "source": [
    "### 3. Train the Agent with DQN\n",
    "\n",
    "Run the code cell below to train the agent from scratch.  You are welcome to amend the supplied values of the parameters in the function, to try to see if you can get better performance!"
   ]
  },
  {
   "cell_type": "code",
   "execution_count": 7,
   "metadata": {},
   "outputs": [],
   "source": [
    "import torch\n",
    "import torch.nn as nn\n",
    "import torch.nn.functional as F\n",
    "\n",
    "class Evaluator(nn.Module):\n",
    "    \"\"\"Actor (Policy) Model.\"\"\"\n",
    "\n",
    "    def __init__(self, state_size, action_size, seed=SEED):\n",
    "        \"\"\"Initialize parameters and build model.\n",
    "        Params\n",
    "        ======\n",
    "            state_size (int): Dimension of each state\n",
    "            action_size (int): Dimension of each action\n",
    "            seed (int): Random seed\n",
    "        \"\"\"\n",
    "        super(Evaluator, self).__init__()\n",
    "        self.seed = torch.manual_seed(seed)\n",
    "        self.state0 = nn.Linear(state_size, 2*state_size)\n",
    "        self.state1 = nn.Linear(state_size, 2*state_size)\n",
    "        self.hidden = nn.Linear(4*state_size, 4*action_size)\n",
    "        self.out = nn.Linear(4*action_size, action_size)\n",
    "\n",
    "    def forward(self, state):\n",
    "        \"\"\"Build a network that maps state -> action values.\n",
    "           Shape of input state should be: (batch_size, 2, state_size)\n",
    "        \"\"\"\n",
    "        #print(\"input shape: \", state.shape)\n",
    "        s0 = state[:,0,:]#.squeeze()\n",
    "        s0 = F.relu(self.state0(s0))\n",
    "        #print(\"s0 shape: \", s0.shape)\n",
    "        s1 = state[:,1,:]#.squeeze()\n",
    "        s1 = F.relu(self.state1(s1)) \n",
    "        #print(\"s1 shape: \", s1.shape)\n",
    "        x = torch.cat((s0,s1), -1)\n",
    "        #print(\"concat shape: \", x.shape)\n",
    "        x = F.relu(self.hidden(x))\n",
    "        return self.out(x)\n",
    "\n",
    "evaluator = Evaluator(state_size, action_size)\n",
    "evaluator = evaluator.to(device)\n",
    "def evaluate(state, evaluator=evaluator):    \n",
    "    \"\"\"No_Grad a network to map state -> action values.\n",
    "       Shape of input state should be: (batch_size, 2, state_size)\n",
    "       Output shape should be: (batch_size, action_size)\n",
    "    \"\"\"\n",
    "    state = torch.from_numpy(state).float().unsqueeze(0).to(device)\n",
    "    evaluator.eval()\n",
    "    with torch.no_grad():\n",
    "        action_values = evaluator(state)\n",
    "    evaluator.train()\n",
    "    return action_values"
   ]
  },
  {
   "cell_type": "code",
   "execution_count": 8,
   "metadata": {},
   "outputs": [],
   "source": [
    "\n",
    "agent = Agent(state_size, action_size, SEED)\n",
    "#agent.qnetwork_local.load_state_dict(torch.load('checkpoint.pth'))"
   ]
  },
  {
   "cell_type": "code",
   "execution_count": null,
   "metadata": {
    "jupyter": {
     "source_hidden": true
    },
    "tags": []
   },
   "outputs": [],
   "source": [
    "### Observe untrained agent\n",
    "\n",
    "seed=SEED\n",
    "t = 300\n",
    "total_reward = 0.\n",
    "smax = nn.Softmax(dim=-1).to(device)\n",
    "pix_norm = lambda x: x/255.\n",
    "\n",
    "state, _ = env.reset(seed=seed)\n",
    "frame = env.render()\n",
    "frame = pix_norm(frame)\n",
    "img = plt.imshow(frame)\n",
    "action =  np.random.choice(ACTIONS)   \n",
    "for _ in range(t):\n",
    "    state1, reward1, is_done, is_trunc, info = env.step(action)\n",
    "    frame1 =  pix_norm(env.render())\n",
    "    state2, reward2, is_done, is_trunc, info = env.step(0)\n",
    "    frame2 =  pix_norm(env.render())\n",
    "    state = np.asarray([scale_input(state1), \n",
    "                        scale_input(state2)])\n",
    "    ### Evaluator\n",
    "    pols = evaluate(state)\n",
    "    probs = smax(pols).detach().cpu().numpy()\n",
    "    #print(\"probs.shape\", probs.shape)\n",
    "    action = np.argmax(probs[-1]) #greedy choice of probs\n",
    "    polaction = np.argmax(pols[-1].detach().cpu().numpy()) #greedy choice of pols\n",
    "    #if action != polaction:\n",
    "        #print(\"Action: {}  Polaction: {}\".format(action, polaction))\n",
    "        \n",
    "    reward = round(reward1+reward2/2, 2)\n",
    "    total_reward = round(reward+total_reward, 2)\n",
    "    \n",
    "    #frame = pix_norm(frame2)#      (frame1 + frame2)/2)\n",
    "    frame = scale(frame2-frame1/2)\n",
    "    img.set_data(frame)\n",
    "    #pprobs = [p for p in np.round(probs[-1], 3)]\n",
    "    #plt.title(str(pprobs)+\"   \"+ dqn_utils.num2act(action))\n",
    "    plt.title(str(total_reward)+\"   \"+str(reward)+\"   \"+ dqn_utils.num2act[action])\n",
    "    plt.axis('off')\n",
    "    display.display(plt.gcf())\n",
    "    display.clear_output(wait=True)\n",
    "\n",
    "    if is_done or is_trunc:\n",
    "        break "
   ]
  },
  {
   "cell_type": "code",
   "execution_count": 9,
   "metadata": {},
   "outputs": [],
   "source": [
    "def two_step(state, eps):\n",
    "    nul_state, reward1, done, trun, info = env.step(0)\n",
    "    if done or trun:\n",
    "        return nul_state, reward1, done or trun\n",
    "    two_stateA = np.asarray([scale_input(nul_state), scale_input(state)])\n",
    "    \n",
    "    action = agent.act(two_stateA, eps)\n",
    "    next_state, reward2, done, trun, info = env.step(action)\n",
    "    \n",
    "    two_stateB = np.asarray([scale_input(next_state), scale_input(nul_state)])\n",
    "    agent.step(two_stateA, action, reward2, two_stateB, done or trun)\n",
    "    return next_state, reward1+reward2, done or trun\n",
    "\n",
    "\n",
    "def train_dqn(n_episodes=2000, max_steps=1000, \n",
    "              eps_start=1.0, eps_end=0.005, eps_decay=0.99):\n",
    "    \"\"\"Deep Q-Learning.\n",
    "    \n",
    "    Params\n",
    "    ======\n",
    "        n_episodes (int): maximum number of training episodes\n",
    "        max_t (int): maximum number of timesteps per episode\n",
    "        eps_start (float): starting value of epsilon, for epsilon-greedy action selection\n",
    "        eps_end (float): minimum value of epsilon\n",
    "        eps_decay (float): multiplicative factor (per episode) for decreasing epsilon\n",
    "    \"\"\"\n",
    "    scores = []                        # list containing scores from each episode\n",
    "    window_size = 100                  # scores to rolling-remember\n",
    "    scores_window = deque(maxlen=window_size)\n",
    "    eps = eps_start                    # initialize epsilon\n",
    "    for i_episode in range(1, n_episodes+1):\n",
    "        ### Begin new episode\n",
    "        score = 0  \n",
    "        state, _ = env.reset()\n",
    "        for t in range(max_steps): \n",
    "            state, reward, done = two_step(state, eps)\n",
    "            score += reward\n",
    "            if done:\n",
    "                break\n",
    "        scores_window.append(score)       # save most recent episode score\n",
    "        scores.append(score)              # save most recent score\n",
    "        eps = max(eps_end, eps_decay*eps) # decrease epsilon\n",
    "        print('\\rEpisode {}\\tAverage Score: {:.2f}'.format(i_episode, np.mean(scores_window)), end=\"\")  #\\tEpsilon: {:.2f}\n",
    "        if i_episode % 100 == 0:\n",
    "            print('\\rEpisode {}\\tAverage Score: {:.2f}\\tEpsilon: {:.2f}'.format(i_episode, np.mean(scores_window), eps))\n",
    "        if np.mean(scores_window)>=121.0:\n",
    "            print('\\nEnvironment over-solved in {:d} episodes!\\tAverage Score: {:.2f}'.format(i_episode-100, np.mean(scores_window)))\n",
    "            torch.save(agent.qnetwork_local.state_dict(), 'highpoint.pth')\n",
    "            break\n",
    "        elif np.mean(scores_window)>=100.0:\n",
    "            print('\\nEnvironment solved in {:d} episodes!\\tAverage Score: {:.2f}'.format(i_episode-100, np.mean(scores_window)))\n",
    "            torch.save(agent.qnetwork_local.state_dict(), 'checkpoint.pth')           \n",
    "    return scores\n",
    "\n"
   ]
  },
  {
   "cell_type": "code",
   "execution_count": 10,
   "metadata": {
    "collapsed": true,
    "jupyter": {
     "outputs_hidden": true
    },
    "tags": []
   },
   "outputs": [
    {
     "name": "stdout",
     "output_type": "stream",
     "text": [
      "Episode 3\tAverage Score: -173.86"
     ]
    },
    {
     "ename": "IndexError",
     "evalue": "too many indices for tensor of dimension 2",
     "output_type": "error",
     "traceback": [
      "\u001b[1;31m---------------------------------------------------------------------------\u001b[0m",
      "\u001b[1;31mIndexError\u001b[0m                                Traceback (most recent call last)",
      "Cell \u001b[1;32mIn[10], line 7\u001b[0m\n\u001b[0;32m      4\u001b[0m eps_end \u001b[38;5;241m=\u001b[39m \u001b[38;5;241m0.001\u001b[39m\n\u001b[0;32m      5\u001b[0m eps_decay \u001b[38;5;241m=\u001b[39m (eps_end\u001b[38;5;241m/\u001b[39meps_start)\u001b[38;5;241m*\u001b[39m\u001b[38;5;241m*\u001b[39m(\u001b[38;5;241m1\u001b[39m\u001b[38;5;241m/\u001b[39mn_episodes)\n\u001b[1;32m----> 7\u001b[0m scores \u001b[38;5;241m=\u001b[39m \u001b[43mtrain_dqn\u001b[49m\u001b[43m(\u001b[49m\u001b[43mn_episodes\u001b[49m\u001b[43m,\u001b[49m\u001b[43m \u001b[49m\u001b[43mmax_t\u001b[49m\u001b[43m,\u001b[49m\u001b[43m \u001b[49m\u001b[43meps_start\u001b[49m\u001b[43m,\u001b[49m\u001b[43m \u001b[49m\u001b[43meps_end\u001b[49m\u001b[43m,\u001b[49m\u001b[43m \u001b[49m\u001b[43meps_decay\u001b[49m\u001b[43m)\u001b[49m\n",
      "Cell \u001b[1;32mIn[9], line 36\u001b[0m, in \u001b[0;36mtrain_dqn\u001b[1;34m(n_episodes, max_steps, eps_start, eps_end, eps_decay)\u001b[0m\n\u001b[0;32m     34\u001b[0m state, _ \u001b[38;5;241m=\u001b[39m env\u001b[38;5;241m.\u001b[39mreset()\n\u001b[0;32m     35\u001b[0m \u001b[38;5;28;01mfor\u001b[39;00m t \u001b[38;5;129;01min\u001b[39;00m \u001b[38;5;28mrange\u001b[39m(max_steps): \n\u001b[1;32m---> 36\u001b[0m     state, reward, done \u001b[38;5;241m=\u001b[39m \u001b[43mtwo_step\u001b[49m\u001b[43m(\u001b[49m\u001b[43mstate\u001b[49m\u001b[43m,\u001b[49m\u001b[43m \u001b[49m\u001b[43meps\u001b[49m\u001b[43m)\u001b[49m\n\u001b[0;32m     37\u001b[0m     score \u001b[38;5;241m+\u001b[39m\u001b[38;5;241m=\u001b[39m reward\n\u001b[0;32m     38\u001b[0m     \u001b[38;5;28;01mif\u001b[39;00m done:\n",
      "Cell \u001b[1;32mIn[9], line 11\u001b[0m, in \u001b[0;36mtwo_step\u001b[1;34m(state, eps)\u001b[0m\n\u001b[0;32m      8\u001b[0m next_state, reward2, done, trun, info \u001b[38;5;241m=\u001b[39m env\u001b[38;5;241m.\u001b[39mstep(action)\n\u001b[0;32m     10\u001b[0m two_stateB \u001b[38;5;241m=\u001b[39m np\u001b[38;5;241m.\u001b[39masarray([scale_input(next_state), scale_input(nul_state)])\n\u001b[1;32m---> 11\u001b[0m \u001b[43magent\u001b[49m\u001b[38;5;241;43m.\u001b[39;49m\u001b[43mstep\u001b[49m\u001b[43m(\u001b[49m\u001b[43mtwo_stateA\u001b[49m\u001b[43m,\u001b[49m\u001b[43m \u001b[49m\u001b[43maction\u001b[49m\u001b[43m,\u001b[49m\u001b[43m \u001b[49m\u001b[43mreward2\u001b[49m\u001b[43m,\u001b[49m\u001b[43m \u001b[49m\u001b[43mtwo_stateB\u001b[49m\u001b[43m,\u001b[49m\u001b[43m \u001b[49m\u001b[43mdone\u001b[49m\u001b[43m \u001b[49m\u001b[38;5;129;43;01mor\u001b[39;49;00m\u001b[43m \u001b[49m\u001b[43mtrun\u001b[49m\u001b[43m)\u001b[49m\n\u001b[0;32m     12\u001b[0m \u001b[38;5;28;01mreturn\u001b[39;00m next_state, reward1\u001b[38;5;241m+\u001b[39mreward2, done \u001b[38;5;129;01mor\u001b[39;00m trun\n",
      "File \u001b[1;32m~\\Documents\\Repositories\\deep-reinforcement-learning\\lunar_dqn\\DQN_agent.py:89\u001b[0m, in \u001b[0;36mAgent.step\u001b[1;34m(self, state, action, reward, next_state, done)\u001b[0m\n\u001b[0;32m     87\u001b[0m \u001b[38;5;28;01mif\u001b[39;00m \u001b[38;5;28mlen\u001b[39m(\u001b[38;5;28mself\u001b[39m\u001b[38;5;241m.\u001b[39mmemory) \u001b[38;5;241m>\u001b[39m BATCH_SIZE:\n\u001b[0;32m     88\u001b[0m     experiences \u001b[38;5;241m=\u001b[39m \u001b[38;5;28mself\u001b[39m\u001b[38;5;241m.\u001b[39mmemory\u001b[38;5;241m.\u001b[39msample()\n\u001b[1;32m---> 89\u001b[0m     \u001b[38;5;28;43mself\u001b[39;49m\u001b[38;5;241;43m.\u001b[39;49m\u001b[43mlearn\u001b[49m\u001b[43m(\u001b[49m\u001b[43mexperiences\u001b[49m\u001b[43m,\u001b[49m\u001b[43m \u001b[49m\u001b[43mGAMMA\u001b[49m\u001b[43m)\u001b[49m\n",
      "File \u001b[1;32m~\\Documents\\Repositories\\deep-reinforcement-learning\\lunar_dqn\\DQN_agent.py:145\u001b[0m, in \u001b[0;36mAgent.learn\u001b[1;34m(self, experiences, gamma)\u001b[0m\n\u001b[0;32m    142\u001b[0m states, actions, rewards, next_states, dones \u001b[38;5;241m=\u001b[39m experiences\n\u001b[0;32m    144\u001b[0m \u001b[38;5;66;03m# Get max predicted Q values (for next states) from target model\u001b[39;00m\n\u001b[1;32m--> 145\u001b[0m Q_target_next \u001b[38;5;241m=\u001b[39m \u001b[38;5;28;43mself\u001b[39;49m\u001b[38;5;241;43m.\u001b[39;49m\u001b[43mqnetwork_target\u001b[49m\u001b[43m(\u001b[49m\u001b[43mnext_states\u001b[49m\u001b[43m)\u001b[49m\u001b[38;5;241m.\u001b[39mdetach()\u001b[38;5;241m.\u001b[39mmax(\u001b[38;5;241m1\u001b[39m)[\u001b[38;5;241m0\u001b[39m]\u001b[38;5;241m.\u001b[39munsqueeze(\u001b[38;5;241m1\u001b[39m)\n\u001b[0;32m    146\u001b[0m \u001b[38;5;66;03m# Compute Q targets for current states \u001b[39;00m\n\u001b[0;32m    147\u001b[0m Q_target \u001b[38;5;241m=\u001b[39m rewards \u001b[38;5;241m+\u001b[39m (gamma \u001b[38;5;241m*\u001b[39m Q_target_next \u001b[38;5;241m*\u001b[39m (\u001b[38;5;241m1\u001b[39m \u001b[38;5;241m-\u001b[39m dones))\n",
      "File \u001b[1;32mC:\\ProgramData\\Anaconda3\\envs\\general\\lib\\site-packages\\torch\\nn\\modules\\module.py:1194\u001b[0m, in \u001b[0;36mModule._call_impl\u001b[1;34m(self, *input, **kwargs)\u001b[0m\n\u001b[0;32m   1190\u001b[0m \u001b[38;5;66;03m# If we don't have any hooks, we want to skip the rest of the logic in\u001b[39;00m\n\u001b[0;32m   1191\u001b[0m \u001b[38;5;66;03m# this function, and just call forward.\u001b[39;00m\n\u001b[0;32m   1192\u001b[0m \u001b[38;5;28;01mif\u001b[39;00m \u001b[38;5;129;01mnot\u001b[39;00m (\u001b[38;5;28mself\u001b[39m\u001b[38;5;241m.\u001b[39m_backward_hooks \u001b[38;5;129;01mor\u001b[39;00m \u001b[38;5;28mself\u001b[39m\u001b[38;5;241m.\u001b[39m_forward_hooks \u001b[38;5;129;01mor\u001b[39;00m \u001b[38;5;28mself\u001b[39m\u001b[38;5;241m.\u001b[39m_forward_pre_hooks \u001b[38;5;129;01mor\u001b[39;00m _global_backward_hooks\n\u001b[0;32m   1193\u001b[0m         \u001b[38;5;129;01mor\u001b[39;00m _global_forward_hooks \u001b[38;5;129;01mor\u001b[39;00m _global_forward_pre_hooks):\n\u001b[1;32m-> 1194\u001b[0m     \u001b[38;5;28;01mreturn\u001b[39;00m forward_call(\u001b[38;5;241m*\u001b[39m\u001b[38;5;28minput\u001b[39m, \u001b[38;5;241m*\u001b[39m\u001b[38;5;241m*\u001b[39mkwargs)\n\u001b[0;32m   1195\u001b[0m \u001b[38;5;66;03m# Do not call functions when jit is used\u001b[39;00m\n\u001b[0;32m   1196\u001b[0m full_backward_hooks, non_full_backward_hooks \u001b[38;5;241m=\u001b[39m [], []\n",
      "File \u001b[1;32m~\\Documents\\Repositories\\deep-reinforcement-learning\\lunar_dqn\\Q_network.py:56\u001b[0m, in \u001b[0;36mQQNetwork.forward\u001b[1;34m(self, state)\u001b[0m\n\u001b[0;32m     52\u001b[0m \u001b[38;5;28;01mdef\u001b[39;00m \u001b[38;5;21mforward\u001b[39m(\u001b[38;5;28mself\u001b[39m, state):\n\u001b[0;32m     53\u001b[0m \u001b[38;5;250m    \u001b[39m\u001b[38;5;124;03m\"\"\"Build a network that maps state -> action values.\u001b[39;00m\n\u001b[0;32m     54\u001b[0m \u001b[38;5;124;03m       Shape of input state should be: (batch_size, 2, state_size)\u001b[39;00m\n\u001b[0;32m     55\u001b[0m \u001b[38;5;124;03m    \"\"\"\u001b[39;00m\n\u001b[1;32m---> 56\u001b[0m     s0 \u001b[38;5;241m=\u001b[39m \u001b[43mstate\u001b[49m\u001b[43m[\u001b[49m\u001b[43m:\u001b[49m\u001b[43m,\u001b[49m\u001b[38;5;241;43m0\u001b[39;49m\u001b[43m,\u001b[49m\u001b[43m:\u001b[49m\u001b[43m]\u001b[49m\u001b[38;5;241m.\u001b[39msqueeze()\n\u001b[0;32m     57\u001b[0m     s0 \u001b[38;5;241m=\u001b[39m F\u001b[38;5;241m.\u001b[39mrelu(\u001b[38;5;28mself\u001b[39m\u001b[38;5;241m.\u001b[39mstate0(s0))\n\u001b[0;32m     58\u001b[0m     s1 \u001b[38;5;241m=\u001b[39m state[:,\u001b[38;5;241m1\u001b[39m,:]\u001b[38;5;241m.\u001b[39msqueeze()\n",
      "\u001b[1;31mIndexError\u001b[0m: too many indices for tensor of dimension 2"
     ]
    }
   ],
   "source": [
    "n_episodes = 1000\n",
    "max_t = 500\n",
    "eps_start = 1.0\n",
    "eps_end = 0.001\n",
    "eps_decay = (eps_end/eps_start)**(1/n_episodes)\n",
    "\n",
    "scores = train_dqn(n_episodes, max_t, eps_start, eps_end, eps_decay)"
   ]
  },
  {
   "cell_type": "code",
   "execution_count": 13,
   "metadata": {},
   "outputs": [
    {
     "data": {
      "text/plain": [
       "tensor([-0.1331,  0.2205,  0.1934,  0.1535], device='cuda:0')"
      ]
     },
     "execution_count": 13,
     "metadata": {},
     "output_type": "execute_result"
    }
   ],
   "source": [
    "two_state = np.asarray([scale_input(state), scale_input(state)])\n",
    "evaluate(two_state).squeeze()"
   ]
  },
  {
   "cell_type": "code",
   "execution_count": null,
   "metadata": {
    "id": "rH9Y0tg0Gx9a",
    "tags": []
   },
   "outputs": [],
   "source": [
    "# plot the scores\n",
    "fig = plt.figure(figsize=(12,6))\n",
    "ax = fig.add_subplot(111)\n",
    "plt.plot(np.arange(len(scores)), scores, 'bo--', linewidth=0.25, markersize=1.0,)\n",
    "plt.ylabel('Score')\n",
    "plt.xlabel('Episode #')\n",
    "plt.show()"
   ]
  },
  {
   "cell_type": "code",
   "execution_count": null,
   "metadata": {
    "id": "rouVehFdXq6X"
   },
   "outputs": [],
   "source": [
    "torch.save(agent.qnetwork_local.state_dict(), 'dqn_windypoint.pth')"
   ]
  },
  {
   "cell_type": "code",
   "execution_count": null,
   "metadata": {
    "tags": []
   },
   "outputs": [],
   "source": [
    "x = torch.randn(8, 2, 4)\n",
    "print(x.shape, x)\n",
    "#y = torch.randn(8, 2, 4)\n",
    "x0 = x[:,0,:].squeeze()\n",
    "x1 = x[:,1,:].squeeze()\n",
    "print(x1.shape, x1)\n",
    "#y = torch.reshape(x, (8,8))\n",
    "y = torch.cat((x0,x1),1)\n",
    "print(y.shape, y)\n",
    "\n",
    "#print(y1)"
   ]
  },
  {
   "cell_type": "code",
   "execution_count": null,
   "metadata": {},
   "outputs": [],
   "source": [
    "### Observe agent gameplay\n",
    "\n",
    "t = 300\n",
    "smax = nn.Softmax(dim=1)\n",
    "\n",
    "state, _ = env.reset(seed=SEED)\n",
    "frame = env.render()\n",
    "img = plt.imshow(pix_norm(frame))\n",
    "action =  np.random.choice(ACTIONS)   \n",
    "for _ in range(t):\n",
    "    state1, reward1, is_done, is_trunc, info = env.step(action)\n",
    "    frame1 =  pix_norm(env.render())\n",
    "    state2, reward2, is_done, is_trunc, info = env.step(OFF)\n",
    "    frame2 =  pix_norm(env.render())\n",
    "    states = np.asarray([scale_input(state1),\n",
    "                         scale_input(state2)])\n",
    "    probs = np.asarray([agent.act(s) for s in states])\n",
    "    #pols = smax(sigs).detach().cpu().numpy()\n",
    "    #probs = probs.detach().cpu().numpy()\n",
    "    action = np.argmax(probs[-1])\n",
    "    \n",
    "    reward = reward2 + reward1/2\n",
    "    \n",
    "    frame = scale(frame2-frame1/2)\n",
    "    img.set_data(frame)\n",
    "    plt.title(str(action)+\"    \"+str(np.round(reward, 3)))\n",
    "    plt.axis('off')\n",
    "    display.display(plt.gcf())\n",
    "    display.clear_output(wait=True)\n",
    "\n",
    "    if is_done or is_trunc:\n",
    "        break "
   ]
  },
  {
   "cell_type": "code",
   "execution_count": null,
   "metadata": {},
   "outputs": [],
   "source": [
    "states, agent.act(states)"
   ]
  },
  {
   "cell_type": "markdown",
   "metadata": {
    "id": "PGxg3gjKsz5G",
    "tags": []
   },
   "source": [
    "### 5. Explore\n",
    "\n",
    "In this exercise, you have implemented a DQN agent and demonstrated how to use it to solve an OpenAI Gym environment.  To continue your learning, you are encouraged to complete any (or all!) of the following tasks:\n",
    "- Amend the various hyperparameters and network architecture to see if you can get your agent to solve the environment faster.  Once you build intuition for the hyperparameters that work well with this environment, try solving a different OpenAI Gym task with discrete actions!\n",
    "- You may like to implement some improvements such as prioritized experience replay, Double DQN, or Dueling DQN! \n",
    "- Write a blog post explaining the intuition behind the DQN algorithm and demonstrating how to use it to solve an RL environment of your choosing.  "
   ]
  }
 ],
 "metadata": {
  "accelerator": "GPU",
  "colab": {
   "provenance": []
  },
  "gpuClass": "standard",
  "kernelspec": {
   "display_name": "Python 3 (ipykernel)",
   "language": "python",
   "name": "python3"
  },
  "language_info": {
   "codemirror_mode": {
    "name": "ipython",
    "version": 3
   },
   "file_extension": ".py",
   "mimetype": "text/x-python",
   "name": "python",
   "nbconvert_exporter": "python",
   "pygments_lexer": "ipython3",
   "version": "3.9.0"
  }
 },
 "nbformat": 4,
 "nbformat_minor": 4
}
