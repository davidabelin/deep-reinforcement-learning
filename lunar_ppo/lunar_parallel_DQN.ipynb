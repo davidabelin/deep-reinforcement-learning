{
 "cells": [
  {
   "cell_type": "markdown",
   "metadata": {},
   "source": [
    "# Deep Q-Network (DQN)\n",
    "---\n",
    "In this notebook, you will implement a DQN agent with OpenAI Gym's LunarLander-v2 environment.\n",
    "\n",
    "### 1. Import the Necessary Packages"
   ]
  },
  {
   "cell_type": "code",
   "execution_count": null,
   "metadata": {},
   "outputs": [],
   "source": [
    "import gymnasium as gym\n",
    "#!pip3 install box2d\n",
    "import random\n",
    "import torch\n",
    "import numpy as np\n",
    "from collections import deque\n",
    "import matplotlib.pyplot as plt\n",
    "%matplotlib inline\n",
    "\n",
    "is_ipython = 'inline' in plt.get_backend()\n",
    "if is_ipython:\n",
    "    print(\"Ipython\")\n",
    "    from IPython import display\n",
    "else:\n",
    "    print(\"pyvirtualdisplay\")\n",
    "    #!python -m pip install pyvirtualdisplay\n",
    "    from pyvirtualdisplay import Display\n",
    "    display = Display(visible=0, size=(1400, 900))\n",
    "    display.start()\n",
    "ion_context = plt.ion()\n",
    "\n",
    "from DQN_agent import *\n",
    "from lunar_PPO_utils import *\n",
    "print(\"Using device\", device, \"imported from DQN_utils.\")\n",
    "    "
   ]
  },
  {
   "cell_type": "markdown",
   "metadata": {},
   "source": [
    "### 2. Instantiate the Environment and Agent\n",
    "\n",
    "Initialize the environment in the code cell below."
   ]
  },
  {
   "cell_type": "code",
   "execution_count": null,
   "metadata": {
    "tags": []
   },
   "outputs": [],
   "source": [
    "##### NEW GYM = GYMNASIUM\n",
    "#!pip install gymnasium[box2d]\n",
    "#import gymnasium as gym\n",
    "env = gym.make(\"LunarLander-v2\", render_mode=\"rgb_array\",    #\"human\",       #\n",
    "                                 continuous= False,\n",
    "                                 gravity= -9.81,\n",
    "                                 enable_wind= False,\n",
    "                                 wind_power= 3.14,\n",
    "                                 turbulence_power= 0.314)\n",
    "\n",
    "state, info = env.reset(seed = SEED)\n",
    "action = env.action_space.sample()  # agent policy that uses the observation and info\n",
    "state, reward, done, trun, info = env.step(action)\n",
    "\n",
    "state_shape = env.observation_space.shape\n",
    "state_size = state_shape[0]\n",
    "action_size = env.action_space.n\n",
    "print('State shape: ', state_size)\n",
    "print('Number of actions: ', action_size)\n",
    "print(action, round(reward, 3), done or trun)\n",
    "plt.axis('off')\n",
    "plt.imshow(pix_norm(env.render()))"
   ]
  },
  {
   "cell_type": "markdown",
   "metadata": {},
   "source": [
    "Please refer to the instructions in `Deep_Q_Network.ipynb` if you would like to write your own DQN agent.  Otherwise, run the code cell below to load the solution files."
   ]
  },
  {
   "cell_type": "code",
   "execution_count": null,
   "metadata": {
    "tags": []
   },
   "outputs": [],
   "source": [
    "#from dqn_agent import Agent\n",
    "if False:\n",
    "    agent = Agent(state_size=8, action_size=4, seed=0)\n",
    "\n",
    "    # watch an untrained agent\n",
    "    state = env.reset()\n",
    "    img = plt.imshow(env.render(mode='rgb_array'))\n",
    "    for j in range(200):\n",
    "        action = agent.act(state)\n",
    "        img.set_data(env.render(mode='rgb_array')) \n",
    "        plt.axis('off')\n",
    "        display.display(plt.gcf())\n",
    "        display.clear_output(wait=True)\n",
    "        state, reward, done, _ = env.step(action)\n",
    "        if done:\n",
    "            break \n",
    "\n",
    "    env.close()"
   ]
  },
  {
   "cell_type": "markdown",
   "metadata": {},
   "source": [
    "### 3. Train the Agent with DQN\n",
    "\n",
    "Run the code cell below to train the agent from scratch.  You are welcome to amend the supplied values of the parameters in the function, to try to see if you can get better performance!\n",
    "\n",
    "Alternatively, you can skip to the next step below (**4. Watch a Smart Agent!**), to load the saved model weights from a pre-trained agent."
   ]
  },
  {
   "cell_type": "code",
   "execution_count": null,
   "metadata": {},
   "outputs": [],
   "source": [
    "#agent = Agent(state_size=state_size, action_size=action_size, seed=SEED, fc1_units=128, fc2_units=128)"
   ]
  },
  {
   "cell_type": "code",
   "execution_count": null,
   "metadata": {},
   "outputs": [],
   "source": [
    "#agent.qnetwork_local.load_state_dict(torch.load('checkpoint.pth'))\n",
    "#agent.fc1_units, agent.fc2_units, agent.steps"
   ]
  },
  {
   "cell_type": "code",
   "execution_count": null,
   "metadata": {},
   "outputs": [],
   "source": [
    "def dqn(n_episodes=2000, max_t=1000, eps_start=1.0, eps_end=0.01, eps_decay=0.995):\n",
    "    \"\"\"Deep Q-Learning.\n",
    "    \n",
    "    Params\n",
    "    ======\n",
    "        n_episodes (int): maximum number of training episodes\n",
    "        max_t (int): maximum number of timesteps per episode\n",
    "        eps_start (float): starting value of epsilon, for epsilon-greedy action selection\n",
    "        eps_end (float): minimum value of epsilon\n",
    "        eps_decay (float): multiplicative factor (per episode) for decreasing epsilon\n",
    "    \"\"\"\n",
    "    FIRST = True\n",
    "    episode_lengths = []\n",
    "    scores = []                        # list containing scores from each episode\n",
    "    window_size = 100                  # scores to rolling-remember\n",
    "    scores_window = deque(maxlen=window_size)\n",
    "    eps = eps_start                    # initialize epsilon\n",
    "    for i_episode in range(1, n_episodes+1):\n",
    "        state, _ = env.reset(seed=SEED)\n",
    "        score = 0\n",
    "        episteps = 0\n",
    "        for t in range(max_t):  #episteps):\n",
    "            action = agent.act(state, eps)\n",
    "            next_state, reward, done, trun, _ = env.step(action)\n",
    "            agent.step(state, action, reward, next_state, done or trun)\n",
    "            state = next_state\n",
    "            score += reward\n",
    "            episteps += 1\n",
    "            if done or trun:\n",
    "                break \n",
    "                \n",
    "        scores_window.append(score)       # save most recent score\n",
    "        scores.append(score)              # save most recent score\n",
    "        episode_lengths.append(episteps)\n",
    "        eps = max(eps_end, eps_decay*eps) # decrease epsilon\n",
    "        \n",
    "        cycle_steps = agent.steps%BUFFER_SIZE\n",
    "        buffer_cycle = agent.steps//BUFFER_SIZE\n",
    "\n",
    "        print(\"\\rEpisode {0:d} | Average Score:{:8.2f} | Epsilon:{:2.3f} | Max Steps:{:5d} | Buffer cycle:{:7d} +{:3d}\".format(i_episode, \n",
    "                                                                                                                            np.mean(scores_window), \n",
    "                                                                                                                            eps,\n",
    "                                                                                                                            episteps,\n",
    "                                                                                                                            cycle_steps,\n",
    "                                                                                                                            buffer_cycle), end=\"\")\n",
    "                                                                                                                                        \n",
    "        if i_episode % 100 == 0:\n",
    "            chkpntname = \"data/chkpnt{}.pth\".format(i_episode)\n",
    "            torch.save(agent.qnetwork_local.state_dict(), chkpntname)   \n",
    "            print(\"\\rEpisode {:4d} | Average Score: {:7.2f} | Epsilon: {:1.3f} | Max Steps: {:4d} | Buffer cycle:{:7d} +{:3d}\".format(i_episode, \n",
    "                                                                                                                            np.mean(scores_window), \n",
    "                                                                                                                            eps,\n",
    "                                                                                                                            episteps,\n",
    "                                                                                                                            cycle_steps,\n",
    "                                                                                                                            buffer_cycle))\n",
    "        #episteps = (episteps - 1) if episteps>=100 else max_t\n",
    "        \n",
    "        if np.mean(scores_window)>=200. and FIRST:\n",
    "            print('\\nEnvironment solved in {:d} episodes!\\tAverage Score: {:5.2f}'.format(i_episode-100, np.mean(scores_window)))\n",
    "            torch.save(agent.qnetwork_local.state_dict(), 'data/slvdpnt.pth')\n",
    "            FIRST = False\n",
    "        elif np.mean(scores_window)>=250. :\n",
    "            print(\"\\n***** High Score! *****\")\n",
    "            pprint(\"\\tGame over.\")\n",
    "            torch.save(agent.qnetwork_local.state_dict(), 'data/hipnt.pth')\n",
    "            break\n",
    "             \n",
    "    return scores, episode_lengths\n"
   ]
  },
  {
   "cell_type": "code",
   "execution_count": null,
   "metadata": {
    "tags": []
   },
   "outputs": [],
   "source": [
    "agent = Agent(state_size=8, action_size=4, seed=SEED, fc1_units=64, fc2_units=64)\n",
    "#cycle_steps = 1000011%BUFFER_SIZE\n",
    "#buffer_cycle = 1000011//BUFFER_SIZE\n",
    "#cycle_steps, buffer_cycle"
   ]
  },
  {
   "cell_type": "code",
   "execution_count": null,
   "metadata": {
    "tags": []
   },
   "outputs": [],
   "source": [
    "#agent.memory.memory.clear()\n",
    "#agent.steps=0\n",
    "scores, episode_lengths = dqn(n_episodes=1000, max_t=1000, eps_start=1.0, eps_end=0.005, eps_decay=0.995)"
   ]
  },
  {
   "cell_type": "code",
   "execution_count": null,
   "metadata": {
    "tags": []
   },
   "outputs": [],
   "source": [
    "# plot the scores\n",
    "fig = plt.figure(figsize=(12,4))\n",
    "ax = fig.add_subplot(111)\n",
    "plt.plot(np.arange(len(scores)), scores, 'b.--', linewidth=0.5, markersize=1.0)\n",
    "plt.ylabel('Score')\n",
    "plt.xlabel('Episode #')\n",
    "plt.show()"
   ]
  },
  {
   "cell_type": "code",
   "execution_count": null,
   "metadata": {
    "tags": []
   },
   "outputs": [],
   "source": [
    "# plot the normed scores\n",
    "norm = lambda x: (x - np.mean(x))/np.std(x) if np.std(x)!=0. else 0.\n",
    "fig = plt.figure(figsize=(12,4))\n",
    "ax = fig.add_subplot(111)\n",
    "plt.plot(np.arange(len(scores)), norm(np.asarray(scores)), 'c,--', linewidth=0.5, markersize=1.0,)\n",
    "plt.ylabel('Normed Score')\n",
    "plt.xlabel('Episode #')\n",
    "plt.show()"
   ]
  },
  {
   "cell_type": "code",
   "execution_count": null,
   "metadata": {},
   "outputs": [],
   "source": [
    "# plot the episode_steps\n",
    "#norm = lambda x: (x - np.mean(x))/np.std(x) if np.std(x)!=0. else 0.\n",
    "score_per_step = [s/el for s, el in zip(scores,episode_lengths)]\n",
    "fig = plt.figure(figsize=(12,4))\n",
    "ax = fig.add_subplot(111)\n",
    "plt.plot(np.arange(len(episode_lengths)), score_per_step, 'g,--', linewidth=0.75, markersize=1.0,)\n",
    "plt.plot(np.arange(len(scores)), norm(np.asarray(scores)), 'bo--', linewidth=0.25, markersize=1.0,)\n",
    "plt.ylabel('Score / # Episode Steps')\n",
    "plt.xlabel('Episode #')\n",
    "plt.show()"
   ]
  },
  {
   "cell_type": "code",
   "execution_count": null,
   "metadata": {},
   "outputs": [],
   "source": [
    "experiences = agent.memory.memory\n",
    "states, actions, rewards, next_states, dones = disentangle(experiences)\n",
    "states = np.asarray(states)\n",
    "next_states = np.asarray(next_states)\n",
    "rewards = np.asarray(rewards)\n",
    "actions = np.asarray(actions)"
   ]
  },
  {
   "cell_type": "code",
   "execution_count": null,
   "metadata": {
    "tags": []
   },
   "outputs": [],
   "source": [
    "np.mean(states), np.std(states), np.min(states), np.max(states), states.shape"
   ]
  },
  {
   "cell_type": "code",
   "execution_count": null,
   "metadata": {},
   "outputs": [],
   "source": [
    "np.mean(next_states), np.std(next_states), np.min(next_states), np.max(next_states), next_states.shape"
   ]
  },
  {
   "cell_type": "code",
   "execution_count": null,
   "metadata": {},
   "outputs": [],
   "source": [
    "np.mean(actions), np.std(actions), np.min(actions), np.max(actions), actions.shape"
   ]
  },
  {
   "cell_type": "code",
   "execution_count": null,
   "metadata": {
    "tags": []
   },
   "outputs": [],
   "source": [
    "np.mean(rewards), np.std(rewards), np.min(rewards), np.max(rewards), rewards.shape"
   ]
  },
  {
   "cell_type": "code",
   "execution_count": null,
   "metadata": {},
   "outputs": [],
   "source": [
    "BUFFER_SIZE"
   ]
  },
  {
   "cell_type": "code",
   "execution_count": null,
   "metadata": {
    "tags": []
   },
   "outputs": [],
   "source": [
    "# plot the states\n",
    "fig = plt.figure(figsize=(16,4))plt.ylabel('States (high/low)')\n",
    "plt.xlabel('Steps (s)')\n",
    "plt.xlim(80000, 100000)\n",
    "\n",
    "ax1 = fig.add_subplot(121)\n",
    "plt.plot(np.arange(len(states)), states, linewidth=0.75, markersize=1.0)\n",
    "\n",
    "ax2 = fig.add_subplot(122)\n",
    "ax2.sharey(ax1)\n",
    "\n",
    "ax.plot(np.arange(len(next_states)), next_states, linewidth=0.75, markersize=1.0)\n",
    "\n",
    "plt.show()"
   ]
  },
  {
   "cell_type": "markdown",
   "metadata": {
    "tags": []
   },
   "source": [
    "### 4. Watch a Smart Agent!\n",
    "\n",
    "In the next code cell, you will load the trained weights from file to watch a smart agent!"
   ]
  },
  {
   "cell_type": "code",
   "execution_count": null,
   "metadata": {
    "tags": []
   },
   "outputs": [],
   "source": [
    "# load the weights from file\n",
    "#agent.qnetwork_local.load_state_dict(torch.load('checkpoint.pth'))\n",
    "\n",
    "# watch a pre-trained agent\n",
    "\n",
    "#for chkpnt in range(100,1300,300):\n",
    "for chkpnt in [100,400,700,1000]:    \n",
    "    chkpnt_name = \"data/chkpnt{}.pth\".format(chkpnt)\n",
    "    agent.qnetwork_local.load_state_dict(torch.load(chkpnt_name))\n",
    "    score = 0\n",
    "    state, _ = env.reset()\n",
    "    img = plt.imshow(env.render())\n",
    "    for j in range(1000):\n",
    "        action = agent.act(state)\n",
    "        state, reward, done, trun, _ = env.step(action)\n",
    "        score += reward\n",
    "        img.set_data(env.render()) \n",
    "        plt.axis('off')\n",
    "        title = \"{:4d} | {:5d} | {:7.2f} | {:6s}\".format(chkpnt, j+1, score, num2act[action])\n",
    "        plt.title(title)\n",
    "        display.display(plt.gcf())\n",
    "        display.clear_output(wait=True)\n",
    "        if done or trun:\n",
    "            break \n",
    "      \n",
    "#env.close()"
   ]
  },
  {
   "cell_type": "code",
   "execution_count": null,
   "metadata": {},
   "outputs": [],
   "source": [
    "chkpnt_name = \"data/slvdpnt.pth\"#\"data/chkpnt{}.pth\".format(chkpnt)  #\n",
    "agent.qnetwork_local.load_state_dict(torch.load(chkpnt_name))\n",
    "score = 0\n",
    "state, _ = env.reset()\n",
    "img = plt.imshow(env.render())\n",
    "for j in range(1000):\n",
    "    action = agent.act(state)\n",
    "    state, reward, done, trun, _ = env.step(action)\n",
    "    score += reward\n",
    "    img.set_data(env.render()) \n",
    "    plt.axis('off')\n",
    "    title = \"{:6s} | {:5d} | {:8.2f} | {:7s}\".format(\"Solved\", j+1, score, num2act[action])\n",
    "    plt.title(title)\n",
    "    display.display(plt.gcf())\n",
    "    display.clear_output(wait=True)\n",
    "    if done or trun:\n",
    "        break "
   ]
  },
  {
   "cell_type": "markdown",
   "metadata": {
    "tags": []
   },
   "source": [
    "### 5. Explore\n",
    "\n",
    "In this exercise, you have implemented a DQN agent and demonstrated how to use it to solve an OpenAI Gym environment.  To continue your learning, you are encouraged to complete any (or all!) of the following tasks:\n",
    "- Amend the various hyperparameters and network architecture to see if you can get your agent to solve the environment faster.  Once you build intuition for the hyperparameters that work well with this environment, try solving a different OpenAI Gym task with discrete actions!\n",
    "- You may like to implement some improvements such as prioritized experience replay, Double DQN, or Dueling DQN! \n",
    "- Write a blog post explaining the intuition behind the DQN algorithm and demonstrating how to use it to solve an RL environment of your choosing.  "
   ]
  },
  {
   "cell_type": "code",
   "execution_count": null,
   "metadata": {},
   "outputs": [],
   "source": [
    "def DELETE_dqn(n_episodes=2000, max_t=1000, eps_start=1.0, eps_end=0.01, eps_decay=0.995):\n",
    "    \"\"\"Deep Q-Learning.\n",
    "    \n",
    "    Params\n",
    "    ======\n",
    "        n_episodes (int): maximum number of training episodes\n",
    "        max_t (int): maximum number of timesteps per episode\n",
    "        eps_start (float): starting value of epsilon, for epsilon-greedy action selection\n",
    "        eps_end (float): minimum value of epsilon\n",
    "        eps_decay (float): multiplicative factor (per episode) for decreasing epsilon\n",
    "    \"\"\"\n",
    "    scores = []                        # list containing scores from each episode\n",
    "    scores_window = deque(maxlen=100)  # last 100 scores\n",
    "    eps = eps_start                    # initialize epsilon\n",
    "    for i_episode in range(1, n_episodes+1):\n",
    "        state, _ = env.reset()\n",
    "        score = 0\n",
    "        for t in range(max_t):\n",
    "            action = agent.act(state, eps)\n",
    "            next_state, reward, done, trun, _ = env.step(action)\n",
    "            agent.step(state, action, reward, next_state, done or trun)\n",
    "            state = next_state\n",
    "            score += reward\n",
    "            if done or trun:\n",
    "                break \n",
    "        scores_window.append(score)       # save most recent score\n",
    "        scores.append(score)              # save most recent score\n",
    "        eps = max(eps_end, eps_decay*eps) # decrease epsilon\n",
    "        print('\\rEpisode {}\\tAverage Score: {:.2f}'.format(i_episode, np.mean(scores_window)), end=\"\")\n",
    "        if i_episode % 100 == 0:\n",
    "            print('\\rEpisode {}\\tAverage Score: {:.2f}'.format(i_episode, np.mean(scores_window)))\n",
    "            chkpnt_name = \"data/target_chkpnt{}.pth\".format(i_episode)\n",
    "            torch.save(agent.qnetwork_target.state_dict(), chkpnt_name)\n",
    "        if np.mean(scores_window)>=200.0:\n",
    "            print('\\nEnvironment solved in {:d} episodes!\\tAverage Score: {:.2f}'.format(i_episode-100, np.mean(scores_window)))\n",
    "            torch.save(agent.qnetwork_local.state_dict(), 'data/solution_chkpnt.pth')\n",
    "            break\n",
    "    return scores\n",
    "\n"
   ]
  },
  {
   "cell_type": "code",
   "execution_count": null,
   "metadata": {},
   "outputs": [],
   "source": [
    "for i in range(10):\n",
    "    print(random.sample(range(5), k=4))"
   ]
  }
 ],
 "metadata": {
  "kernelspec": {
   "display_name": "Python 3 (ipykernel)",
   "language": "python",
   "name": "python3"
  },
  "language_info": {
   "codemirror_mode": {
    "name": "ipython",
    "version": 3
   },
   "file_extension": ".py",
   "mimetype": "text/x-python",
   "name": "python",
   "nbconvert_exporter": "python",
   "pygments_lexer": "ipython3",
   "version": "3.9.0"
  }
 },
 "nbformat": 4,
 "nbformat_minor": 4
}
