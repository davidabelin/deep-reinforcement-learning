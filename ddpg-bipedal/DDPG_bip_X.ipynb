{
 "cells": [
  {
   "cell_type": "markdown",
   "metadata": {
    "id": "9b058ADVF-G_"
   },
   "source": [
    "# Deep Deterministic Policy Gradients (DDPG)\n",
    "---\n",
    "In this notebook, we train DDPG with OpenAI Gym's BipedalWalker-v2 environment.\n",
    "\n",
    "### 1. Import the Necessary Packages"
   ]
  },
  {
   "cell_type": "code",
   "execution_count": 2,
   "metadata": {
    "collapsed": true,
    "id": "OotjxPANF-HB"
   },
   "outputs": [
    {
     "name": "stdout",
     "output_type": "stream",
     "text": [
      "Requirement already satisfied: gymnasium[box2d] in c:\\users\\david\\.conda\\envs\\drlnd\\lib\\site-packages (0.26.3)\n",
      "Requirement already satisfied: importlib-metadata>=4.8.0; python_version < \"3.10\" in c:\\users\\david\\.conda\\envs\\drlnd\\lib\\site-packages (from gymnasium[box2d]) (4.8.3)\n",
      "Requirement already satisfied: dataclasses==0.8; python_version == \"3.6\" in c:\\users\\david\\.conda\\envs\\drlnd\\lib\\site-packages (from gymnasium[box2d]) (0.8)\n",
      "Requirement already satisfied: numpy>=1.18.0 in c:\\users\\david\\.conda\\envs\\drlnd\\lib\\site-packages (from gymnasium[box2d]) (1.19.5)\n",
      "Requirement already satisfied: gymnasium-notices>=0.0.1 in c:\\users\\david\\.conda\\envs\\drlnd\\lib\\site-packages (from gymnasium[box2d]) (0.0.1)\n",
      "Requirement already satisfied: cloudpickle>=1.2.0 in c:\\users\\david\\.conda\\envs\\drlnd\\lib\\site-packages (from gymnasium[box2d]) (2.2.1)\n",
      "Requirement already satisfied: pygame==2.1.0; extra == \"box2d\" in c:\\users\\david\\.conda\\envs\\drlnd\\lib\\site-packages (from gymnasium[box2d]) (2.1.0)\n",
      "Requirement already satisfied: box2d-py==2.3.5; extra == \"box2d\" in c:\\users\\david\\.conda\\envs\\drlnd\\lib\\site-packages (from gymnasium[box2d]) (2.3.5)\n",
      "Requirement already satisfied: swig==4.*; extra == \"box2d\" in c:\\users\\david\\.conda\\envs\\drlnd\\lib\\site-packages (from gymnasium[box2d]) (4.1.1)\n",
      "Requirement already satisfied: zipp>=0.5 in c:\\users\\david\\.conda\\envs\\drlnd\\lib\\site-packages (from importlib-metadata>=4.8.0; python_version < \"3.10\"->gymnasium[box2d]) (3.6.0)\n",
      "Requirement already satisfied: typing-extensions>=3.6.4; python_version < \"3.8\" in c:\\users\\david\\.conda\\envs\\drlnd\\lib\\site-packages (from importlib-metadata>=4.8.0; python_version < \"3.10\"->gymnasium[box2d]) (3.7.4.3)\n"
     ]
    }
   ],
   "source": [
    "!pip install gymnasium[box2d]\n",
    "import gymnasium as gym\n",
    "import random\n",
    "import torch\n",
    "import numpy as np\n",
    "#from google.colab import files\n",
    "from collections import deque\n",
    "import matplotlib.pyplot as plt\n",
    "%matplotlib inline\n",
    "from IPython import display\n",
    "\n",
    "from ddpg_agent_bip_X import Agent"
   ]
  },
  {
   "cell_type": "code",
   "execution_count": null,
   "metadata": {},
   "outputs": [],
   "source": [
    "!nvcc --version"
   ]
  },
  {
   "cell_type": "markdown",
   "metadata": {
    "id": "L21oAff8F-HC"
   },
   "source": [
    "### 2. Instantiate the Environment and Agent"
   ]
  },
  {
   "cell_type": "code",
   "execution_count": null,
   "metadata": {
    "id": "f1-5W70xziVv"
   },
   "outputs": [],
   "source": [
    "#gymnasium/envs/box2d/bipedal_walker.py\n",
    "#gym.pprint_registry()\n",
    "#gym.spec(\"BipedalWalker-v3\")"
   ]
  },
  {
   "cell_type": "code",
   "execution_count": 14,
   "metadata": {
    "colab": {
     "base_uri": "https://localhost:8080/"
    },
    "id": "3BVpbenjF-HC",
    "outputId": "482ba9be-1c04-4ece-bf66-cc2497cf9bb4"
   },
   "outputs": [
    {
     "name": "stdout",
     "output_type": "stream",
     "text": [
      "24 4\n"
     ]
    },
    {
     "data": {
      "text/plain": [
       "<All keys matched successfully>"
      ]
     },
     "execution_count": 14,
     "metadata": {},
     "output_type": "execute_result"
    }
   ],
   "source": [
    "from ddpg_agent_bip_X import Agent\n",
    "\n",
    "env = gym.make('BipedalWalker-v3', render_mode=\"rgb_array\")\n",
    "seed=10\n",
    "state_size=env.observation_space.shape[0]\n",
    "action_size=env.action_space.shape[0]\n",
    "agent = Agent(state_size=state_size, action_size=action_size, random_seed=seed)\n",
    "print(state_size, action_size)\n",
    "\n",
    "agent.actor_local.load_state_dict(torch.load('highscore_actor_bip.pth'))#, map_location=torch.device('cpu')))\n",
    "agent.critic_local.load_state_dict(torch.load('highscore_critic_bip.pth'))#, map_location=torch.device('cpu')))"
   ]
  },
  {
   "cell_type": "code",
   "execution_count": null,
   "metadata": {
    "id": "fdIkUsdlUljo"
   },
   "outputs": [],
   "source": [
    "#from ddpg_agent_pend import Agent\n",
    "\n",
    "env = gym.make('Pendulum-v1', render_mode=\"rgb_array\")\n",
    "seed=10\n",
    "state_size=env.observation_space.shape[0]\n",
    "action_size=env.action_space.shape[0]\n",
    "agent = Agent(state_size=state_size, action_size=action_size, random_seed=seed)\n",
    "print(state_size, action_size)"
   ]
  },
  {
   "cell_type": "markdown",
   "metadata": {
    "id": "gVzlW7asF-HD"
   },
   "source": [
    "### 3. Train the Agent with DDPG\n",
    "\n",
    "Run the code cell below to train the agent from scratch.  Alternatively, you can skip to the next code cell to load the pre-trained weights from file."
   ]
  },
  {
   "cell_type": "code",
   "execution_count": 15,
   "metadata": {
    "id": "zRWlT6LhF-HD"
   },
   "outputs": [],
   "source": [
    "def ddpg(n_episodes=2000, max_t=1600, max_score=-10000.):\n",
    "    scores_deque = deque(maxlen=100)\n",
    "    scores = []\n",
    "    #max_score = -10000 #-np.Inf\n",
    "    for i_episode in range(1, n_episodes+1):\n",
    "        state, _ = env.reset(seed=seed)\n",
    "        agent.reset()\n",
    "        score = 0\n",
    "        for step in range(max_t):\n",
    "            action = agent.act(state)\n",
    "            next_state, reward, done, trun, _ = env.step(action)\n",
    "            agent.step(step, state, action, reward, next_state, done or trun)\n",
    "            state = next_state\n",
    "            score += reward\n",
    "            if done or trun:\n",
    "                break \n",
    "        scores_deque.append(score)\n",
    "        scores.append(score)\n",
    "        if score >= max_score + int(np.round(np.abs(0.2*max_score))):\n",
    "            torch.save(agent.actor_local.state_dict(), './data/highscore_actor_bip.pth')\n",
    "            torch.save(agent.critic_local.state_dict(), './data/highscore_critic_bip.pth')\n",
    "            print('\\rEpisode {}\\tNEW HIGH SCORE! {:.2f}'.format(i_episode,score))\n",
    "            max_score = score           \n",
    "        print('\\rEpisode {}\\tAverage Score: {:.2f}\\tScore: {:.2f}'.format(i_episode, np.mean(scores_deque), score), end=\"\")\n",
    "        if i_episode % 100 == 0:\n",
    "            torch.save(agent.actor_local.state_dict(), './data/checkpoint_actor_bip.pth')\n",
    "            torch.save(agent.critic_local.state_dict(), './data/checkpoint_critic_bip.pth')\n",
    "            print('\\rEpisode {}\\tAverage Score: {:.2f}\\tHigh Score: {:.2f}'.format(i_episode, np.mean(scores_deque), max_score))   \n",
    "    return scores, max_score\n"
   ]
  },
  {
   "cell_type": "code",
   "execution_count": null,
   "metadata": {
    "id": "tuP-YSFI8US5"
   },
   "outputs": [],
   "source": [
    "n_episodes=[1000, 500,  500,  500, 500, 1000, 1000]\n",
    "max_t=     [50,   100,  200,  400,  50, 350,  700]\n",
    "n_episodes=[ne//2 for ne in n_episodes]\n",
    "\n",
    "#n_episodes=[300, 600, 300, 600, 300,  600,  1200, 600, 300]\n",
    "#max_t=     [50,  150, 300, 600, 1200, 2400, 3600, 600, 150]"
   ]
  },
  {
   "cell_type": "code",
   "execution_count": null,
   "metadata": {
    "colab": {
     "base_uri": "https://localhost:8080/"
    },
    "id": "13qXAsmAqx0K",
    "outputId": "faf9971d-6297-4b48-a507-6073ceeb1021"
   },
   "outputs": [],
   "source": [
    "#scores = ddpg(n_episodes=2000, max_t=800)\n",
    "# ~23 min for N=1000 T=500\n",
    "scores = []; new_scores = []; high_score = -10000.\n",
    "n_episodes=[200, 600]#, 300, 300, 600,  300, 300, 600]\n",
    "max_t=     [1200, 1000]#, 200, 600, 1200, 200, 400, 800]\n",
    "n_episodes=[ne//2 for ne in n_episodes]\n",
    "\n",
    "for ne, mt in zip(n_episodes, max_t):\n",
    "    print('\\r### Episodes: {}\\tTime Limit: {:.2f} ###'.format(ne,mt))\n",
    "    new_scores, high_score = ddpg(n_episodes=ne, max_score=high_score)\n",
    "    scores += new_scores\n"
   ]
  },
  {
   "cell_type": "code",
   "execution_count": 6,
   "metadata": {
    "colab": {
     "base_uri": "https://localhost:8080/",
     "height": 17
    },
    "id": "hlLJLwroNdzq",
    "outputId": "39f43620-1352-436a-d98b-6c55a2833219"
   },
   "outputs": [],
   "source": [
    "torch.save(agent.actor_local.state_dict(), './data/checkpoint_actor_bip.pth')\n",
    "torch.save(agent.critic_local.state_dict(), './data/checkpoint_critic_bip.pth')\n",
    "#files.download('checkpoint_criticA_bip.pth')\n",
    "#files.download('checkpoint_actorA_bip.pth')"
   ]
  },
  {
   "cell_type": "code",
   "execution_count": 7,
   "metadata": {
    "colab": {
     "base_uri": "https://localhost:8080/",
     "height": 388
    },
    "id": "Bu-bNkXYWwJL",
    "outputId": "0aa63957-cb4f-4f9a-9545-d2ef5b295011"
   },
   "outputs": [
    {
     "data": {
      "image/png": "[encoded data removed]",
      "text/plain": [
       "<Figure size 864x432 with 1 Axes>"
      ]
     },
     "metadata": {
      "needs_background": "light"
     },
     "output_type": "display_data"
    }
   ],
   "source": [
    "### Scores plot\n",
    "fig = plt.figure(figsize=(12,6))\n",
    "ax = fig.add_subplot(111)\n",
    "plt.plot(np.arange(1, len(scores)+1), scores)\n",
    "plt.ylabel('Score')\n",
    "plt.xlabel('Episode #')\n",
    "plt.show()"
   ]
  },
  {
   "cell_type": "markdown",
   "metadata": {
    "id": "oq-Y0saUF-HE"
   },
   "source": [
    "### 4. Watch a Smart Agent!\n",
    "\n",
    "In the next code cell, you will load the trained weights from file to watch a smart agent!"
   ]
  },
  {
   "cell_type": "code",
   "execution_count": null,
   "metadata": {
    "colab": {
     "base_uri": "https://localhost:8080/"
    },
    "id": "TMEOLXYbVIOz",
    "outputId": "66a2f4fb-6b6a-475f-f7da-b3a6c20e345a"
   },
   "outputs": [
    {
     "data": {
      "text/plain": [
       "<All keys matched successfully>"
      ]
     },
     "execution_count": 22,
     "metadata": {},
     "output_type": "execute_result"
    }
   ],
   "source": [
    "agent.actor_local.load_state_dict(torch.load('./data/highscore_actorA_bip.pth'))\n",
    "agent.critic_local.load_state_dict(torch.load('./data/highscore_criticA_bip.pth'))"
   ]
  },
  {
   "cell_type": "code",
   "execution_count": 12,
   "metadata": {
    "colab": {
     "base_uri": "https://localhost:8080/",
     "height": 266
    },
    "id": "q2nu72h6kfSO",
    "outputId": "452218bd-0ec9-4097-8066-238a3c470aa0"
   },
   "outputs": [
    {
     "name": "stdout",
     "output_type": "stream",
     "text": [
      "Total episode reward:  -38.13\n"
     ]
    },
    {
     "data": {
      "image/png": "[encoded data removed]",
      "text/plain": [
       "<Figure size 432x288 with 1 Axes>"
      ]
     },
     "metadata": {
      "needs_background": "light"
     },
     "output_type": "display_data"
    }
   ],
   "source": [
    "#### Display from DQN notebook\n",
    "rewards = []\n",
    "steps = []\n",
    "t = 800 #1600\n",
    "state, info = env.reset(seed=seed)\n",
    "img = plt.imshow(env.render())\n",
    "for j in range(t):\n",
    "    action = agent.act(state)\n",
    "    state, reward, done, trun, info = env.step(action)\n",
    "    #print('\\rEpisode {}\\tAverage Score: {:.2f}\\tScore: {:.2f}'.format(j, np.mean(rewards), reward), end=\"\")\n",
    "    rewards += [reward]\n",
    "    img.set_data(env.render()) \n",
    "    plt.axis('off')\n",
    "    plt.title(\"Episode: \"+str(j)+\" Reward: \"+str(np.round(reward,3)))\n",
    "    display.display(plt.gcf())\n",
    "    display.clear_output(wait=True)\n",
    "    if done or trun:\n",
    "        break \n",
    "print(\"Total episode reward: \", np.round(np.sum(rewards),3))"
   ]
  },
  {
   "cell_type": "code",
   "execution_count": null,
   "metadata": {
    "colab": {
     "base_uri": "https://localhost:8080/"
    },
    "id": "cozryFUIQSMC",
    "outputId": "c2f09146-ed33-4d70-8fe7-048e946f6b46"
   },
   "outputs": [
    {
     "data": {
      "text/plain": [
       "array([-0.39315894,  1.        ,  1.        , -0.4698892 ], dtype=float32)"
      ]
     },
     "execution_count": 25,
     "metadata": {},
     "output_type": "execute_result"
    }
   ],
   "source": [
    "action"
   ]
  },
  {
   "cell_type": "code",
   "execution_count": null,
   "metadata": {
    "id": "SHxu9O8aaw6W"
   },
   "outputs": [],
   "source": [
    "#### Get data\n",
    "rewards = []\n",
    "final_rewards = []\n",
    "steps = []\n",
    "actions = []\n",
    "tries = 100\n",
    "max_t = 400\n",
    "for i in range(tries):\n",
    "    step_count = 0\n",
    "    reward_sum = 0\n",
    "    state, info = env.reset(seed=seed)\n",
    "    for j in range(max_t):\n",
    "        action = agent.act(state)\n",
    "        actions += [action]\n",
    "        state, reward, done, trun, info = env.step(action)\n",
    "        if done or trun:\n",
    "            final_rewards += [reward]\n",
    "            break \n",
    "        else:\n",
    "            final_rewards += [0]\n",
    "            reward_sum += reward\n",
    "            step_count += 1\n",
    "    steps += [step_count]\n",
    "    rewards += [reward_sum]\n",
    "actions = np.asarray(actions)\n",
    "data = np.asarray([(int(s),int(r),int(f)) for s,r,f in zip(steps, np.round(rewards), final_rewards)])"
   ]
  },
  {
   "cell_type": "code",
   "execution_count": null,
   "metadata": {
    "colab": {
     "base_uri": "https://localhost:8080/"
    },
    "id": "xdq0pwI0afFC",
    "outputId": "e4211ec9-a7de-4f66-c715-416265f85a35"
   },
   "outputs": [
    {
     "data": {
      "text/plain": [
       "[array([288,  -6,   0]),\n",
       " array([400,  -3,   0]),\n",
       " array([175,  -3,   0]),\n",
       " array([146, -10,   0]),\n",
       " array([400,  -2,   0]),\n",
       " array([196,  -3,   0]),\n",
       " array([400,  -3,   0]),\n",
       " array([279,  -3,   0]),\n",
       " array([400,  -9,   0]),\n",
       " array([151,  -4,   0]),\n",
       " array([400,  -5,   0]),\n",
       " array([400,  -4,   0]),\n",
       " array([400,  -5,   0]),\n",
       " array([400,  -2,   0])]"
      ]
     },
     "execution_count": 56,
     "metadata": {},
     "output_type": "execute_result"
    }
   ],
   "source": [
    "#data = np.asarray([(int(s),int(r),int(f)) for s,r,f in zip(steps, np.round(rewards), final_rewards)])\n",
    "[d for d in data if d[1]<0 ]"
   ]
  },
  {
   "cell_type": "code",
   "execution_count": null,
   "metadata": {
    "colab": {
     "base_uri": "https://localhost:8080/"
    },
    "id": "nGIWhy0IRm2Q",
    "outputId": "f7b769d2-554a-4c2b-9245-7a9ed5eca1d3"
   },
   "outputs": [
    {
     "data": {
      "text/plain": [
       "array([[-0.32351214,  1.        ,  1.        , -0.33578947],\n",
       "       [-0.24482307,  1.        ,  1.        , -0.4056626 ],\n",
       "       [-0.29525715,  1.        ,  1.        , -0.38740957],\n",
       "       [-0.30665335,  1.        ,  1.        , -0.4045489 ],\n",
       "       [-0.30210614,  1.        ,  1.        , -0.37225235],\n",
       "       [-0.32172832,  1.        ,  1.        , -0.42449   ],\n",
       "       [-0.24334897,  1.        ,  1.        , -0.37476447],\n",
       "       [-0.35253546,  1.        ,  1.        , -0.28866184],\n",
       "       [-0.28378263,  1.        ,  1.        , -0.3329869 ],\n",
       "       [-0.2082048 ,  1.        ,  1.        , -0.23672721]],\n",
       "      dtype=float32)"
      ]
     },
     "execution_count": 47,
     "metadata": {},
     "output_type": "execute_result"
    }
   ],
   "source": [
    "actions[-10:]"
   ]
  },
  {
   "cell_type": "code",
   "execution_count": null,
   "metadata": {
    "colab": {
     "base_uri": "https://localhost:8080/"
    },
    "id": "JgwknWtKJiiz",
    "outputId": "5d5884a7-323f-4acf-862e-615ea47785a0"
   },
   "outputs": [
    {
     "data": {
      "text/plain": [
       "-0.2359221411435386"
      ]
     },
     "execution_count": 20,
     "metadata": {},
     "output_type": "execute_result"
    }
   ],
   "source": [
    "np.mean(data[:,1]/data[:,0])"
   ]
  },
  {
   "cell_type": "code",
   "execution_count": null,
   "metadata": {
    "id": "1h83Jwk2NRtt"
   },
   "outputs": [],
   "source": []
  },
  {
   "cell_type": "code",
   "execution_count": null,
   "metadata": {
    "id": "DQLQdLKzgFaY"
   },
   "outputs": [],
   "source": [
    "fig = plt.figure(figsize=(12,6))\n",
    "ax = fig.add_subplot(111)\n",
    "plt.plot(np.arange(1, len(rewards)+1), rewards)\n",
    "plt.ylabel('Score')\n",
    "plt.xlabel('Episode')\n",
    "plt.show()\n",
    "print(\"Total Rewards[:-1]\", sum(rewards), \"Average Reward:\", np.mean(rewards))"
   ]
  },
  {
   "cell_type": "code",
   "execution_count": null,
   "metadata": {
    "id": "D3ihoD0dWi9L"
   },
   "outputs": [],
   "source": [
    "fig = plt.figure(figsize=(12,6))\n",
    "ax = fig.add_subplot(111)\n",
    "plt.plot(np.arange(1, len(rewards[:-1])+1), rewards[:-1])\n",
    "plt.ylabel('Score')\n",
    "plt.xlabel('Step #')\n",
    "plt.show()\n",
    "print(\"Total Rewards[:-1]\", sum(rewards[:-1]), \"Final Reward:\", rewards[-1])"
   ]
  },
  {
   "cell_type": "markdown",
   "metadata": {
    "id": "h1wigUfbF-HF"
   },
   "source": [
    "# 5. Explore\n",
    "\n",
    "In this exercise, we have provided a sample DDPG agent and demonstrated how to use it to solve an OpenAI Gym environment.  To continue your learning, you are encouraged to complete any (or all!) of the following tasks:\n",
    "- **Amend the various hyperparameters and network architecture to see if you can get your agent to solve the environment faster than this benchmark implementation.**  Once you build intuition for the hyperparameters that work well with this environment, try solving a different OpenAI Gym task!\n",
    "- Write your own DDPG implementation.  Use this code as reference only when needed -- try as much as you can to write your own algorithm from scratch.\n",
    "- You may also like to implement **prioritized experience replay**, to see if it speeds learning.  \n",
    "- The current implementation adds Ornsetein-Uhlenbeck noise to the action space.  However, it has [been shown](https://blog.openai.com/better-exploration-with-parameter-noise/) that **adding noise to the parameters of the neural network policy can improve performance.  Make this change to the code, to verify it for yourself!**\n",
    "- Write a blog post explaining the intuition behind the DDPG algorithm and demonstrating how to use it to solve an RL environment of your choosing.  "
   ]
  },
  {
   "cell_type": "markdown",
   "metadata": {
    "id": "kAsuFULRviuL"
   },
   "source": [
    "## How well does DQN with Tile Coding how well does work?\n",
    "* Reuse DQN from Project 1, but use Tile Coding to turn continuous into discrete actions\n",
    "* Implement improvements on DQN from Project 1 first"
   ]
  },
  {
   "cell_type": "code",
   "execution_count": null,
   "metadata": {
    "id": "zvUpCpQ7wXIh"
   },
   "outputs": [],
   "source": []
  }
 ],
 "metadata": {
  "accelerator": "GPU",
  "colab": {
   "machine_shape": "hm",
   "provenance": []
  },
  "gpuClass": "standard",
  "kernelspec": {
   "display_name": "drlnd_p2",
   "language": "python",
   "name": "drlnd_p2"
  },
  "language_info": {
   "codemirror_mode": {
    "name": "ipython",
    "version": 3
   },
   "file_extension": ".py",
   "mimetype": "text/x-python",
   "name": "python",
   "nbconvert_exporter": "python",
   "pygments_lexer": "ipython3",
   "version": "3.6.15"
  }
 },
 "nbformat": 4,
 "nbformat_minor": 1
}
