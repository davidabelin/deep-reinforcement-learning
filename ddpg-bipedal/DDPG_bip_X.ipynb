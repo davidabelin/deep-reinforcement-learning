{
  "cells": [
    {
      "cell_type": "markdown",
      "metadata": {
        "id": "9b058ADVF-G_"
      },
      "source": [
        "# Deep Deterministic Policy Gradients (DDPG)\n",
        "---\n",
        "In this notebook, we train DDPG with OpenAI Gym's BipedalWalker-v2 environment.\n",
        "\n",
        "### 1. Import the Necessary Packages"
      ]
    },
    {
      "cell_type": "code",
      "execution_count": null,
      "metadata": {
        "id": "OotjxPANF-HB"
      },
      "outputs": [],
      "source": [
        "!pip install gymnasium[box2d]\n",
        "import gymnasium as gym\n",
        "import random\n",
        "import torch\n",
        "import numpy as np\n",
        "from google.colab import files\n",
        "from collections import deque\n",
        "import matplotlib.pyplot as plt\n",
        "%matplotlib inline\n",
        "is_ipython = 'inline' in plt.get_backend()\n",
        "if is_ipython:\n",
        "    from IPython import display\n",
        "\n",
        "from ddpg_agent_bip import Agent"
      ]
    },
    {
      "cell_type": "markdown",
      "metadata": {
        "id": "L21oAff8F-HC"
      },
      "source": [
        "### 2. Instantiate the Environment and Agent"
      ]
    },
    {
      "cell_type": "code",
      "source": [
        "#gymnasium/envs/box2d/bipedal_walker.py\n",
        "#gym.pprint_registry()\n",
        "#gym.spec(\"BipedalWalker-v3\")"
      ],
      "metadata": {
        "id": "f1-5W70xziVv"
      },
      "execution_count": null,
      "outputs": []
    },
    {
      "cell_type": "code",
      "execution_count": null,
      "metadata": {
        "colab": {
          "base_uri": "https://localhost:8080/"
        },
        "id": "3BVpbenjF-HC",
        "outputId": "482ba9be-1c04-4ece-bf66-cc2497cf9bb4"
      },
      "outputs": [
        {
          "output_type": "stream",
          "name": "stdout",
          "text": [
            "24 4\n"
          ]
        }
      ],
      "source": [
        "#from ddpg_agent_bip import Agent\n",
        "\n",
        "env = gym.make('BipedalWalker-v3', render_mode=\"rgb_array\")\n",
        "seed=10\n",
        "state_size=env.observation_space.shape[0]\n",
        "action_size=env.action_space.shape[0]\n",
        "agent = Agent(state_size=state_size, action_size=action_size, random_seed=seed)\n",
        "print(state_size, action_size)\n",
        "\n",
        "#agent.actor_local.load_state_dict(torch.load('highscore_actor_bip.pth'))#, map_location=torch.device('cpu')))\n",
        "#agent.critic_local.load_state_dict(torch.load('highscore_critic_bip.pth'))#, map_location=torch.device('cpu')))"
      ]
    },
    {
      "cell_type": "code",
      "source": [
        "#from ddpg_agent_pend import Agent\n",
        "\n",
        "env = gym.make('Pendulum-v1', render_mode=\"rgb_array\")\n",
        "seed=10\n",
        "state_size=env.observation_space.shape[0]\n",
        "action_size=env.action_space.shape[0]\n",
        "agent = Agent(state_size=state_size, action_size=action_size, random_seed=seed)\n",
        "print(state_size, action_size)"
      ],
      "metadata": {
        "id": "fdIkUsdlUljo"
      },
      "execution_count": null,
      "outputs": []
    },
    {
      "cell_type": "markdown",
      "metadata": {
        "id": "gVzlW7asF-HD"
      },
      "source": [
        "### 3. Train the Agent with DDPG\n",
        "\n",
        "Run the code cell below to train the agent from scratch.  Alternatively, you can skip to the next code cell to load the pre-trained weights from file."
      ]
    },
    {
      "cell_type": "code",
      "execution_count": null,
      "metadata": {
        "id": "zRWlT6LhF-HD"
      },
      "outputs": [],
      "source": [
        "def ddpg(n_episodes=2000, max_t=1600, max_score=-10000.):\n",
        "    scores_deque = deque(maxlen=100)\n",
        "    scores = []\n",
        "    #max_score = -10000 #-np.Inf\n",
        "    for i_episode in range(1, n_episodes+1):\n",
        "        state, _ = env.reset(seed=seed)\n",
        "        agent.reset()\n",
        "        score = 0\n",
        "        for t in range(max_t):\n",
        "            action = agent.act(state)\n",
        "            next_state, reward, done, trun, _ = env.step(action)\n",
        "            agent.step(state, action, reward, next_state, done or trun)\n",
        "            state = next_state\n",
        "            score += reward\n",
        "            if done or trun:\n",
        "                break \n",
        "        scores_deque.append(score)\n",
        "        scores.append(score)\n",
        "        if score >= max_score + int(np.round(np.abs(0.2*max_score))):\n",
        "            torch.save(agent.actor_local.state_dict(), 'highscore_actor_bip.pth')\n",
        "            torch.save(agent.critic_local.state_dict(), 'highscore_critic_bip.pth')\n",
        "            print('\\rEpisode {}\\tNEW HIGH SCORE! {:.2f}'.format(i_episode,score))\n",
        "            max_score = score           \n",
        "        print('\\rEpisode {}\\tAverage Score: {:.2f}\\tScore: {:.2f}'.format(i_episode, np.mean(scores_deque), score), end=\"\")\n",
        "        if i_episode % 100 == 0:\n",
        "            torch.save(agent.actor_local.state_dict(), 'checkpoint_actor_bip.pth')\n",
        "            torch.save(agent.critic_local.state_dict(), 'checkpoint_critic_bip.pth')\n",
        "            print('\\rEpisode {}\\tAverage Score: {:.2f}\\tHigh Score: {:.2f}'.format(i_episode, np.mean(scores_deque), max_score))   \n",
        "    return scores, max_score\n"
      ]
    },
    {
      "cell_type": "code",
      "source": [
        "n_episodes=[1000, 500,  500,  500, 500, 1000, 1000]\n",
        "max_t=     [50,   100,  200,  400,  50, 350,  700]\n",
        "n_episodes=[ne//2 for ne in n_episodes]\n",
        "\n",
        "#n_episodes=[300, 600, 300, 600, 300,  600,  1200, 600, 300]\n",
        "#max_t=     [50,  150, 300, 600, 1200, 2400, 3600, 600, 150]"
      ],
      "metadata": {
        "id": "tuP-YSFI8US5"
      },
      "execution_count": null,
      "outputs": []
    },
    {
      "cell_type": "code",
      "source": [
        "#scores = ddpg(n_episodes=2000, max_t=800)\n",
        "# ~23 min for N=1000 T=500\n",
        "scores = []; new_scores = []; high_score = -10000.\n",
        "n_episodes=[300, 600, 300, 300, 600,  300, 300, 600]\n",
        "max_t=     [100, 400, 200, 600, 1200, 200, 400, 800]\n",
        "#n_episodes=[ne//2 for ne in n_episodes]\n",
        "\n",
        "for ne, mt in zip(n_episodes, max_t):\n",
        "    print('\\r### Episodes: {}\\tTime Limit: {:.2f} ###'.format(ne,mt))\n",
        "    new_scores, high_score = ddpg(n_episodes=ne, max_score=high_score)\n",
        "    scores += new_scores\n"
      ],
      "metadata": {
        "colab": {
          "base_uri": "https://localhost:8080/"
        },
        "id": "13qXAsmAqx0K",
        "outputId": "faf9971d-6297-4b48-a507-6073ceeb1021"
      },
      "execution_count": null,
      "outputs": [
        {
          "output_type": "stream",
          "name": "stdout",
          "text": [
            "### Episodes: 300\tTime Limit: 100.00 ###\n",
            "Episode 1\tNEW HIGH SCORE! -112.50)\n",
            "Episode 82\tNEW HIGH SCORE! -80.20)\n",
            "Episode 88\tNEW HIGH SCORE! -62.43)\n",
            "Episode 100\tAverage Score: -113.56\tHigh Score: -62.43\n",
            "Episode 200\tAverage Score: -99.53\tHigh Score: -62.43\n",
            "Episode 300\tAverage Score: -99.48\tHigh Score: -62.43\n",
            "### Episodes: 600\tTime Limit: 400.00 ###\n",
            "Episode 100\tAverage Score: -99.53\tHigh Score: -62.43\n",
            "Episode 200\tAverage Score: -99.51\tHigh Score: -62.43\n",
            "Episode 300\tAverage Score: -99.84\tHigh Score: -62.43\n",
            "Episode 400\tAverage Score: -101.08\tHigh Score: -62.43\n",
            "Episode 500\tAverage Score: -109.60\tHigh Score: -62.43\n",
            "Episode 600\tAverage Score: -108.09\tHigh Score: -62.43\n",
            "### Episodes: 300\tTime Limit: 200.00 ###\n",
            "Episode 100\tAverage Score: -110.91\tHigh Score: -62.43\n",
            "Episode 200\tAverage Score: -117.65\tHigh Score: -62.43\n",
            "Episode 300\tAverage Score: -119.90\tHigh Score: -62.43\n",
            "### Episodes: 300\tTime Limit: 600.00 ###\n",
            "Episode 100\tAverage Score: -115.63\tHigh Score: -62.43\n",
            "Episode 200\tAverage Score: -115.20\tHigh Score: -62.43\n",
            "Episode 300\tAverage Score: -122.10\tHigh Score: -62.43\n",
            "### Episodes: 600\tTime Limit: 1200.00 ###\n",
            "Episode 100\tAverage Score: -111.84\tHigh Score: -62.43\n",
            "Episode 200\tAverage Score: -123.58\tHigh Score: -62.43\n",
            "Episode 300\tAverage Score: -111.22\tHigh Score: -62.43\n",
            "Episode 400\tAverage Score: -113.12\tHigh Score: -62.43\n",
            "Episode 500\tAverage Score: -97.58\tHigh Score: -62.43\n",
            "Episode 509\tNEW HIGH SCORE! -43.89)\n",
            "Episode 600\tAverage Score: -121.63\tHigh Score: -43.89\n",
            "### Episodes: 300\tTime Limit: 200.00 ###\n",
            "Episode 100\tAverage Score: -111.42\tHigh Score: -43.89\n",
            "Episode 200\tAverage Score: -114.94\tHigh Score: -43.89\n",
            "Episode 300\tAverage Score: -112.11\tHigh Score: -43.89\n",
            "### Episodes: 300\tTime Limit: 400.00 ###\n",
            "Episode 100\tAverage Score: -122.11\tHigh Score: -43.89\n",
            "Episode 200\tAverage Score: -107.44\tHigh Score: -43.89\n",
            "Episode 300\tAverage Score: -100.04\tHigh Score: -43.89\n",
            "### Episodes: 600\tTime Limit: 800.00 ###\n",
            "Episode 100\tAverage Score: -100.26\tHigh Score: -43.89\n",
            "Episode 200\tAverage Score: -102.36\tHigh Score: -43.89\n",
            "Episode 300\tAverage Score: -103.05\tHigh Score: -43.89\n",
            "Episode 400\tAverage Score: -103.12\tHigh Score: -43.89\n",
            "Episode 500\tAverage Score: -111.38\tHigh Score: -43.89\n",
            "Episode 600\tAverage Score: -123.67\tHigh Score: -43.89\n"
          ]
        }
      ]
    },
    {
      "cell_type": "code",
      "source": [
        "torch.save(agent.actor_local.state_dict(), 'checkpoint_actorA_bip.pth')\n",
        "torch.save(agent.critic_local.state_dict(), 'checkpoint_criticA_bip.pth')\n",
        "files.download('checkpoint_criticA_bip.pth')\n",
        "files.download('checkpoint_actorA_bip.pth')"
      ],
      "metadata": {
        "colab": {
          "base_uri": "https://localhost:8080/",
          "height": 17
        },
        "id": "hlLJLwroNdzq",
        "outputId": "39f43620-1352-436a-d98b-6c55a2833219"
      },
      "execution_count": null,
      "outputs": [
        {
          "output_type": "display_data",
          "data": {
            "text/plain": [
              "<IPython.core.display.Javascript object>"
            ],
            "application/javascript": [
              "\n",
              "    async function download(id, filename, size) {\n",
              "      if (!google.colab.kernel.accessAllowed) {\n",
              "        return;\n",
              "      }\n",
              "      const div = document.createElement('div');\n",
              "      const label = document.createElement('label');\n",
              "      label.textContent = `Downloading \"${filename}\": `;\n",
              "      div.appendChild(label);\n",
              "      const progress = document.createElement('progress');\n",
              "      progress.max = size;\n",
              "      div.appendChild(progress);\n",
              "      document.body.appendChild(div);\n",
              "\n",
              "      const buffers = [];\n",
              "      let downloaded = 0;\n",
              "\n",
              "      const channel = await google.colab.kernel.comms.open(id);\n",
              "      // Send a message to notify the kernel that we're ready.\n",
              "      channel.send({})\n",
              "\n",
              "      for await (const message of channel.messages) {\n",
              "        // Send a message to notify the kernel that we're ready.\n",
              "        channel.send({})\n",
              "        if (message.buffers) {\n",
              "          for (const buffer of message.buffers) {\n",
              "            buffers.push(buffer);\n",
              "            downloaded += buffer.byteLength;\n",
              "            progress.value = downloaded;\n",
              "          }\n",
              "        }\n",
              "      }\n",
              "      const blob = new Blob(buffers, {type: 'application/binary'});\n",
              "      const a = document.createElement('a');\n",
              "      a.href = window.URL.createObjectURL(blob);\n",
              "      a.download = filename;\n",
              "      div.appendChild(a);\n",
              "      a.click();\n",
              "      div.remove();\n",
              "    }\n",
              "  "
            ]
          },
          "metadata": {}
        },
        {
          "output_type": "display_data",
          "data": {
            "text/plain": [
              "<IPython.core.display.Javascript object>"
            ],
            "application/javascript": [
              "download(\"download_9b97e6d4-e66b-4f66-bb8c-bd85eb1c54fa\", \"checkpoint_criticA_bip.pth\", 427941)"
            ]
          },
          "metadata": {}
        },
        {
          "output_type": "display_data",
          "data": {
            "text/plain": [
              "<IPython.core.display.Javascript object>"
            ],
            "application/javascript": [
              "\n",
              "    async function download(id, filename, size) {\n",
              "      if (!google.colab.kernel.accessAllowed) {\n",
              "        return;\n",
              "      }\n",
              "      const div = document.createElement('div');\n",
              "      const label = document.createElement('label');\n",
              "      label.textContent = `Downloading \"${filename}\": `;\n",
              "      div.appendChild(label);\n",
              "      const progress = document.createElement('progress');\n",
              "      progress.max = size;\n",
              "      div.appendChild(progress);\n",
              "      document.body.appendChild(div);\n",
              "\n",
              "      const buffers = [];\n",
              "      let downloaded = 0;\n",
              "\n",
              "      const channel = await google.colab.kernel.comms.open(id);\n",
              "      // Send a message to notify the kernel that we're ready.\n",
              "      channel.send({})\n",
              "\n",
              "      for await (const message of channel.messages) {\n",
              "        // Send a message to notify the kernel that we're ready.\n",
              "        channel.send({})\n",
              "        if (message.buffers) {\n",
              "          for (const buffer of message.buffers) {\n",
              "            buffers.push(buffer);\n",
              "            downloaded += buffer.byteLength;\n",
              "            progress.value = downloaded;\n",
              "          }\n",
              "        }\n",
              "      }\n",
              "      const blob = new Blob(buffers, {type: 'application/binary'});\n",
              "      const a = document.createElement('a');\n",
              "      a.href = window.URL.createObjectURL(blob);\n",
              "      a.download = filename;\n",
              "      div.appendChild(a);\n",
              "      a.click();\n",
              "      div.remove();\n",
              "    }\n",
              "  "
            ]
          },
          "metadata": {}
        },
        {
          "output_type": "display_data",
          "data": {
            "text/plain": [
              "<IPython.core.display.Javascript object>"
            ],
            "application/javascript": [
              "download(\"download_a8a8c961-428e-468e-b3c6-6ca32769222d\", \"checkpoint_actorA_bip.pth\", 31475)"
            ]
          },
          "metadata": {}
        }
      ]
    },
    {
      "cell_type": "code",
      "source": [
        "### Scores plot\n",
        "fig = plt.figure(figsize=(12,6))\n",
        "ax = fig.add_subplot(111)\n",
        "plt.plot(np.arange(1, len(scores)+1), scores)\n",
        "plt.ylabel('Score')\n",
        "plt.xlabel('Episode #')\n",
        "plt.show()"
      ],
      "metadata": {
        "colab": {
          "base_uri": "https://localhost:8080/",
          "height": 388
        },
        "id": "Bu-bNkXYWwJL",
        "outputId": "0aa63957-cb4f-4f9a-9545-d2ef5b295011"
      },
      "execution_count": null,
      "outputs": [
        {
          "output_type": "display_data",
          "data": {
            "text/plain": [
              "<Figure size 864x432 with 1 Axes>"
            ],
            "image/png": "[encoded data removed]"
          },
          "metadata": {
            "needs_background": "light"
          }
        }
      ]
    },
    {
      "cell_type": "markdown",
      "metadata": {
        "id": "oq-Y0saUF-HE"
      },
      "source": [
        "### 4. Watch a Smart Agent!\n",
        "\n",
        "In the next code cell, you will load the trained weights from file to watch a smart agent!"
      ]
    },
    {
      "cell_type": "code",
      "source": [
        "agent.actor_local.load_state_dict(torch.load('highscore_actorA_bip.pth'))\n",
        "agent.critic_local.load_state_dict(torch.load('highscore_criticA_bip.pth'))"
      ],
      "metadata": {
        "id": "TMEOLXYbVIOz",
        "colab": {
          "base_uri": "https://localhost:8080/"
        },
        "outputId": "66a2f4fb-6b6a-475f-f7da-b3a6c20e345a"
      },
      "execution_count": null,
      "outputs": [
        {
          "output_type": "execute_result",
          "data": {
            "text/plain": [
              "<All keys matched successfully>"
            ]
          },
          "metadata": {},
          "execution_count": 22
        }
      ]
    },
    {
      "cell_type": "code",
      "source": [
        "#### Display from DQN notebook\n",
        "rewards = []\n",
        "steps = []\n",
        "t = 1600\n",
        "state, info = env.reset(seed=seed)\n",
        "img = plt.imshow(env.render())\n",
        "for j in range(t):\n",
        "    action = agent.act(state)\n",
        "    state, reward, done, trun, info = env.step(action)\n",
        "    rewards += [reward]\n",
        "    img.set_data(env.render()) \n",
        "    plt.axis('off')\n",
        "    display.display(plt.gcf())\n",
        "    display.clear_output(wait=True)\n",
        "    if done or trun:\n",
        "        break \n",
        "print(np.sum(rewards))"
      ],
      "metadata": {
        "colab": {
          "base_uri": "https://localhost:8080/",
          "height": 266
        },
        "id": "q2nu72h6kfSO",
        "outputId": "452218bd-0ec9-4097-8066-238a3c470aa0"
      },
      "execution_count": null,
      "outputs": [
        {
          "output_type": "stream",
          "name": "stdout",
          "text": [
            "-100.68828956084512\n"
          ]
        },
        {
          "output_type": "display_data",
          "data": {
            "text/plain": [
              "<Figure size 432x288 with 1 Axes>"
            ],
            "image/png": "[encoded data removed]"
          },
          "metadata": {
            "needs_background": "light"
          }
        }
      ]
    },
    {
      "cell_type": "code",
      "source": [
        "action"
      ],
      "metadata": {
        "colab": {
          "base_uri": "https://localhost:8080/"
        },
        "id": "cozryFUIQSMC",
        "outputId": "c2f09146-ed33-4d70-8fe7-048e946f6b46"
      },
      "execution_count": null,
      "outputs": [
        {
          "output_type": "execute_result",
          "data": {
            "text/plain": [
              "array([-0.39315894,  1.        ,  1.        , -0.4698892 ], dtype=float32)"
            ]
          },
          "metadata": {},
          "execution_count": 25
        }
      ]
    },
    {
      "cell_type": "code",
      "source": [
        "#### Get data\n",
        "rewards = []\n",
        "final_rewards = []\n",
        "steps = []\n",
        "actions = []\n",
        "tries = 100\n",
        "max_t = 400\n",
        "for i in range(tries):\n",
        "    step_count = 0\n",
        "    reward_sum = 0\n",
        "    state, info = env.reset(seed=seed)\n",
        "    for j in range(max_t):\n",
        "        action = agent.act(state)\n",
        "        actions += [action]\n",
        "        state, reward, done, trun, info = env.step(action)\n",
        "        if done or trun:\n",
        "            final_rewards += [reward]\n",
        "            break \n",
        "        else:\n",
        "            final_rewards += [0]\n",
        "            reward_sum += reward\n",
        "            step_count += 1\n",
        "    steps += [step_count]\n",
        "    rewards += [reward_sum]\n",
        "actions = np.asarray(actions)\n",
        "data = np.asarray([(int(s),int(r),int(f)) for s,r,f in zip(steps, np.round(rewards), final_rewards)])"
      ],
      "metadata": {
        "id": "SHxu9O8aaw6W"
      },
      "execution_count": null,
      "outputs": []
    },
    {
      "cell_type": "code",
      "source": [
        "#data = np.asarray([(int(s),int(r),int(f)) for s,r,f in zip(steps, np.round(rewards), final_rewards)])\n",
        "[d for d in data if d[1]<0 ]"
      ],
      "metadata": {
        "colab": {
          "base_uri": "https://localhost:8080/"
        },
        "id": "xdq0pwI0afFC",
        "outputId": "e4211ec9-a7de-4f66-c715-416265f85a35"
      },
      "execution_count": null,
      "outputs": [
        {
          "output_type": "execute_result",
          "data": {
            "text/plain": [
              "[array([288,  -6,   0]),\n",
              " array([400,  -3,   0]),\n",
              " array([175,  -3,   0]),\n",
              " array([146, -10,   0]),\n",
              " array([400,  -2,   0]),\n",
              " array([196,  -3,   0]),\n",
              " array([400,  -3,   0]),\n",
              " array([279,  -3,   0]),\n",
              " array([400,  -9,   0]),\n",
              " array([151,  -4,   0]),\n",
              " array([400,  -5,   0]),\n",
              " array([400,  -4,   0]),\n",
              " array([400,  -5,   0]),\n",
              " array([400,  -2,   0])]"
            ]
          },
          "metadata": {},
          "execution_count": 56
        }
      ]
    },
    {
      "cell_type": "code",
      "source": [
        "actions[-10:]"
      ],
      "metadata": {
        "colab": {
          "base_uri": "https://localhost:8080/"
        },
        "id": "nGIWhy0IRm2Q",
        "outputId": "f7b769d2-554a-4c2b-9245-7a9ed5eca1d3"
      },
      "execution_count": null,
      "outputs": [
        {
          "output_type": "execute_result",
          "data": {
            "text/plain": [
              "array([[-0.32351214,  1.        ,  1.        , -0.33578947],\n",
              "       [-0.24482307,  1.        ,  1.        , -0.4056626 ],\n",
              "       [-0.29525715,  1.        ,  1.        , -0.38740957],\n",
              "       [-0.30665335,  1.        ,  1.        , -0.4045489 ],\n",
              "       [-0.30210614,  1.        ,  1.        , -0.37225235],\n",
              "       [-0.32172832,  1.        ,  1.        , -0.42449   ],\n",
              "       [-0.24334897,  1.        ,  1.        , -0.37476447],\n",
              "       [-0.35253546,  1.        ,  1.        , -0.28866184],\n",
              "       [-0.28378263,  1.        ,  1.        , -0.3329869 ],\n",
              "       [-0.2082048 ,  1.        ,  1.        , -0.23672721]],\n",
              "      dtype=float32)"
            ]
          },
          "metadata": {},
          "execution_count": 47
        }
      ]
    },
    {
      "cell_type": "code",
      "source": [
        "np.mean(data[:,1]/data[:,0])"
      ],
      "metadata": {
        "colab": {
          "base_uri": "https://localhost:8080/"
        },
        "id": "JgwknWtKJiiz",
        "outputId": "5d5884a7-323f-4acf-862e-615ea47785a0"
      },
      "execution_count": null,
      "outputs": [
        {
          "output_type": "execute_result",
          "data": {
            "text/plain": [
              "-0.2359221411435386"
            ]
          },
          "metadata": {},
          "execution_count": 20
        }
      ]
    },
    {
      "cell_type": "code",
      "source": [],
      "metadata": {
        "id": "1h83Jwk2NRtt"
      },
      "execution_count": null,
      "outputs": []
    },
    {
      "cell_type": "code",
      "source": [
        "fig = plt.figure(figsize=(12,6))\n",
        "ax = fig.add_subplot(111)\n",
        "plt.plot(np.arange(1, len(rewards)+1), rewards)\n",
        "plt.ylabel('Score')\n",
        "plt.xlabel('Episode')\n",
        "plt.show()\n",
        "print(\"Total Rewards[:-1]\", sum(rewards), \"Average Reward:\", np.mean(rewards))"
      ],
      "metadata": {
        "id": "DQLQdLKzgFaY"
      },
      "execution_count": null,
      "outputs": []
    },
    {
      "cell_type": "code",
      "source": [
        "fig = plt.figure(figsize=(12,6))\n",
        "ax = fig.add_subplot(111)\n",
        "plt.plot(np.arange(1, len(rewards[:-1])+1), rewards[:-1])\n",
        "plt.ylabel('Score')\n",
        "plt.xlabel('Step #')\n",
        "plt.show()\n",
        "print(\"Total Rewards[:-1]\", sum(rewards[:-1]), \"Final Reward:\", rewards[-1])"
      ],
      "metadata": {
        "id": "D3ihoD0dWi9L"
      },
      "execution_count": null,
      "outputs": []
    },
    {
      "cell_type": "markdown",
      "metadata": {
        "id": "h1wigUfbF-HF"
      },
      "source": [
        "# 5. Explore\n",
        "\n",
        "In this exercise, we have provided a sample DDPG agent and demonstrated how to use it to solve an OpenAI Gym environment.  To continue your learning, you are encouraged to complete any (or all!) of the following tasks:\n",
        "- **Amend the various hyperparameters and network architecture to see if you can get your agent to solve the environment faster than this benchmark implementation.**  Once you build intuition for the hyperparameters that work well with this environment, try solving a different OpenAI Gym task!\n",
        "- Write your own DDPG implementation.  Use this code as reference only when needed -- try as much as you can to write your own algorithm from scratch.\n",
        "- You may also like to implement **prioritized experience replay**, to see if it speeds learning.  \n",
        "- The current implementation adds Ornsetein-Uhlenbeck noise to the action space.  However, it has [been shown](https://blog.openai.com/better-exploration-with-parameter-noise/) that **adding noise to the parameters of the neural network policy can improve performance.  Make this change to the code, to verify it for yourself!**\n",
        "- Write a blog post explaining the intuition behind the DDPG algorithm and demonstrating how to use it to solve an RL environment of your choosing.  "
      ]
    },
    {
      "cell_type": "markdown",
      "source": [
        "## How well does DQN with Tile Coding how well does work?\n",
        "* Reuse DQN from Project 1, but use Tile Coding to turn continuous into discrete actions\n",
        "* Implement improvements on DQN from Project 1 first"
      ],
      "metadata": {
        "id": "kAsuFULRviuL"
      }
    },
    {
      "cell_type": "code",
      "source": [],
      "metadata": {
        "id": "zvUpCpQ7wXIh"
      },
      "execution_count": null,
      "outputs": []
    }
  ],
  "metadata": {
    "kernelspec": {
      "display_name": "Python 3",
      "language": "python",
      "name": "python3"
    },
    "language_info": {
      "codemirror_mode": {
        "name": "ipython",
        "version": 3
      },
      "file_extension": ".py",
      "mimetype": "text/x-python",
      "name": "python",
      "nbconvert_exporter": "python",
      "pygments_lexer": "ipython3",
      "version": "3.6.4"
    },
    "colab": {
      "provenance": [],
      "machine_shape": "hm"
    },
    "accelerator": "GPU",
    "gpuClass": "standard"
  },
  "nbformat": 4,
  "nbformat_minor": 0
}