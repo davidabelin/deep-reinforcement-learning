{
 "cells": [
  {
   "cell_type": "markdown",
   "metadata": {},
   "source": [
    "## Import Necessary Modules"
   ]
  },
  {
   "cell_type": "code",
   "execution_count": 1,
   "metadata": {
    "tags": []
   },
   "outputs": [],
   "source": [
    "#env.close()\n",
    "#one_env.close()"
   ]
  },
  {
   "cell_type": "code",
   "execution_count": 2,
   "metadata": {
    "tags": []
   },
   "outputs": [
    {
     "name": "stdout",
     "output_type": "stream",
     "text": [
      "Using device: cuda:0\n"
     ]
    }
   ],
   "source": [
    "from unityagents import UnityEnvironment\n",
    "import numpy as np\n",
    "import random\n",
    "import time\n",
    "import torch\n",
    "from collections import deque\n",
    "import matplotlib.pyplot as plt\n",
    "import ddpg_agent\n",
    "from ddpg_agent import Agent as Agency\n",
    "from ddpg_agent import SEED, BUFFER_SIZE, BATCH_SIZE, device\n",
    "#from ddpg_train import train\n",
    "print(\"Using device:\", device)\n",
    "%matplotlib inline"
   ]
  },
  {
   "cell_type": "markdown",
   "metadata": {
    "tags": []
   },
   "source": [
    "## Unity Reacher Environment"
   ]
  },
  {
   "cell_type": "markdown",
   "metadata": {
    "tags": []
   },
   "source": [
    "## Examine the State and Action Spaces"
   ]
  },
  {
   "cell_type": "code",
   "execution_count": 3,
   "metadata": {},
   "outputs": [
    {
     "name": "stderr",
     "output_type": "stream",
     "text": [
      "INFO:unityagents:\n",
      "'Academy' started successfully!\n",
      "Unity Academy name: Academy\n",
      "        Number of Brains: 1\n",
      "        Number of External Brains : 1\n",
      "        Lesson number : 0\n",
      "        Reset Parameters :\n",
      "\t\tgoal_size -> 5.0\n",
      "\t\tgoal_speed -> 1.0\n",
      "Unity brain name: ReacherBrain\n",
      "        Number of Visual Observations (per agent): 0\n",
      "        Vector Observation space type: continuous\n",
      "        Vector Observation space size (per agent): 33\n",
      "        Number of stacked Vector Observation: 1\n",
      "        Vector Action space type: continuous\n",
      "        Vector Action space size (per agent): 4\n",
      "        Vector Action descriptions: , , , \n"
     ]
    },
    {
     "name": "stdout",
     "output_type": "stream",
     "text": [
      "Number of agents: 20\n",
      "Size of each action: 4\n",
      "There are 20 agents. Each observes a state with length: 33\n"
     ]
    }
   ],
   "source": [
    "# For Environment with 20 Agents:\n",
    "env = UnityEnvironment(file_name='UnityReacher20\\Reacher.exe',  #'../data/Reacher1_Win/Reacher.exe',   # \n",
    "                       worker_id=200, \n",
    "                       seed=SEED, \n",
    "                       no_graphics=False)\n",
    "\n",
    "# get the default brain\n",
    "brain_name = env.brain_names[0]\n",
    "brain = env.brains[brain_name]\n",
    "\n",
    "# reset the environment\n",
    "env_info = env.reset(train_mode=True)[brain_name]\n",
    "\n",
    "# number of agents\n",
    "num_agents = len(env_info.agents)\n",
    "print('Number of agents:', num_agents)\n",
    "\n",
    "# size of each action\n",
    "action_size = brain.vector_action_space_size\n",
    "print('Size of each action:', action_size)\n",
    "\n",
    "# examine the state space \n",
    "states = env_info.vector_observations\n",
    "state_size = states.shape[1]\n",
    "print('There are {} agents. Each observes a state with length: {}'.format(states.shape[0], state_size))\n"
   ]
  },
  {
   "cell_type": "markdown",
   "metadata": {
    "tags": []
   },
   "source": [
    "## DDPG"
   ]
  },
  {
   "cell_type": "markdown",
   "metadata": {
    "tags": []
   },
   "source": [
    "#### Intialize the Agent"
   ]
  },
  {
   "cell_type": "code",
   "execution_count": 4,
   "metadata": {
    "tags": []
   },
   "outputs": [],
   "source": [
    "agency = Agency(state_size=state_size, \n",
    "                action_size=action_size, \n",
    "                num_agents=num_agents, \n",
    "                random_seed=SEED,\n",
    "                actor_units_in=256,\n",
    "                actor_units_hid=128,\n",
    "                critic_units_in=512,\n",
    "                critic_units_hid=128,\n",
    "                actor_filename='checkpoints/actor_training_chkpnt60.pth',\n",
    "                critic_filename='checkpoints/critic_training_chkpnt60.pth')"
   ]
  },
  {
   "cell_type": "code",
   "execution_count": 26,
   "metadata": {},
   "outputs": [],
   "source": [
    "agemembuff = agency.memory\n",
    "new_agency = Agency(\n",
    "                state_size=state_size, \n",
    "                action_size=action_size, \n",
    "                num_agents=num_agents, \n",
    "                random_seed=SEED,\n",
    "                actor_units_in=256,\n",
    "                actor_units_hid=128,\n",
    "                critic_units_in=512,\n",
    "                critic_units_hid=128,\n",
    "                actor_filename='checkpoints/actor_training_chkpnt20.pth', \n",
    "                critic_filename='checkpoints/critic_training_chkpnt40.pth')\n",
    "new_agency.memory = agemembuff"
   ]
  },
  {
   "cell_type": "code",
   "execution_count": 27,
   "metadata": {
    "collapsed": true,
    "jupyter": {
     "outputs_hidden": true
    },
    "tags": []
   },
   "outputs": [
    {
     "data": {
      "text/plain": [
       "(tensor([[-2.3189, -3.2616, -0.1260,  ...,  1.0000,  0.0000,  0.8967],\n",
       "         [-2.8133, -2.2166,  1.8010,  ...,  1.0000,  0.0000, -0.2315],\n",
       "         [-1.6966, -3.4761,  1.0319,  ...,  1.0000,  0.0000, -0.9994],\n",
       "         ...,\n",
       "         [ 1.7679, -3.0136,  1.9576,  ...,  1.0000,  0.0000,  0.1579],\n",
       "         [-3.1249, -2.4712, -0.4365,  ...,  1.0000,  0.0000, -0.8832],\n",
       "         [ 2.2964, -2.8342, -1.6574,  ...,  1.0000,  0.0000,  0.9642]],\n",
       "        device='cuda:0'),\n",
       " tensor([[ 0.4851, -0.6685, -0.0778,  0.3775],\n",
       "         [-1.0000,  0.1614,  0.1993, -0.2576],\n",
       "         [-0.4477, -0.9367, -0.8535, -0.9253],\n",
       "         [ 0.2288, -0.0385,  0.2306, -0.7333],\n",
       "         [ 0.4650, -0.0714,  0.4095,  0.2005],\n",
       "         [ 1.0000, -1.0000, -0.7354,  0.6631],\n",
       "         [ 1.0000, -0.9030, -0.4023,  0.3287],\n",
       "         [-0.2562, -0.4932,  0.0310, -0.2300],\n",
       "         [-0.5675, -0.8898,  1.0000,  1.0000],\n",
       "         [ 0.0441,  0.6256, -0.1842,  0.0894],\n",
       "         [-0.2652,  1.0000, -0.1489, -0.7557],\n",
       "         [ 1.0000, -0.0345, -1.0000, -0.6705],\n",
       "         [-1.0000, -1.0000,  0.1682,  0.7682],\n",
       "         [ 1.0000,  0.7055,  0.0691,  0.1331],\n",
       "         [-0.6910,  0.3365,  0.2219, -0.5124],\n",
       "         [-0.7285,  1.0000, -0.5465,  0.2929],\n",
       "         [ 0.4236,  0.1249, -0.2023,  0.3878],\n",
       "         [-0.4854,  0.7254, -0.1206, -0.7377],\n",
       "         [-1.0000, -0.7625, -0.6128, -0.9475],\n",
       "         [ 1.0000, -1.0000, -0.0620, -0.3055],\n",
       "         [ 0.8419, -0.3948, -0.0947, -0.0529],\n",
       "         [ 0.6692, -0.7377,  1.0000, -0.4029],\n",
       "         [ 0.1866, -0.7317, -0.0587, -0.1572],\n",
       "         [-0.9217, -0.6122, -1.0000, -1.0000],\n",
       "         [-1.0000, -0.2424,  0.0652,  0.9080],\n",
       "         [ 0.9959,  0.4785,  0.4148, -0.0856],\n",
       "         [ 0.7501, -1.0000,  0.5354,  0.6329],\n",
       "         [-1.0000, -0.2761, -0.2650,  0.4696],\n",
       "         [ 0.5647, -0.1872,  0.4714,  0.5789],\n",
       "         [ 0.9314, -0.6521, -0.1599,  0.0124],\n",
       "         [ 0.5534,  0.9055, -0.8861,  0.6354],\n",
       "         [ 0.5964, -1.0000,  1.0000,  1.0000],\n",
       "         [ 0.7744, -0.0305,  0.6920, -0.2802],\n",
       "         [-1.0000, -0.1582, -0.4585, -1.0000],\n",
       "         [-0.0132, -0.4508,  0.6811,  0.0549],\n",
       "         [ 0.0025, -0.5623,  0.0183,  0.6166],\n",
       "         [-0.5559, -0.9422, -0.6748,  0.5184],\n",
       "         [ 0.5199, -0.5943, -0.4904,  0.5511],\n",
       "         [-0.6414, -0.7307,  0.3010,  1.0000],\n",
       "         [-0.1767,  1.0000,  1.0000, -1.0000],\n",
       "         [-0.0568, -0.7880,  0.2877,  0.1403],\n",
       "         [ 0.8503, -0.3161, -0.4268,  0.0890],\n",
       "         [-0.4762,  1.0000, -0.2051,  0.4938],\n",
       "         [ 1.0000,  1.0000, -0.0612, -0.2608],\n",
       "         [ 0.0218,  0.8177,  0.3931, -0.9167],\n",
       "         [-0.3910, -0.2050,  0.5707, -0.6651],\n",
       "         [-0.7269,  0.0691, -0.2333,  0.8169],\n",
       "         [ 0.7315, -1.0000,  0.3171,  0.6056],\n",
       "         [ 0.8194, -0.4931, -0.2937,  0.3075],\n",
       "         [ 0.7163, -0.9403,  0.1987,  0.3557],\n",
       "         [ 0.4513,  1.0000, -0.7710,  0.0203],\n",
       "         [ 0.4561,  0.4215,  0.4370, -0.1895],\n",
       "         [-0.9938, -1.0000,  0.3295, -0.1839],\n",
       "         [ 0.3813, -0.8825,  0.6299,  0.8900],\n",
       "         [-0.7122,  0.2805, -0.4120, -0.2687],\n",
       "         [-0.0995, -0.0128,  0.0857, -0.3725],\n",
       "         [ 0.6666,  0.7798, -0.5063,  0.2917],\n",
       "         [-1.0000,  0.6020, -0.3287,  0.2642],\n",
       "         [ 0.6806, -0.0539, -0.4043,  0.7199],\n",
       "         [ 1.0000, -0.1232,  0.5288, -0.4779],\n",
       "         [-0.9203,  0.3138,  0.2467,  0.0693],\n",
       "         [-0.2007, -0.2818,  0.7024, -0.2192],\n",
       "         [-0.4175, -0.2193,  0.1725, -0.7273],\n",
       "         [ 0.4322, -0.8090,  0.3735,  0.2523],\n",
       "         [-0.0550, -0.7392, -0.5635, -0.2446],\n",
       "         [-1.0000, -1.0000, -1.0000,  0.8764],\n",
       "         [-0.5238, -0.1453,  0.6562,  0.7689],\n",
       "         [ 0.2288,  0.4339,  0.2377, -0.1147],\n",
       "         [ 0.4505, -0.0430,  0.2694, -0.1730],\n",
       "         [-1.0000, -0.8184, -0.1063, -1.0000],\n",
       "         [-0.2343,  1.0000,  0.7722,  1.0000],\n",
       "         [ 0.5264,  0.8024, -0.2769,  0.0412],\n",
       "         [-1.0000,  0.5854,  0.9304,  0.3872],\n",
       "         [-0.5097, -0.3623, -0.0451,  0.0818],\n",
       "         [ 0.0554, -0.3033,  0.2945, -0.6230],\n",
       "         [ 0.2240,  0.3506, -0.1388, -0.1096],\n",
       "         [ 1.0000,  0.3534, -0.6898,  0.7000],\n",
       "         [-0.6398, -0.8321,  0.8903, -0.8402],\n",
       "         [ 0.6591,  0.9616,  0.4118,  0.0066],\n",
       "         [ 0.8706, -0.1698,  0.6284,  0.3488],\n",
       "         [-0.0456, -1.0000,  0.3185, -0.4670],\n",
       "         [-1.0000,  0.0353, -0.3707, -0.6031],\n",
       "         [ 0.3323, -1.0000, -0.0161, -0.3126],\n",
       "         [ 1.0000,  1.0000, -1.0000, -0.0538],\n",
       "         [ 0.5276,  0.5066, -0.3243, -0.2828],\n",
       "         [ 1.0000, -0.5822,  0.6695, -0.0827],\n",
       "         [-0.2735, -0.5950, -0.4361, -0.5665],\n",
       "         [ 0.0135, -1.0000,  0.1100,  0.3145],\n",
       "         [ 0.1610,  0.6327, -0.6226, -0.1193],\n",
       "         [-0.3815, -0.6428,  0.5234,  0.0300],\n",
       "         [ 0.8463,  0.0821,  0.1409, -0.1018],\n",
       "         [-0.3158,  0.5693, -0.2663, -0.6657],\n",
       "         [-0.9223,  0.3729, -0.9473, -0.9739],\n",
       "         [-0.0863,  0.7621, -0.0128, -0.5219],\n",
       "         [ 0.4258, -0.9500,  0.5781,  0.2851],\n",
       "         [-0.1895, -0.8360, -0.4616, -1.0000],\n",
       "         [ 0.3808, -0.9304, -0.1504,  0.7610],\n",
       "         [ 0.3302,  1.0000,  0.9351,  0.8290],\n",
       "         [ 0.7002,  0.8881, -0.4321,  1.0000],\n",
       "         [-1.0000,  0.9107, -0.1696,  0.2057],\n",
       "         [ 1.0000, -0.4304,  0.6132,  0.2650],\n",
       "         [ 0.3802, -0.1721, -0.9037,  1.0000],\n",
       "         [-0.0678, -0.0632, -0.1628, -0.6502],\n",
       "         [ 0.2869, -0.7506,  1.0000,  0.1431],\n",
       "         [ 1.0000, -1.0000,  0.3099,  0.6514],\n",
       "         [ 0.9725,  0.0246,  0.3492, -0.3813],\n",
       "         [-0.3017,  0.0338, -0.3496,  0.1154],\n",
       "         [-0.5062, -0.0783, -0.0260, -0.2735],\n",
       "         [ 0.2240, -1.0000,  0.3382, -0.6195],\n",
       "         [ 0.8541,  0.1375,  0.0138, -0.2327],\n",
       "         [ 0.8051,  1.0000, -0.0623,  0.2321],\n",
       "         [-0.9717,  0.1687, -0.5812,  0.2197],\n",
       "         [ 1.0000,  0.2038, -0.3913, -0.0194],\n",
       "         [ 0.7758,  0.9130,  0.6393, -0.5407],\n",
       "         [ 0.8582,  1.0000,  0.5535,  0.2916],\n",
       "         [-1.0000, -0.3118, -0.8986,  0.7929],\n",
       "         [-1.0000, -1.0000,  0.0670, -0.4632],\n",
       "         [ 1.0000,  0.3320,  0.2380,  0.3271],\n",
       "         [-0.1081, -0.0402,  0.0733,  1.0000],\n",
       "         [-1.0000, -0.6410,  0.4117, -0.6888],\n",
       "         [ 0.6683, -0.9253, -1.0000,  0.4931],\n",
       "         [-0.6088, -0.8938,  0.6245,  0.5564],\n",
       "         [ 0.1376, -0.6769,  0.4968,  0.6055],\n",
       "         [ 0.4766, -0.1941,  0.1865,  0.1635],\n",
       "         [-0.5462,  0.3835, -0.4525, -0.2315],\n",
       "         [-0.3118,  0.6705,  0.0018, -0.0225],\n",
       "         [-1.0000, -0.7749,  0.0018,  0.2792],\n",
       "         [ 1.0000,  0.4014,  0.4198,  1.0000]], device='cuda:0'),\n",
       " tensor([[0.0400],\n",
       "         [0.0400],\n",
       "         [0.0400],\n",
       "         [0.0400],\n",
       "         [0.0400],\n",
       "         [0.0400],\n",
       "         [0.0400],\n",
       "         [0.0400],\n",
       "         [0.0400],\n",
       "         [0.0400],\n",
       "         [0.0400],\n",
       "         [0.0000],\n",
       "         [0.0100],\n",
       "         [0.0000],\n",
       "         [0.0400],\n",
       "         [0.0400],\n",
       "         [0.0400],\n",
       "         [0.0400],\n",
       "         [0.0400],\n",
       "         [0.0400],\n",
       "         [0.0400],\n",
       "         [0.0400],\n",
       "         [0.0400],\n",
       "         [0.0300],\n",
       "         [0.0400],\n",
       "         [0.0400],\n",
       "         [0.0400],\n",
       "         [0.0400],\n",
       "         [0.0400],\n",
       "         [0.0400],\n",
       "         [0.0400],\n",
       "         [0.0400],\n",
       "         [0.0400],\n",
       "         [0.0400],\n",
       "         [0.0400],\n",
       "         [0.0400],\n",
       "         [0.0400],\n",
       "         [0.0400],\n",
       "         [0.0000],\n",
       "         [0.0400],\n",
       "         [0.0400],\n",
       "         [0.0400],\n",
       "         [0.0400],\n",
       "         [0.0400],\n",
       "         [0.0400],\n",
       "         [0.0400],\n",
       "         [0.0400],\n",
       "         [0.0400],\n",
       "         [0.0400],\n",
       "         [0.0400],\n",
       "         [0.0400],\n",
       "         [0.0400],\n",
       "         [0.0400],\n",
       "         [0.0000],\n",
       "         [0.0400],\n",
       "         [0.0400],\n",
       "         [0.0400],\n",
       "         [0.0400],\n",
       "         [0.0400],\n",
       "         [0.0400],\n",
       "         [0.0400],\n",
       "         [0.0400],\n",
       "         [0.0400],\n",
       "         [0.0400],\n",
       "         [0.0400],\n",
       "         [0.0000],\n",
       "         [0.0400],\n",
       "         [0.0400],\n",
       "         [0.0400],\n",
       "         [0.0400],\n",
       "         [0.0400],\n",
       "         [0.0400],\n",
       "         [0.0400],\n",
       "         [0.0400],\n",
       "         [0.0400],\n",
       "         [0.0400],\n",
       "         [0.0400],\n",
       "         [0.0400],\n",
       "         [0.0000],\n",
       "         [0.0400],\n",
       "         [0.0400],\n",
       "         [0.0400],\n",
       "         [0.0400],\n",
       "         [0.0400],\n",
       "         [0.0400],\n",
       "         [0.0400],\n",
       "         [0.0400],\n",
       "         [0.0400],\n",
       "         [0.0400],\n",
       "         [0.0400],\n",
       "         [0.0400],\n",
       "         [0.0400],\n",
       "         [0.0400],\n",
       "         [0.0400],\n",
       "         [0.0400],\n",
       "         [0.0400],\n",
       "         [0.0400],\n",
       "         [0.0400],\n",
       "         [0.0400],\n",
       "         [0.0400],\n",
       "         [0.0400],\n",
       "         [0.0400],\n",
       "         [0.0400],\n",
       "         [0.0400],\n",
       "         [0.0400],\n",
       "         [0.0400],\n",
       "         [0.0400],\n",
       "         [0.0400],\n",
       "         [0.0400],\n",
       "         [0.0400],\n",
       "         [0.0400],\n",
       "         [0.0400],\n",
       "         [0.0400],\n",
       "         [0.0400],\n",
       "         [0.0400],\n",
       "         [0.0400],\n",
       "         [0.0400],\n",
       "         [0.0400],\n",
       "         [0.0300],\n",
       "         [0.0400],\n",
       "         [0.0000],\n",
       "         [0.0400],\n",
       "         [0.0400],\n",
       "         [0.0400],\n",
       "         [0.0400],\n",
       "         [0.0400],\n",
       "         [0.0400],\n",
       "         [0.0400]], device='cuda:0'),\n",
       " tensor([[-2.3771, -3.2220, -0.0040,  ...,  1.0000,  0.0000,  0.8967],\n",
       "         [-2.8526, -2.1794,  1.7849,  ...,  1.0000,  0.0000, -0.2315],\n",
       "         [-2.0082, -3.3338,  0.9433,  ...,  1.0000,  0.0000, -0.9994],\n",
       "         ...,\n",
       "         [ 1.7810, -3.0175,  1.9397,  ...,  1.0000,  0.0000,  0.1579],\n",
       "         [-3.1577, -2.4110, -0.5291,  ...,  1.0000,  0.0000, -0.8832],\n",
       "         [ 2.0460, -2.8798, -1.8904,  ...,  1.0000,  0.0000,  0.9642]],\n",
       "        device='cuda:0'),\n",
       " tensor([[0.],\n",
       "         [0.],\n",
       "         [0.],\n",
       "         [0.],\n",
       "         [0.],\n",
       "         [0.],\n",
       "         [0.],\n",
       "         [0.],\n",
       "         [0.],\n",
       "         [0.],\n",
       "         [0.],\n",
       "         [0.],\n",
       "         [0.],\n",
       "         [0.],\n",
       "         [0.],\n",
       "         [0.],\n",
       "         [0.],\n",
       "         [0.],\n",
       "         [0.],\n",
       "         [0.],\n",
       "         [0.],\n",
       "         [0.],\n",
       "         [0.],\n",
       "         [0.],\n",
       "         [0.],\n",
       "         [0.],\n",
       "         [0.],\n",
       "         [0.],\n",
       "         [0.],\n",
       "         [0.],\n",
       "         [0.],\n",
       "         [0.],\n",
       "         [0.],\n",
       "         [0.],\n",
       "         [0.],\n",
       "         [0.],\n",
       "         [0.],\n",
       "         [0.],\n",
       "         [0.],\n",
       "         [0.],\n",
       "         [0.],\n",
       "         [0.],\n",
       "         [0.],\n",
       "         [0.],\n",
       "         [0.],\n",
       "         [0.],\n",
       "         [0.],\n",
       "         [0.],\n",
       "         [0.],\n",
       "         [0.],\n",
       "         [0.],\n",
       "         [0.],\n",
       "         [0.],\n",
       "         [0.],\n",
       "         [0.],\n",
       "         [0.],\n",
       "         [0.],\n",
       "         [0.],\n",
       "         [0.],\n",
       "         [0.],\n",
       "         [0.],\n",
       "         [0.],\n",
       "         [0.],\n",
       "         [0.],\n",
       "         [0.],\n",
       "         [0.],\n",
       "         [0.],\n",
       "         [0.],\n",
       "         [0.],\n",
       "         [0.],\n",
       "         [0.],\n",
       "         [0.],\n",
       "         [0.],\n",
       "         [0.],\n",
       "         [0.],\n",
       "         [0.],\n",
       "         [0.],\n",
       "         [0.],\n",
       "         [0.],\n",
       "         [0.],\n",
       "         [0.],\n",
       "         [0.],\n",
       "         [0.],\n",
       "         [0.],\n",
       "         [0.],\n",
       "         [0.],\n",
       "         [0.],\n",
       "         [0.],\n",
       "         [0.],\n",
       "         [0.],\n",
       "         [0.],\n",
       "         [0.],\n",
       "         [0.],\n",
       "         [0.],\n",
       "         [0.],\n",
       "         [0.],\n",
       "         [0.],\n",
       "         [0.],\n",
       "         [0.],\n",
       "         [0.],\n",
       "         [0.],\n",
       "         [0.],\n",
       "         [0.],\n",
       "         [0.],\n",
       "         [0.],\n",
       "         [0.],\n",
       "         [0.],\n",
       "         [0.],\n",
       "         [0.],\n",
       "         [0.],\n",
       "         [0.],\n",
       "         [0.],\n",
       "         [0.],\n",
       "         [0.],\n",
       "         [0.],\n",
       "         [0.],\n",
       "         [0.],\n",
       "         [0.],\n",
       "         [0.],\n",
       "         [0.],\n",
       "         [0.],\n",
       "         [0.],\n",
       "         [0.],\n",
       "         [0.],\n",
       "         [0.],\n",
       "         [0.],\n",
       "         [0.],\n",
       "         [0.]], device='cuda:0'))"
      ]
     },
     "execution_count": 27,
     "metadata": {},
     "output_type": "execute_result"
    }
   ],
   "source": [
    "new_agency.memory.sample()"
   ]
  },
  {
   "cell_type": "markdown",
   "metadata": {
    "tags": []
   },
   "source": [
    "#### Random Agent Play"
   ]
  },
  {
   "cell_type": "code",
   "execution_count": 28,
   "metadata": {},
   "outputs": [
    {
     "name": "stdout",
     "output_type": "stream",
     "text": [
      "2.67 | 4.00 | 3.98 | 3.98 | 3.40 | 4.05 | 4.03 | 4.05 | 4.01 | 4.04 | 4.05 | 3.83 | 3.95 | 3.91 | 4.02 | 3.91 | 4.01 | 3.97 | 4.00 | 4.02\n",
      "Average score over all 20 agents and the last 111 learnable steps:   3.894\n",
      "4.09 | 3.96 | 4.09 | 3.62 | 3.90 | 4.02 | 4.07 | 4.03 | 3.98 | 3.96 | 3.73 | 4.06 | 4.07 | 3.99 | 4.01 | 3.95 | 4.08 | 3.99 | 4.03 | 4.10\n",
      "Average score over all 20 agents and the last 111 learnable steps:   3.986\n",
      "4.00 | 3.96 | 4.02 | 3.97 | 4.05 | 3.97 | 4.05 | 3.99 | 4.00 | 3.96 | 3.97 | 3.93 | 4.01 | 3.88 | 3.80 | 4.02 | 3.99 | 3.97 | 3.96 | 4.07\n",
      "Average score over all 20 agents and the last 111 learnable steps:   3.978\n"
     ]
    }
   ],
   "source": [
    "rapisodes = 3\n",
    "for rap in range(rapisodes):\n",
    "    env_info = env.reset(train_mode=False)[brain_name]         # reset the environment    \n",
    "    rap_states = env_info.vector_observations                  # get the current state (for each agent)\n",
    "    rap_scores = np.zeros(num_agents)                          # initialize the score (for each agent)\n",
    "    rap_steps = 111\n",
    "    for rep in range(rap_steps):\n",
    "    #    rap_actions = np.random.randn(num_agents, action_size)     # select an action (for each agent)\n",
    "    #    rap_actions = np.clip(rap_actions, -1, 1)                  # all actions between -1 and 1\n",
    "        rap_actions, rap_noises = agency.act(rap_states, return_noise=True)\n",
    "        env_info = env.step(rap_actions)[brain_name]           # send all actions to tne environment\n",
    "        rap_next_states = env_info.vector_observations         # get next state (for each agent)\n",
    "        rap_rewards = env_info.rewards                         # get reward (for each agent)\n",
    "        rap_dones = env_info.local_done                        # see if episode finished\n",
    "        rap_scores += env_info.rewards                         # update the score (for each agent)\n",
    "        rap_states = rap_next_states                           # roll over states to next time step\n",
    "        #print(\"\\rTotal cumulative score (averaged over all agents) these {:3d} steps: {:7.3f}\\n\".format(rep, np.mean(rap_scores)))\n",
    "        print(\"\\r{:4.2f} | {:4.2f} | {:4.2f} | {:4.2f} | {:4.2f} | {:4.2f} | {:4.2f} | {:4.2f} | {:4.2f} | {:4.2f} | {:4.2f} | {:4.2f} | {:4.2f} | {:4.2f} | {:4.2f} | {:4.2f} | {:4.2f} | {:4.2f} | {:4.2f} | {:4.2f}\".format(*rap_scores), end='')\n",
    "        if np.any(rap_dones):                                  # exit loop if episode finished\n",
    "            break\n",
    "    #print(\"\\n{:4.2f} | {:4.2f} | {:4.2f} | {:4.2f} | {:4.2f} | {:4.2f} | {:4.2f} | {:4.2f} | {:4.2f} | {:4.2f} | {:4.2f} | {:4.2f} | {:4.2f} | {:4.2f} | {:4.2f} | {:4.2f} | {:4.2f} | {:4.2f} | {:4.2f} | {:4.2f}\".format(*rap_scores))\n",
    "    print(\"\\nAverage score over all 20 agents and the last {} learnable steps: {:7.3f}\".format(rap_steps, np.mean(rap_scores)))"
   ]
  },
  {
   "cell_type": "markdown",
   "metadata": {
    "tags": []
   },
   "source": [
    "### Train"
   ]
  },
  {
   "cell_type": "code",
   "execution_count": 29,
   "metadata": {},
   "outputs": [],
   "source": [
    "import time\n",
    "#from ddpg_agent import *\n",
    "\n",
    "def train(env, agency, n_episodes=2000, max_t=1000, hiscore=30):\n",
    "    \"\"\"Deep Q-Learning for a Continuous Action Space\n",
    "    \n",
    "    Params\n",
    "    ======\n",
    "        env (environment): Here, a Unity Env. Originally, a Gym(nasium) env\n",
    "        n_episodes (int): maximum number of training episodes\n",
    "        max_t (int): maximum number of timesteps per episode\n",
    "        hiscore (int): the metric score to achieve to solve the env \n",
    "    \"\"\"\n",
    "    start = time.time()\n",
    "    episode_times = []; episode_lengths = []; scores = []; agent_scores = []\n",
    "    action_steps = []; noise_steps= []; actor_loss = []; critic_loss = []\n",
    "    scores_window = deque(maxlen=100)\n",
    "    \n",
    "    for i_episode in range(1, n_episodes+1):\n",
    "        epistart = time.time()\n",
    "        score = 0. ; episteps = 0.; episcores = np.zeros(agency.num_agents)\n",
    "        a_loss = 0. ; c_loss = 0.\n",
    "        env_info = env.reset(train_mode=True)['ReacherBrain']\n",
    "        states = env_info.vector_observations\n",
    "        agency.reset()\n",
    "        for t in range(max_t):\n",
    "            actions, noises = agency.act(states, return_noise=True)\n",
    "            action_steps.append(actions)\n",
    "            noise_steps.append(noises)\n",
    "            actions = np.clip(actions+noises, -1, 1)\n",
    "            env_info = env.step(actions)['ReacherBrain']\n",
    "            next_states = env_info.vector_observations\n",
    "            rewards = env_info.rewards\n",
    "            dones = env_info.local_done\n",
    "            al, cl = agency.step(states, actions, rewards, next_states, dones, return_loss=True)\n",
    "            if al != None: \n",
    "                a_loss += al; c_loss += cl; \n",
    "            states = next_states; episteps+=1\n",
    "            score += np.mean(rewards); episcores += rewards\n",
    "            if np.any(dones):\n",
    "                break  \n",
    "        # Data appendage\n",
    "        scores_window.append(score)       \n",
    "        scores.append(score)\n",
    "        episode_lengths.append(episteps)\n",
    "        actor_loss.append(a_loss/episteps)          \n",
    "        critic_loss.append(c_loss/episteps)\n",
    "        episode_times.append(time.time()-epistart)\n",
    "        cycle_steps = agency.steps%BUFFER_SIZE\n",
    "        buffer_cycle = agency.steps//BUFFER_SIZE\n",
    "\n",
    "        print(\"\\rEpisode {:4d} | Score: {:8.2f} | Actor Loss: {:8.2f} | Critic Loss: {:8.2f} | Average: {:5d} Steps in {:5.3f} sec | Memory Buffer:{:7d} into cycle {:3d}\".format(\n",
    "                                        i_episode,\n",
    "                                        score, actor_loss[-1], critic_loss[-1],\n",
    "                                        int(episteps), time.time()-epistart,\n",
    "                                        cycle_steps, buffer_cycle), end=\"\")\n",
    "        #print(\"\\r{:4.2f} | {:4.2f} | {:4.2f} | {:4.2f} | {:4.2f} | {:4.2f} | {:4.2f} | {:4.2f} | {:4.2f} | {:4.2f} | {:4.2f} | {:4.2f} | {:4.2f} | {:4.2f} | {:4.2f} | {:4.2f} | {:4.2f} | {:4.2f} | {:4.2f} | {:4.2f}\".format(*individual_scores), end=\"\")\n",
    "                                                                                                                                        \n",
    "        if i_episode % 10 == 0:\n",
    "            chkpntname = \"checkpoints/actor_chkpnt{}.pth\".format(i_episode)\n",
    "            torch.save(agency.fast_actor.state_dict(), chkpntname)  \n",
    "            chkpntname = \"checkpoints/critic_chkpnt{}.pth\".format(i_episode)\n",
    "            torch.save(agency.fast_critic.state_dict(), chkpntname) \n",
    "            print(\"\\rEpisode {:4d} | Score: {:8.2f} | Actor Loss: {:8.2f} | Critic Loss: {:8.2f} | Average: {:5d} Steps in {:5.3f} sec | Memory Buffer:{:7d} into cycle {:3d}\".format(\n",
    "                                        i_episode, \n",
    "                                        np.mean(scores_window), np.mean(actor_loss), np.mean(critic_loss),\n",
    "                                        int(np.round(np.mean(episode_lengths))), np.mean(episode_times),\n",
    "                                        cycle_steps, buffer_cycle))\n",
    "        #print(\"\\r{:4.2f} | {:4.2f} | {:4.2f} | {:4.2f} | {:4.2f} | {:4.2f} | {:4.2f} | {:4.2f} | {:4.2f} | {:4.2f} | {:4.2f} | {:4.2f} | {:4.2f} | {:4.2f} | {:4.2f} | {:4.2f} | {:4.2f} | {:4.2f} | {:4.2f} | {:4.2f}\".format(*individual_scores))\n",
    "        \n",
    "        if np.mean(scores_window)>=hiscore:\n",
    "            print('\\nEnvironment solved in {:d} episodes!\\tAverage Score: {:5.2f}'.format(i_episode-100, np.mean(scores_window)))\n",
    "            torch.save(agency.fast_actor.state_dict(), 'checkpoints/actor_slvdpnt.pth')\n",
    "            torch.save(agency.fast_critic.state_dict(), 'checkpoints/critic_slvdpnt.pth')\n",
    "            break\n",
    "            \n",
    "    t_time = time.time() - start\n",
    "    print(\"Total time: {:3d} minutes {:4.2f} seconds \\tAvg. Episode time: {:5.3f} seconds \\tAvg. Episode steps: {:5.3f}\".format(int(\n",
    "            t_time//60),\n",
    "            t_time%60,\n",
    "            t_time/i_episode,\n",
    "            agency.steps/i_episode))\n",
    "    \n",
    "    return scores, episode_lengths, episode_times, action_steps, noise_steps, actor_loss, critic_loss"
   ]
  },
  {
   "cell_type": "code",
   "execution_count": 21,
   "metadata": {
    "collapsed": true,
    "jupyter": {
     "outputs_hidden": true
    },
    "tags": []
   },
   "outputs": [
    {
     "name": "stdout",
     "output_type": "stream",
     "text": [
      "Episode   10 | Score:    14.83 | Actor Loss:    -2.31 | Critic Loss:     0.00 | Average: 400.0 Steps in 5.156 sec | Memory Buffer: 608000 into cycle   0\n",
      "Episode   20 | Score:    14.88 | Actor Loss:    -2.35 | Critic Loss:     0.00 | Average: 400.0 Steps in 5.200 sec | Memory Buffer: 688000 into cycle   0\n",
      "Total time:   1 minutes 44.01 seconds \tAvg. Episode time: 5.201 seconds \tAvg. Episode steps: 34400.000\n"
     ]
    }
   ],
   "source": [
    "\n",
    "scores, episode_lengths, episode_times, action_steps, noise_steps, actor_loss, critic_loss = train(env, new_agency, n_episodes=20, max_t=400, hiscore=33)"
   ]
  },
  {
   "cell_type": "code",
   "execution_count": 30,
   "metadata": {
    "tags": []
   },
   "outputs": [
    {
     "name": "stdout",
     "output_type": "stream",
     "text": [
      "### Episodes: 200\tTime Limit: 1001.00 ###\n",
      "Episode   10 | Score:    20.84 | Actor Loss:    -1.07 | Critic Loss:     0.00 | Average: 1001.0 Steps in 14.860 sec | Memory Buffer: 200200 into cycle   0\n",
      "Episode   20 | Score:    29.62 | Actor Loss:    -1.26 | Critic Loss:     0.00 | Average: 1001.0 Steps in 15.661 sec | Memory Buffer: 400400 into cycle   0\n",
      "Episode   30 | Score:    32.58 | Actor Loss:    -1.44 | Critic Loss:     0.00 | Average: 1001.0 Steps in 16.408 sec | Memory Buffer: 600600 into cycle   0\n",
      "Episode   33 | Score:    38.15 | Actor Loss:    -2.04 | Critic Loss:     0.00 | Average: 1001 Steps in 18.180 sec | Memory Buffer: 660660 into cycle   0\n",
      "Environment solved in -67 episodes!\tAverage Score: 33.09\n",
      "Total time:   9 minutes 7.58 seconds \tAvg. Episode time: 16.593 seconds \tAvg. Episode steps: 20020.000\n"
     ]
    }
   ],
   "source": [
    "############### import and Train with loss and noise collected\n",
    "n_episodes=200\n",
    "max_t=1001\n",
    "print('\\r### Episodes: {}\\tTime Limit: {:.2f} ###'.format(n_episodes, max_t))\n",
    "new_scores, new_els, new_ets, new_as, new_ns, new_al, new_cl = train(env, new_agency, n_episodes, max_t, hiscore=33)\n",
    "try:\n",
    "    scores += new_scores ; episode_lengths += new_els ; episode_times += new_ets ; action_steps += new_as ; noise_steps+=new_ns ; actor_loss += new_al ; critic_loss += new_cl\n",
    "except:\n",
    "    scores = new_scores ; episode_lengths = new_els ; episode_times = new_ets ; action_steps = new_as ; noise_steps = new_ns ; actor_loss = new_al ; critic_loss = new_cl"
   ]
  },
  {
   "cell_type": "code",
   "execution_count": 34,
   "metadata": {},
   "outputs": [
    {
     "data": {
      "text/plain": [
       "(array([[-0.10315025, -0.11538596,  0.24034703, -0.40579664],\n",
       "        [ 0.68717949,  0.36316028, -0.25292701,  0.92996039],\n",
       "        [-0.20207494, -0.23506958,  0.11658915, -0.15447941],\n",
       "        [-0.27374019,  0.07822219,  0.07304374,  0.31153692],\n",
       "        [ 0.31771925, -1.04301392,  0.01273255, -0.03675583],\n",
       "        [-0.204526  , -0.03359422,  0.2028703 , -0.55562252],\n",
       "        [ 0.11545115, -0.06138617,  0.49934915, -0.35176294],\n",
       "        [-0.41407389, -0.22499499,  0.0461911 ,  0.13429254],\n",
       "        [-0.48284497,  0.13496894,  0.35822824, -0.06251971],\n",
       "        [ 0.34178109,  0.70259053,  0.13196168,  0.17633476],\n",
       "        [ 0.23219802,  0.00435628, -0.18387529, -0.07305168],\n",
       "        [ 0.29572118, -0.81703505, -0.3140536 ,  0.3438374 ],\n",
       "        [-0.49099325, -0.89312001,  0.34397768,  0.4906701 ],\n",
       "        [-0.10267421,  0.4316444 ,  0.26733916, -0.70209248],\n",
       "        [-0.66111101,  0.45922269,  0.06497996, -0.65953411],\n",
       "        [-0.19146905, -0.23959989, -0.21589022,  0.11882251],\n",
       "        [ 0.15474411, -0.15080087, -1.00924234,  0.31594614],\n",
       "        [ 0.45534323,  0.28709794, -0.0328477 , -0.56214865],\n",
       "        [-0.00421085, -0.63757744, -1.05081732, -0.27256817],\n",
       "        [-0.91245407,  0.06730105, -0.14750456,  0.19811808]]),\n",
       " array([[ 0.38661218, -0.95719826, -0.7415518 , -0.10499944],\n",
       "        [ 0.9999107 , -0.38343775, -0.9957032 , -0.39072406],\n",
       "        [-0.99876016,  0.99419624, -0.85337865,  0.31404746],\n",
       "        [ 0.9932695 , -0.8033514 , -0.21942312,  0.87282866],\n",
       "        [-0.04284666,  0.99967617,  0.59536624,  0.57851976],\n",
       "        [ 0.6819044 ,  0.82100636, -0.7562691 ,  0.61377466],\n",
       "        [-0.9931294 ,  0.8712983 , -0.45128477,  0.3715112 ],\n",
       "        [ 0.92722404,  0.4927353 , -0.7722535 , -0.19152   ],\n",
       "        [ 0.91069317, -0.743565  , -0.05387217, -0.16360693],\n",
       "        [-0.3764977 ,  0.50284225,  0.95356625, -0.78811353],\n",
       "        [-0.9042089 , -0.13589081,  0.09258933, -0.05824799],\n",
       "        [ 0.99921066,  0.12855336,  0.83564913, -0.79276645],\n",
       "        [ 0.91004705,  0.6919297 , -0.7001555 , -0.29551953],\n",
       "        [-0.9611663 , -0.5376354 , -0.9581673 ,  0.8887497 ],\n",
       "        [ 0.9728312 , -0.7010708 , -0.8450302 ,  0.84724176],\n",
       "        [ 0.9999991 ,  0.99731576,  0.82684726, -0.9990886 ],\n",
       "        [-0.94383633,  0.65563405,  0.5844224 ,  0.6187128 ],\n",
       "        [ 0.9666089 ,  0.9992753 ,  0.94544685,  0.94846326],\n",
       "        [ 0.9402113 , -0.9629326 ,  0.99546987,  0.47073573],\n",
       "        [ 0.9999998 , -0.1267461 ,  0.40525934,  0.4623783 ]],\n",
       "       dtype=float32),\n",
       " array([[ 0.28346192, -1.07258423, -0.50120479, -0.51079608],\n",
       "        [ 1.6870902 , -0.02027747, -1.24863023,  0.53923633],\n",
       "        [-1.2008351 ,  0.75912665, -0.73678951,  0.15956805],\n",
       "        [ 0.71952932, -0.72512921, -0.14637937,  1.18436559],\n",
       "        [ 0.27487259, -0.04333776,  0.60809879,  0.54176394],\n",
       "        [ 0.47737838,  0.78741214, -0.55339879,  0.05815214],\n",
       "        [-0.87767822,  0.80991214,  0.04806438,  0.01974825],\n",
       "        [ 0.51315015,  0.2677403 , -0.72606242, -0.05722747],\n",
       "        [ 0.42784819, -0.60859608,  0.30435607, -0.22612663],\n",
       "        [-0.0347166 ,  1.20543277,  1.08552794, -0.61177877],\n",
       "        [-0.67201088, -0.13153453, -0.09128596, -0.13129968],\n",
       "        [ 1.29493183, -0.68848169,  0.52159553, -0.44892905],\n",
       "        [ 0.4190538 , -0.20119031, -0.35617782,  0.19515057],\n",
       "        [-1.06384053, -0.10599098, -0.69082815,  0.18665723],\n",
       "        [ 0.31172018, -0.24184809, -0.78005023,  0.18770765],\n",
       "        [ 0.80853006,  0.75771587,  0.61095704, -0.88026607],\n",
       "        [-0.78909223,  0.50483317, -0.42481993,  0.93465892],\n",
       "        [ 1.42195211,  1.28637327,  0.91259915,  0.38631461],\n",
       "        [ 0.93600045, -1.60051003, -0.05534745,  0.19816756],\n",
       "        [ 0.08754575, -0.05944505,  0.25775478,  0.66049637]]))"
      ]
     },
     "execution_count": 34,
     "metadata": {},
     "output_type": "execute_result"
    }
   ],
   "source": [
    "noise_steps[-2], action_steps[-2], noise_steps[-2] + action_steps[-2]"
   ]
  },
  {
   "cell_type": "markdown",
   "metadata": {
    "tags": []
   },
   "source": [
    "### Change of setting"
   ]
  },
  {
   "cell_type": "code",
   "execution_count": null,
   "metadata": {
    "jupyter": {
     "source_hidden": true
    },
    "tags": []
   },
   "outputs": [],
   "source": [
    "def ddpg(n_episodes=500):\n",
    "    start = time.time()\n",
    "    episode_times = []\n",
    "    episode_lengths = []\n",
    "    scores_deque = deque(maxlen=100)\n",
    "    scores = []\n",
    "    agent_scores = []\n",
    "    for i_episode in (range(1, n_episodes+1)):\n",
    "        env_info = env.reset(train_mode=True)[brain_name]\n",
    "        state = env_info.vector_observations\n",
    "        agency.reset()\n",
    "        score = 0.\n",
    "        individual_scores = np.zeros(num_agents)\n",
    "        episteps = 1\n",
    "        epistart = time.time()\n",
    "        while True:\n",
    "            action = agency.act(state)      #action, noise = agency.act(state, return_noise=True)\n",
    "            env_info = env.step(action)[brain_name]\n",
    "            next_state = env_info.vector_observations\n",
    "            reward = env_info.rewards\n",
    "            done = env_info.local_done\n",
    "            agency.step(state, action, reward, next_state, done)\n",
    "            state = next_state\n",
    "            score += np.mean(reward)\n",
    "            individual_scores += reward\n",
    "            if np.any(done):\n",
    "                break \n",
    "            episteps+=1\n",
    "        episode_times.append(time.time()-epistart)\n",
    "        episode_lengths.append(episteps)\n",
    "        scores_deque.append(score)\n",
    "        scores.append(score)\n",
    "        agent_scores.append(individual_scores)\n",
    "        cycle_steps = agency.steps%ddpg_agent.BUFFER_SIZE\n",
    "        buffer_cycle = agency.steps//ddpg_agent.BUFFER_SIZE\n",
    "        \n",
    "        print('\\rEps{:5d}  Reward: {:8.2f}\\tAvg Reward: {:8.2f}\\tEps Time: {:6.3f} sec\\tBuffer Cycle: {:3d} rem {:7d}'.format(\n",
    "                i_episode, \n",
    "                score, \n",
    "                np.mean(scores_deque),\n",
    "                episode_times[-1],\n",
    "                buffer_cycle,\n",
    "                cycle_steps), end=\"\")\n",
    "\n",
    "        if i_episode % 20 == 0:\n",
    "            chkpntname = \"checkpoints/actor_training_chkpnt{:d}.pth\".format(i_episode)\n",
    "            torch.save(agency.actor_local.state_dict(), chkpntname)  \n",
    "            chkpntname = \"checkpoints/critic_training_chkpnt{:d}.pth\".format(i_episode)\n",
    "            torch.save(agency.critic_local.state_dict(), chkpntname)\n",
    "        \n",
    "        if i_episode % 10 == 0:\n",
    "            print('\\rEps{:5d}\\tReward: {:8.2f}\\tAvg Reward: {:8.2f}\\t Avg Eps Time: {:6.3f} sec\\tBuffer Cycle: {:3d} rem {:7d}'.format(\n",
    "                    i_episode,\n",
    "                    score,\n",
    "                    np.mean(scores_deque),\n",
    "                    np.mean(episode_times),\n",
    "                    buffer_cycle,\n",
    "                    cycle_steps))\n",
    "            print(\"{:4.2f} | {:4.2f} | {:4.2f} | {:4.2f} | {:4.2f} | {:4.2f} | {:4.2f} | {:4.2f} | {:4.2f} | {:4.2f} | {:4.2f} | {:4.2f} | {:4.2f} | {:4.2f} | {:4.2f} | {:4.2f} | {:4.2f} | {:4.2f} | {:4.2f} | {:4.2f}\".format(*individual_scores))\n",
    "\n",
    "        if np.mean(scores_deque)>=30:\n",
    "            print('\\nScore averaged over 100 episodes and 20 Agents stably above metric of 30.\\nEnvironment officially solved at episode {:d}!\\tAverage Reward: {:6.2f}'.format(\n",
    "                    i_episode-100, \n",
    "                    np.mean(scores_deque)))\n",
    "            torch.save(agency.actor_local.state_dict(), 'checkpoints/slvdpnt_actor.pth')\n",
    "            torch.save(agency.critic_local.state_dict(), 'checkpoints/slvdpnt_critic.pth')\n",
    "            break\n",
    "\n",
    "    torch.save(agency.actor_local.state_dict(), \"checkpoints/actor_trained.pth\")\n",
    "    torch.save(agency.critic_local.state_dict(), \"checkpoints/critic_trained.pth\") \n",
    "    print('\\nFINAL\\nEpisode{:5d}\\tReward: {:8.2f}\\tAverage Reward: {:8.2f}\\tBuffer Cycle: {:3d} rem {:7d}'.format(\n",
    "            i_episode,\n",
    "            score,\n",
    "            np.mean(scores_deque),\n",
    "            buffer_cycle,\n",
    "            cycle_steps))\n",
    "    \n",
    "    t_time = time.time() - start\n",
    "    print(\"Total time: {:3d} minutes {:4.2f} seconds \\t Avg. Episode time: {:5.3f} seconds \\t Avg. Steps per Episode: {:5.1f}\".format(\n",
    "           int(t_time//60),\n",
    "           t_time%60,\n",
    "           t_time/i_episode,\n",
    "           round(np.mean(episode_lengths))))\n",
    "    \n",
    "    return scores, agent_scores, episode_times"
   ]
  },
  {
   "cell_type": "code",
   "execution_count": null,
   "metadata": {
    "tags": []
   },
   "outputs": [],
   "source": [
    "### TRAIN AGENTS\n",
    "sc, ag, et = ddpg(n_episodes=40)\n",
    "try:\n",
    "    scores+=sc\n",
    "    agent_scores+=ag\n",
    "    episode_times+=et\n",
    "except:\n",
    "    scores=sc\n",
    "    agent_scores=ag\n",
    "    episode_times=et\n"
   ]
  },
  {
   "cell_type": "markdown",
   "metadata": {
    "jupyter": {
     "source_hidden": true
    },
    "tags": []
   },
   "source": [
    "#### Best Config\n",
    "\n",
    "`CriticA(fcs1_units=512, fc2_units=128)`\n",
    "\n",
    "* BUFFER_SIZE = int(5.12e5)  # replay buffer size\n",
    "* BATCH_SIZE = 128        # minibatch size\n",
    "* GAMMA = 0.99            # discount factor\n",
    "* TAU = 1e-3              # for soft update of target parameters\n",
    "* LR_ACTOR = 1e-4         # learning rate of the actor \n",
    "* LR_CRITIC = 1e-4        # learning rate of the critic\n",
    "* WEIGHT_DECAY = 0.       # L2 weight decay\n",
    "\n",
    "> * Episode   10\tReward:   1.00\tAverage Reward:   0.61\tBuffer Cycle:  0 mod 200200\n",
    "> * Episode   20\tReward:   4.11\tAverage Reward:   1.58\tBuffer Cycle:  0 mod 400400\n",
    "> * Episode   30\tReward:   8.67\tAverage Reward:   3.15\tBuffer Cycle:  1 mod  88600\n",
    "> * Episode   40\tReward:  17.64\tAverage Reward:   5.44\tBuffer Cycle:  1 mod 288800\n",
    "> * Episode   50\tReward:  28.35\tAverage Reward:   8.99\tBuffer Cycle:  1 mod 489000\n",
    "> * Episode   60\tReward:  33.21\tAverage Reward:  12.81\tBuffer Cycle:  2 mod 177200\n",
    "> * Episode   70\tReward:  35.12\tAverage Reward:  15.97\tBuffer Cycle:  2 mod 377400\n",
    "> * Episode   80\tReward:  35.23\tAverage Reward:  18.44\tBuffer Cycle:  3 mod  65600\n",
    "> * Episode   90\tReward:  36.47\tAverage Reward:  20.42\tBuffer Cycle:  3 mod 265800\n",
    "> * Episode  100\tReward:  36.46\tAverage Reward:  21.97\tBuffer Cycle:  3 mod 466000\n",
    "> * Episode  110\tReward:  36.44\tAverage Reward:  25.54\tBuffer Cycle:  4 mod 154200\n",
    "> * Episode  120\tReward:  35.09\tAverage Reward:  28.90\tBuffer Cycle:  4 mod 354400\n",
    "> * Episode  124\tReward:  36.91\tAverage Reward:  30.16\tBuffer Cycle:  4 mod 434480\n",
    "\n",
    "**Solved**\n",
    "\n",
    "Environment officially solved at episode 24\tAverage Reward:  30.16\n",
    "\n",
    "---\n",
    "\n",
    "Eps   10\tReward:    15.95\tAvg Reward:    24.20\t Avg Eps Time: 10.485 sec\tBuffer Cycle:   0 mod   10010\n",
    "Eps   20\tReward:    22.38\tAvg Reward:    21.96\t Avg Eps Time: 10.786 sec\tBuffer Cycle:   0 mod   20020\n",
    "Eps   30\tReward:    18.91\tAvg Reward:    21.33\t Avg Eps Time: 10.768 sec\tBuffer Cycle:   0 mod   30030\n",
    "Eps   40\tReward:    27.72\tAvg Reward:    22.27\t Avg Eps Time: 10.752 sec\tBuffer Cycle:   0 mod   40040\n",
    "Eps   50\tReward:    28.59\tAvg Reward:    22.33\t Avg Eps Time: 10.750 sec\tBuffer Cycle:   0 mod   50050\n",
    "Eps   60\tReward:    20.83\tAvg Reward:    21.82\t Avg Eps Time: 10.794 sec\tBuffer Cycle:   0 mod   60060\n",
    "Eps   70\tReward:    20.66\tAvg Reward:    21.67\t Avg Eps Time: 10.781 sec\tBuffer Cycle:   0 mod   70070\n",
    "Eps   80\tReward:    30.70\tAvg Reward:    22.39\t Avg Eps Time: 10.777 sec\tBuffer Cycle:   0 mod   80080\n",
    "Eps   90\tReward:    26.80\tAvg Reward:    22.80\t Avg Eps Time: 10.781 sec\tBuffer Cycle:   0 mod   90090\n",
    "Eps  100\tReward:    17.80\tAvg Reward:    22.86\t Avg Eps Time: 10.789 sec\tBuffer Cycle:   0 mod  100100\n",
    "Eps  110\tReward:    23.14\tAvg Reward:    22.99\t Avg Eps Time: 10.840 sec\tBuffer Cycle:   0 mod  110110\n",
    "Eps  120\tReward:    27.44\tAvg Reward:    23.50\t Avg Eps Time: 10.841 sec\tBuffer Cycle:   0 mod  120120\n",
    "Eps  130\tReward:    17.93\tAvg Reward:    23.65\t Avg Eps Time: 10.844 sec\tBuffer Cycle:   0 mod  130130\n",
    "Eps  140\tReward:    16.29\tAvg Reward:    23.19\t Avg Eps Time: 10.869 sec\tBuffer Cycle:   0 mod  140140\n",
    "Eps  150\tReward:    19.08\tAvg Reward:    22.79\t Avg Eps Time: 10.874 sec\tBuffer Cycle:   0 mod  150150\n",
    "Eps  160\tReward:    26.10\tAvg Reward:    23.10\t Avg Eps Time: 10.883 sec\tBuffer Cycle:   0 mod  160160\n",
    "Eps  170\tReward:    29.94\tAvg Reward:    23.26\t Avg Eps Time: 10.891 sec\tBuffer Cycle:   0 mod  170170\n",
    "Eps  180\tReward:    18.89\tAvg Reward:    22.73\t Avg Eps Time: 10.899 sec\tBuffer Cycle:   0 mod  180180\n",
    "Eps  190\tReward:    26.30\tAvg Reward:    22.30\t Avg Eps Time: 10.908 sec\tBuffer Cycle:   0 mod  190190\n",
    "Eps  200\tReward:    33.29\tAvg Reward:    22.80\t Avg Eps Time: 10.942 sec\tBuffer Cycle:   0 mod  200200\n",
    "Eps  210\tReward:    28.95\tAvg Reward:    22.81\t Avg Eps Time: 10.951 sec\tBuffer Cycle:   0 mod  210210\n",
    "Eps  220\tReward:    33.37\tAvg Reward:    22.99\t Avg Eps Time: 10.975 sec\tBuffer Cycle:   0 mod  220220\n",
    "Eps  230\tReward:    22.64\tAvg Reward:    23.86\t Avg Eps Time: 10.983 sec\tBuffer Cycle:   0 mod  230230\n",
    "Eps  240\tReward:    31.39\tAvg Reward:    25.10\t Avg Eps Time: 10.998 sec\tBuffer Cycle:   0 mod  240240\n",
    "Eps  250\tReward:    32.45\tAvg Reward:    26.21\t Avg Eps Time: 11.007 sec\tBuffer Cycle:   0 mod  250250\n",
    "Eps  260\tReward:    23.49\tAvg Reward:    26.93\t Avg Eps Time: 11.019 sec\tBuffer Cycle:   0 mod  260260\n",
    "Eps  270\tReward:    21.00\tAvg Reward:    27.56\t Avg Eps Time: 11.030 sec\tBuffer Cycle:   0 mod  270270\n",
    "Eps  280\tReward:    30.22\tAvg Reward:    28.44\t Avg Eps Time: 11.050 sec\tBuffer Cycle:   0 mod  280280\n",
    "Eps  290\tReward:    31.85\tAvg Reward:    29.35\t Avg Eps Time: 11.070 sec\tBuffer Cycle:   0 mod  290290\n",
    "Eps  300\tReward:    34.63\tAvg Reward:    29.40\t Avg Eps Time: 11.088 sec\tBuffer Cycle:   0 mod  300300\n",
    "Eps  309\tReward:    36.09\tAvg Reward:    30.10\tEps Time: 11.354 sec\tBuffer Cycle:   0 mod  309309\n",
    "Score averaged over 100 episodes and 1 Agent stably above metric of 30.\n",
    "Environment officially solved at episode 209!\tAverage Reward:  30.10\n",
    "\n",
    "FINAL\n",
    "Episode  309\tReward:    36.09\tAverage Reward:    30.10\tBuffer Cycle:   0 mod  309309\n",
    "Total time:  57 minutes 9.14 seconds \t Avg. Episode time: 11.098 seconds \t Avg. Steps per Episode: 1001.0"
   ]
  },
  {
   "cell_type": "markdown",
   "metadata": {
    "tags": []
   },
   "source": [
    "##### Restart"
   ]
  },
  {
   "cell_type": "code",
   "execution_count": null,
   "metadata": {},
   "outputs": [],
   "source": [
    "#torch.save(agency.actor_local.state_dict(), 'trained_actor_1.pth')\n",
    "#torch.save(agency.critic_local.state_dict(), 'trained_critic_1.pth')"
   ]
  },
  {
   "cell_type": "code",
   "execution_count": null,
   "metadata": {},
   "outputs": [],
   "source": [
    "try: \n",
    "    env.close()\n",
    "    print(\"Closed the active environment.\")\n",
    "except:\n",
    "    print(\"No active environment detected.\")"
   ]
  },
  {
   "cell_type": "code",
   "execution_count": null,
   "metadata": {},
   "outputs": [],
   "source": [
    "if True:\n",
    "    # For Environment with ONE Agent:\n",
    "    one_env = UnityEnvironment(file_name='../data/Reacher1_Win/Reacher.exe',   # 'UnityReacher20\\Reacher.exe',  #\n",
    "                           worker_id=10, \n",
    "                           seed=SEED, \n",
    "                           no_graphics=False)\n",
    "\n",
    "    # get the default brain\n",
    "    one_brain_name = one_env.brain_names[0]\n",
    "    one_brain = one_env.brains[one_brain_name]\n",
    "\n",
    "    # reset the environment\n",
    "    one_env_info = one_env.reset(train_mode=True)[one_brain_name]\n",
    "\n",
    "    # size of each action\n",
    "    one_action_size = one_brain.vector_action_space_size\n",
    "    print('Size of each action:', one_action_size)\n",
    "\n",
    "    # examine the state space \n",
    "    one_state = one_env_info.vector_observations\n",
    "    one_state_size = one_state.shape[1]\n",
    "    print('There are {} agents. Each observes a state with length: {}'.format(one_state.shape[0], one_state_size))\n"
   ]
  },
  {
   "cell_type": "markdown",
   "metadata": {
    "tags": []
   },
   "source": [
    "#### Results"
   ]
  },
  {
   "cell_type": "code",
   "execution_count": 31,
   "metadata": {
    "tags": []
   },
   "outputs": [
    {
     "ename": "NameError",
     "evalue": "name 'agent_scores' is not defined",
     "output_type": "error",
     "traceback": [
      "\u001b[1;31m---------------------------------------------------------------------------\u001b[0m",
      "\u001b[1;31mNameError\u001b[0m                                 Traceback (most recent call last)",
      "Cell \u001b[1;32mIn[31], line 5\u001b[0m\n\u001b[0;32m      3\u001b[0m ax\u001b[38;5;241m.\u001b[39mplot(np\u001b[38;5;241m.\u001b[39marange(\u001b[38;5;241m1\u001b[39m, \u001b[38;5;28mlen\u001b[39m(scores)\u001b[38;5;241m+\u001b[39m\u001b[38;5;241m1\u001b[39m), scores, c\u001b[38;5;241m=\u001b[39m\u001b[38;5;124m'\u001b[39m\u001b[38;5;124m#000\u001b[39m\u001b[38;5;124m'\u001b[39m, alpha\u001b[38;5;241m=\u001b[39m\u001b[38;5;241m0.25\u001b[39m, linewidth\u001b[38;5;241m=\u001b[39m\u001b[38;5;241m2.0\u001b[39m, label\u001b[38;5;241m=\u001b[39m\u001b[38;5;124m'\u001b[39m\u001b[38;5;124mMean Rewards for 20 Agents\u001b[39m\u001b[38;5;124m'\u001b[39m)\n\u001b[0;32m      4\u001b[0m \u001b[38;5;28;01mfor\u001b[39;00m i \u001b[38;5;129;01min\u001b[39;00m \u001b[38;5;28mrange\u001b[39m(\u001b[38;5;241m1\u001b[39m,\u001b[38;5;241m20\u001b[39m):\n\u001b[1;32m----> 5\u001b[0m     ax\u001b[38;5;241m.\u001b[39mplot(np\u001b[38;5;241m.\u001b[39marange(\u001b[38;5;241m1\u001b[39m, \u001b[38;5;28mlen\u001b[39m(\u001b[43magent_scores\u001b[49m)\u001b[38;5;241m+\u001b[39m\u001b[38;5;241m1\u001b[39m), [s[i] \u001b[38;5;28;01mfor\u001b[39;00m s \u001b[38;5;129;01min\u001b[39;00m agent_scores], alpha\u001b[38;5;241m=\u001b[39m\u001b[38;5;241m0.5\u001b[39m, linewidth\u001b[38;5;241m=\u001b[39m\u001b[38;5;241m0.8\u001b[39m)\n\u001b[0;32m      6\u001b[0m ax\u001b[38;5;241m.\u001b[39mplot(np\u001b[38;5;241m.\u001b[39marange(\u001b[38;5;241m1\u001b[39m, \u001b[38;5;28mlen\u001b[39m(scores)\u001b[38;5;241m+\u001b[39m\u001b[38;5;241m1\u001b[39m), scores, c\u001b[38;5;241m=\u001b[39m\u001b[38;5;124m'\u001b[39m\u001b[38;5;124m#000\u001b[39m\u001b[38;5;124m'\u001b[39m, alpha\u001b[38;5;241m=\u001b[39m\u001b[38;5;241m1.0\u001b[39m, linewidth\u001b[38;5;241m=\u001b[39m\u001b[38;5;241m0.75\u001b[39m)\n\u001b[0;32m      7\u001b[0m plt\u001b[38;5;241m.\u001b[39mlegend()\n",
      "\u001b[1;31mNameError\u001b[0m: name 'agent_scores' is not defined"
     ]
    },
    {
     "data": {
      "image/png": "[encoded data removed]",
      "text/plain": [
       "<Figure size 1600x500 with 1 Axes>"
      ]
     },
     "metadata": {},
     "output_type": "display_data"
    }
   ],
   "source": [
    "## Learning Curve\n",
    "scores\n",
    "fig, ax = plt.subplots(figsize=(16, 5))\n",
    "ax.plot(np.arange(1, len(scores)+1), scores, c='#000', alpha=0.25, linewidth=2.0, label='Mean Rewards for 20 Agents')\n",
    "for i in range(1,20):\n",
    "    ax.plot(np.arange(1, len(agent_scores)+1), [s[i] for s in agent_scores], alpha=0.5, linewidth=0.8)\n",
    "ax.plot(np.arange(1, len(scores)+1), scores, c='#000', alpha=1.0, linewidth=0.75)\n",
    "plt.legend()\n",
    "ax.set_xlabel('Episode #', fontsize=14)\n",
    "ax.set_ylabel('Reward', fontsize=14)\n",
    "ax.set_title('Reacher_20 Environment solved (30+ avg)', fontsize=14)\n",
    "plt.show()"
   ]
  },
  {
   "cell_type": "code",
   "execution_count": 32,
   "metadata": {
    "collapsed": true,
    "jupyter": {
     "outputs_hidden": true
    },
    "tags": []
   },
   "outputs": [
    {
     "ename": "NameError",
     "evalue": "name 'actions' is not defined",
     "output_type": "error",
     "traceback": [
      "\u001b[1;31m---------------------------------------------------------------------------\u001b[0m",
      "\u001b[1;31mNameError\u001b[0m                                 Traceback (most recent call last)",
      "Cell \u001b[1;32mIn[32], line 2\u001b[0m\n\u001b[0;32m      1\u001b[0m \u001b[38;5;66;03m# Actions + noises curves\u001b[39;00m\n\u001b[1;32m----> 2\u001b[0m \u001b[43mactions\u001b[49m\n\u001b[0;32m      3\u001b[0m fig, ax \u001b[38;5;241m=\u001b[39m plt\u001b[38;5;241m.\u001b[39msubplots(figsize\u001b[38;5;241m=\u001b[39m(\u001b[38;5;241m16\u001b[39m, \u001b[38;5;241m8\u001b[39m))\n\u001b[0;32m      4\u001b[0m ax\u001b[38;5;241m.\u001b[39mplot(np\u001b[38;5;241m.\u001b[39marange(\u001b[38;5;241m1\u001b[39m, \u001b[38;5;28mlen\u001b[39m(scores)\u001b[38;5;241m+\u001b[39m\u001b[38;5;241m1\u001b[39m), scores, color\u001b[38;5;241m=\u001b[39m\u001b[38;5;124m'\u001b[39m\u001b[38;5;124mr\u001b[39m\u001b[38;5;124m'\u001b[39m, label\u001b[38;5;241m=\u001b[39m\u001b[38;5;124m'\u001b[39m\u001b[38;5;124mMean Reward across 20 Agents\u001b[39m\u001b[38;5;124m'\u001b[39m)\n",
      "\u001b[1;31mNameError\u001b[0m: name 'actions' is not defined"
     ]
    }
   ],
   "source": [
    "# Actions + noises curves\n",
    "fig, ax = plt.subplots(figsize=(16, 8))\n",
    "ax.plot(np.arange(1, len(scores)+1), scores, color='r', label='Mean Reward across 20 Agents')\n",
    "for i in range(20):\n",
    "    ax.plot(np.arange(1, len(scores)+1), [s[i] for s in agent_scores], alpha=0.1)\n",
    "plt.legend()\n",
    "ax.set_xlabel('Episode #', fontsize=14)\n",
    "ax.set_ylabel('Reward', fontsize=14)\n",
    "ax.set_title('Unity Reacher Environment using DDPG', fontsize=16)\n",
    "plt.show()"
   ]
  },
  {
   "cell_type": "code",
   "execution_count": null,
   "metadata": {
    "tags": []
   },
   "outputs": [],
   "source": [
    "### Run some test runs...\n",
    "for _ in range(1):    \n",
    "    env_info = env.reset(train_mode=False)[brain_name]        # reset the environment   \n",
    "    tr_states = env_info.vector_observations                  # get the current state (for each agent)\n",
    "    tr_scores = np.zeros(num_agents)                          # initialize the score (for each agent)\n",
    "    while True:\n",
    "        tr_actions = agency.act(tr_states, add_noise=False)   # select an action (for each agent)\n",
    "        env_info = env.step(tr_actions)[brain_name]           # send all actions to tne environment\n",
    "        tr_next_states = env_info.vector_observations         # get next state (for each agent)\n",
    "        #tr_rewards = env_info.rewards                         # get reward (for each agent)\n",
    "        tr_dones = env_info.local_done                        # see if episode finished\n",
    "        tr_scores += env_info.rewards                         # update the score (for each agent)\n",
    "        tr_states = tr_next_states                            # roll over states to next time step\n",
    "        if np.any(tr_dones):                                  # exit loop if episode finished\n",
    "            print(np.round(tr_scores, 3), end='\\n')\n",
    "            break\n",
    "        print(np.round(tr_scores, 3), end='')        \n",
    "    print('Total score (averaged over {} agents) this episode: {:3.6f}'.format(num_agents, np.mean(tr_scores)))\n",
    "\n",
    "#env.close()"
   ]
  },
  {
   "cell_type": "code",
   "execution_count": null,
   "metadata": {
    "tags": []
   },
   "outputs": [],
   "source": [
    "agent_scores, scores"
   ]
  },
  {
   "cell_type": "markdown",
   "metadata": {},
   "source": [
    "When finished, you can close the environment."
   ]
  },
  {
   "cell_type": "code",
   "execution_count": null,
   "metadata": {
    "tags": []
   },
   "outputs": [],
   "source": [
    "env.close()"
   ]
  },
  {
   "cell_type": "markdown",
   "metadata": {
    "tags": []
   },
   "source": [
    "# Evaluation"
   ]
  },
  {
   "cell_type": "code",
   "execution_count": null,
   "metadata": {
    "tags": []
   },
   "outputs": [],
   "source": [
    "### Close and Restart\n",
    "try: \n",
    "    env.close()\n",
    "    print(\"Closed the active environment.\")\n",
    "except:\n",
    "    print(\"No active environment detected.\")\n",
    "    \n",
    "if True: # restart_bool\n",
    "    from unityagents import UnityEnvironment\n",
    "    import numpy as np\n",
    "    import random\n",
    "    import torch\n",
    "    from collections import deque\n",
    "    import matplotlib.pyplot as plt\n",
    "    import ddpg_agent\n",
    "    from ddpg_agent import Agent as Agency\n",
    "    from ddpg_agent import SEED, BUFFER_SIZE, BATCH_SIZE, device\n",
    "    print(\"Using device:\", device)\n",
    "    %matplotlib inline    \n",
    "    \n",
    "print(\"Starting new Reacher environment...\")    \n",
    "#env = UnityEnvironment(file_name='UnityReacher20\\Reacher.exe', worker_id=111, seed=SEED, no_graphics=False)\n",
    "env = UnityEnvironment(file_name='../data/Reacher1_Win/Reacher.exe', worker_id=1, seed=SEED, no_graphics=False)\n",
    "\n",
    "# get the default brain\n",
    "brain_name = env.brain_names[0]\n",
    "brain = env.brains[brain_name]\n",
    "\n",
    "# reset the environment\n",
    "env_info = env.reset(train_mode=True)[brain_name]\n",
    "\n",
    "# number of agents\n",
    "num_agents = len(env_info.agents)\n",
    "print('Number of agents:', num_agents)\n",
    "\n",
    "# size of each action\n",
    "action_size = brain.vector_action_space_size\n",
    "print('Size of each action:', action_size)\n",
    "\n",
    "# examine the state space \n",
    "states = env_info.vector_observations\n",
    "state_size = states.shape[1]\n",
    "print('There are {} agents. Each observes a state with length: {}'.format(states.shape[0], state_size))\n",
    "#print('The state for the first agent looks like:', states[0])"
   ]
  },
  {
   "cell_type": "code",
   "execution_count": null,
   "metadata": {
    "tags": []
   },
   "outputs": [],
   "source": [
    "#!dir checkpoints\n",
    "chkpnt=100\n",
    "chkpnt_name = \"checkpoints/actor_training_chkpnt{}.pth\".format(chkpnt)\n",
    "agent.actor_local.load_state_dict(torch.load(chkpnt_name))\n",
    "chkpnt_name = \"checkpoints/critic_training_chkpnt{}.pth\".format(chkpnt)\n",
    "agent.critic_local.load_state_dict(torch.load(chkpnt_name))"
   ]
  },
  {
   "cell_type": "code",
   "execution_count": null,
   "metadata": {
    "tags": []
   },
   "outputs": [],
   "source": [
    "for chkpnt in [20,80,120]:  #range(100,1000,300):\n",
    "#for agent in enumerate(agents): actor_training_chkpnt40.pth   \n",
    "    chkpnt_name = \"checkpoints/actor_training_chkpnt{}.pth\".format(chkpnt)\n",
    "    agent.actor_local.load_state_dict(torch.load(chkpnt_name))\n",
    "    chkpnt_name = \"checkpoints/critic_training_chkpnt{}.pth\".format(chkpnt)\n",
    "    agent.critic_local.load_state_dict(torch.load(chkpnt_name))\n",
    "    for run in range(2):\n",
    "        score = 0\n",
    "        env_info = env.reset(train_mode=False)[brain_name]      # reset the environment    \n",
    "        states = env_info.vector_observations                  # get the current state (for each agent)\n",
    "        scores = np.zeros(num_agents)                          # initialize the score (for each agent)\n",
    "        while True:\n",
    "            actions = agent.act(states, add_noise=False)      # select an action (for each agent)\n",
    "            env_info = env.step(actions)[brain_name]           # send all actions to tne environment\n",
    "            next_states = env_info.vector_observations         # get next state (for each agent)\n",
    "            rewards = env_info.rewards                         # get reward (for each agent)\n",
    "            dones = env_info.local_done                        # see if episode finished\n",
    "            scores += env_info.rewards                         # update the score (for each agent)\n",
    "            states = next_states                               # roll over states to next time step\n",
    "            if np.any(dones):                                  # exit loop if episode finished\n",
    "                break\n",
    "        print(run+1, scores)"
   ]
  },
  {
   "cell_type": "code",
   "execution_count": null,
   "metadata": {
    "tags": []
   },
   "outputs": [],
   "source": [
    "actor_local_params = [p for p in agent.actor_local.parameters()]\n",
    "actor_target_params = [p for p in agent.actor_target.parameters()]\n",
    "#print(actor_local_params[-1])\n",
    "#print(actor_target_params[-1])\n",
    "for x, y in zip(agent.actor_local.parameters(), agent.actor_target.parameters()):\n",
    "    print(\"Shape\", x.shape, \"  Equal\", sum(x==y))"
   ]
  },
  {
   "cell_type": "code",
   "execution_count": null,
   "metadata": {},
   "outputs": [],
   "source": [
    "env_info = env.reset(train_mode=False)[brain_name]      # reset the environment    \n",
    "states = env_info.vector_observations                  # get the current state (for each agent)\n",
    "scores = np.zeros(num_agents)                          # initialize the score (for each agent)\n",
    "for run in range(5):\n",
    "    actions = agent.act(states, add_noise=False)      # select an action (for each agent)\n",
    "    env_info = env.step(actions)[brain_name]           # send all actions to tne environment\n",
    "    next_states = env_info.vector_observations         # get next state (for each agent)\n",
    "    rewards = env_info.rewards                         # get reward (for each agent)\n",
    "    dones = env_info.local_done                        # see if episode finished\n",
    "    scores += env_info.rewards                         # update the score (for each agent)\n",
    "    states = next_states                               # roll over states to next time step\n",
    "    if np.any(dones):                                  # exit loop if episode finished\n",
    "        break\n",
    "    print(run+1, scores)"
   ]
  },
  {
   "cell_type": "markdown",
   "metadata": {
    "tags": []
   },
   "source": [
    "#### Post-Training Trials"
   ]
  },
  {
   "cell_type": "code",
   "execution_count": null,
   "metadata": {
    "tags": []
   },
   "outputs": [],
   "source": [
    "#### Configuration One WITHOUT NOISE ####\n",
    "## Check Point: 40\n",
    "## Add Noise: False\n",
    "\n",
    "agent = Agency(state_size=state_size, \n",
    "                action_size=action_size, \n",
    "                num_agents=1, \n",
    "                random_seed=SEED,\n",
    "                actor_units_in=256,\n",
    "                actor_units_hid=128,\n",
    "                critic_units_in=512,\n",
    "                critic_units_hid=128, \n",
    "                actor_filename='checkpoints/actor_training_chkpnt40.pth', \n",
    "                critic_filename='checkpoints/critic_training_chkpnt40.pth')\n",
    "\n",
    "env_info = env.reset(train_mode=False)[brain_name]      # reset the environment    \n",
    "states = env_info.vector_observations                  # get the current state (for each agent)\n",
    "scores = np.zeros(num_agents)                          # initialize the score (for each agent)\n",
    "for _ in range(3):\n",
    "    actions = agent.act(states, add_noise=False)      # select an action (for each agent)\n",
    "    env_info = env.step(actions)[brain_name]           # send all actions to tne environment\n",
    "    next_states = env_info.vector_observations         # get next state (for each agent)\n",
    "    rewards = env_info.rewards                         # get reward (for each agent)\n",
    "    dones = env_info.local_done                        # see if episode finished\n",
    "    scores += env_info.rewards                         # update the score (for each agent)\n",
    "    states = next_states                               # roll over states to next time step\n",
    "    if np.any(dones):                                  # exit loop if episode finished\n",
    "        break\n",
    "print('Total score (averaged over agents) this episode: {}'.format(np.mean(scores)))"
   ]
  },
  {
   "cell_type": "code",
   "execution_count": null,
   "metadata": {
    "tags": []
   },
   "outputs": [],
   "source": [
    "#### Configuration Two WITH NOISE ####\n",
    "## Check Point: 80\n",
    "## Add Noise: True\n",
    "\n",
    "agency = Agency(state_size=state_size, \n",
    "                action_size=action_size, \n",
    "                num_agents=num_agents, \n",
    "                random_seed=SEED,\n",
    "                actor_units_in=256,\n",
    "                actor_units_hid=128,\n",
    "                critic_units_in=512,\n",
    "                critic_units_hid=128, \n",
    "                actor_filename='checkpoints/actor_training_chkpnt80.pth', \n",
    "                critic_filename='checkpoints/critic_training_chkpnt80.pth')\n",
    "\n",
    "env_info = env.reset(train_mode=False)[brain_name]     # reset the environment    \n",
    "states = env_info.vector_observations                  # get the current state (for each agent)\n",
    "scores = np.zeros(num_agents)                          # initialize the score (for each agent)\n",
    "for _ in range(3):\n",
    "    actions = agency.act(states, add_noise=True)       # select an action (for each agent)\n",
    "    env_info = env.step(actions)[brain_name]           # send all actions to tne environment\n",
    "    next_states = env_info.vector_observations         # get next state (for each agent)\n",
    "    rewards = env_info.rewards                         # get reward (for each agent)\n",
    "    dones = env_info.local_done                        # see if episode finished\n",
    "    scores += env_info.rewards                         # update the score (for each agent)\n",
    "    states = next_states                               # roll over states to next time step\n",
    "    if np.any(dones):                                  # exit loop if episode finished\n",
    "        break\n",
    "print('Total score (averaged over agents) this episode: {}'.format(np.mean(scores)))"
   ]
  },
  {
   "cell_type": "markdown",
   "metadata": {
    "jp-MarkdownHeadingCollapsed": true,
    "tags": []
   },
   "source": [
    "### WANDB"
   ]
  },
  {
   "cell_type": "code",
   "execution_count": null,
   "metadata": {},
   "outputs": [],
   "source": [
    "import wandb\n",
    "wandb.login()\n",
    "\n",
    "# start a new wandb run to track this script\n",
    "wandb.init(\n",
    "    # set the wandb project where this run will be logged\n",
    "    project=\"reacher v1\",\n",
    "    # track hyperparameters and run metadata\n",
    "    config={\n",
    "    \"learning_rate\": 0.02,\n",
    "    \"critic_model\": \"Critic\",\n",
    "    \"actor_model\": \"Actor\",\n",
    "    \"episodes\": 1000,\n",
    "    \"max_t\": 1000\n",
    "    }\n",
    ")\n",
    "\n",
    "# simulate training\n",
    "epochs = 10\n",
    "offset = random.random() / 5\n",
    "for epoch in range(2, epochs):\n",
    "    acc = 1 - 2 ** -epoch - random.random() / epoch - offset\n",
    "    loss = 2 ** -epoch + random.random() / epoch + offset\n",
    "    \n",
    "    # log metrics to wandb\n",
    "    wandb.log({\"acc\": acc, \"loss\": loss})\n",
    "    \n",
    "# [optional] finish the wandb run, necessary in notebooks\n",
    "wandb.finish()"
   ]
  },
  {
   "cell_type": "markdown",
   "metadata": {
    "jp-MarkdownHeadingCollapsed": true,
    "tags": []
   },
   "source": [
    "## Configuration X"
   ]
  },
  {
   "cell_type": "code",
   "execution_count": null,
   "metadata": {},
   "outputs": [],
   "source": [
    "env_info = env.reset(train_mode=False)[brain_name]     # reset the environment    \n",
    "states = env_info.vector_observations                  # get the current state (for each agent)\n",
    "scores = np.zeros(num_agents)                          # initialize the score (for each agent)\n",
    "while True:\n",
    "    actions = agent.act(states, add_noise=False)       # select an action (for each agent)\n",
    "    env_info = env.step(actions)[brain_name]           # send all actions to tne environment\n",
    "    next_states = env_info.vector_observations         # get next state (for each agent)\n",
    "    rewards = env_info.rewards                         # get reward (for each agent)\n",
    "    dones = env_info.local_done                        # see if episode finished\n",
    "    scores += env_info.rewards                         # update the score (for each agent)\n",
    "    states = next_states                               # roll over states to next time step\n",
    "    if np.any(dones):                                  # exit loop if episode finished\n",
    "        break\n",
    "print('Total score (averaged over agents) this episode: {}'.format(np.mean(scores)))"
   ]
  },
  {
   "cell_type": "markdown",
   "metadata": {},
   "source": [
    "## Close Env"
   ]
  },
  {
   "cell_type": "code",
   "execution_count": null,
   "metadata": {
    "scrolled": true
   },
   "outputs": [],
   "source": [
    "env.close()"
   ]
  }
 ],
 "metadata": {
  "kernelspec": {
   "display_name": "Python 3 (ipykernel)",
   "language": "python",
   "name": "python3"
  },
  "language_info": {
   "codemirror_mode": {
    "name": "ipython",
    "version": 3
   },
   "file_extension": ".py",
   "mimetype": "text/x-python",
   "name": "python",
   "nbconvert_exporter": "python",
   "pygments_lexer": "ipython3",
   "version": "3.9.0"
  },
  "toc-showtags": false
 },
 "nbformat": 4,
 "nbformat_minor": 4
}
