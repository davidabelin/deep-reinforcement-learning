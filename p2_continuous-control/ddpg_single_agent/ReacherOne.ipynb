{
 "cells": [
  {
   "cell_type": "markdown",
   "metadata": {},
   "source": [
    "## Import Necessary Modules"
   ]
  },
  {
   "cell_type": "code",
   "execution_count": 1,
   "metadata": {},
   "outputs": [],
   "source": [
    "#env.close()"
   ]
  },
  {
   "cell_type": "code",
   "execution_count": 2,
   "metadata": {
    "tags": []
   },
   "outputs": [
    {
     "name": "stdout",
     "output_type": "stream",
     "text": [
      "Using device: cuda:0\n"
     ]
    }
   ],
   "source": [
    "from unityagents import UnityEnvironment\n",
    "import numpy as np\n",
    "import random\n",
    "import torch\n",
    "from collections import deque\n",
    "import matplotlib.pyplot as plt\n",
    "import ddpg_agent\n",
    "from ddpg_agent import * #Agent, normnp, scalenp, SEED, BUFFER_SIZE, BATCH_SIZE, devicez\n",
    "print(\"Using device:\", device)\n",
    "%matplotlib inline"
   ]
  },
  {
   "cell_type": "markdown",
   "metadata": {},
   "source": [
    "## Unity Reacher Environment"
   ]
  },
  {
   "cell_type": "markdown",
   "metadata": {},
   "source": [
    "## Examine the State and Action Spaces"
   ]
  },
  {
   "cell_type": "code",
   "execution_count": 4,
   "metadata": {},
   "outputs": [
    {
     "name": "stdout",
     "output_type": "stream",
     "text": [
      "Number of agents: 1\n",
      "Size of each action: 4\n",
      "There are 1 agents. Each observes a state with length: 33\n"
     ]
    }
   ],
   "source": [
    "env = UnityEnvironment(file_name='../data/Reacher1_Win/Reacher.exe', worker_id=111, seed=SEED, no_graphics=True)\n",
    "\n",
    "# get the default brain\n",
    "brain_name = env.brain_names[0]\n",
    "brain = env.brains[brain_name]\n",
    "\n",
    "# reset the environment\n",
    "env_info = env.reset(train_mode=True)[brain_name]\n",
    "\n",
    "# number of agents\n",
    "num_agents = len(env_info.agents)\n",
    "print('Number of agents:', num_agents)\n",
    "\n",
    "# size of each action\n",
    "action_size = brain.vector_action_space_size\n",
    "print('Size of each action:', action_size)\n",
    "\n",
    "# examine the state space \n",
    "states = env_info.vector_observations\n",
    "state_size = states.shape[1]\n",
    "print('There are {} agents. Each observes a state with length: {}'.format(states.shape[0], state_size))\n",
    "#print('The state for the first agent looks like:', states[0])"
   ]
  },
  {
   "cell_type": "markdown",
   "metadata": {},
   "source": [
    "## DDPG"
   ]
  },
  {
   "cell_type": "markdown",
   "metadata": {},
   "source": [
    "#### Intialize the Agent"
   ]
  },
  {
   "cell_type": "code",
   "execution_count": 8,
   "metadata": {
    "tags": []
   },
   "outputs": [],
   "source": [
    "agent = Agent(  state_size=state_size, \n",
    "                action_size=action_size, \n",
    "                random_seed=SEED,\n",
    "                actor_units_in=512,\n",
    "                actor_units_hid=128,\n",
    "                critic_units_in=512,\n",
    "                critic_units_hid=128)#,\n",
    "                #actor_filename='../ddpg/checkpoints/actor_training_chkpnt10.pth', critic_filename='../ddpg/checkpoints/critic_training_chkpnt10.pth')"
   ]
  },
  {
   "cell_type": "markdown",
   "metadata": {},
   "source": [
    "#### Random Agent Play"
   ]
  },
  {
   "cell_type": "code",
   "execution_count": 9,
   "metadata": {},
   "outputs": [
    {
     "name": "stdout",
     "output_type": "stream",
     "text": [
      "Total score (averaged over agents) this episode: 14.159999683499336\n"
     ]
    }
   ],
   "source": [
    "if True:\n",
    "    env_info = env.reset(train_mode=False)[brain_name]      # reset the environment    \n",
    "    rap_states = env_info.vector_observations                  # get the current state (for each agent)\n",
    "    rap_scores = 0                                                # initialize the score (for each agent)\n",
    "    while True:\n",
    "        rap_actions = agent.act(rap_states, add_noise=False)\n",
    "        env_info = env.step(rap_actions)[brain_name]           # send all actions to tne environment\n",
    "        rap_next_states = env_info.vector_observations         # get next state (for each agent)\n",
    "        rap_rewards = env_info.rewards                         # get reward (for each agent)\n",
    "        rap_dones = env_info.local_done                        # see if episode finished\n",
    "        rap_scores += env_info.rewards[0]                         # update the score (for each agent)\n",
    "        rap_states = rap_next_states                               # roll over states to next time step\n",
    "        if np.any(rap_dones):                                  # exit loop if episode finished\n",
    "            break\n",
    "    print('Total score (averaged over agents) this episode: {}'.format(np.mean(rap_scores)))"
   ]
  },
  {
   "cell_type": "markdown",
   "metadata": {
    "tags": []
   },
   "source": [
    "#### Train"
   ]
  },
  {
   "cell_type": "code",
   "execution_count": 10,
   "metadata": {
    "tags": []
   },
   "outputs": [],
   "source": [
    "def ddpg(n_episodes=100):\n",
    "    scores_deque = deque(maxlen=100)\n",
    "    scores = []\n",
    "    for i_episode in (range(1, n_episodes+1)):\n",
    "        env_info = env.reset(train_mode=True)[brain_name]\n",
    "        state = env_info.vector_observations\n",
    "        agent.reset()\n",
    "        score = 0.; alss = 0.; clss = 0.\n",
    "        while True:\n",
    "            action = agent.act(state)\n",
    "            env_info = env.step(action)[brain_name]\n",
    "            next_state = env_info.vector_observations\n",
    "            reward = env_info.rewards\n",
    "            done = env_info.local_done\n",
    "            agent.step(state, action, reward, next_state, done)\n",
    "            clss, alss = agent.return_losses()\n",
    "            state = next_state\n",
    "            score += np.mean(reward)\n",
    "            if np.any(done):\n",
    "                break \n",
    "        critloss.append(clss)\n",
    "        actloss.append(alss)\n",
    "        scores_deque.append(score)\n",
    "        scores.append(score)\n",
    "        cycle_steps = agent.steps%ddpg_agent.BUFFER_SIZE\n",
    "        buffer_cycle = agent.steps//ddpg_agent.BUFFER_SIZE\n",
    "       \n",
    "        print('\\rEpisode{:5d}\\tReward: {:6.2f}\\tAvg. Reward: {:6.2f}\\tALoss: {:8.4f}\\tCLoss: {:9.4f}\\tBuffer Cycle: {:3d} mod {:7d}'.format(\n",
    "                i_episode, \n",
    "                score, \n",
    "                np.mean(scores_deque),\n",
    "                critloss,\n",
    "                actloss,\n",
    "                buffer_cycle,\n",
    "                cycle_steps), end=\"\")\n",
    "        \n",
    "        if i_episode % 10 == 0:\n",
    "            chkpntname = \"checkpoints/actor_training_chkpnt{:d}.pth\".format(i_episode)\n",
    "            torch.save(agent.actor_local.state_dict(), chkpntname)  \n",
    "            chkpntname = \"checkpoints/critic_training_chkpnt{:d}.pth\".format(i_episode)\n",
    "            torch.save(agent.critic_local.state_dict(), chkpntname) \n",
    "            print('\\rEpisode{:5d}\\tReward: {:6.2f}\\tAvg Reward: {:6.2f}\\tAvg ALoss: {:8.4f}\\tAvg CLoss: {:9.4f}\\tBuffer Cycle: {:3d} mod {:7d}'.format(\n",
    "                    i_episode,\n",
    "                    score,\n",
    "                    np.mean(scores_deque),\n",
    "                    np.mean(critloss),\n",
    "                    np.mean(actloss),\n",
    "                    buffer_cycle,\n",
    "                    cycle_steps))\n",
    "            \n",
    "        if np.mean(scores_deque)>=30:\n",
    "            print('\\n*** Avg. score above metric for 100 episodes! ***\\nEnvironment officially solved at episode {:d}!\\tAverage Reward: {:6.2f}'.format(i_episode-100, np.mean(scores_deque)))\n",
    "            torch.save(agent.actor_local.state_dict(), 'checkpoints/slvdpnt_actor.pth')\n",
    "            torch.save(agent.critic_local.state_dict(), 'checkpoints/slvdpnt_critic.pth')\n",
    "            break\n",
    "\n",
    "    torch.save(agent.actor_local.state_dict(), \"checkpoints/actor_trained.pth\")\n",
    "    torch.save(agent.critic_local.state_dict(), \"checkpoints/critic_trained.pth\") \n",
    "    print('\\nFINAL\\nEpisode{:5d}\\tReward: {:6.2f}\\tAverage Reward: {:6.2f}\\tBuffer Cycle: {:3d} mod {:7d}'.format(i_episode,score, np.mean(scores_deque), buffer_cycle, cycle_steps))\n",
    "    \n",
    "    return scores, critloss, actloss"
   ]
  },
  {
   "cell_type": "code",
   "execution_count": 11,
   "metadata": {
    "tags": []
   },
   "outputs": [
    {
     "name": "stdout",
     "output_type": "stream",
     "text": [
      "Episode   10\tReward:  18.31\tAvg Reward:  11.58\tAvg A Loss:   0.3555\tAvg C Loss: -488.7237\tBuffer Cycle:   0 mod   10010\n",
      "Episode   20\tReward:  18.31\tAvg Reward:  15.20\tAvg A Loss:   1.1071\tAvg C Loss: -849.2650\tBuffer Cycle:   0 mod   20020\n",
      "Episode   30\tReward:  18.72\tAvg Reward:  18.57\tAvg A Loss:   2.1521\tAvg C Loss: -1269.5325\tBuffer Cycle:   1 mod    4430\n",
      "Episode   40\tReward:  18.34\tAvg Reward:  20.43\tAvg A Loss:   3.1837\tAvg C Loss: -1691.6678\tBuffer Cycle:   1 mod   14440\n",
      "Episode   50\tReward:  28.93\tAvg Reward:  21.80\tAvg A Loss:   4.4944\tAvg C Loss: -2086.0510\tBuffer Cycle:   1 mod   24450\n",
      "Episode   60\tReward:  29.34\tAvg Reward:  22.53\tAvg A Loss:   5.3544\tAvg C Loss: -2472.2307\tBuffer Cycle:   2 mod    8860\n",
      "Episode   70\tReward:  29.09\tAvg Reward:  23.53\tAvg A Loss:   7.1553\tAvg C Loss: -2861.0432\tBuffer Cycle:   2 mod   18870\n",
      "Episode   80\tReward:  20.96\tAvg Reward:  23.28\tAvg A Loss:   8.2241\tAvg C Loss: -3160.2463\tBuffer Cycle:   3 mod    3280\n",
      "Episode   90\tReward:  25.28\tAvg Reward:  22.79\tAvg A Loss:   9.4354\tAvg C Loss: -3403.8401\tBuffer Cycle:   3 mod   13290\n",
      "Episode  100\tReward:  11.70\tAvg Reward:  22.22\tAvg A Loss:  10.7888\tAvg C Loss: -3624.1342\tBuffer Cycle:   3 mod   23300\n",
      "\n",
      "FINAL\n",
      "Episode  100\tReward:  11.70\tAverage Reward:  22.22\tBuffer Cycle:   3 mod   23300\n"
     ]
    }
   ],
   "source": [
    "### TRAIN AGENTS\n",
    "sc, cl, al = ddpg()\n",
    "try:\n",
    "    scores+=sc\n",
    "    critloss+=cl\n",
    "    actloss+=al\n",
    "except:\n",
    "    scores=sc\n",
    "    critloss=cl\n",
    "    actloss=al"
   ]
  },
  {
   "cell_type": "markdown",
   "metadata": {},
   "source": [
    "\n",
    "\n",
    "Eps   10\tReward:    15.95\tAvg Reward:    24.20\t Avg Eps Time: 10.485 sec\tBuffer Cycle:   0 mod   10010\n",
    "Eps   20\tReward:    22.38\tAvg Reward:    21.96\t Avg Eps Time: 10.786 sec\tBuffer Cycle:   0 mod   20020\n",
    "Eps   30\tReward:    18.91\tAvg Reward:    21.33\t Avg Eps Time: 10.768 sec\tBuffer Cycle:   0 mod   30030\n",
    "Eps   40\tReward:    27.72\tAvg Reward:    22.27\t Avg Eps Time: 10.752 sec\tBuffer Cycle:   0 mod   40040\n",
    "Eps   50\tReward:    28.59\tAvg Reward:    22.33\t Avg Eps Time: 10.750 sec\tBuffer Cycle:   0 mod   50050\n",
    "Eps   60\tReward:    20.83\tAvg Reward:    21.82\t Avg Eps Time: 10.794 sec\tBuffer Cycle:   0 mod   60060\n",
    "Eps   70\tReward:    20.66\tAvg Reward:    21.67\t Avg Eps Time: 10.781 sec\tBuffer Cycle:   0 mod   70070\n",
    "Eps   80\tReward:    30.70\tAvg Reward:    22.39\t Avg Eps Time: 10.777 sec\tBuffer Cycle:   0 mod   80080\n",
    "Eps   90\tReward:    26.80\tAvg Reward:    22.80\t Avg Eps Time: 10.781 sec\tBuffer Cycle:   0 mod   90090\n",
    "Eps  100\tReward:    17.80\tAvg Reward:    22.86\t Avg Eps Time: 10.789 sec\tBuffer Cycle:   0 mod  100100\n",
    "Eps  110\tReward:    23.14\tAvg Reward:    22.99\t Avg Eps Time: 10.840 sec\tBuffer Cycle:   0 mod  110110\n",
    "Eps  120\tReward:    27.44\tAvg Reward:    23.50\t Avg Eps Time: 10.841 sec\tBuffer Cycle:   0 mod  120120\n",
    "Eps  130\tReward:    17.93\tAvg Reward:    23.65\t Avg Eps Time: 10.844 sec\tBuffer Cycle:   0 mod  130130\n",
    "Eps  140\tReward:    16.29\tAvg Reward:    23.19\t Avg Eps Time: 10.869 sec\tBuffer Cycle:   0 mod  140140\n",
    "Eps  150\tReward:    19.08\tAvg Reward:    22.79\t Avg Eps Time: 10.874 sec\tBuffer Cycle:   0 mod  150150\n",
    "Eps  160\tReward:    26.10\tAvg Reward:    23.10\t Avg Eps Time: 10.883 sec\tBuffer Cycle:   0 mod  160160\n",
    "Eps  170\tReward:    29.94\tAvg Reward:    23.26\t Avg Eps Time: 10.891 sec\tBuffer Cycle:   0 mod  170170\n",
    "Eps  180\tReward:    18.89\tAvg Reward:    22.73\t Avg Eps Time: 10.899 sec\tBuffer Cycle:   0 mod  180180\n",
    "Eps  190\tReward:    26.30\tAvg Reward:    22.30\t Avg Eps Time: 10.908 sec\tBuffer Cycle:   0 mod  190190\n",
    "Eps  200\tReward:    33.29\tAvg Reward:    22.80\t Avg Eps Time: 10.942 sec\tBuffer Cycle:   0 mod  200200\n",
    "Eps  210\tReward:    28.95\tAvg Reward:    22.81\t Avg Eps Time: 10.951 sec\tBuffer Cycle:   0 mod  210210\n",
    "Eps  220\tReward:    33.37\tAvg Reward:    22.99\t Avg Eps Time: 10.975 sec\tBuffer Cycle:   0 mod  220220\n",
    "Eps  230\tReward:    22.64\tAvg Reward:    23.86\t Avg Eps Time: 10.983 sec\tBuffer Cycle:   0 mod  230230\n",
    "Eps  240\tReward:    31.39\tAvg Reward:    25.10\t Avg Eps Time: 10.998 sec\tBuffer Cycle:   0 mod  240240\n",
    "Eps  250\tReward:    32.45\tAvg Reward:    26.21\t Avg Eps Time: 11.007 sec\tBuffer Cycle:   0 mod  250250\n",
    "Eps  260\tReward:    23.49\tAvg Reward:    26.93\t Avg Eps Time: 11.019 sec\tBuffer Cycle:   0 mod  260260\n",
    "Eps  270\tReward:    21.00\tAvg Reward:    27.56\t Avg Eps Time: 11.030 sec\tBuffer Cycle:   0 mod  270270\n",
    "Eps  280\tReward:    30.22\tAvg Reward:    28.44\t Avg Eps Time: 11.050 sec\tBuffer Cycle:   0 mod  280280\n",
    "Eps  290\tReward:    31.85\tAvg Reward:    29.35\t Avg Eps Time: 11.070 sec\tBuffer Cycle:   0 mod  290290\n",
    "Eps  300\tReward:    34.63\tAvg Reward:    29.40\t Avg Eps Time: 11.088 sec\tBuffer Cycle:   0 mod  300300\n",
    "Eps  309\tReward:    36.09\tAvg Reward:    30.10\tEps Time: 11.354 sec\tBuffer Cycle:   0 mod  309309\n",
    "Score averaged over 100 episodes and 1 Agent stably above metric of 30.\n",
    "Environment officially solved at episode 209!\tAverage Reward:  30.10"
   ]
  },
  {
   "cell_type": "code",
   "execution_count": null,
   "metadata": {
    "tags": []
   },
   "outputs": [],
   "source": [
    "scalenp = lambda x: (x - np.min(x))/(np.max(x) - np.min(x))\n",
    "normnp = lambda x: 0. if np.std(x)==0 else (x - np.mean(x))/np.std(x) \n",
    "\n",
    "np.mean([el[1] for el in normnp(actloss)]), np.mean([el[0] for el in scalenp(critloss)])# = agent.return_loss()"
   ]
  },
  {
   "cell_type": "code",
   "execution_count": null,
   "metadata": {
    "tags": []
   },
   "outputs": [],
   "source": [
    "torch.save(agent.actor_local.state_dict(), 'checkpoints/trained_actor.pth')\n",
    "torch.save(agent.critic_local.state_dict(), 'checkpoints/trained_critic.pth')"
   ]
  },
  {
   "cell_type": "markdown",
   "metadata": {
    "tags": []
   },
   "source": [
    "#### Results"
   ]
  },
  {
   "cell_type": "code",
   "execution_count": 15,
   "metadata": {
    "collapsed": true,
    "jupyter": {
     "outputs_hidden": true
    },
    "tags": []
   },
   "outputs": [
    {
     "data": {
      "image/png": "[encoded data removed]",
      "text/plain": [
       "<Figure size 1600x500 with 1 Axes>"
      ]
     },
     "metadata": {},
     "output_type": "display_data"
    }
   ],
   "source": [
    "## Learning Curve\n",
    "fig, ax = plt.subplots(figsize=(16, 5))\n",
    "ax.plot(np.arange(1, len(scores)+1), scores, c='#000', alpha=0.5, linewidth=1.5, label='Mean Rewards for 1 Agent')\n",
    "#for i in range(1,20):\n",
    "#    ax.plot(np.arange(1, len(agent_scores)+1), [s[i] for s in agent_scores], alpha=0.5, linewidth=0.8)\n",
    "ax.plot(np.arange(1, len(scores)+1), scores, c='#000', alpha=1.0, linewidth=0.75)\n",
    "plt.legend()\n",
    "ax.set_xlabel('Episode #', fontsize=14)\n",
    "ax.set_ylabel('Reward', fontsize=14)\n",
    "ax.set_title('Reacher Environment solved (30+ avg) with DDPG', fontsize=14)\n",
    "plt.show()"
   ]
  },
  {
   "cell_type": "code",
   "execution_count": 16,
   "metadata": {
    "collapsed": true,
    "jupyter": {
     "outputs_hidden": true
    },
    "tags": []
   },
   "outputs": [
    {
     "ename": "TypeError",
     "evalue": "object of type 'float' has no len()",
     "output_type": "error",
     "traceback": [
      "\u001b[1;31m---------------------------------------------------------------------------\u001b[0m",
      "\u001b[1;31mTypeError\u001b[0m                                 Traceback (most recent call last)",
      "Cell \u001b[1;32mIn[16], line 2\u001b[0m\n\u001b[0;32m      1\u001b[0m fig, ax \u001b[38;5;241m=\u001b[39m plt\u001b[38;5;241m.\u001b[39msubplots(figsize\u001b[38;5;241m=\u001b[39m(\u001b[38;5;241m16\u001b[39m, \u001b[38;5;241m5\u001b[39m))\n\u001b[1;32m----> 2\u001b[0m ax\u001b[38;5;241m.\u001b[39mplot(np\u001b[38;5;241m.\u001b[39marange(\u001b[38;5;241m1\u001b[39m, \u001b[38;5;28;43mlen\u001b[39;49m\u001b[43m(\u001b[49m\u001b[43mcritloss\u001b[49m\u001b[43m)\u001b[49m\u001b[38;5;241m+\u001b[39m\u001b[38;5;241m1\u001b[39m), critloss, c\u001b[38;5;241m=\u001b[39m\u001b[38;5;124m'\u001b[39m\u001b[38;5;124m#00a\u001b[39m\u001b[38;5;124m'\u001b[39m, alpha\u001b[38;5;241m=\u001b[39m\u001b[38;5;241m0.75\u001b[39m, linewidth\u001b[38;5;241m=\u001b[39m\u001b[38;5;241m0.75\u001b[39m, label\u001b[38;5;241m=\u001b[39m\u001b[38;5;124m'\u001b[39m\u001b[38;5;124mCritic Loss\u001b[39m\u001b[38;5;124m'\u001b[39m)\n\u001b[0;32m      3\u001b[0m ax\u001b[38;5;241m.\u001b[39mplot(np\u001b[38;5;241m.\u001b[39marange(\u001b[38;5;241m1\u001b[39m, \u001b[38;5;28mlen\u001b[39m(actloss)\u001b[38;5;241m+\u001b[39m\u001b[38;5;241m1\u001b[39m), actloss, c\u001b[38;5;241m=\u001b[39m\u001b[38;5;124m'\u001b[39m\u001b[38;5;124m#921\u001b[39m\u001b[38;5;124m'\u001b[39m, alpha\u001b[38;5;241m=\u001b[39m\u001b[38;5;241m0.75\u001b[39m, linewidth\u001b[38;5;241m=\u001b[39m\u001b[38;5;241m0.75\u001b[39m, label\u001b[38;5;241m=\u001b[39m\u001b[38;5;124m'\u001b[39m\u001b[38;5;124mActor Loss\u001b[39m\u001b[38;5;124m'\u001b[39m)\n\u001b[0;32m      4\u001b[0m plt\u001b[38;5;241m.\u001b[39mlegend()\n",
      "\u001b[1;31mTypeError\u001b[0m: object of type 'float' has no len()"
     ]
    },
    {
     "data": {
      "image/png": "[encoded data removed]",
      "text/plain": [
       "<Figure size 1600x500 with 1 Axes>"
      ]
     },
     "metadata": {},
     "output_type": "display_data"
    }
   ],
   "source": [
    "fig, ax = plt.subplots(figsize=(16, 5))\n",
    "ax.plot(np.arange(1, len(critloss)+1), critloss, c='#00a', alpha=0.75, linewidth=0.75, label='Critic Loss')\n",
    "ax.plot(np.arange(1, len(actloss)+1), actloss, c='#921', alpha=0.75, linewidth=0.75, label='Actor Loss')\n",
    "plt.legend()\n",
    "ax.set_xlabel('Episode #', fontsize=14)\n",
    "ax.set_ylabel('Loss', fontsize=14)\n",
    "ax.set_title('Reacher Environment solved (30+ avg) with DDPG', fontsize=14)\n",
    "plt.show()"
   ]
  },
  {
   "cell_type": "code",
   "execution_count": null,
   "metadata": {},
   "outputs": [],
   "source": [
    "### Run some test runs...\n",
    "for _ in range(1):    \n",
    "    env_info = env.reset(train_mode=False)[brain_name]        # reset the environment   \n",
    "    tr_states = env_info.vector_observations                  # get the current state (for each agent)\n",
    "    tr_scores = np.zeros(num_agents)                          # initialize the score (for each agent)\n",
    "    while True:\n",
    "        tr_actions = agency.act(tr_states, add_noise=False)   # select an action (for each agent)\n",
    "        env_info = env.step(tr_actions)[brain_name]           # send all actions to tne environment\n",
    "        tr_next_states = env_info.vector_observations         # get next state (for each agent)\n",
    "        tr_rewards = env_info.rewards                         # get reward (for each agent)\n",
    "        tr_dones = env_info.local_done                        # see if episode finished\n",
    "        tr_scores += env_info.rewards                         # update the score (for each agent)\n",
    "        tr_states = tr_next_states                            # roll over states to next time step\n",
    "        if np.any(tr_dones):                                  # exit loop if episode finished\n",
    "            break\n",
    "    print('Total score (averaged over agents) this episode: {}'.format(np.mean(tr_scores)))\n",
    "\n",
    "#env.close()"
   ]
  },
  {
   "cell_type": "markdown",
   "metadata": {},
   "source": [
    "When finished, you can close the environment."
   ]
  },
  {
   "cell_type": "code",
   "execution_count": null,
   "metadata": {
    "tags": []
   },
   "outputs": [],
   "source": [
    "env.close()"
   ]
  },
  {
   "cell_type": "markdown",
   "metadata": {
    "tags": []
   },
   "source": [
    "# Evaluation"
   ]
  },
  {
   "cell_type": "code",
   "execution_count": 1,
   "metadata": {},
   "outputs": [
    {
     "name": "stdout",
     "output_type": "stream",
     "text": [
      "Closing the active environment.\n",
      "No active environment detected.\n"
     ]
    }
   ],
   "source": [
    "try: \n",
    "    print(\"Closing the active environment.\")\n",
    "    env.close()\n",
    "except:\n",
    "    print(\"No active environment detected.\")"
   ]
  },
  {
   "cell_type": "code",
   "execution_count": 1,
   "metadata": {},
   "outputs": [
    {
     "name": "stdout",
     "output_type": "stream",
     "text": [
      "Using device: cuda:0\n"
     ]
    }
   ],
   "source": [
    "from unityagents import UnityEnvironment\n",
    "import numpy as np\n",
    "import random\n",
    "import torch\n",
    "from collections import deque\n",
    "import matplotlib.pyplot as plt\n",
    "import ddpg_agent\n",
    "from ddpg_agent import * #Agent, normnp, scalenp, SEED, BUFFER_SIZE, BATCH_SIZE, devicez\n",
    "print(\"Using device:\", device)\n",
    "%matplotlib inline"
   ]
  },
  {
   "cell_type": "code",
   "execution_count": 2,
   "metadata": {},
   "outputs": [
    {
     "name": "stderr",
     "output_type": "stream",
     "text": [
      "INFO:unityagents:\n",
      "'Academy' started successfully!\n",
      "Unity Academy name: Academy\n",
      "        Number of Brains: 1\n",
      "        Number of External Brains : 1\n",
      "        Lesson number : 0\n",
      "        Reset Parameters :\n",
      "\t\tgoal_speed -> 1.0\n",
      "\t\tgoal_size -> 5.0\n",
      "Unity brain name: ReacherBrain\n",
      "        Number of Visual Observations (per agent): 0\n",
      "        Vector Observation space type: continuous\n",
      "        Vector Observation space size (per agent): 33\n",
      "        Number of stacked Vector Observation: 1\n",
      "        Vector Action space type: continuous\n",
      "        Vector Action space size (per agent): 4\n",
      "        Vector Action descriptions: , , , \n"
     ]
    },
    {
     "name": "stdout",
     "output_type": "stream",
     "text": [
      "Number of agents: 1\n",
      "Size of each action: 4\n",
      "There are 1 agents. Each observes a state with length: 33\n"
     ]
    }
   ],
   "source": [
    "env = UnityEnvironment(file_name='../data/Reacher1_Win/Reacher.exe', worker_id=111, seed=SEED)#, no_graphics=True)\n",
    "\n",
    "# get the default brain\n",
    "brain_name = env.brain_names[0]\n",
    "brain = env.brains[brain_name]\n",
    "\n",
    "# reset the environment\n",
    "env_info = env.reset(train_mode=True)[brain_name]\n",
    "\n",
    "# number of agents\n",
    "num_agents = len(env_info.agents)\n",
    "print('Number of agents:', num_agents)\n",
    "\n",
    "# size of each action\n",
    "action_size = brain.vector_action_space_size\n",
    "print('Size of each action:', action_size)\n",
    "\n",
    "# examine the state space \n",
    "states = env_info.vector_observations\n",
    "state_size = states.shape[1]\n",
    "print('There are {} agents. Each observes a state with length: {}'.format(states.shape[0], state_size))"
   ]
  },
  {
   "cell_type": "code",
   "execution_count": 9,
   "metadata": {},
   "outputs": [
    {
     "name": "stdout",
     "output_type": "stream",
     "text": [
      "Total score (averaged over agents) this episode: 3.609999919310212\n"
     ]
    }
   ],
   "source": [
    "agent = Agent(state_size=state_size, action_size=action_size, random_seed=SEED,\n",
    "                actor_units_in=512,\n",
    "                actor_units_hid=128,\n",
    "                critic_units_in=512,\n",
    "                critic_units_hid=128,\n",
    "                actor_filename='../ddpg/checkpoints/actor_training_chkpnt25.pth', \n",
    "                critic_filename='../ddpg/checkpoints/critic_training_chkpnt25.pth')\n",
    "\n",
    "env_info = env.reset(train_mode=False)[brain_name]     # reset the environment    \n",
    "states = env_info.vector_observations                  # get the current state (for each agent)\n",
    "scores = 0                                             # initialize the score (for each agent)\n",
    "while True:\n",
    "    actions = agent.act(states, add_noise=False)       # select an action (for each agent)\n",
    "    env_info = env.step(actions)[brain_name]           # send all actions to tne environment\n",
    "    next_states = env_info.vector_observations         # get next state (for each agent)\n",
    "    rewards = env_info.rewards                         # get reward (for each agent)\n",
    "    scores += rewards[0]                               # update the score (for each agent)\n",
    "    dones = env_info.local_done                        # see if episode finished\n",
    "    states = next_states                               # roll over states to next time step\n",
    "    if np.any(dones):                                  # exit loop if episode finished\n",
    "        break\n",
    "print('Total score (averaged over agents) this episode: {}'.format(np.mean(scores)))"
   ]
  },
  {
   "cell_type": "code",
   "execution_count": null,
   "metadata": {},
   "outputs": [],
   "source": [
    "agent = Agent(state_size=state_size, action_size=action_size, random_seed=SEED,\n",
    "                actor_filename='../ddpg/checkpoints/actor_training_chkpnt10.pth', \n",
    "                critic_filename='../ddpg/checkpoints/critic_training_chkpnt10.pth')\n"
   ]
  },
  {
   "cell_type": "markdown",
   "metadata": {},
   "source": [
    "### WANDB"
   ]
  },
  {
   "cell_type": "code",
   "execution_count": null,
   "metadata": {},
   "outputs": [],
   "source": [
    "import wandb\n",
    "wandb.login()\n",
    "\n",
    "\n",
    "# start a new wandb run to track this script\n",
    "wandb.init(\n",
    "    # set the wandb project where this run will be logged\n",
    "    project=\"reacher v1\",\n",
    "    \n",
    "    # track hyperparameters and run metadata\n",
    "    config={\n",
    "    \"learning_rate\": 0.02,\n",
    "    \"architecture\": \"CNN\",\n",
    "    \"dataset\": \"CIFAR-100\",\n",
    "    \"epochs\": 10,\n",
    "    }\n",
    ")\n",
    "\n",
    "# simulate training\n",
    "epochs = 10\n",
    "offset = random.random() / 5\n",
    "for epoch in range(2, epochs):\n",
    "    acc = 1 - 2 ** -epoch - random.random() / epoch - offset\n",
    "    loss = 2 ** -epoch + random.random() / epoch + offset\n",
    "    \n",
    "    # log metrics to wandb\n",
    "    wandb.log({\"acc\": acc, \"loss\": loss})\n",
    "    \n",
    "# [optional] finish the wandb run, necessary in notebooks\n",
    "wandb.finish()"
   ]
  },
  {
   "cell_type": "markdown",
   "metadata": {
    "jp-MarkdownHeadingCollapsed": true,
    "tags": []
   },
   "source": [
    "## Iteration 3"
   ]
  },
  {
   "cell_type": "code",
   "execution_count": null,
   "metadata": {},
   "outputs": [],
   "source": [
    "env_info = env.reset(train_mode=False)[brain_name]      # reset the environment    \n",
    "states = env_info.vector_observations                  # get the current state (for each agent)\n",
    "scores = np.zeros(num_agents)                          # initialize the score (for each agent)\n",
    "while True:\n",
    "    actions = agent.act(states, add_noise=False) # select an action (for each agent)\n",
    "    env_info = env.step(actions)[brain_name]           # send all actions to tne environment\n",
    "    next_states = env_info.vector_observations         # get next state (for each agent)\n",
    "    rewards = env_info.rewards                         # get reward (for each agent)\n",
    "    dones = env_info.local_done                        # see if episode finished\n",
    "    scores += env_info.rewards                         # update the score (for each agent)\n",
    "    states = next_states                               # roll over states to next time step\n",
    "    if np.any(dones):                                  # exit loop if episode finished\n",
    "        break\n",
    "print('Total score (averaged over agents) this episode: {}'.format(np.mean(scores)))"
   ]
  },
  {
   "cell_type": "markdown",
   "metadata": {
    "jp-MarkdownHeadingCollapsed": true,
    "tags": []
   },
   "source": [
    "## Iteration 4"
   ]
  },
  {
   "cell_type": "code",
   "execution_count": null,
   "metadata": {},
   "outputs": [],
   "source": [
    "env_info = env.reset(train_mode=False)[brain_name]      # reset the environment    \n",
    "states = env_info.vector_observations                  # get the current state (for each agent)\n",
    "scores = np.zeros(num_agents)                          # initialize the score (for each agent)\n",
    "while True:\n",
    "    actions = agent.act(states, add_noise=True) # select an action (for each agent)\n",
    "    env_info = env.step(actions)[brain_name]           # send all actions to tne environment\n",
    "    next_states = env_info.vector_observations         # get next state (for each agent)\n",
    "    rewards = env_info.rewards                         # get reward (for each agent)\n",
    "    dones = env_info.local_done                        # see if episode finished\n",
    "    scores += env_info.rewards                         # update the score (for each agent)\n",
    "    states = next_states                               # roll over states to next time step\n",
    "    if np.any(dones):                                  # exit loop if episode finished\n",
    "        break\n",
    "print('Total score (averaged over agents) this episode: {}'.format(np.mean(scores)))"
   ]
  },
  {
   "cell_type": "code",
   "execution_count": null,
   "metadata": {
    "scrolled": true
   },
   "outputs": [],
   "source": [
    "env.close()"
   ]
  }
 ],
 "metadata": {
  "kernelspec": {
   "display_name": "Python 3 (ipykernel)",
   "language": "python",
   "name": "python3"
  },
  "language_info": {
   "codemirror_mode": {
    "name": "ipython",
    "version": 3
   },
   "file_extension": ".py",
   "mimetype": "text/x-python",
   "name": "python",
   "nbconvert_exporter": "python",
   "pygments_lexer": "ipython3",
   "version": "3.9.0"
  }
 },
 "nbformat": 4,
 "nbformat_minor": 4
}
