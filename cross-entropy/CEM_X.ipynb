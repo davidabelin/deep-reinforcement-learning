{
  "cells": [
    {
      "cell_type": "markdown",
      "metadata": {
        "id": "mPquKyqbPgYN"
      },
      "source": [
        "# Cross-Entropy Method\n",
        "\n",
        "---\n",
        "\n",
        "In this notebook, we will train the Cross-Entropy Method with OpenAI Gym's MountainCarContinuous environment."
      ]
    },
    {
      "cell_type": "markdown",
      "metadata": {
        "id": "tuTOhJwfPgYO"
      },
      "source": [
        "### 1. Import the Necessary Packages"
      ]
    },
    {
      "cell_type": "code",
      "execution_count": null,
      "metadata": {
        "id": "9_oR-Sl8PgYP"
      },
      "outputs": [],
      "source": [
        "!pip install gymnasium[classic-control]\n",
        "import gymnasium as gym\n",
        "import math\n",
        "import numpy as np\n",
        "from collections import deque\n",
        "import matplotlib.pyplot as plt\n",
        "%matplotlib inline\n",
        "from IPython import display\n",
        "\n",
        "import torch\n",
        "import torch.nn as nn\n",
        "import torch.nn.functional as F\n",
        "from torch.autograd import Variable"
      ]
    },
    {
      "cell_type": "markdown",
      "metadata": {
        "id": "KjG2QWXRPgYP"
      },
      "source": [
        "### 2. Instantiate the Environment and Agent"
      ]
    },
    {
      "cell_type": "code",
      "source": [
        "device = torch.device(\"cuda:0\" if torch.cuda.is_available() else \"cpu\")\n",
        "\n",
        "env = gym.make('MountainCarContinuous-v0', render_mode=\"rgb_array\")\n",
        "\n",
        "seed=101\n",
        "np.random.seed(seed)\n",
        "obs, info = env.reset(seed=seed)\n",
        "\n",
        "print('observation space:', env.observation_space)\n",
        "print('action space:', env.action_space)\n",
        "print('  - low:', env.action_space.low)\n",
        "print('  - high:', env.action_space.high)"
      ],
      "metadata": {
        "colab": {
          "base_uri": "https://localhost:8080/"
        },
        "id": "RXpz_pQPbFgj",
        "outputId": "ee6ee67a-8504-44a2-eb78-2c3c35f5120c"
      },
      "execution_count": 18,
      "outputs": [
        {
          "output_type": "stream",
          "name": "stdout",
          "text": [
            "observation space: Box([-1.2  -0.07], [0.6  0.07], (2,), float32)\n",
            "action space: Box(-1.0, 1.0, (1,), float32)\n",
            "  - low: [-1.]\n",
            "  - high: [1.]\n"
          ]
        }
      ]
    },
    {
      "cell_type": "code",
      "execution_count": 26,
      "metadata": {
        "id": "otc3VwXePgYP"
      },
      "outputs": [],
      "source": [
        "class Agent(nn.Module):\n",
        "    def __init__(self, env, h_size=16):\n",
        "        super(Agent, self).__init__()\n",
        "        self.env = env\n",
        "        # state, hidden layer, action sizes\n",
        "        self.s_size = env.observation_space.shape[0]\n",
        "        self.h_size = h_size\n",
        "        self.a_size = env.action_space.shape[0]\n",
        "        # define layers\n",
        "        self.fc1 = nn.Linear(self.s_size, self.h_size)\n",
        "        self.fc2 = nn.Linear(self.h_size, self.a_size)\n",
        "        self.tanh = torch.tanh\n",
        "        \n",
        "    def act(self, state):\n",
        "        x = torch.from_numpy(state).to(device)\n",
        "        return self.forward(x)\n",
        "\n",
        "    def set_weights(self, weights):\n",
        "        s_size = self.s_size\n",
        "        h_size = self.h_size\n",
        "        a_size = self.a_size\n",
        "        # separate the weights for each layer\n",
        "        fc1_end = (s_size*h_size)+h_size\n",
        "        fc1_W = torch.from_numpy(weights[:s_size*h_size].reshape(s_size, h_size))\n",
        "        fc1_b = torch.from_numpy(weights[s_size*h_size:fc1_end])\n",
        "        fc2_W = torch.from_numpy(weights[fc1_end:fc1_end+(h_size*a_size)].reshape(h_size, a_size))\n",
        "        fc2_b = torch.from_numpy(weights[fc1_end+(h_size*a_size):])\n",
        "        # set the weights for each layer\n",
        "        self.fc1.weight.data.copy_(fc1_W.view_as(self.fc1.weight.data))\n",
        "        self.fc1.bias.data.copy_(fc1_b.view_as(self.fc1.bias.data))\n",
        "        self.fc2.weight.data.copy_(fc2_W.view_as(self.fc2.weight.data))\n",
        "        self.fc2.bias.data.copy_(fc2_b.view_as(self.fc2.bias.data))\n",
        "    \n",
        "    def get_weights_dim(self):\n",
        "        return (self.s_size+1)*self.h_size + (self.h_size+1)*self.a_size\n",
        "        \n",
        "    def forward(self, x):\n",
        "        x = F.relu(self.fc1(x))\n",
        "        x = self.tanh(self.fc2(x))\n",
        "        return x.cpu().data\n",
        "        \n",
        "    def evaluate(self, weights, gamma=1.0, max_t=5000):\n",
        "        self.set_weights(weights)\n",
        "        episode_return = 0.0\n",
        "        state, _ = self.env.reset(seed=seed)\n",
        "        for t in range(max_t):\n",
        "            state = torch.from_numpy(state).float().to(device)\n",
        "            action = self.forward(state)\n",
        "            state, reward, done, trun, _ = self.env.step(action)\n",
        "            done = done or trun\n",
        "            episode_return += reward * math.pow(gamma, t)\n",
        "            if done:\n",
        "                break\n",
        "        return episode_return\n"
      ]
    },
    {
      "cell_type": "code",
      "source": [
        "    agent = Agent(env).to(device)"
      ],
      "metadata": {
        "id": "LpMD7Z7KSvpR"
      },
      "execution_count": 27,
      "outputs": []
    },
    {
      "cell_type": "markdown",
      "metadata": {
        "id": "r_r_uXerPgYQ"
      },
      "source": [
        "### 3. Train the Agent with the Cross-Entropy Method\n",
        "\n",
        "Run the code cell below to train the agent from scratch.  Alternatively, you can skip to the next code cell to load the pre-trained weights from file."
      ]
    },
    {
      "cell_type": "code",
      "execution_count": 20,
      "metadata": {
        "id": "bS6TtPdLPgYQ"
      },
      "outputs": [],
      "source": [
        "def cem(n_iterations=500, max_t=1000, gamma=1.0, print_every=10, pop_size=50, elite_frac=0.2, sigma=0.5):\n",
        "    \"\"\"PyTorch implementation of the cross-entropy method.\n",
        "        \n",
        "    Params\n",
        "    ======\n",
        "        n_iterations (int): maximum number of training iterations\n",
        "        max_t (int): maximum number of timesteps per episode\n",
        "        gamma (float): discount rate\n",
        "        print_every (int): how often to print average score (over last 100 episodes)\n",
        "        pop_size (int): size of population at each iteration\n",
        "        elite_frac (float): percentage of top performers to use in update\n",
        "        sigma (float): standard deviation of additive noise\n",
        "    \"\"\"\n",
        "    n_elite=int(pop_size*elite_frac)\n",
        "\n",
        "    scores_deque = deque(maxlen=100)\n",
        "    scores = []\n",
        "    best_weight = sigma*np.random.randn(agent.get_weights_dim())\n",
        "\n",
        "    for i_iteration in range(1, n_iterations+1):\n",
        "        weights_pop = [best_weight + (sigma*np.random.randn(agent.get_weights_dim())) for i in range(pop_size)]\n",
        "        rewards = np.array([agent.evaluate(weights, gamma, max_t) for weights in weights_pop])\n",
        "\n",
        "        elite_idxs = rewards.argsort()[-n_elite:]\n",
        "        elite_weights = [weights_pop[i] for i in elite_idxs]\n",
        "        best_weight = np.array(elite_weights).mean(axis=0)\n",
        "\n",
        "        reward = agent.evaluate(best_weight, gamma=1.0)\n",
        "        scores_deque.append(reward)\n",
        "        scores.append(reward)\n",
        "        \n",
        "        torch.save(agent.state_dict(), 'checkpoint.pth')\n",
        "        \n",
        "        if i_iteration % print_every == 0:\n",
        "            print('Episode {}\\tAverage Score: {:.2f}'.format(i_iteration, np.mean(scores_deque)))\n",
        "\n",
        "        if np.mean(scores_deque)>=90.0:\n",
        "            print('\\nEnvironment solved in {:d} iterations!\\tAverage Score: {:.2f}'.format(i_iteration-100, np.mean(scores_deque)))\n",
        "            break\n",
        "    return scores\n"
      ]
    },
    {
      "cell_type": "code",
      "source": [
        "scores = cem()"
      ],
      "metadata": {
        "colab": {
          "base_uri": "https://localhost:8080/"
        },
        "id": "c28zsqfoTR7T",
        "outputId": "c8d90937-65ec-499e-cf9c-88cf6b9a82c8"
      },
      "execution_count": 14,
      "outputs": [
        {
          "output_type": "stream",
          "name": "stderr",
          "text": [
            "/usr/local/lib/python3.8/dist-packages/torch/nn/functional.py:1956: UserWarning: nn.functional.tanh is deprecated. Use torch.tanh instead.\n",
            "  warnings.warn(\"nn.functional.tanh is deprecated. Use torch.tanh instead.\")\n"
          ]
        },
        {
          "output_type": "stream",
          "name": "stdout",
          "text": [
            "Episode 10\tAverage Score: -4.41\n",
            "Episode 20\tAverage Score: -0.03\n",
            "Episode 30\tAverage Score: -1.35\n",
            "Episode 40\tAverage Score: 9.32\n",
            "Episode 50\tAverage Score: 25.28\n",
            "Episode 60\tAverage Score: 36.67\n",
            "Episode 70\tAverage Score: 44.94\n",
            "Episode 80\tAverage Score: 51.03\n",
            "Episode 90\tAverage Score: 55.81\n",
            "Episode 100\tAverage Score: 59.54\n",
            "Episode 110\tAverage Score: 69.31\n",
            "Episode 120\tAverage Score: 78.27\n",
            "Episode 130\tAverage Score: 88.07\n",
            "\n",
            "Environment solved in 33 iterations!\tAverage Score: 91.01\n"
          ]
        }
      ]
    },
    {
      "cell_type": "code",
      "source": [
        "# plot the scores\n",
        "fig = plt.figure()\n",
        "ax = fig.add_subplot(111)\n",
        "plt.plot(np.arange(1, len(scores)+1), scores)\n",
        "plt.ylabel('Score')\n",
        "plt.xlabel('Episode #')\n",
        "plt.show()"
      ],
      "metadata": {
        "colab": {
          "base_uri": "https://localhost:8080/",
          "height": 279
        },
        "id": "Y50hnvFCTVA2",
        "outputId": "9c25b194-cd7d-43f3-9ada-efc5891c675d"
      },
      "execution_count": 17,
      "outputs": [
        {
          "output_type": "display_data",
          "data": {
            "text/plain": [
              "<Figure size 432x288 with 1 Axes>"
            ],
            "image/png": "[encoded data removed]"
          },
          "metadata": {
            "needs_background": "light"
          }
        }
      ]
    },
    {
      "cell_type": "markdown",
      "metadata": {
        "id": "qaRnvoU_PgYR"
      },
      "source": [
        "### 4. Watch a Smart Agent!\n",
        "\n",
        "In the next code cell, you will load the trained weights from file to watch a smart agent!"
      ]
    },
    {
      "cell_type": "code",
      "source": [
        "# load the weights from file\n",
        "agent.load_state_dict(torch.load('checkpoint_OG.pth'))"
      ],
      "metadata": {
        "colab": {
          "base_uri": "https://localhost:8080/"
        },
        "id": "p7nuaSi1baoa",
        "outputId": "02309efb-46cb-4ab3-c4bd-6fa050339c81"
      },
      "execution_count": 35,
      "outputs": [
        {
          "output_type": "execute_result",
          "data": {
            "text/plain": [
              "<All keys matched successfully>"
            ]
          },
          "metadata": {},
          "execution_count": 35
        }
      ]
    },
    {
      "cell_type": "code",
      "execution_count": 36,
      "metadata": {
        "colab": {
          "base_uri": "https://localhost:8080/"
        },
        "id": "ywIcS844PgYR",
        "outputId": "c3f7032c-e7e1-4cd6-f78b-ebd24acc7528"
      },
      "outputs": [
        {
          "output_type": "stream",
          "name": "stdout",
          "text": [
            "(480, 400, 600, 3)\n"
          ]
        }
      ],
      "source": [
        "frames = []\n",
        "n_steps = 300\n",
        "n_eps = 3\n",
        "\n",
        "for i in range(n_eps):\n",
        "    state, info = env.reset(seed=seed)\n",
        "    frames.append(env.render()) \n",
        "    for j in range(n_steps):\n",
        "        action = agent.act(state)\n",
        "        state, reward, done, trun, info = env.step(action)\n",
        "        frames.append(env.render())\n",
        "        if done or trun:\n",
        "            break \n",
        "\n",
        "frames = np.asarray(frames)\n",
        "print(frames.shape)"
      ]
    },
    {
      "cell_type": "code",
      "source": [
        "# Display recorded episode\n",
        "\n",
        "img = plt.imshow(frames[0])\n",
        "for f in frames[1:]:\n",
        "    img.set_data(f) \n",
        "    plt.axis('off')\n",
        "    display.display(plt.gcf())\n",
        "    display.clear_output(wait=True)"
      ],
      "metadata": {
        "colab": {
          "base_uri": "https://localhost:8080/",
          "height": 248
        },
        "id": "GOx3IsfLagqb",
        "outputId": "edd72b08-b0e0-4f8c-b5c8-dc75c0acba8d"
      },
      "execution_count": 37,
      "outputs": [
        {
          "output_type": "display_data",
          "data": {
            "text/plain": [
              "<Figure size 432x288 with 1 Axes>"
            ],
            "image/png": "[encoded data removed]"
          },
          "metadata": {
            "needs_background": "light"
          }
        }
      ]
    },
    {
      "cell_type": "code",
      "source": [
        "#env.close()\n"
      ],
      "metadata": {
        "id": "EKd20UyDaqvO"
      },
      "execution_count": null,
      "outputs": []
    }
  ],
  "metadata": {
    "anaconda-cloud": {},
    "kernelspec": {
      "display_name": "Python 3",
      "language": "python",
      "name": "python3"
    },
    "language_info": {
      "codemirror_mode": {
        "name": "ipython",
        "version": 3
      },
      "file_extension": ".py",
      "mimetype": "text/x-python",
      "name": "python",
      "nbconvert_exporter": "python",
      "pygments_lexer": "ipython3",
      "version": "3.6.4"
    },
    "colab": {
      "provenance": []
    },
    "accelerator": "GPU",
    "gpuClass": "standard"
  },
  "nbformat": 4,
  "nbformat_minor": 0
}