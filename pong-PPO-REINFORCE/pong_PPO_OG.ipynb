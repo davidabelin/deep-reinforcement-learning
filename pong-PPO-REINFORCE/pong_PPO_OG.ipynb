{
 "cells": [
  {
   "cell_type": "markdown",
   "metadata": {
    "id": "-nyWTPej2qkp"
   },
   "source": [
    "# Welcome!\n",
    "Below, we will learn to implement and train a policy to play atari-pong, using only the pixels as input. We will use convolutional neural nets, multiprocessing, and pytorch to implement and train our policy. Let's get started!"
   ]
  },
  {
   "cell_type": "code",
   "execution_count": 1,
   "metadata": {
    "id": "lk3IydYxyZA5"
   },
   "outputs": [
    {
     "name": "stdout",
     "output_type": "stream",
     "text": [
      "Requirement already satisfied: gymnasium[accept-rom-license] in c:\\users\\david\\.conda\\envs\\drlnd\\lib\\site-packages (0.26.3)\n",
      "Requirement already satisfied: gymnasium-notices>=0.0.1 in c:\\users\\david\\.conda\\envs\\drlnd\\lib\\site-packages (from gymnasium[accept-rom-license]) (0.0.1)\n",
      "Requirement already satisfied: importlib-metadata>=4.8.0; python_version < \"3.10\" in c:\\users\\david\\.conda\\envs\\drlnd\\lib\\site-packages (from gymnasium[accept-rom-license]) (4.8.3)\n",
      "Requirement already satisfied: dataclasses==0.8; python_version == \"3.6\" in c:\\users\\david\\.conda\\envs\\drlnd\\lib\\site-packages (from gymnasium[accept-rom-license]) (0.8)\n",
      "Requirement already satisfied: numpy>=1.18.0 in c:\\users\\david\\.conda\\envs\\drlnd\\lib\\site-packages (from gymnasium[accept-rom-license]) (1.19.5)\n",
      "Requirement already satisfied: cloudpickle>=1.2.0 in c:\\users\\david\\.conda\\envs\\drlnd\\lib\\site-packages (from gymnasium[accept-rom-license]) (2.2.1)\n",
      "Collecting autorom[accept-rom-license]~=0.4.2; extra == \"accept-rom-license\"\n",
      "  Using cached AutoROM-0.4.2-py3-none-any.whl (16 kB)\n",
      "Requirement already satisfied: zipp>=0.5 in c:\\users\\david\\.conda\\envs\\drlnd\\lib\\site-packages (from importlib-metadata>=4.8.0; python_version < \"3.10\"->gymnasium[accept-rom-license]) (3.6.0)\n",
      "Requirement already satisfied: typing-extensions>=3.6.4; python_version < \"3.8\" in c:\\users\\david\\.conda\\envs\\drlnd\\lib\\site-packages (from importlib-metadata>=4.8.0; python_version < \"3.10\"->gymnasium[accept-rom-license]) (3.7.4.3)\n",
      "Collecting importlib-resources; python_version < \"3.9\"\n",
      "  Using cached importlib_resources-5.4.0-py3-none-any.whl (28 kB)\n",
      "Collecting click\n",
      "  Using cached click-8.0.4-py3-none-any.whl (97 kB)\n",
      "Requirement already satisfied: requests in c:\\users\\david\\.conda\\envs\\drlnd\\lib\\site-packages (from autorom[accept-rom-license]~=0.4.2; extra == \"accept-rom-license\"->gymnasium[accept-rom-license]) (2.27.1)\n",
      "Collecting tqdm\n",
      "  Using cached tqdm-4.64.1-py2.py3-none-any.whl (78 kB)\n",
      "Collecting AutoROM.accept-rom-license; extra == \"accept-rom-license\"\n",
      "  Using cached AutoROM.accept-rom-license-0.5.0.tar.gz (10 kB)\n",
      "  Installing build dependencies: started\n",
      "  Installing build dependencies: finished with status 'error'\n"
     ]
    },
    {
     "name": "stderr",
     "output_type": "stream",
     "text": [
      "  ERROR: Command errored out with exit status 1:\n",
      "   command: 'C:\\Users\\David\\.conda\\envs\\drlnd\\python.exe' 'C:\\Users\\David\\.conda\\envs\\drlnd\\lib\\site-packages\\pip' install --ignore-installed --no-user --prefix 'C:\\Users\\David\\AppData\\Local\\Temp\\pip-build-env-g_4q41za\\overlay' --no-warn-script-location --no-binary :none: --only-binary :none: -i https://pypi.org/simple -- setuptools wheel requests tqdm libtorrent click 'importlib-resources; python_version < '\"'\"'3.9'\"'\"''\n",
      "       cwd: None\n",
      "  Complete output (10 lines):\n",
      "  Collecting setuptools\n",
      "    Using cached setuptools-59.6.0-py3-none-any.whl (952 kB)\n",
      "  Collecting wheel\n",
      "    Using cached wheel-0.37.1-py2.py3-none-any.whl (35 kB)\n",
      "  Collecting requests\n",
      "    Using cached requests-2.27.1-py2.py3-none-any.whl (63 kB)\n",
      "  Collecting tqdm\n",
      "    Using cached tqdm-4.64.1-py2.py3-none-any.whl (78 kB)\n",
      "  ERROR: Could not find a version that satisfies the requirement libtorrent (from versions: none)\n",
      "  ERROR: No matching distribution found for libtorrent\n",
      "  ----------------------------------------\n",
      "ERROR: Command errored out with exit status 1: 'C:\\Users\\David\\.conda\\envs\\drlnd\\python.exe' 'C:\\Users\\David\\.conda\\envs\\drlnd\\lib\\site-packages\\pip' install --ignore-installed --no-user --prefix 'C:\\Users\\David\\AppData\\Local\\Temp\\pip-build-env-g_4q41za\\overlay' --no-warn-script-location --no-binary :none: --only-binary :none: -i https://pypi.org/simple -- setuptools wheel requests tqdm libtorrent click 'importlib-resources; python_version < '\"'\"'3.9'\"'\"'' Check the logs for full command output.\n"
     ]
    },
    {
     "name": "stdout",
     "output_type": "stream",
     "text": [
      "Requirement already satisfied: gymnasium[atari] in c:\\users\\david\\.conda\\envs\\drlnd\\lib\\site-packages (0.26.3)\n",
      "Requirement already satisfied: dataclasses==0.8; python_version == \"3.6\" in c:\\users\\david\\.conda\\envs\\drlnd\\lib\\site-packages (from gymnasium[atari]) (0.8)\n",
      "Requirement already satisfied: numpy>=1.18.0 in c:\\users\\david\\.conda\\envs\\drlnd\\lib\\site-packages (from gymnasium[atari]) (1.19.5)\n",
      "Requirement already satisfied: importlib-metadata>=4.8.0; python_version < \"3.10\" in c:\\users\\david\\.conda\\envs\\drlnd\\lib\\site-packages (from gymnasium[atari]) (4.8.3)\n",
      "Requirement already satisfied: gymnasium-notices>=0.0.1 in c:\\users\\david\\.conda\\envs\\drlnd\\lib\\site-packages (from gymnasium[atari]) (0.0.1)\n",
      "Requirement already satisfied: cloudpickle>=1.2.0 in c:\\users\\david\\.conda\\envs\\drlnd\\lib\\site-packages (from gymnasium[atari]) (2.2.1)\n"
     ]
    },
    {
     "name": "stderr",
     "output_type": "stream",
     "text": [
      "ERROR: Could not find a version that satisfies the requirement ale-py~=0.8.0; extra == \"atari\" (from gymnasium[atari]) (from versions: 0.6.0.dev20200207, 0.7rc0, 0.7rc1, 0.7rc2, 0.7rc3, 0.7rc4, 0.7, 0.7.1)\n",
      "ERROR: No matching distribution found for ale-py~=0.8.0; extra == \"atari\" (from gymnasium[atari])\n",
      "C:\\Users\\David\\.conda\\envs\\drlnd\\lib\\site-packages\\gymnasium\\core.py:27: UserWarning: \u001b[33mWARN: Gymnasium minimally supports python 3.6 as the python foundation not longer supports the version, please update your version to 3.7+\u001b[0m\n",
      "  \"Gymnasium minimally supports python 3.6 as the python foundation not longer supports the version, please update your version to 3.7+\"\n"
     ]
    },
    {
     "name": "stdout",
     "output_type": "stream",
     "text": [
      "Collecting progressbar\n",
      "  Downloading progressbar-2.5.tar.gz (10 kB)\n",
      "Building wheels for collected packages: progressbar\n",
      "  Building wheel for progressbar (setup.py): started\n",
      "  Building wheel for progressbar (setup.py): finished with status 'done'\n",
      "  Created wheel for progressbar: filename=progressbar-2.5-py3-none-any.whl size=12078 sha256=ee61fc812ac66f11ddc7f4fe35621d5dc9db15f923d5f564c00be28be0d4dd5b\n",
      "  Stored in directory: c:\\users\\david\\appdata\\local\\pip\\cache\\wheels\\bc\\13\\93\\a9bf6b3d3966e4af014b0dbef027fdea47393faf47e990349f\n",
      "Successfully built progressbar\n",
      "Installing collected packages: progressbar\n",
      "Successfully installed progressbar-2.5\n"
     ]
    },
    {
     "name": "stderr",
     "output_type": "stream",
     "text": [
      "WARNING: Retrying (Retry(total=4, connect=None, read=None, redirect=None, status=None)) after connection broken by 'ProtocolError('Connection aborted.', ConnectionResetError(10054, 'An existing connection was forcibly closed by the remote host', None, 10054, None))': /simple/jsanimation/\n"
     ]
    },
    {
     "name": "stdout",
     "output_type": "stream",
     "text": [
      "Collecting JSAnimation\n",
      "  Downloading JSAnimation-0.1.tar.gz (8.9 kB)\n",
      "Building wheels for collected packages: JSAnimation\n",
      "  Building wheel for JSAnimation (setup.py): started\n",
      "  Building wheel for JSAnimation (setup.py): finished with status 'done'\n",
      "  Created wheel for JSAnimation: filename=JSAnimation-0.1-py3-none-any.whl size=11431 sha256=9c30e5da5d61f5e5e096712ae74242ebe1fade4dcebfc9cc3d0de8382d2582eb\n",
      "  Stored in directory: c:\\users\\david\\appdata\\local\\pip\\cache\\wheels\\b2\\85\\7b\\da07ebc1e3987743ee5f0fe6be2bd55fb45698f8ea91622691\n",
      "Successfully built JSAnimation\n",
      "Installing collected packages: JSAnimation\n",
      "Successfully installed JSAnimation-0.1\n",
      "using device:  cpu\n"
     ]
    }
   ],
   "source": [
    "# render ai gym environment\n",
    "!pip install gymnasium[accept-rom-license]\n",
    "!pip install gymnasium[atari]\n",
    "import gymnasium as gym\n",
    "\n",
    "!pip install progressbar\n",
    "import progressbar as pb\n",
    "\n",
    "import random as rand\n",
    "import time\n",
    "import numpy as np\n",
    "import matplotlib\n",
    "import matplotlib.pyplot as plt\n",
    "from matplotlib import animation\n",
    "%matplotlib inline\n",
    "\n",
    "# install package for displaying animation\n",
    "!pip install JSAnimation\n",
    "from JSAnimation.IPython_display import display_animation\n",
    "from IPython.display import display\n",
    "\n",
    "import torch\n",
    "import torch.nn as nn\n",
    "import torch.nn.functional as F\n",
    "\n",
    "device = torch.device(\"cuda:0\" if torch.cuda.is_available() else \"cpu\")\n",
    "print(\"using device: \",device) "
   ]
  },
  {
   "cell_type": "code",
   "execution_count": null,
   "metadata": {
    "id": "LngBG2pgC6oD"
   },
   "outputs": [],
   "source": [
    "import pong_utils\n",
    "from parallelEnv import parallelEnv"
   ]
  },
  {
   "cell_type": "code",
   "execution_count": null,
   "metadata": {
    "id": "qLYOyrI47L-c"
   },
   "outputs": [],
   "source": [
    "[k for k in list(gym.envs.registry.keys()) if \"Pong\" in k]"
   ]
  },
  {
   "cell_type": "code",
   "execution_count": null,
   "metadata": {
    "id": "bvHK4cgGyZA6"
   },
   "outputs": [],
   "source": [
    "# PongDeterministic does not contain random frameskip\n",
    "# so is faster to train than the vanilla Pong-v4 environment\n",
    "\n",
    "env = gym.make('PongDeterministic-v4')#, render_mode='rgb_array', frameskip=1, full_action_space=False)\n",
    "#env = gym.make('Pong-v4', render_mode='rgb_array', old_step_api=True)#, obs_type='grayscale'\n",
    "\n",
    "print(\"List of available actions: \", env.unwrapped.get_action_meanings())\n",
    "\n",
    "# we will only use the actions 'RIGHTFIRE' = 4 and 'LEFTFIRE\" = 5\n",
    "# the 'FIRE' part ensures that the game starts again after losing a life\n",
    "# the actions are hard-coded in pong_utils.py\n",
    "RIGHT=4\n",
    "LEFT=5"
   ]
  },
  {
   "cell_type": "markdown",
   "metadata": {
    "id": "mm6O2-Uc2qks"
   },
   "source": [
    "# Preprocessing\n",
    "To speed up training, we can simplify the input by cropping the images and use every other pixel\n",
    "\n"
   ]
  },
  {
   "cell_type": "code",
   "execution_count": null,
   "metadata": {
    "id": "i1mpi_NP2qks"
   },
   "outputs": [],
   "source": [
    "#import matplotlib\n",
    "#import matplotlib.pyplot as plt\n",
    "\n",
    "# show what a preprocessed image looks like\n",
    "_, _ = env.reset()\n",
    "_, _, _, _, _ = env.step(0)\n",
    "# get a frame after 20 steps\n",
    "for _ in range(20):\n",
    "    frame, _, _, _, _ = env.step(LEFT)\n",
    "\n",
    "plt.subplot(1,2,1)\n",
    "plt.imshow(frame)\n",
    "plt.title('original image')\n",
    "\n",
    "plt.subplot(1,2,2)\n",
    "plt.title('preprocessed image')\n",
    "\n",
    "# 80 x 80 black and white image\n",
    "plt.imshow(pong_utils.preprocess_single(frame), cmap='Greys')\n",
    "plt.show()\n",
    "\n"
   ]
  },
  {
   "cell_type": "markdown",
   "metadata": {
    "id": "R07DoPK32qks"
   },
   "source": [
    "# Policy\n",
    "\n",
    "## Exercise 1: Implement your policy\n",
    " \n",
    "Here, we define our policy. The input is the stack of two different frames (which captures the movement), and the output is a number $P_{\\rm right}$, the probability of moving left. Note that $P_{\\rm left}= 1-P_{\\rm right}$"
   ]
  },
  {
   "cell_type": "code",
   "execution_count": null,
   "metadata": {
    "id": "ZkrkiVQi2qks"
   },
   "outputs": [],
   "source": [
    "import torch\n",
    "import torch.nn as nn\n",
    "import torch.nn.functional as F\n",
    "\n",
    "# set up a convolutional neural net\n",
    "# the output is the probability of moving right\n",
    "# P(left) = 1-P(right)\n",
    "class WeakPolicy(nn.Module):\n",
    "\n",
    "    def __init__(self):\n",
    "        super(WeakPolicy, self).__init__()\n",
    "        \n",
    "        \n",
    "    ########\n",
    "    ## \n",
    "    ## Modify your neural network\n",
    "    ##\n",
    "    ########\n",
    "        \n",
    "        # 80x80 to outputsize x outputsize\n",
    "        # outputsize = (inputsize - kernel_size + stride)/stride \n",
    "        # (round up if not an integer)\n",
    "\n",
    "        # output = 20x20 here\n",
    "        self.conv = nn.Conv2d(2, 1, kernel_size=4, stride=4)\n",
    "        self.size=1*20*20\n",
    "        \n",
    "        # 1 fully connected layer\n",
    "        self.fc = nn.Linear(self.size, 1)\n",
    "        self.sig = nn.Sigmoid()\n",
    "        \n",
    "    def forward(self, x):\n",
    "        \n",
    "    ########\n",
    "    ## \n",
    "    ## Modify your neural network\n",
    "    ##\n",
    "    ########\n",
    "    \n",
    "        x = F.relu(self.conv(x))\n",
    "        # flatten the tensor\n",
    "        x = x.view(-1,self.size)\n",
    "        return self.sig(self.fc(x))\n",
    "\n",
    "# run your own policy!\n",
    "# policy=Policy().to(device)\n",
    "policy=pong_utils.Policy().to(device)\n",
    "\n",
    "# we use the adam optimizer with learning rate 2e-4\n",
    "# optim.SGD is also possible\n",
    "import torch.optim as optim\n",
    "optimizer = optim.Adam(policy.parameters(), lr=1e-4)"
   ]
  },
  {
   "cell_type": "markdown",
   "metadata": {
    "id": "vsvLD9Hg2qkt"
   },
   "source": [
    "# Game visualization\n",
    "pong_utils contain a play function given the environment and a policy. An optional preprocess function can be supplied. Here we define a function that plays a game and shows learning progress"
   ]
  },
  {
   "cell_type": "code",
   "execution_count": null,
   "metadata": {
    "id": "D2qg5Q7R_-VJ"
   },
   "outputs": [],
   "source": [
    "env.spec"
   ]
  },
  {
   "cell_type": "code",
   "execution_count": null,
   "metadata": {
    "id": "WHIsVgVwI2GR"
   },
   "outputs": [],
   "source": [
    "from matplotlib.animation import FileMovieWriter as filemoviewriter"
   ]
  },
  {
   "cell_type": "code",
   "execution_count": null,
   "metadata": {
    "id": "5i380ASt2qkt"
   },
   "outputs": [],
   "source": [
    "pong_utils.play(env, policy, time=100)#, preprocess=pong_utils.preprocess_single) \n",
    "# try to add the option \"preprocess=pong_utils.preprocess_single\"\n",
    "# to see what the agent sees"
   ]
  },
  {
   "cell_type": "markdown",
   "metadata": {
    "id": "BqPk0dhc2qkt"
   },
   "source": [
    "# Function Definitions\n",
    "Here you will define key functions for training. \n",
    "\n",
    "## Exercise 2: write your own function for training\n",
    "(what I call scalar function is the same as policy_loss up to a negative sign)\n",
    "\n",
    "### PPO\n",
    "Later on, you'll implement the PPO algorithm as well, and the scalar function is given by\n",
    "$\\frac{1}{T}\\sum^T_t \\min\\left\\{R_{t}^{\\rm future}\\frac{\\pi_{\\theta'}(a_t|s_t)}{\\pi_{\\theta}(a_t|s_t)},R_{t}^{\\rm future}{\\rm clip}_{\\epsilon}\\!\\left(\\frac{\\pi_{\\theta'}(a_t|s_t)}{\\pi_{\\theta}(a_t|s_t)}\\right)\\right\\}$\n",
    "\n",
    "the ${\\rm clip}_\\epsilon$ function is implemented in pytorch as ```torch.clamp(ratio, 1-epsilon, 1+epsilon)```"
   ]
  },
  {
   "cell_type": "code",
   "execution_count": null,
   "metadata": {
    "id": "tydIRxGj2qkt"
   },
   "outputs": [],
   "source": [
    "def unclipped_surrogate(policy, old_probs, states, actions, rewards,\n",
    "                      discount = 0.995, epsilon=0.1, beta=0.01):\n",
    "\n",
    "    ########\n",
    "    ## \n",
    "    ## WRITE YOUR OWN CODE HERE\n",
    "    ##\n",
    "    ########\n",
    "    \n",
    "    actions = torch.tensor(actions, dtype=torch.int8, device=device)\n",
    "\n",
    "    # convert states to policy (or probability)\n",
    "    new_probs = pong_utils.states_to_prob(policy, states)\n",
    "    new_probs = torch.where(actions == pong_utils.RIGHT, new_probs, 1.0-new_probs)\n",
    "\n",
    "    # include a regularization term\n",
    "    # this steers new_policy towards 0.5\n",
    "    # prevents policy to become exactly 0 or 1 helps exploration\n",
    "    # add in 1.e-10 to avoid log(0) which gives nan\n",
    "    entropy = -(new_probs*torch.log(old_probs+1.e-10)+ \\\n",
    "        (1.0-new_probs)*torch.log(1.0-old_probs+1.e-10))\n",
    "\n",
    "    return torch.mean(beta*entropy)\n"
   ]
  },
  {
   "cell_type": "code",
   "execution_count": null,
   "metadata": {
    "id": "Dq7DQwcP8Eym"
   },
   "outputs": [],
   "source": [
    "# clipped surrogate function\n",
    "# similar as -policy_loss for REINFORCE, but for PPO\n",
    "def clipped_surrogate(policy, old_probs, states, actions, rewards,\n",
    "                      discount=0.995,\n",
    "                      epsilon=0.1, beta=0.01):\n",
    "\n",
    "    discount = discount**np.arange(len(rewards))\n",
    "    rewards = np.asarray(rewards)*discount[:,np.newaxis]\n",
    "    \n",
    "    # convert rewards to future rewards\n",
    "    rewards_future = rewards[::-1].cumsum(axis=0)[::-1]\n",
    "    \n",
    "    mean = np.mean(rewards_future, axis=1)\n",
    "    std = np.std(rewards_future, axis=1) + 1.0e-10\n",
    "\n",
    "    rewards_normalized = (rewards_future - mean[:,np.newaxis])/std[:,np.newaxis]\n",
    "    \n",
    "    # convert everything into pytorch tensors and move to gpu if available\n",
    "    actions = torch.tensor(actions, dtype=torch.int8, device=device)\n",
    "    old_probs = torch.tensor(old_probs, dtype=torch.float, device=device)\n",
    "    rewards = torch.tensor(rewards_normalized, dtype=torch.float, device=device)\n",
    "\n",
    "    # convert states to policy (or probability)\n",
    "    new_probs = states_to_prob(policy, states)\n",
    "    new_probs = torch.where(actions == RIGHT, new_probs, 1.0-new_probs)\n",
    "    \n",
    "    # ratio for clipping\n",
    "    ratio = new_probs/old_probs\n",
    "\n",
    "    # clipped function\n",
    "    clip = torch.clamp(ratio, 1-epsilon, 1+epsilon)\n",
    "    clipped_surrogate = torch.min(ratio*rewards, clip*rewards)\n",
    "\n",
    "    # include a regularization term\n",
    "    # this steers new_policy towards 0.5\n",
    "    # add in 1.e-10 to avoid log(0) which gives nan\n",
    "    entropy = -(new_probs*torch.log(old_probs+1.e-10)+ \\\n",
    "        (1.0-new_probs)*torch.log(1.0-old_probs+1.e-10))\n",
    "\n",
    "    \n",
    "    # this returns an average of all the entries of the tensor\n",
    "    # effective computing L_sur^clip / T\n",
    "    # averaged over time-step and number of trajectories\n",
    "    # this is desirable because we have normalized our rewards\n",
    "    return torch.mean(clipped_surrogate + beta*entropy)"
   ]
  },
  {
   "cell_type": "markdown",
   "metadata": {
    "id": "g3zQsz-W2qku"
   },
   "source": [
    "# Training\n",
    "We are now ready to train our policy!\n",
    "WARNING: make sure to turn on GPU, which also enables multicore processing. It may take up to 45 minutes even with GPU enabled, otherwise it will take much longer!"
   ]
  },
  {
   "cell_type": "code",
   "execution_count": null,
   "metadata": {
    "id": "H28z7Px92qku",
    "scrolled": true
   },
   "outputs": [],
   "source": [
    "\n",
    "#import numpy as np\n",
    "# keep track of how long training takes\n",
    "# WARNING: running through all 800 episodes will take 30-45 minutes\n",
    "\n",
    "# training loop max iterations\n",
    "episode = 400\n",
    "\n",
    "# widget bar to display progress\n",
    "#!pip install progressbar\n",
    "#import progressbar as pb\n",
    "widget = ['training loop: ', pb.Percentage(), ' ', \n",
    "          pb.Bar(), ' ', pb.ETA() ]\n",
    "timer = pb.ProgressBar(widgets=widget, maxval=episode).start()\n",
    "\n",
    "envs = parallelEnv('PongDeterministic-v4', n=8, seed=1234)\n",
    "\n",
    "discount_rate = .99\n",
    "epsilon = 0.1\n",
    "beta = .01\n",
    "tmax = 320\n",
    "SGD_epoch = 4\n",
    "\n",
    "# keep track of progress\n",
    "mean_rewards = []\n",
    "\n",
    "for e in range(episode):\n",
    "\n",
    "    # collect trajectories\n",
    "    old_probs, states, actions, rewards = pong_utils.collect_trajectories(envs, policy, tmax=tmax)\n",
    "        \n",
    "    total_rewards = np.sum(rewards, axis=0)\n",
    "\n",
    "    # gradient ascent step\n",
    "    for _ in range(SGD_epoch):\n",
    "        \n",
    "        # uncomment to utilize your own clipped function!\n",
    "        L = -clipped_surrogate(policy, old_probs, states, actions, rewards, epsilon=epsilon, beta=beta)\n",
    "\n",
    "        #L = -pong_utils.clipped_surrogate(policy, old_probs, states, actions, rewards,\n",
    "        #                                  epsilon=epsilon, beta=beta)\n",
    "        optimizer.zero_grad()\n",
    "        L.backward()\n",
    "        optimizer.step()\n",
    "        del L\n",
    "    \n",
    "    # the clipping parameter reduces as time goes on\n",
    "    epsilon*=.999\n",
    "    \n",
    "    # the regulation term also reduces\n",
    "    # this reduces exploration in later runs\n",
    "    beta*=.995\n",
    "    \n",
    "    # get the average reward of the parallel environments\n",
    "    mean_rewards.append(np.mean(total_rewards))\n",
    "    \n",
    "    # display some progress every 20 iterations\n",
    "    if (e+1)%20 == 0 :\n",
    "        print(\"Episode: {0:d}, score: {1:f}\".format(e+1, np.mean(total_rewards)))\n",
    "        print(total_rewards)\n",
    "        \n",
    "    # update progress widget bar\n",
    "    timer.update(e+1)\n",
    "    \n",
    "timer.finish()"
   ]
  },
  {
   "cell_type": "code",
   "execution_count": null,
   "metadata": {
    "id": "fgEbiI-w2qku"
   },
   "outputs": [],
   "source": [
    "pong_utils.play(env, policy, time=200) "
   ]
  },
  {
   "cell_type": "code",
   "execution_count": null,
   "metadata": {
    "id": "8fWqGYjg2qku"
   },
   "outputs": [],
   "source": [
    "# save your policy!\n",
    "#torch.save(policy, 'pong_PPO.policy')\n",
    "\n",
    "# load policy if needed\n",
    "# policy = torch.load('PPO.policy')\n",
    "\n",
    "# try and test out the solution \n",
    "# make sure GPU is enabled, otherwise loading will fail\n",
    "# (the PPO verion can win more often than not)!\n",
    "#\n",
    "if device != 'cpu':\n",
    "    policy_solution = torch.load('PPO_OG.policy')\n",
    "    pong_utils.play(env, policy_solution, time=2000) "
   ]
  }
 ],
 "metadata": {
  "accelerator": "GPU",
  "colab": {
   "machine_shape": "hm",
   "provenance": []
  },
  "gpuClass": "standard",
  "kernelspec": {
   "display_name": "drlnd_p2",
   "language": "python",
   "name": "drlnd_p2"
  },
  "language_info": {
   "codemirror_mode": {
    "name": "ipython",
    "version": 3
   },
   "file_extension": ".py",
   "mimetype": "text/x-python",
   "name": "python",
   "nbconvert_exporter": "python",
   "pygments_lexer": "ipython3",
   "version": "3.6.15"
  }
 },
 "nbformat": 4,
 "nbformat_minor": 1
}
