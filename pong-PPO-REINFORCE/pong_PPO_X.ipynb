{
 "cells": [
  {
   "cell_type": "markdown",
   "metadata": {
    "id": "BKH0-yBwyZA4"
   },
   "source": [
    "# Welcome!\n",
    "Below, we will learn to implement and train a policy to play atari-pong, using only the pixels as input. We will use convolutional neural nets, multiprocessing, and pytorch to implement and train our policy. Let's get started!\n",
    "\n",
    "(I strongly recommend you to try this notebook on the Udacity workspace first before running it locally on your desktop/laptop, as performance might suffer in different environments)"
   ]
  },
  {
   "cell_type": "code",
   "execution_count": 1,
   "metadata": {
    "id": "lk3IydYxyZA5"
   },
   "outputs": [
    {
     "name": "stdout",
     "output_type": "stream",
     "text": [
      "\tusing Ipython\n",
      "\tusing device: cuda:0\n"
     ]
    }
   ],
   "source": [
    "# render open_ai gym environment\n",
    "import gymnasium as gym\n",
    "\n",
    "import torch\n",
    "import torch.nn as nn\n",
    "import torch.nn.functional as F\n",
    "import random\n",
    "import time\n",
    "import numpy as np\n",
    "import progressbar as pb\n",
    "from collections import deque\n",
    "import matplotlib.pyplot as plt\n",
    "from matplotlib import animation\n",
    "from JSAnimation.IPython_display import display_animation\n",
    "\n",
    "%matplotlib inline\n",
    "is_ipython = 'inline' in plt.get_backend()\n",
    "if is_ipython:\n",
    "    print(\"\\tusing Ipython\")\n",
    "    from IPython.display import display\n",
    "else:\n",
    "    print(\"pyvirtualdisplay\")\n",
    "    #!python -m pip install pyvirtualdisplay\n",
    "    from pyvirtualdisplay import Display\n",
    "    display = Display(visible=0, size=(1400, 900))\n",
    "    display.start()\n",
    "ion_context = plt.ion()\n",
    "\n",
    "from parallelEnv_X import parallelEnv\n",
    "\n",
    "device = torch.device(\"cuda:0\" if torch.cuda.is_available() else \"cpu\")\n",
    "print(\"\\tusing device:\", device) "
   ]
  },
  {
   "cell_type": "code",
   "execution_count": 2,
   "metadata": {
    "id": "qLYOyrI47L-c",
    "tags": []
   },
   "outputs": [
    {
     "data": {
      "text/plain": [
       "parallelEnv_X.parallelEnv"
      ]
     },
     "execution_count": 2,
     "metadata": {},
     "output_type": "execute_result"
    }
   ],
   "source": [
    "#[k for k in list(gym.envs.registry.keys()) if \"Pong\" in k]\n",
    "parallelEnv"
   ]
  },
  {
   "cell_type": "code",
   "execution_count": 3,
   "metadata": {
    "id": "bvHK4cgGyZA6"
   },
   "outputs": [
    {
     "name": "stdout",
     "output_type": "stream",
     "text": [
      "List of available actions:  ['NOOP', 'FIRE', 'RIGHT', 'LEFT', 'RIGHTFIRE', 'LEFTFIRE']\n"
     ]
    }
   ],
   "source": [
    "# PongDeterministic does not contain random frameskip\n",
    "# so is faster to train than the vanilla Pong-v4 environment\n",
    "\n",
    "env = gym.make('PongDeterministic-v4', render_mode='rgb_array')\n",
    "#env = gym.make('Pong-v4', full_action_space=False, frameskip=1, render_mode='rgb_array', old_step_api=True)#, obs_type='grayscale'\n",
    "\n",
    "print(\"List of available actions: \", env.unwrapped.get_action_meanings())\n",
    "\n",
    "# we will only use the actions 'RIGHTFIRE' = 4 and 'LEFTFIRE\" = 5\n",
    "# the 'FIRE' part ensures that the game starts again after losing a life\n",
    "# the actions are hard-coded in pong_utils.py\n",
    "RIGHT=4\n",
    "LEFT=5"
   ]
  },
  {
   "cell_type": "markdown",
   "metadata": {
    "id": "8ueCaKFD2rLw",
    "tags": []
   },
   "source": [
    "# Utils"
   ]
  },
  {
   "cell_type": "code",
   "execution_count": 4,
   "metadata": {
    "id": "nWJcISvX2uNm"
   },
   "outputs": [],
   "source": [
    "def output_volume(in_dims, k, s, p, transpose=False):\n",
    "    ''' Calculate a convolutional layer's output size from input size\n",
    "        and the layer's parameters:\n",
    "        in_dims (int or tuple): input dimensions\n",
    "        k (int or tuple): kernel size \n",
    "        s (int or tuple): stride\n",
    "        p (int or tuple): padding \n",
    "    '''\n",
    "    if not transpose:\n",
    "    #convolution out\n",
    "        try:\n",
    "            out_size = int(np.floor((in_dims - k + 2*p)/s + 1))\n",
    "        except:\n",
    "            out_size = tuple(int(np.floor((idid - kk + 2*pp)/ss + 1)) if ss!=0 else None for idid, kk, ss, pp in zip(in_dims,k,s,p))\n",
    "    \n",
    "    else: \n",
    "    #deconvolution out\n",
    "        try:\n",
    "            out_size = int(np.floor((in_dims - 1)*s + k - 2*p))\n",
    "        except:\n",
    "            out_size = tuple(int(np.floor((idid - 1)*ss + kk - 2*pp)) for idid, kk, ss, pp in zip(in_dims,k,s,p))\n",
    "        \n",
    "    return out_size\n",
    "\n"
   ]
  },
  {
   "cell_type": "code",
   "execution_count": 29,
   "metadata": {
    "collapsed": true,
    "jupyter": {
     "outputs_hidden": true
    },
    "tags": []
   },
   "outputs": [
    {
     "name": "stdout",
     "output_type": "stream",
     "text": [
      "{'lives': 0, 'episode_frame_number': 4, 'frame_number': 20}\n",
      "{'lives': 0, 'episode_frame_number': 4, 'frame_number': 20}\n",
      "{'lives': 0, 'episode_frame_number': 4, 'frame_number': 20}\n",
      "{'lives': 0, 'episode_frame_number': 4, 'frame_number': 20}\n",
      "{'lives': 0, 'episode_frame_number': 4, 'frame_number': 20}\n",
      "{'lives': 0, 'episode_frame_number': 4, 'frame_number': 20}\n",
      "{'lives': 0, 'episode_frame_number': 4, 'frame_number': 20}\n",
      "{'lives': 0, 'episode_frame_number': 4, 'frame_number': 20}\n",
      "{'lives': 0, 'episode_frame_number': 4, 'frame_number': 20}\n",
      "{'lives': 0, 'episode_frame_number': 4, 'frame_number': 20}\n",
      "{'lives': 0, 'episode_frame_number': 4, 'frame_number': 20}\n",
      "{'lives': 0, 'episode_frame_number': 4, 'frame_number': 28}\n"
     ]
    },
    {
     "ename": "BrokenPipeError",
     "evalue": "[WinError 232] The pipe is being closed",
     "output_type": "error",
     "traceback": [
      "\u001b[1;31m---------------------------------------------------------------------------\u001b[0m",
      "\u001b[1;31mBrokenPipeError\u001b[0m                           Traceback (most recent call last)",
      "Cell \u001b[1;32mIn[29], line 4\u001b[0m\n\u001b[0;32m      2\u001b[0m     env\u001b[38;5;241m.\u001b[39mreset()\n\u001b[0;32m      3\u001b[0m     \u001b[38;5;28mprint\u001b[39m(env\u001b[38;5;241m.\u001b[39mstep(\u001b[38;5;241m4\u001b[39m)[\u001b[38;5;241m4\u001b[39m])\n\u001b[1;32m----> 4\u001b[0m \u001b[43menvs\u001b[49m\u001b[38;5;241;43m.\u001b[39;49m\u001b[43mstep\u001b[49m\u001b[43m(\u001b[49m\u001b[43m[\u001b[49m\u001b[38;5;241;43m4\u001b[39;49m\u001b[43m]\u001b[49m\u001b[38;5;241;43m*\u001b[39;49m\u001b[43mnenvs\u001b[49m\u001b[43m)\u001b[49m\n",
      "File \u001b[1;32m~\\Documents\\Repositories\\deep-reinforcement-learning\\pong-PPO-REINFORCE\\parallelEnv_X.py:84\u001b[0m, in \u001b[0;36mVecEnv.step\u001b[1;34m(self, actions)\u001b[0m\n\u001b[0;32m     79\u001b[0m \u001b[38;5;28;01mdef\u001b[39;00m \u001b[38;5;21mstep\u001b[39m(\u001b[38;5;28mself\u001b[39m, actions):\n\u001b[0;32m     80\u001b[0m \u001b[38;5;250m    \u001b[39m\u001b[38;5;124;03m\"\"\"\u001b[39;00m\n\u001b[0;32m     81\u001b[0m \u001b[38;5;124;03m    Step the environments synchronously.\u001b[39;00m\n\u001b[0;32m     82\u001b[0m \u001b[38;5;124;03m    This is available for backwards compatibility.\u001b[39;00m\n\u001b[0;32m     83\u001b[0m \u001b[38;5;124;03m    \"\"\"\u001b[39;00m\n\u001b[1;32m---> 84\u001b[0m     \u001b[38;5;28;43mself\u001b[39;49m\u001b[38;5;241;43m.\u001b[39;49m\u001b[43mstep_async\u001b[49m\u001b[43m(\u001b[49m\u001b[43mactions\u001b[49m\u001b[43m)\u001b[49m\n\u001b[0;32m     85\u001b[0m     \u001b[38;5;28;01mreturn\u001b[39;00m \u001b[38;5;28mself\u001b[39m\u001b[38;5;241m.\u001b[39mstep_wait()\n",
      "File \u001b[1;32m~\\Documents\\Repositories\\deep-reinforcement-learning\\pong-PPO-REINFORCE\\parallelEnv_X.py:166\u001b[0m, in \u001b[0;36mparallelEnv.step_async\u001b[1;34m(self, actions)\u001b[0m\n\u001b[0;32m    164\u001b[0m \u001b[38;5;28;01mdef\u001b[39;00m \u001b[38;5;21mstep_async\u001b[39m(\u001b[38;5;28mself\u001b[39m, actions):\n\u001b[0;32m    165\u001b[0m     \u001b[38;5;28;01mfor\u001b[39;00m remote, action \u001b[38;5;129;01min\u001b[39;00m \u001b[38;5;28mzip\u001b[39m(\u001b[38;5;28mself\u001b[39m\u001b[38;5;241m.\u001b[39mremotes, actions):\n\u001b[1;32m--> 166\u001b[0m         \u001b[43mremote\u001b[49m\u001b[38;5;241;43m.\u001b[39;49m\u001b[43msend\u001b[49m\u001b[43m(\u001b[49m\u001b[43m(\u001b[49m\u001b[38;5;124;43m'\u001b[39;49m\u001b[38;5;124;43mstep\u001b[39;49m\u001b[38;5;124;43m'\u001b[39;49m\u001b[43m,\u001b[49m\u001b[43m \u001b[49m\u001b[43maction\u001b[49m\u001b[43m)\u001b[49m\u001b[43m)\u001b[49m\n\u001b[0;32m    167\u001b[0m     \u001b[38;5;28mself\u001b[39m\u001b[38;5;241m.\u001b[39mwaiting \u001b[38;5;241m=\u001b[39m \u001b[38;5;28;01mTrue\u001b[39;00m\n",
      "File \u001b[1;32mC:\\ProgramData\\Anaconda3\\envs\\general\\lib\\multiprocessing\\connection.py:211\u001b[0m, in \u001b[0;36m_ConnectionBase.send\u001b[1;34m(self, obj)\u001b[0m\n\u001b[0;32m    209\u001b[0m \u001b[38;5;28mself\u001b[39m\u001b[38;5;241m.\u001b[39m_check_closed()\n\u001b[0;32m    210\u001b[0m \u001b[38;5;28mself\u001b[39m\u001b[38;5;241m.\u001b[39m_check_writable()\n\u001b[1;32m--> 211\u001b[0m \u001b[38;5;28;43mself\u001b[39;49m\u001b[38;5;241;43m.\u001b[39;49m\u001b[43m_send_bytes\u001b[49m\u001b[43m(\u001b[49m\u001b[43m_ForkingPickler\u001b[49m\u001b[38;5;241;43m.\u001b[39;49m\u001b[43mdumps\u001b[49m\u001b[43m(\u001b[49m\u001b[43mobj\u001b[49m\u001b[43m)\u001b[49m\u001b[43m)\u001b[49m\n",
      "File \u001b[1;32mC:\\ProgramData\\Anaconda3\\envs\\general\\lib\\multiprocessing\\connection.py:285\u001b[0m, in \u001b[0;36mPipeConnection._send_bytes\u001b[1;34m(self, buf)\u001b[0m\n\u001b[0;32m    284\u001b[0m \u001b[38;5;28;01mdef\u001b[39;00m \u001b[38;5;21m_send_bytes\u001b[39m(\u001b[38;5;28mself\u001b[39m, buf):\n\u001b[1;32m--> 285\u001b[0m     ov, err \u001b[38;5;241m=\u001b[39m \u001b[43m_winapi\u001b[49m\u001b[38;5;241;43m.\u001b[39;49m\u001b[43mWriteFile\u001b[49m\u001b[43m(\u001b[49m\u001b[38;5;28;43mself\u001b[39;49m\u001b[38;5;241;43m.\u001b[39;49m\u001b[43m_handle\u001b[49m\u001b[43m,\u001b[49m\u001b[43m \u001b[49m\u001b[43mbuf\u001b[49m\u001b[43m,\u001b[49m\u001b[43m \u001b[49m\u001b[43moverlapped\u001b[49m\u001b[38;5;241;43m=\u001b[39;49m\u001b[38;5;28;43;01mTrue\u001b[39;49;00m\u001b[43m)\u001b[49m\n\u001b[0;32m    286\u001b[0m     \u001b[38;5;28;01mtry\u001b[39;00m:\n\u001b[0;32m    287\u001b[0m         \u001b[38;5;28;01mif\u001b[39;00m err \u001b[38;5;241m==\u001b[39m _winapi\u001b[38;5;241m.\u001b[39mERROR_IO_PENDING:\n",
      "\u001b[1;31mBrokenPipeError\u001b[0m: [WinError 232] The pipe is being closed"
     ]
    }
   ],
   "source": [
    "for env in envs.env_fns:\n",
    "    env.reset()\n",
    "    print(env.step(4)[4])\n",
    "envs.step([4]*nenvs)"
   ]
  },
  {
   "cell_type": "code",
   "execution_count": 5,
   "metadata": {},
   "outputs": [],
   "source": [
    "# preprocess a single frame: stack two imgs together, crop and downsample to 80x80\n",
    "def preprocess_single(image, bkg_color = np.array([144, 72, 17])):\n",
    "    img = np.mean(image[34:-16:2, ::2]-bkg_color, axis=-1)/255.\n",
    "    return img # as an np.array\n",
    "\n",
    "# convert outputs of parallelEnv to inputs to pytorch neural net\n",
    "# this is useful for batch processing especially on the GPU\n",
    "def preprocess_batch(images, bkg_color = np.array([144, 72, 17])):\n",
    "    '''Specified to \"properly convert two frames into shape (n, 2, 80, 80)\" or (N,2,W,H)\n",
    "        Called by: play(), collect_trajectories()\n",
    "        PARAMS\n",
    "        images (np.array): array of size (N, 2, W, H, C) where:\n",
    "                                          N = number of contributing envs\n",
    "                                          2 = two images, each shaped (W,H,C)\n",
    "                                          W = Width of image\n",
    "                                          H = height of image\n",
    "                                          C = # color channels (1=None, or 3)                                      \n",
    "        bkg_color (np.array): adjustment to subtract from each color channel shape (3,)\n",
    "        RETURNS\n",
    "        batch_input (np.array): shaped (N,2,80,80) and scaled to (0,1) values,\n",
    "                                ready to be torched and sent to policy\n",
    "    '''\n",
    "    if len(images.shape) < 5:              # if shape not (N,2,W,H,C) then:\n",
    "        images = np.expand_dims(images, 0) # expand to (1,2,W,H,C) \n",
    "    # subtract bkg and crop\n",
    "    batch_input = images[:, :, 34:-16:2, ::2]-bkg_color\n",
    "    # average over last axis (the r, g, and b color channels)\n",
    "    batch_input = np.mean(batch_input, axis=-1)/255. #shape now (N,2,80,80)\n",
    "    return batch_input  # returns an np.array \n",
    "                        # note NOT torch.from_numpy().float().to(device)\n",
    "\n",
    "# convert states to probability, passing through the policy\n",
    "def states_to_probs(policy, states):\n",
    "    '''Only called from clipped_surrogate\n",
    "       Only this fxn and collect_T() call Policy\n",
    "       !!! Backwards grad only applied here !!!\n",
    "       Takes states, a tensor of preprocessed rgb-tensors on cuda, and\n",
    "             policy, a CNN on cuda\n",
    "       Returns policy outputs, still as a tensor on cuda\n",
    "       '''\n",
    "    policy_input = states.view(-1, *states.shape[-3:]) #\n",
    "    probs = policy(policy_input)\n",
    "    return probs.view(states.shape[:-3])  #cuda tensor -->\n",
    "\n",
    "# collect trajectories for a parallelized parallelEnv object\n",
    "def collect_trajectories(envs, policy, max_steps=500, nrand=4):\n",
    "    \n",
    "    # number of parallel instances\n",
    "    n=envs.n\n",
    "\n",
    "    #initialize returning lists and start the game!\n",
    "    state_list=[]\n",
    "    reward_list=[]\n",
    "    prob_list=[]\n",
    "    polprob_list=[]\n",
    "    action_list=[]\n",
    "\n",
    "    for env in envs:\n",
    "        env.reset(seed=env.seed)\n",
    "    \n",
    "    # start all parallel agents\n",
    "    _, _, _, _ = envs.step([RIGHT]*n)\n",
    "    \n",
    "    # perform nrand random steps\n",
    "    for _ in range(nrand):\n",
    "        st1, re1, _, _ = envs.step(np.random.choice([RIGHT, LEFT, 0], n))\n",
    "        st2, re2, _, _ = envs.step([0]*n)                              # n (s1, s2)\n",
    "    \n",
    "    for t in range(max_steps):\n",
    "\n",
    "        # prepare the input into array of shape (N,2,W,H,3) where N is n_envs\n",
    "        states = np.asarray( [[s1, s2] for s1, s2 in zip(st1, st2)] )\n",
    "        #= np.asarray( [np.asarray([s1, s2]) for s1, s2 in zip(st1, st2)] )\n",
    "        \n",
    "        # preprocess_batch will convert two frames from\n",
    "        # each env, so (N, 2, W, H, 3), into shape (N, 2, 80, 80), \n",
    "        # as required by the input size for the pytorch CNN policy\n",
    "        states = preprocess_batch(states)                           # n states\n",
    "        states = torch.from_numpy(states).float().to(device)\n",
    "        \n",
    "        # probs will only be used as the pi_old..?\n",
    "        # no gradient propagation is needed so why not move it to the cpu..?\n",
    "        \n",
    "        ### ###### Turn off no_grad\n",
    "        #policy.eval()\n",
    "        #with torch.no_grad():\n",
    "        polprobs = policy(states)# why.squeeze()? #) # n polprobs <-- from policy_input (N,2,80,80)\n",
    "        #policy.train()\n",
    "        actions = torch.where(torch.rand(n).to(device) < polprobs, RIGHT, LEFT)       # n actions.to(device)\n",
    "        ### WHY THIS??\n",
    "        probs = torch.where(actions==RIGHT, polprobs, 1.0-polprobs)        # n probs\n",
    "        \n",
    "        # take one action and advance the game (0=no action)\n",
    "        # states = batch_input > > use, wait > > do .detach().cpu().numpy() here:\n",
    "        acts = actions.detach().cpu()\n",
    "        st1, re1, is_done, _ = envs.step(acts.numpy())                  # n acts: numpy cpu\n",
    "        st2, re2, is_done, _ = envs.step([0]*n)                         # n dones: bools\n",
    "        #rewards = re1 + re2                                             # n rewards: floats < Doubled here!\n",
    "        rewards = (re1 + 2*re2)/3  # <<< try what not doubling reward does!\n",
    "        # store the result                                              # n each of:\n",
    "        state_list.append(states)\n",
    "        action_list.append(actions)\n",
    "        reward_list.append(rewards)\n",
    "        polprob_list.append(polprobs)\n",
    "        prob_list.append(probs)\n",
    "        \n",
    "        # stop if any of the trajectories is done so all the lists are rectangular\n",
    "        if is_done.any():\n",
    "            break\n",
    "    \n",
    "    # Torch and move to cude before returning (except rewards still np cpu)\n",
    "    states = torch.stack(state_list).to(device)\n",
    "    actions = torch.stack(action_list).to(device)\n",
    "    polprobs = torch.stack(polprob_list).to(device)\n",
    "    probs = torch.stack(prob_list).to(device)\n",
    "    \n",
    "    # back to main training loop:\n",
    "    return  states, actions, reward_list, polprobs, probs\n",
    "\n",
    "# clipped surrogate function\n",
    "# similar as -policy_loss for REINFORCE, but for PPO\n",
    "# called from training \"SGD-loop\" with returns from one set of collect-Ts\n",
    "# returns a tensor of scaled and clipped  Ratio x Rewards\n",
    "def clipped_surrogate(policy, old_probs, \n",
    "                      states, actions, rewards,\n",
    "                      discount=0.995,\n",
    "                      epsilon=0.1, \n",
    "                      beta=0.01):\n",
    "    ''' Inputs expected to all on cuda device and torch'd, except for rewards. \n",
    "        Each (state/action/reward) tensor is N single steps, one step for each env\n",
    "        Returns (probability_ratio x expected_rewards) averaged across envs (tensor on cuda)\n",
    "    '''\n",
    "    discount = discount**np.arange(len(rewards))\n",
    "    rewards = np.asarray(rewards)*discount[:,np.newaxis]\n",
    "    \n",
    "    # convert rewards to future rewards -- still numpys\n",
    "    rewards_future = rewards[::-1].cumsum(axis=0)[::-1]\n",
    "    \n",
    "    mean = np.mean(rewards_future, axis=1)\n",
    "    std = np.std(rewards_future, axis=1) + 1.0e-10\n",
    "\n",
    "    rewards_normalized = (rewards_future - mean[:,np.newaxis])/std[:,np.newaxis]\n",
    "    \n",
    "    # convert everything into pytorch tensors and move to gpu if available\n",
    "    #actions = torch.tensor(np.asarray(actions), dtype=torch.int8, device=device)\n",
    "    #old_probs = torch.tensor(np.asarray(old_probs), dtype=torch.float, device=device)\n",
    "    rewards = torch.tensor(rewards_normalized, dtype=torch.float, device=device)\n",
    "\n",
    "    # convert states to policy (or probability)\n",
    "    new_probs = states_to_probs(policy, states)\n",
    "    new_probs = torch.where(actions == RIGHT, new_probs, 1.0-new_probs)\n",
    "        \n",
    "    # ratio for clipping\n",
    "    ratio = new_probs/old_probs  # both tensors on cuda\n",
    "\n",
    "    # clipped function\n",
    "    clip = torch.clamp(ratio, min=ratio-epsilon, max=ratio+epsilon)\n",
    "    clipped_surrogate = torch.min(ratio*rewards, clip*rewards)\n",
    "\n",
    "    # include a regularization term\n",
    "    # this steers new_policy towards 0.5\n",
    "    # add in 1.e-10 to avoid log(0) which gives nan\n",
    "    if old_probs.any()<0. or old_probs.any()>1.:\n",
    "        old_probs = old_probs/torch.max(old_probs, axis=0)\n",
    "    entropy = -( new_probs*torch.log(old_probs) + (1.0-new_probs)*torch.log(1.0-old_probs))\n",
    "\n",
    "    \n",
    "    # this returns an average of all the entries of the tensor\n",
    "    # effective computing L_sur^clip / T\n",
    "    # averaged over time-step and number of trajectories\n",
    "    # this is desirable because we have normalized our rewards\n",
    "    return torch.mean(clipped_surrogate + beta*entropy)\n"
   ]
  },
  {
   "cell_type": "code",
   "execution_count": 6,
   "metadata": {
    "jupyter": {
     "source_hidden": true
    },
    "tags": []
   },
   "outputs": [],
   "source": [
    "# function to animate a list of frames\n",
    "def animate_frames(frames):\n",
    "    plt.axis('off')\n",
    "\n",
    "    # color option for plotting\n",
    "    # use Greys for greyscale\n",
    "    cmap = None if len(frames[0].shape)==3 else 'Greys'\n",
    "    patch = plt.imshow(frames[0], cmap=cmap)  \n",
    "\n",
    "    fanim = animation.FuncAnimation(plt.gcf(), \\\n",
    "                        lambda x: patch.set_data(frames[x]), frames = len(frames), interval=30)\n",
    "    \n",
    "    display(display_animation(fanim, default_mode='once'))\n",
    "    \n",
    "    \n",
    "# play a game and display the animation\n",
    "# nrand = number of random steps before using the policy\n",
    "def play(env, policy, time=2000, preprocess=None, nrand=5):\n",
    "    env.reset()\n",
    "\n",
    "    # start game\n",
    "    env.step(4)\n",
    "    \n",
    "    # perform nrand random steps in the beginning\n",
    "    for _ in range(nrand):\n",
    "        frame1, reward1, is_done, is_trunc, info = env.step(np.random.choice([RIGHT,LEFT]))\n",
    "        frame2, reward2, is_done, is_trunc, info = env.step(0)\n",
    "        is_done = is_done or is_trunc\n",
    "    \n",
    "    anim_frames = []\n",
    "    \n",
    "    for _ in range(time):\n",
    "        \n",
    "        frame_input = preprocess_batch(np.asarray([frame1, frame2]))\n",
    "        frame_input = torch.from_numpy(frame_input).float().to(device)\n",
    "        prob = policy(frame_input)\n",
    "        \n",
    "        # RIGHT = 4, LEFT = 5\n",
    "        action = RIGHT if random.random() < prob else LEFT\n",
    "        frame1, _, is_done, is_trunc, _ = env.step(action)\n",
    "        frame2, _, is_done, is_trunc, _ = env.step(0)\n",
    "        is_done = is_done or is_trunc\n",
    "\n",
    "        if preprocess is None:\n",
    "            anim_frames.append(frame1)\n",
    "        else:\n",
    "            anim_frames.append(preprocess(frame1))\n",
    "\n",
    "        if is_done:\n",
    "            break\n",
    "    \n",
    "    # ? env.close()\n",
    "    \n",
    "    animate_frames(anim_frames)\n",
    "    return "
   ]
  },
  {
   "cell_type": "markdown",
   "metadata": {
    "id": "wpACk9hYyZA6",
    "tags": []
   },
   "source": [
    "# Preprocessing\n",
    "To speed up training, we can simplify the input by cropping the images and use every other pixel\n",
    "\n"
   ]
  },
  {
   "cell_type": "code",
   "execution_count": 7,
   "metadata": {
    "id": "RzCwM5nUYeQY",
    "tags": []
   },
   "outputs": [
    {
     "data": {
      "text/plain": [
       "<matplotlib.image.AxesImage at 0x26bdff55c40>"
      ]
     },
     "execution_count": 7,
     "metadata": {},
     "output_type": "execute_result"
    },
    {
     "data": {
      "image/png": "[encoded data removed]",
      "text/plain": [
       "<Figure size 640x480 with 1 Axes>"
      ]
     },
     "metadata": {},
     "output_type": "display_data"
    }
   ],
   "source": [
    "obs, info = env.reset()\n",
    "#env.step(1)\n",
    "plt.imshow(preprocess_single(obs))#, cmap='Greys')"
   ]
  },
  {
   "cell_type": "code",
   "execution_count": 8,
   "metadata": {
    "id": "4-GMFDmryZA7",
    "tags": []
   },
   "outputs": [
    {
     "data": {
      "image/png": "[encoded data removed]",
      "text/plain": [
       "<Figure size 640x480 with 2 Axes>"
      ]
     },
     "metadata": {},
     "output_type": "display_data"
    }
   ],
   "source": [
    "\n",
    "# show what a preprocessed image looks like\n",
    "obs, info = env.reset()\n",
    "_, _, _, _, _ = env.step(0)\n",
    "# get a frame after 20 steps\n",
    "for _ in range(20):\n",
    "    frame, _, _, _, _ = env.step(np.random.choice([0,4,5]))\n",
    "\n",
    "plt.subplot(1,2,1)\n",
    "plt.imshow(frame)\n",
    "plt.title('original image')\n",
    "\n",
    "plt.subplot(1,2,2)\n",
    "plt.title('preprocessed image')\n",
    "\n",
    "# 80 x 80 black and white image\n",
    "plt.imshow(preprocess_single(frame), cmap='Greys')\n",
    "plt.show()\n",
    "\n"
   ]
  },
  {
   "cell_type": "markdown",
   "metadata": {
    "id": "7yutVg1-yZA7",
    "tags": []
   },
   "source": [
    "# Policy\n",
    "\n",
    "## Exercise 1: Implement your policy\n",
    " \n",
    "Here, we define our policy. The input is the stack of two different frames (which captures the movement), and the output is a number $P_{\\rm right}$, the probability of moving left. Note that $P_{\\rm left}= 1-P_{\\rm right}$"
   ]
  },
  {
   "cell_type": "code",
   "execution_count": 9,
   "metadata": {
    "id": "cZ8Y5aadyZA7"
   },
   "outputs": [],
   "source": [
    "# set up a convolutional neural net\n",
    "# the output is the probability of moving right\n",
    "# P(left) = 1-P(right)\n",
    "class Policy(nn.Module):\n",
    "\n",
    "    def __init__(self):\n",
    "        super(Policy, self).__init__()\n",
    "        \n",
    "    ########\n",
    "    ## \n",
    "    ## Modify your neural network\n",
    "    ##\n",
    "    ########\n",
    "        \n",
    "        # 80x80 to outputsize x outputsize\n",
    "        # outputsize = (inputsize - kernel_size + stride)/stride \n",
    "        # (round up if not an integer)\n",
    "\n",
    "        # output = 9x9 here\n",
    "        self.conv1 = nn.Conv2d(2, 32, kernel_size=5, stride=3, padding=1)\n",
    "        self.conv2 = nn.Conv2d(32, 16, kernel_size=4, stride=3, padding=1)\n",
    "        self.size=16*9*9\n",
    "        \n",
    "        # 1 fully connected layer\n",
    "        self.fc1 = nn.Linear(self.size, 32)\n",
    "        self.fc2 = nn.Linear(32, 1)\n",
    "        self.sig = nn.Sigmoid()\n",
    "        \n",
    "    def forward(self, x):\n",
    "    # incoming size like: [478, 12, 2, 80, 80]\n",
    "    ########\n",
    "    ## \n",
    "    ## Modify your neural network\n",
    "    ##\n",
    "    ########\n",
    "\n",
    "        x = F.relu(self.conv1(x))\n",
    "        x = F.relu(self.conv2(x))\n",
    "        # flatten the tensor\n",
    "        x = x.view(-1,self.size)\n",
    "        x = F.relu(self.fc1(x))\n",
    "        return self.sig(self.fc2(x))\n",
    "    \n",
    "\n",
    "class Policy_Solution(nn.Module):\n",
    "    def __init__(self):\n",
    "        super(Policy_Solution, self).__init__()\n",
    "        # 80x80x2 to 38x38x4\n",
    "        # 2 channel from the stacked frame\n",
    "        self.conv1 = nn.Conv2d(2, 4, kernel_size=6, stride=2, bias=False)\n",
    "        # 38x38x4 to 9x9x32\n",
    "        self.conv2 = nn.Conv2d(4, 16, kernel_size=6, stride=4)\n",
    "        self.size=9*9*16\n",
    "        \n",
    "        # two fully connected layer\n",
    "        self.fc1 = nn.Linear(self.size, 32)\n",
    "        self.fc2 = nn.Linear(32, 1)\n",
    "\n",
    "        # Sigmoid to \n",
    "        self.sig = nn.Sigmoid()\n",
    "        \n",
    "    def forward(self, x):\n",
    "        x = F.relu(self.conv1(x))\n",
    "        x = F.relu(self.conv2(x))\n",
    "        x = x.view(-1,self.size)\n",
    "        x = F.relu(self.fc1(x))\n",
    "        return self.sig(self.fc2(x))"
   ]
  },
  {
   "cell_type": "code",
   "execution_count": 10,
   "metadata": {
    "id": "MhkD58VYz_jh"
   },
   "outputs": [],
   "source": [
    "# use your own policy!\n",
    "policy=Policy().to(device)\n",
    "\n",
    "#import pong_utils\n",
    "#policy=pong_utils.Policy().to(device)\n",
    "\n",
    "# we use the adam optimizer with learning rate 2e-4\n",
    "# optim.SGD is also possible\n",
    "import torch.optim as optim\n",
    "optimizer = optim.Adam(policy.parameters(), lr=1e-4)"
   ]
  },
  {
   "cell_type": "markdown",
   "metadata": {
    "id": "aMuJlNZbyZA7"
   },
   "source": [
    "# Game visualization\n",
    "pong_utils contain a play function given the environment and a policy. An optional preprocess function can be supplied. Here we define a function that plays a game and shows learning progress"
   ]
  },
  {
   "cell_type": "code",
   "execution_count": 11,
   "metadata": {
    "id": "2Za18MpsyZA7",
    "tags": []
   },
   "outputs": [],
   "source": [
    "#play(env, policy, time=100) \n",
    "# try to add the option \"preprocess=pong_utils.preprocess_single\"\n",
    "# to see what the agent sees"
   ]
  },
  {
   "cell_type": "code",
   "execution_count": 12,
   "metadata": {
    "id": "TOAWmC1lV-HD",
    "tags": []
   },
   "outputs": [
    {
     "name": "stdout",
     "output_type": "stream",
     "text": [
      "Frame 1 done at step 451\n"
     ]
    },
    {
     "data": {
      "image/png": "[encoded data removed]",
      "text/plain": [
       "<Figure size 640x480 with 1 Axes>"
      ]
     },
     "metadata": {},
     "output_type": "display_data"
    }
   ],
   "source": [
    "seed=1234\n",
    "steps = 1800\n",
    "frame, _ = env.reset(seed=seed)\n",
    "frame = preprocess_single(frame)\n",
    "img = plt.imshow(frame)\n",
    "action =  np.random.choice([RIGHT, LEFT])   \n",
    "\n",
    "for t in range(steps):\n",
    "#try:\n",
    "    frame1, reward1, is_done, is_trunc, info = env.step(action)\n",
    "    if is_done or is_trunc:\n",
    "        print(\"Frame 1 done at step\", t)\n",
    "        break \n",
    "    frame2, reward2, is_done, is_trunc, info = env.step(0)\n",
    "#except:\n",
    "#    print(\"Env Exception\")\n",
    "#    break\n",
    "#finally:\n",
    "#    try:\n",
    "    frame = preprocess_batch(np.asarray([frame1, frame2]))\n",
    "    framesor = torch.from_numpy(frame).float().to(device)\n",
    "\n",
    "    # probs will only be used as the pi_old no gradient propagation is needed \"so we move it to the cpu\"\n",
    "    # where and where not to no_grad..?\n",
    "    policy.eval()\n",
    "    with torch.no_grad():\n",
    "        prob = policy(framesor).squeeze()#) # n polprobs\n",
    "    policy.train()\n",
    "\n",
    "    action = RIGHT if random.random() < prob else LEFT\n",
    "    frame = np.mean(frame.squeeze(), axis=0) #now shape is (80,80)\n",
    "#    except:\n",
    "#        print(\"Frame Exception\")\n",
    "#        break\n",
    "\n",
    "    #try:\n",
    "    img.set_data(frame)   #frame.detach().cpu().numpy()) \n",
    "    plt.axis('off')\n",
    "    display(plt.gcf())   #\n",
    "    display(clear=True)\n",
    "\n",
    "    if is_done or is_trunc:\n",
    "        print(\"Game over at step\", t)\n",
    "        break \n",
    "    #except:\n",
    "    #    print(\"Display Exception\")\n",
    "    #    break\n",
    "\n",
    "    #finally:\n",
    "    #    print(\"Finally\")\n",
    "    #    break"
   ]
  },
  {
   "cell_type": "markdown",
   "metadata": {
    "id": "0UfGiK-IyZA8",
    "tags": []
   },
   "source": [
    "# Rollout  >>> `obs, rews, dones, infos = zip(*results)` <<<\n",
    "\n",
    "Before we start the training, we need to collect samples. To make things efficient we use parallelized environments to collect multiple examples at once"
   ]
  },
  {
   "cell_type": "code",
   "execution_count": 13,
   "metadata": {
    "id": "i2x_DGGGyZA8",
    "tags": []
   },
   "outputs": [
    {
     "name": "stdout",
     "output_type": "stream",
     "text": [
      "Envs time:   4.289 sec\n",
      "Collection problem...\n",
      "Collection time:   0.462 sec\n",
      "N=12 Total time elapsed:   4.751 sec\n"
     ]
    }
   ],
   "source": [
    "import time\n",
    "start = time.time()\n",
    "\n",
    "nenvs = 10\n",
    "envs = parallelEnv('PongDeterministic-v4', n=nenvs, seed=1234)\n",
    "envtime = time.time()\n",
    "print(\"Envs time: {:7.3f} sec\".format(envtime-start))\n",
    "\n",
    "try:\n",
    "    states, actions, reward_list, polprobs, probs = collect_trajectories(envs, policy, max_steps=1000, nrand=8)\n",
    "    #pass\n",
    "except:\n",
    "    print(\"Collection problem...\")\n",
    "    \n",
    "coltime = time.time()\n",
    "print(\"Collection time: {:7.3f} sec\".format(coltime-envtime))\n",
    "\n",
    "stop = time.time()\n",
    "print(\"N={} Total time elapsed: {:7.3f} sec\".format(nenvs, stop-start))"
   ]
  },
  {
   "cell_type": "code",
   "execution_count": 14,
   "metadata": {},
   "outputs": [],
   "source": [
    "#print(\"N={} Time elapsed: {:7.3f} sec\".format(nenvs, stop-start))\n",
    "# N=30 Time elapsed:  23.397 sec\n",
    "# N=20 Time elapsed:  15.233 sec  17.732 sec\n",
    "# N=15 Time elapsed:  11.687 sec  23.888 sec\n",
    "# N=10 Time elapsed:   9.831 sec\n",
    "# N=5 Time elapsed:   7.880 sec\n",
    "# N=3 Time elapsed:   7.149 sec"
   ]
  },
  {
   "cell_type": "code",
   "execution_count": 17,
   "metadata": {
    "tags": []
   },
   "outputs": [
    {
     "ename": "BrokenPipeError",
     "evalue": "[WinError 232] The pipe is being closed",
     "output_type": "error",
     "traceback": [
      "\u001b[1;31m---------------------------------------------------------------------------\u001b[0m",
      "\u001b[1;31mBrokenPipeError\u001b[0m                           Traceback (most recent call last)",
      "Cell \u001b[1;32mIn[17], line 1\u001b[0m\n\u001b[1;32m----> 1\u001b[0m \u001b[43menvs\u001b[49m\u001b[38;5;241;43m.\u001b[39;49m\u001b[43mstep\u001b[49m\u001b[43m(\u001b[49m\u001b[43m[\u001b[49m\u001b[43mRIGHT\u001b[49m\u001b[43m]\u001b[49m\u001b[38;5;241;43m*\u001b[39;49m\u001b[43mnenvs\u001b[49m\u001b[43m)\u001b[49m\n\u001b[0;32m      2\u001b[0m \u001b[38;5;66;03m#plt.imshow(frames[-1])\u001b[39;00m\n",
      "File \u001b[1;32m~\\Documents\\Repositories\\deep-reinforcement-learning\\pong-PPO-REINFORCE\\parallelEnv_X.py:84\u001b[0m, in \u001b[0;36mVecEnv.step\u001b[1;34m(self, actions)\u001b[0m\n\u001b[0;32m     79\u001b[0m \u001b[38;5;28;01mdef\u001b[39;00m \u001b[38;5;21mstep\u001b[39m(\u001b[38;5;28mself\u001b[39m, actions):\n\u001b[0;32m     80\u001b[0m \u001b[38;5;250m    \u001b[39m\u001b[38;5;124;03m\"\"\"\u001b[39;00m\n\u001b[0;32m     81\u001b[0m \u001b[38;5;124;03m    Step the environments synchronously.\u001b[39;00m\n\u001b[0;32m     82\u001b[0m \u001b[38;5;124;03m    This is available for backwards compatibility.\u001b[39;00m\n\u001b[0;32m     83\u001b[0m \u001b[38;5;124;03m    \"\"\"\u001b[39;00m\n\u001b[1;32m---> 84\u001b[0m     \u001b[38;5;28;43mself\u001b[39;49m\u001b[38;5;241;43m.\u001b[39;49m\u001b[43mstep_async\u001b[49m\u001b[43m(\u001b[49m\u001b[43mactions\u001b[49m\u001b[43m)\u001b[49m\n\u001b[0;32m     85\u001b[0m     \u001b[38;5;28;01mreturn\u001b[39;00m \u001b[38;5;28mself\u001b[39m\u001b[38;5;241m.\u001b[39mstep_wait()\n",
      "File \u001b[1;32m~\\Documents\\Repositories\\deep-reinforcement-learning\\pong-PPO-REINFORCE\\parallelEnv_X.py:166\u001b[0m, in \u001b[0;36mparallelEnv.step_async\u001b[1;34m(self, actions)\u001b[0m\n\u001b[0;32m    164\u001b[0m \u001b[38;5;28;01mdef\u001b[39;00m \u001b[38;5;21mstep_async\u001b[39m(\u001b[38;5;28mself\u001b[39m, actions):\n\u001b[0;32m    165\u001b[0m     \u001b[38;5;28;01mfor\u001b[39;00m remote, action \u001b[38;5;129;01min\u001b[39;00m \u001b[38;5;28mzip\u001b[39m(\u001b[38;5;28mself\u001b[39m\u001b[38;5;241m.\u001b[39mremotes, actions):\n\u001b[1;32m--> 166\u001b[0m         \u001b[43mremote\u001b[49m\u001b[38;5;241;43m.\u001b[39;49m\u001b[43msend\u001b[49m\u001b[43m(\u001b[49m\u001b[43m(\u001b[49m\u001b[38;5;124;43m'\u001b[39;49m\u001b[38;5;124;43mstep\u001b[39;49m\u001b[38;5;124;43m'\u001b[39;49m\u001b[43m,\u001b[49m\u001b[43m \u001b[49m\u001b[43maction\u001b[49m\u001b[43m)\u001b[49m\u001b[43m)\u001b[49m\n\u001b[0;32m    167\u001b[0m     \u001b[38;5;28mself\u001b[39m\u001b[38;5;241m.\u001b[39mwaiting \u001b[38;5;241m=\u001b[39m \u001b[38;5;28;01mTrue\u001b[39;00m\n",
      "File \u001b[1;32mC:\\ProgramData\\Anaconda3\\envs\\general\\lib\\multiprocessing\\connection.py:211\u001b[0m, in \u001b[0;36m_ConnectionBase.send\u001b[1;34m(self, obj)\u001b[0m\n\u001b[0;32m    209\u001b[0m \u001b[38;5;28mself\u001b[39m\u001b[38;5;241m.\u001b[39m_check_closed()\n\u001b[0;32m    210\u001b[0m \u001b[38;5;28mself\u001b[39m\u001b[38;5;241m.\u001b[39m_check_writable()\n\u001b[1;32m--> 211\u001b[0m \u001b[38;5;28;43mself\u001b[39;49m\u001b[38;5;241;43m.\u001b[39;49m\u001b[43m_send_bytes\u001b[49m\u001b[43m(\u001b[49m\u001b[43m_ForkingPickler\u001b[49m\u001b[38;5;241;43m.\u001b[39;49m\u001b[43mdumps\u001b[49m\u001b[43m(\u001b[49m\u001b[43mobj\u001b[49m\u001b[43m)\u001b[49m\u001b[43m)\u001b[49m\n",
      "File \u001b[1;32mC:\\ProgramData\\Anaconda3\\envs\\general\\lib\\multiprocessing\\connection.py:285\u001b[0m, in \u001b[0;36mPipeConnection._send_bytes\u001b[1;34m(self, buf)\u001b[0m\n\u001b[0;32m    284\u001b[0m \u001b[38;5;28;01mdef\u001b[39;00m \u001b[38;5;21m_send_bytes\u001b[39m(\u001b[38;5;28mself\u001b[39m, buf):\n\u001b[1;32m--> 285\u001b[0m     ov, err \u001b[38;5;241m=\u001b[39m \u001b[43m_winapi\u001b[49m\u001b[38;5;241;43m.\u001b[39;49m\u001b[43mWriteFile\u001b[49m\u001b[43m(\u001b[49m\u001b[38;5;28;43mself\u001b[39;49m\u001b[38;5;241;43m.\u001b[39;49m\u001b[43m_handle\u001b[49m\u001b[43m,\u001b[49m\u001b[43m \u001b[49m\u001b[43mbuf\u001b[49m\u001b[43m,\u001b[49m\u001b[43m \u001b[49m\u001b[43moverlapped\u001b[49m\u001b[38;5;241;43m=\u001b[39;49m\u001b[38;5;28;43;01mTrue\u001b[39;49;00m\u001b[43m)\u001b[49m\n\u001b[0;32m    286\u001b[0m     \u001b[38;5;28;01mtry\u001b[39;00m:\n\u001b[0;32m    287\u001b[0m         \u001b[38;5;28;01mif\u001b[39;00m err \u001b[38;5;241m==\u001b[39m _winapi\u001b[38;5;241m.\u001b[39mERROR_IO_PENDING:\n",
      "\u001b[1;31mBrokenPipeError\u001b[0m: [WinError 232] The pipe is being closed"
     ]
    }
   ],
   "source": [
    "envs.step([RIGHT]*nenvs)\n",
    "#plt.imshow(frames[-1])"
   ]
  },
  {
   "cell_type": "markdown",
   "metadata": {
    "id": "yCVhvhANyZA8"
   },
   "source": [
    "# Function Definitions\n",
    "Here you will define key functions for training. \n",
    "\n",
    "## Exercise 2: write your own function for training\n",
    "(\"this is the same as policy_loss sort of\")\n",
    "\n",
    "### REINFORCE\n",
    "you have two choices (usually it's useful to divide by the time since we've normalized our rewards and the time of each trajectory is fixed)\n",
    "\n",
    "1. $\\frac{1}{T}\\sum^T_t R_{t}^{\\rm future}\\log(\\pi_{\\theta'}(a_t|s_t))$\n",
    "2. $\\frac{1}{T}\\sum^T_t R_{t}^{\\rm future}\\frac{\\pi_{\\theta'}(a_t|s_t)}{\\pi_{\\theta}(a_t|s_t)}$ where $\\theta'=\\theta$ and make sure that the no_grad is enabled when performing the division\n",
    "\n",
    "### PPO\n",
    "Later on, you'll implement the PPO algorithm as well, and the scalar function is given by\n",
    "$\\frac{1}{T}\\sum^T_t \\min\\left\\{R_{t}^{\\rm future}\\frac{\\pi_{\\theta'}(a_t|s_t)}{\\pi_{\\theta}(a_t|s_t)},R_{t}^{\\rm future}{\\rm clip}_{\\epsilon}\\!\\left(\\frac{\\pi_{\\theta'}(a_t|s_t)}{\\pi_{\\theta}(a_t|s_t)}\\right)\\right\\}$\n",
    "\n",
    "the ${\\rm clip}_\\epsilon$ function is implemented in pytorch as ```torch.clamp(ratio, 1-epsilon, 1+epsilon)```"
   ]
  },
  {
   "cell_type": "code",
   "execution_count": 16,
   "metadata": {
    "tags": []
   },
   "outputs": [
    {
     "ename": "ValueError",
     "evalue": "setting an array element with a sequence. The requested array has an inhomogeneous shape after 1 dimensions. The detected shape was (2,) + inhomogeneous part.",
     "output_type": "error",
     "traceback": [
      "\u001b[1;31m---------------------------------------------------------------------------\u001b[0m",
      "\u001b[1;31mValueError\u001b[0m                                Traceback (most recent call last)",
      "Cell \u001b[1;32mIn[16], line 2\u001b[0m\n\u001b[0;32m      1\u001b[0m n\u001b[38;5;241m=\u001b[39m\u001b[38;5;28mlen\u001b[39m(envs\u001b[38;5;241m.\u001b[39mps)\n\u001b[1;32m----> 2\u001b[0m \u001b[43menvs\u001b[49m\u001b[38;5;241;43m.\u001b[39;49m\u001b[43mreset\u001b[49m\u001b[43m(\u001b[49m\u001b[43m)\u001b[49m\n\u001b[0;32m      4\u001b[0m \u001b[38;5;66;03m# start all parallel agents\u001b[39;00m\n\u001b[0;32m      5\u001b[0m _, _, _, _ \u001b[38;5;241m=\u001b[39m envs\u001b[38;5;241m.\u001b[39mstep([RIGHT]\u001b[38;5;241m*\u001b[39mn)\n",
      "File \u001b[1;32m~\\Documents\\Repositories\\deep-reinforcement-learning\\pong-PPO-REINFORCE\\parallelEnv.py:170\u001b[0m, in \u001b[0;36mparallelEnv.reset\u001b[1;34m(self)\u001b[0m\n\u001b[0;32m    168\u001b[0m \u001b[38;5;28;01mfor\u001b[39;00m remote \u001b[38;5;129;01min\u001b[39;00m \u001b[38;5;28mself\u001b[39m\u001b[38;5;241m.\u001b[39mremotes:\n\u001b[0;32m    169\u001b[0m     remote\u001b[38;5;241m.\u001b[39msend((\u001b[38;5;124m'\u001b[39m\u001b[38;5;124mreset\u001b[39m\u001b[38;5;124m'\u001b[39m, \u001b[38;5;28;01mNone\u001b[39;00m))\n\u001b[1;32m--> 170\u001b[0m \u001b[38;5;28;01mreturn\u001b[39;00m \u001b[43mnp\u001b[49m\u001b[38;5;241;43m.\u001b[39;49m\u001b[43mstack\u001b[49m\u001b[43m(\u001b[49m\u001b[43m[\u001b[49m\u001b[43mremote\u001b[49m\u001b[38;5;241;43m.\u001b[39;49m\u001b[43mrecv\u001b[49m\u001b[43m(\u001b[49m\u001b[43m)\u001b[49m\u001b[43m \u001b[49m\u001b[38;5;28;43;01mfor\u001b[39;49;00m\u001b[43m \u001b[49m\u001b[43mremote\u001b[49m\u001b[43m \u001b[49m\u001b[38;5;129;43;01min\u001b[39;49;00m\u001b[43m \u001b[49m\u001b[38;5;28;43mself\u001b[39;49m\u001b[38;5;241;43m.\u001b[39;49m\u001b[43mremotes\u001b[49m\u001b[43m]\u001b[49m\u001b[43m)\u001b[49m\n",
      "File \u001b[1;32m<__array_function__ internals>:200\u001b[0m, in \u001b[0;36mstack\u001b[1;34m(*args, **kwargs)\u001b[0m\n",
      "File \u001b[1;32mC:\\ProgramData\\Anaconda3\\envs\\general\\lib\\site-packages\\numpy\\core\\shape_base.py:458\u001b[0m, in \u001b[0;36mstack\u001b[1;34m(arrays, axis, out, dtype, casting)\u001b[0m\n\u001b[0;32m    454\u001b[0m \u001b[38;5;28;01mif\u001b[39;00m \u001b[38;5;129;01mnot\u001b[39;00m overrides\u001b[38;5;241m.\u001b[39mARRAY_FUNCTION_ENABLED:\n\u001b[0;32m    455\u001b[0m     \u001b[38;5;66;03m# raise warning if necessary\u001b[39;00m\n\u001b[0;32m    456\u001b[0m     _arrays_for_stack_dispatcher(arrays, stacklevel\u001b[38;5;241m=\u001b[39m\u001b[38;5;241m2\u001b[39m)\n\u001b[1;32m--> 458\u001b[0m arrays \u001b[38;5;241m=\u001b[39m [asanyarray(arr) \u001b[38;5;28;01mfor\u001b[39;00m arr \u001b[38;5;129;01min\u001b[39;00m arrays]\n\u001b[0;32m    459\u001b[0m \u001b[38;5;28;01mif\u001b[39;00m \u001b[38;5;129;01mnot\u001b[39;00m arrays:\n\u001b[0;32m    460\u001b[0m     \u001b[38;5;28;01mraise\u001b[39;00m \u001b[38;5;167;01mValueError\u001b[39;00m(\u001b[38;5;124m'\u001b[39m\u001b[38;5;124mneed at least one array to stack\u001b[39m\u001b[38;5;124m'\u001b[39m)\n",
      "File \u001b[1;32mC:\\ProgramData\\Anaconda3\\envs\\general\\lib\\site-packages\\numpy\\core\\shape_base.py:458\u001b[0m, in \u001b[0;36m<listcomp>\u001b[1;34m(.0)\u001b[0m\n\u001b[0;32m    454\u001b[0m \u001b[38;5;28;01mif\u001b[39;00m \u001b[38;5;129;01mnot\u001b[39;00m overrides\u001b[38;5;241m.\u001b[39mARRAY_FUNCTION_ENABLED:\n\u001b[0;32m    455\u001b[0m     \u001b[38;5;66;03m# raise warning if necessary\u001b[39;00m\n\u001b[0;32m    456\u001b[0m     _arrays_for_stack_dispatcher(arrays, stacklevel\u001b[38;5;241m=\u001b[39m\u001b[38;5;241m2\u001b[39m)\n\u001b[1;32m--> 458\u001b[0m arrays \u001b[38;5;241m=\u001b[39m [\u001b[43masanyarray\u001b[49m\u001b[43m(\u001b[49m\u001b[43marr\u001b[49m\u001b[43m)\u001b[49m \u001b[38;5;28;01mfor\u001b[39;00m arr \u001b[38;5;129;01min\u001b[39;00m arrays]\n\u001b[0;32m    459\u001b[0m \u001b[38;5;28;01mif\u001b[39;00m \u001b[38;5;129;01mnot\u001b[39;00m arrays:\n\u001b[0;32m    460\u001b[0m     \u001b[38;5;28;01mraise\u001b[39;00m \u001b[38;5;167;01mValueError\u001b[39;00m(\u001b[38;5;124m'\u001b[39m\u001b[38;5;124mneed at least one array to stack\u001b[39m\u001b[38;5;124m'\u001b[39m)\n",
      "\u001b[1;31mValueError\u001b[0m: setting an array element with a sequence. The requested array has an inhomogeneous shape after 1 dimensions. The detected shape was (2,) + inhomogeneous part."
     ]
    }
   ],
   "source": [
    "n=len(envs.ps)\n",
    "envs.reset()\n",
    "    \n",
    "# start all parallel agents\n",
    "_, _, _, _ = envs.step([RIGHT]*n)\n",
    "\n",
    "# perform nrand random steps\n",
    "for _ in range(5):\n",
    "    st1, re1, _, _ = envs.step(np.random.choice([RIGHT, LEFT, 0], n))\n",
    "    st2, re2, _, _ = envs.step([0]*n)                              # n (s1, s2)\n",
    "\n",
    "#for t in range(tmax):\n",
    "\n",
    "    # prepare the input first as array of shape (N,2,W,H,3)\n",
    "states = np.asarray( [[s1, s2] for s1, s2 in zip(st1, st2)] )    ###  np.asarray([s1, s2])\n",
    "states.shape, preprocess_batch(states).shape"
   ]
  },
  {
   "cell_type": "code",
   "execution_count": 19,
   "metadata": {
    "collapsed": true,
    "jupyter": {
     "outputs_hidden": true,
     "source_hidden": true
    },
    "tags": []
   },
   "outputs": [
    {
     "name": "stdout",
     "output_type": "stream",
     "text": [
      "Each pair of two states/images: (2, 210, 160, 3)\n",
      "input_batch: (4, 2, 210, 160, 3) 2 rgb images each from N envs\n",
      "array_of_images: (4, 2, 210, 160, 3)  >>> tensor >>> policy fxn nn >>> action_probs\n",
      "skip/crop: (4, 2, 80, 80, 3) only every other pixel, ignore top and bottom\n",
      "bkg_color: (3,) to be subtracted from the 3 color channels in last dim\n",
      "minus bkg: (4, 2, 80, 80, 3) >>> averaged over the 3 r, g & b channels in last dim >>>\n",
      "mean and out: (4, 2, 80, 80) \n"
     ]
    },
    {
     "data": {
      "text/plain": [
       "(4, 2, 80, 80)"
      ]
     },
     "execution_count": 19,
     "metadata": {},
     "output_type": "execute_result"
    }
   ],
   "source": [
    "\n",
    "\n",
    "bkg_color = np.array([144, 72, 17])\n",
    "input_batch = []\n",
    "env.reset()\n",
    "for _ in range(11):\n",
    "    frame1, reward1, is_done, is_trunc, info = env.step(np.random.choice([RIGHT,LEFT,0]))\n",
    "    frame2, reward2, is_done, is_trunc, info = env.step(0)\n",
    "    if is_done or is_trunc: break\n",
    "for _ in range(4):\n",
    "    frame1, reward1, is_done, is_trunc, info = env.step(np.random.choice([RIGHT,LEFT,0]))\n",
    "    frame2, reward2, is_done, is_trunc, info = env.step(0)\n",
    "    input_batch.append(np.asarray([frame1, frame2]))\n",
    "    if is_done or is_trunc: \n",
    "        break\n",
    "\n",
    "print(\"Each pair of two states/images:\", input_batch[0].shape)\n",
    "#print(\"image input: (2, {}, {}, {}\".format(*frame1.shape))\n",
    "#list_of_images = np.asarray([frame1, frame2])\n",
    "new_images = np.asarray(input_batch)#[0]\n",
    "print(\"input_batch:\", new_images.shape, \"2 rgb images each from N envs\")\n",
    "if len(new_images.shape) < 5:\n",
    "    new_images = np.expand_dims(new_images, 0)\n",
    "    print(\"expand input:\", new_images.shape, \"2 rgb images from 1 env\")\n",
    "print(\"array_of_images:\", new_images.shape,\" >>> tensor >>> policy fxn nn >>> action_probs\")\n",
    "list_of_images_skip = new_images[:, :, 34:-16:2, ::2]\n",
    "print(\"skip/crop:\", list_of_images_skip.shape, \"only every other pixel, ignore top and bottom\")\n",
    "print(\"bkg_color:\", bkg_color.shape, \"to be subtracted from the 3 color channels in last dim\")\n",
    "list_of_images_minus = list_of_images_skip - bkg_color\n",
    "print(\"minus bkg:\", list_of_images_minus.shape, \">>> averaged over the 3 r, g & b channels in last dim >>>\")\n",
    "list_of_images_mean = np.mean(list_of_images_minus, axis=-1)/255.\n",
    "print(\"mean and out:\", list_of_images_mean.shape, \"\")\n",
    "#batch_input = np.swapaxes(list_of_images_mean,0,1)\n",
    "#print(\"swap and out:\", batch_input.shape)\n",
    "preprocess_batch(np.asarray(input_batch)).shape"
   ]
  },
  {
   "cell_type": "code",
   "execution_count": 20,
   "metadata": {
    "collapsed": true,
    "jupyter": {
     "outputs_hidden": true,
     "source_hidden": true
    },
    "tags": []
   },
   "outputs": [
    {
     "ename": "EOFError",
     "evalue": "",
     "output_type": "error",
     "traceback": [
      "\u001b[1;31m---------------------------------------------------------------------------\u001b[0m",
      "\u001b[1;31mBrokenPipeError\u001b[0m                           Traceback (most recent call last)",
      "File \u001b[1;32mC:\\ProgramData\\Anaconda3\\envs\\general\\lib\\multiprocessing\\connection.py:317\u001b[0m, in \u001b[0;36mPipeConnection._recv_bytes\u001b[1;34m(self, maxsize)\u001b[0m\n\u001b[0;32m    316\u001b[0m \u001b[38;5;28;01mfinally\u001b[39;00m:\n\u001b[1;32m--> 317\u001b[0m     nread, err \u001b[38;5;241m=\u001b[39m \u001b[43mov\u001b[49m\u001b[38;5;241;43m.\u001b[39;49m\u001b[43mGetOverlappedResult\u001b[49m\u001b[43m(\u001b[49m\u001b[38;5;28;43;01mTrue\u001b[39;49;00m\u001b[43m)\u001b[49m\n\u001b[0;32m    318\u001b[0m     \u001b[38;5;28;01mif\u001b[39;00m err \u001b[38;5;241m==\u001b[39m \u001b[38;5;241m0\u001b[39m:\n",
      "\u001b[1;31mBrokenPipeError\u001b[0m: [WinError 109] The pipe has been ended",
      "\nDuring handling of the above exception, another exception occurred:\n",
      "\u001b[1;31mEOFError\u001b[0m                                  Traceback (most recent call last)",
      "Cell \u001b[1;32mIn[20], line 1\u001b[0m\n\u001b[1;32m----> 1\u001b[0m states, actions, rewards, polprobs, old_probs \u001b[38;5;241m=\u001b[39m \u001b[43mcollect_trajectories\u001b[49m\u001b[43m(\u001b[49m\u001b[43menvs\u001b[49m\u001b[43m,\u001b[49m\u001b[43m \u001b[49m\u001b[43mpolicy\u001b[49m\u001b[43m,\u001b[49m\u001b[43m \u001b[49m\u001b[43mmax_steps\u001b[49m\u001b[38;5;241;43m=\u001b[39;49m\u001b[38;5;241;43m50\u001b[39;49m\u001b[43m)\u001b[49m\n\u001b[0;32m      2\u001b[0m \u001b[38;5;28mprint\u001b[39m(\u001b[38;5;124m\"\u001b[39m\u001b[38;5;124mstates\u001b[39m\u001b[38;5;124m\"\u001b[39m, states\u001b[38;5;241m.\u001b[39mshape, \u001b[38;5;124m\"\u001b[39m\u001b[38;5;124mactions\u001b[39m\u001b[38;5;124m\"\u001b[39m, actions\u001b[38;5;241m.\u001b[39mshape, \u001b[38;5;124m\"\u001b[39m\u001b[38;5;124mrewards np(\u001b[39m\u001b[38;5;132;01m{}\u001b[39;00m\u001b[38;5;124m,\u001b[39m\u001b[38;5;132;01m{}\u001b[39;00m\u001b[38;5;124m)\u001b[39m\u001b[38;5;124m\"\u001b[39m\u001b[38;5;241m.\u001b[39mformat(\u001b[38;5;28mlen\u001b[39m(rewards),\u001b[38;5;241m*\u001b[39mrewards[\u001b[38;5;241m0\u001b[39m]\u001b[38;5;241m.\u001b[39mshape), \u001b[38;5;124m\"\u001b[39m\u001b[38;5;124mold_probs\u001b[39m\u001b[38;5;124m\"\u001b[39m, old_probs\u001b[38;5;241m.\u001b[39mshape)\n\u001b[0;32m      3\u001b[0m new_probs \u001b[38;5;241m=\u001b[39m states_to_probs(policy, states)\n",
      "Cell \u001b[1;32mIn[15], line 51\u001b[0m, in \u001b[0;36mcollect_trajectories\u001b[1;34m(envs, policy, max_steps, nrand)\u001b[0m\n\u001b[0;32m     48\u001b[0m \u001b[38;5;66;03m# take one action and advance the game (0=no action)\u001b[39;00m\n\u001b[0;32m     49\u001b[0m \u001b[38;5;66;03m# states = batch_input > > use, wait > > do .detach().cpu().numpy() here:\u001b[39;00m\n\u001b[0;32m     50\u001b[0m acts \u001b[38;5;241m=\u001b[39m actions\u001b[38;5;241m.\u001b[39mdetach()\u001b[38;5;241m.\u001b[39mcpu()\n\u001b[1;32m---> 51\u001b[0m st1, re1, is_done, _ \u001b[38;5;241m=\u001b[39m \u001b[43menvs\u001b[49m\u001b[38;5;241;43m.\u001b[39;49m\u001b[43mstep\u001b[49m\u001b[43m(\u001b[49m\u001b[43macts\u001b[49m\u001b[38;5;241;43m.\u001b[39;49m\u001b[43mnumpy\u001b[49m\u001b[43m(\u001b[49m\u001b[43m)\u001b[49m\u001b[43m)\u001b[49m                  \u001b[38;5;66;03m# n acts: numpy cpu\u001b[39;00m\n\u001b[0;32m     52\u001b[0m st2, re2, is_done, _ \u001b[38;5;241m=\u001b[39m envs\u001b[38;5;241m.\u001b[39mstep([\u001b[38;5;241m0\u001b[39m]\u001b[38;5;241m*\u001b[39mn)                         \u001b[38;5;66;03m# n dones: bools\u001b[39;00m\n\u001b[0;32m     53\u001b[0m \u001b[38;5;66;03m#rewards = re1 + re2                                             # n rewards: floats < Doubled here!\u001b[39;00m\n",
      "File \u001b[1;32m~\\Documents\\Repositories\\deep-reinforcement-learning\\pong-PPO-REINFORCE\\parallelEnv_X.py:85\u001b[0m, in \u001b[0;36mVecEnv.step\u001b[1;34m(self, actions)\u001b[0m\n\u001b[0;32m     80\u001b[0m \u001b[38;5;250m\u001b[39m\u001b[38;5;124;03m\"\"\"\u001b[39;00m\n\u001b[0;32m     81\u001b[0m \u001b[38;5;124;03mStep the environments synchronously.\u001b[39;00m\n\u001b[0;32m     82\u001b[0m \u001b[38;5;124;03mThis is available for backwards compatibility.\u001b[39;00m\n\u001b[0;32m     83\u001b[0m \u001b[38;5;124;03m\"\"\"\u001b[39;00m\n\u001b[0;32m     84\u001b[0m \u001b[38;5;28mself\u001b[39m\u001b[38;5;241m.\u001b[39mstep_async(actions)\n\u001b[1;32m---> 85\u001b[0m \u001b[38;5;28;01mreturn\u001b[39;00m \u001b[38;5;28;43mself\u001b[39;49m\u001b[38;5;241;43m.\u001b[39;49m\u001b[43mstep_wait\u001b[49m\u001b[43m(\u001b[49m\u001b[43m)\u001b[49m\n",
      "File \u001b[1;32m~\\Documents\\Repositories\\deep-reinforcement-learning\\pong-PPO-REINFORCE\\parallelEnv_X.py:164\u001b[0m, in \u001b[0;36mparallelEnv.step_wait\u001b[1;34m(self)\u001b[0m\n\u001b[0;32m    163\u001b[0m \u001b[38;5;28;01mdef\u001b[39;00m \u001b[38;5;21mstep_wait\u001b[39m(\u001b[38;5;28mself\u001b[39m):\n\u001b[1;32m--> 164\u001b[0m     results \u001b[38;5;241m=\u001b[39m [remote\u001b[38;5;241m.\u001b[39mrecv() \u001b[38;5;28;01mfor\u001b[39;00m remote \u001b[38;5;129;01min\u001b[39;00m \u001b[38;5;28mself\u001b[39m\u001b[38;5;241m.\u001b[39mremotes]\n\u001b[0;32m    165\u001b[0m     \u001b[38;5;28mself\u001b[39m\u001b[38;5;241m.\u001b[39mwaiting \u001b[38;5;241m=\u001b[39m \u001b[38;5;28;01mFalse\u001b[39;00m\n\u001b[0;32m    166\u001b[0m     obs, rews, dones, infos \u001b[38;5;241m=\u001b[39m \u001b[38;5;28mzip\u001b[39m(\u001b[38;5;241m*\u001b[39mresults)\n",
      "File \u001b[1;32m~\\Documents\\Repositories\\deep-reinforcement-learning\\pong-PPO-REINFORCE\\parallelEnv_X.py:164\u001b[0m, in \u001b[0;36m<listcomp>\u001b[1;34m(.0)\u001b[0m\n\u001b[0;32m    163\u001b[0m \u001b[38;5;28;01mdef\u001b[39;00m \u001b[38;5;21mstep_wait\u001b[39m(\u001b[38;5;28mself\u001b[39m):\n\u001b[1;32m--> 164\u001b[0m     results \u001b[38;5;241m=\u001b[39m [\u001b[43mremote\u001b[49m\u001b[38;5;241;43m.\u001b[39;49m\u001b[43mrecv\u001b[49m\u001b[43m(\u001b[49m\u001b[43m)\u001b[49m \u001b[38;5;28;01mfor\u001b[39;00m remote \u001b[38;5;129;01min\u001b[39;00m \u001b[38;5;28mself\u001b[39m\u001b[38;5;241m.\u001b[39mremotes]\n\u001b[0;32m    165\u001b[0m     \u001b[38;5;28mself\u001b[39m\u001b[38;5;241m.\u001b[39mwaiting \u001b[38;5;241m=\u001b[39m \u001b[38;5;28;01mFalse\u001b[39;00m\n\u001b[0;32m    166\u001b[0m     obs, rews, dones, infos \u001b[38;5;241m=\u001b[39m \u001b[38;5;28mzip\u001b[39m(\u001b[38;5;241m*\u001b[39mresults)\n",
      "File \u001b[1;32mC:\\ProgramData\\Anaconda3\\envs\\general\\lib\\multiprocessing\\connection.py:255\u001b[0m, in \u001b[0;36m_ConnectionBase.recv\u001b[1;34m(self)\u001b[0m\n\u001b[0;32m    253\u001b[0m \u001b[38;5;28mself\u001b[39m\u001b[38;5;241m.\u001b[39m_check_closed()\n\u001b[0;32m    254\u001b[0m \u001b[38;5;28mself\u001b[39m\u001b[38;5;241m.\u001b[39m_check_readable()\n\u001b[1;32m--> 255\u001b[0m buf \u001b[38;5;241m=\u001b[39m \u001b[38;5;28;43mself\u001b[39;49m\u001b[38;5;241;43m.\u001b[39;49m\u001b[43m_recv_bytes\u001b[49m\u001b[43m(\u001b[49m\u001b[43m)\u001b[49m\n\u001b[0;32m    256\u001b[0m \u001b[38;5;28;01mreturn\u001b[39;00m _ForkingPickler\u001b[38;5;241m.\u001b[39mloads(buf\u001b[38;5;241m.\u001b[39mgetbuffer())\n",
      "File \u001b[1;32mC:\\ProgramData\\Anaconda3\\envs\\general\\lib\\multiprocessing\\connection.py:326\u001b[0m, in \u001b[0;36mPipeConnection._recv_bytes\u001b[1;34m(self, maxsize)\u001b[0m\n\u001b[0;32m    324\u001b[0m \u001b[38;5;28;01mexcept\u001b[39;00m \u001b[38;5;167;01mOSError\u001b[39;00m \u001b[38;5;28;01mas\u001b[39;00m e:\n\u001b[0;32m    325\u001b[0m     \u001b[38;5;28;01mif\u001b[39;00m e\u001b[38;5;241m.\u001b[39mwinerror \u001b[38;5;241m==\u001b[39m _winapi\u001b[38;5;241m.\u001b[39mERROR_BROKEN_PIPE:\n\u001b[1;32m--> 326\u001b[0m         \u001b[38;5;28;01mraise\u001b[39;00m \u001b[38;5;167;01mEOFError\u001b[39;00m\n\u001b[0;32m    327\u001b[0m     \u001b[38;5;28;01melse\u001b[39;00m:\n\u001b[0;32m    328\u001b[0m         \u001b[38;5;28;01mraise\u001b[39;00m\n",
      "\u001b[1;31mEOFError\u001b[0m: "
     ]
    }
   ],
   "source": [
    "states, actions, rewards, polprobs, old_probs = collect_trajectories(envs, policy, max_steps=50)\n",
    "print(\"states\", states.shape, \"actions\", actions.shape, \"rewards np({},{})\".format(len(rewards),*rewards[0].shape), \"old_probs\", old_probs.shape)\n",
    "new_probs = states_to_probs(policy, states)\n",
    "print(\"new_probs\", new_probs.shape)\n",
    "new_probs = torch.where(actions == RIGHT, new_probs, 1.0-new_probs)\n",
    "print(\"avg(axis=1)\", torch.mean(new_probs, axis=1).shape, \"avg(axis=0)\", torch.mean(new_probs, axis=0).shape)"
   ]
  },
  {
   "cell_type": "code",
   "execution_count": null,
   "metadata": {
    "jupyter": {
     "source_hidden": true
    },
    "tags": []
   },
   "outputs": [],
   "source": [
    "# return sum of log-prob divided by T\n",
    "# same thing as -policy_loss\n",
    "def surrogate(policy, old_probs, states, actions, rewards,\n",
    "              discount = 0.995, beta=0.01):\n",
    "    pass\n",
    "\n",
    "# clipped surrogate function\n",
    "# similar as -policy_loss for REINFORCE, but for PPO\n",
    "def the_other_clipped_surrogate(policy, old_probs, states, actions, rewards,\n",
    "                      discount=0.995,\n",
    "                      epsilon=0.1, \n",
    "                      beta=0.01):\n",
    "\n",
    "    discount = discount**np.arange(len(rewards))\n",
    "    rewards = np.asarray(rewards)*discount[:,np.newaxis]\n",
    "    \n",
    "    # convert rewards to future rewards\n",
    "    rewards_future = rewards[::-1].cumsum(axis=0)[::-1]\n",
    "    \n",
    "    mean = np.mean(rewards_future, axis=1)\n",
    "    std = np.std(rewards_future, axis=1) + 1.0e-10\n",
    "\n",
    "    rewards_normalized = (rewards_future - mean[:,np.newaxis])/std[:,np.newaxis]\n",
    "    \n",
    "    # convert everything into pytorch tensors and move to gpu if available\n",
    "    actions = torch.tensor(actions, dtype=torch.int8, device=device)\n",
    "    old_probs = torch.tensor(old_probs, dtype=torch.float, device=device)\n",
    "    rewards = torch.tensor(rewards_normalized, dtype=torch.float, device=device)\n",
    "\n",
    "    # convert states to policy (or probability)\n",
    "    new_probs = states_to_prob(policy, states)\n",
    "    new_probs = torch.where(actions == RIGHT, new_probs, 1.0-new_probs)\n",
    "    \n",
    "    # ratio for clipping\n",
    "    ratio = new_probs/old_probs\n",
    "\n",
    "    # clipped function\n",
    "    clip = torch.clamp(ratio, ratio-epsilon, ratio+epsilon)\n",
    "    clipped_surrogate = torch.min(ratio*rewards, clip*rewards)\n",
    "\n",
    "    # include a regularization term\n",
    "    # this steers new_policy towards 0.5\n",
    "    # add in 1.e-10 to avoid log(0) which gives nan\n",
    "    entropy = -(new_probs*torch.log(old_probs+1.e-10)+ \\\n",
    "               (1.0-new_probs)*torch.log(1.0-old_probs+1.e-10))\n",
    "\n",
    "    # this returns an average of all the entries of the tensor\n",
    "    # effective computing L_sur^clip / T\n",
    "    # averaged over time-step and number of trajectories\n",
    "    # this is desirable because we have normalized our rewards\n",
    "    return torch.mean(clipped_surrogate + beta*entropy)"
   ]
  },
  {
   "cell_type": "markdown",
   "metadata": {
    "id": "LHN9oeSnyZA8"
   },
   "source": [
    "# Training\n",
    "We are now ready to train our policy!\n",
    "WARNING: make sure to turn on GPU, which also enables multicore processing. It may take up to 45 minutes even with GPU enabled, otherwise it will take much longer!"
   ]
  },
  {
   "cell_type": "code",
   "execution_count": 53,
   "metadata": {
    "id": "S5QGfS02p-XB",
    "tags": []
   },
   "outputs": [
    {
     "name": "stderr",
     "output_type": "stream",
     "text": [
      "training loop:   0% |                                          | ETA:  --:--:--\r"
     ]
    },
    {
     "ename": "BrokenPipeError",
     "evalue": "[WinError 232] The pipe is being closed",
     "output_type": "error",
     "traceback": [
      "\u001b[1;31m---------------------------------------------------------------------------\u001b[0m",
      "\u001b[1;31mBrokenPipeError\u001b[0m                           Traceback (most recent call last)",
      "Cell \u001b[1;32mIn[53], line 27\u001b[0m\n\u001b[0;32m     22\u001b[0m mean_rewards \u001b[38;5;241m=\u001b[39m []\n\u001b[0;32m     24\u001b[0m \u001b[38;5;28;01mfor\u001b[39;00m e \u001b[38;5;129;01min\u001b[39;00m \u001b[38;5;28mrange\u001b[39m(episodes):\n\u001b[0;32m     25\u001b[0m \n\u001b[0;32m     26\u001b[0m     \u001b[38;5;66;03m# collect trajectories -- lists of tensors on cuda\u001b[39;00m\n\u001b[1;32m---> 27\u001b[0m     states, actions, rewards, polprobs, old_probs \u001b[38;5;241m=\u001b[39m \u001b[43mcollect_trajectories\u001b[49m\u001b[43m(\u001b[49m\u001b[43menvs\u001b[49m\u001b[43m,\u001b[49m\u001b[43m \u001b[49m\u001b[43mpolicy\u001b[49m\u001b[43m,\u001b[49m\u001b[43m \u001b[49m\u001b[43mmax_steps\u001b[49m\u001b[38;5;241;43m=\u001b[39;49m\u001b[43mtmax\u001b[49m\u001b[43m)\u001b[49m\n\u001b[0;32m     28\u001b[0m     \u001b[38;5;66;03m# rewards and total_rewards are the only numpys    \u001b[39;00m\n\u001b[0;32m     29\u001b[0m     total_rewards \u001b[38;5;241m=\u001b[39m np\u001b[38;5;241m.\u001b[39msum(rewards, axis\u001b[38;5;241m=\u001b[39m\u001b[38;5;241m0\u001b[39m)\n",
      "Cell \u001b[1;32mIn[48], line 14\u001b[0m, in \u001b[0;36mcollect_trajectories\u001b[1;34m(envs, policy, max_steps, nrand)\u001b[0m\n\u001b[0;32m     11\u001b[0m polprob_list\u001b[38;5;241m=\u001b[39m[]\n\u001b[0;32m     12\u001b[0m action_list\u001b[38;5;241m=\u001b[39m[]\n\u001b[1;32m---> 14\u001b[0m \u001b[43menvs\u001b[49m\u001b[38;5;241;43m.\u001b[39;49m\u001b[43mreset\u001b[49m\u001b[43m(\u001b[49m\u001b[43m)\u001b[49m\n\u001b[0;32m     16\u001b[0m \u001b[38;5;66;03m# start all parallel agents\u001b[39;00m\n\u001b[0;32m     17\u001b[0m _, _, _, _ \u001b[38;5;241m=\u001b[39m envs\u001b[38;5;241m.\u001b[39mstep([RIGHT]\u001b[38;5;241m*\u001b[39mn)\n",
      "File \u001b[1;32m~\\Documents\\Repositories\\deep-reinforcement-learning\\pong-PPO-REINFORCE\\parallelEnv_X.py:171\u001b[0m, in \u001b[0;36mparallelEnv.reset\u001b[1;34m(self)\u001b[0m\n\u001b[0;32m    169\u001b[0m \u001b[38;5;28;01mdef\u001b[39;00m \u001b[38;5;21mreset\u001b[39m(\u001b[38;5;28mself\u001b[39m):\n\u001b[0;32m    170\u001b[0m     \u001b[38;5;28;01mfor\u001b[39;00m remote \u001b[38;5;129;01min\u001b[39;00m \u001b[38;5;28mself\u001b[39m\u001b[38;5;241m.\u001b[39mremotes:\n\u001b[1;32m--> 171\u001b[0m         \u001b[43mremote\u001b[49m\u001b[38;5;241;43m.\u001b[39;49m\u001b[43msend\u001b[49m\u001b[43m(\u001b[49m\u001b[43m(\u001b[49m\u001b[38;5;124;43m'\u001b[39;49m\u001b[38;5;124;43mreset\u001b[39;49m\u001b[38;5;124;43m'\u001b[39;49m\u001b[43m,\u001b[49m\u001b[43m \u001b[49m\u001b[38;5;28;43;01mNone\u001b[39;49;00m\u001b[43m)\u001b[49m\u001b[43m)\u001b[49m\n\u001b[0;32m    172\u001b[0m     \u001b[38;5;28;01mreturn\u001b[39;00m np\u001b[38;5;241m.\u001b[39mstack([remote\u001b[38;5;241m.\u001b[39mrecv() \u001b[38;5;28;01mfor\u001b[39;00m remote \u001b[38;5;129;01min\u001b[39;00m \u001b[38;5;28mself\u001b[39m\u001b[38;5;241m.\u001b[39mremotes])\n",
      "File \u001b[1;32mC:\\ProgramData\\Anaconda3\\envs\\general\\lib\\multiprocessing\\connection.py:211\u001b[0m, in \u001b[0;36m_ConnectionBase.send\u001b[1;34m(self, obj)\u001b[0m\n\u001b[0;32m    209\u001b[0m \u001b[38;5;28mself\u001b[39m\u001b[38;5;241m.\u001b[39m_check_closed()\n\u001b[0;32m    210\u001b[0m \u001b[38;5;28mself\u001b[39m\u001b[38;5;241m.\u001b[39m_check_writable()\n\u001b[1;32m--> 211\u001b[0m \u001b[38;5;28;43mself\u001b[39;49m\u001b[38;5;241;43m.\u001b[39;49m\u001b[43m_send_bytes\u001b[49m\u001b[43m(\u001b[49m\u001b[43m_ForkingPickler\u001b[49m\u001b[38;5;241;43m.\u001b[39;49m\u001b[43mdumps\u001b[49m\u001b[43m(\u001b[49m\u001b[43mobj\u001b[49m\u001b[43m)\u001b[49m\u001b[43m)\u001b[49m\n",
      "File \u001b[1;32mC:\\ProgramData\\Anaconda3\\envs\\general\\lib\\multiprocessing\\connection.py:285\u001b[0m, in \u001b[0;36mPipeConnection._send_bytes\u001b[1;34m(self, buf)\u001b[0m\n\u001b[0;32m    284\u001b[0m \u001b[38;5;28;01mdef\u001b[39;00m \u001b[38;5;21m_send_bytes\u001b[39m(\u001b[38;5;28mself\u001b[39m, buf):\n\u001b[1;32m--> 285\u001b[0m     ov, err \u001b[38;5;241m=\u001b[39m \u001b[43m_winapi\u001b[49m\u001b[38;5;241;43m.\u001b[39;49m\u001b[43mWriteFile\u001b[49m\u001b[43m(\u001b[49m\u001b[38;5;28;43mself\u001b[39;49m\u001b[38;5;241;43m.\u001b[39;49m\u001b[43m_handle\u001b[49m\u001b[43m,\u001b[49m\u001b[43m \u001b[49m\u001b[43mbuf\u001b[49m\u001b[43m,\u001b[49m\u001b[43m \u001b[49m\u001b[43moverlapped\u001b[49m\u001b[38;5;241;43m=\u001b[39;49m\u001b[38;5;28;43;01mTrue\u001b[39;49;00m\u001b[43m)\u001b[49m\n\u001b[0;32m    286\u001b[0m     \u001b[38;5;28;01mtry\u001b[39;00m:\n\u001b[0;32m    287\u001b[0m         \u001b[38;5;28;01mif\u001b[39;00m err \u001b[38;5;241m==\u001b[39m _winapi\u001b[38;5;241m.\u001b[39mERROR_IO_PENDING:\n",
      "\u001b[1;31mBrokenPipeError\u001b[0m: [WinError 232] The pipe is being closed"
     ]
    }
   ],
   "source": [
    "##################### PPO ###############################\n",
    "#### WARNING: running through all 800 episodes will take 30-45 minutes\n",
    "\n",
    "# training loop max iterations\n",
    "episodes = 100\n",
    "# episodes = 800\n",
    "\n",
    "# widget bar to display progress\n",
    "widget = ['training loop: ', pb.Percentage(), ' ', \n",
    "          pb.Bar(), ' ', pb.ETA() ]\n",
    "timer = pb.ProgressBar(widgets=widget, maxval=episodes).start()\n",
    "\n",
    "#envs = parallelEnv('PongDeterministic-v4', n=20, seed=1234)\n",
    "\n",
    "discount_rate = .99\n",
    "epsilon = 0.15\n",
    "beta = .008\n",
    "tmax = 800\n",
    "SGD_epoch = 5\n",
    "\n",
    "# keep track of progress\n",
    "mean_rewards = []\n",
    "\n",
    "for e in range(episodes):\n",
    "\n",
    "    # collect trajectories -- lists of tensors on cuda\n",
    "    states, actions, rewards, polprobs, old_probs = collect_trajectories(envs, policy, max_steps=tmax)\n",
    "    # rewards and total_rewards are the only numpys    \n",
    "    total_rewards = np.sum(rewards, axis=0)\n",
    "\n",
    "    # gradient ascent step -- few enough to get up-to-date response from nn\n",
    "    for _ in range(SGD_epoch):\n",
    "        \n",
    "        # utilize your own clipped function!\n",
    "        L = -clipped_surrogate(policy, old_probs, states, actions, rewards, epsilon=epsilon, beta=beta)\n",
    "\n",
    "        optimizer.zero_grad()\n",
    "        L.backward()\n",
    "        optimizer.step()\n",
    "        del L             # !oh no!\n",
    "    \n",
    "    # the clipping parameter reduces as episodes are collected\n",
    "    epsilon*=.999\n",
    "    \n",
    "    # the regulation term also reduces with use\n",
    "    # this reduces exploration in later runs\n",
    "    beta*=.998\n",
    "    \n",
    "    # get the average reward of the parallel environments\n",
    "    mean_rewards.append(np.mean(total_rewards))\n",
    "    \n",
    "    # display some progress every 20 iterations\n",
    "    if (e+1)%20 ==0 :\n",
    "        print(\"Episode: {0:d}, score: {1:f}\".format(e+1, np.mean(total_rewards)))\n",
    "        print(total_rewards)\n",
    "        \n",
    "    # update progress widget bar\n",
    "    timer.update(e+1)\n",
    "    \n",
    "timer.finish()"
   ]
  },
  {
   "cell_type": "code",
   "execution_count": null,
   "metadata": {
    "id": "rcifaOgcyZA9",
    "tags": []
   },
   "outputs": [],
   "source": [
    "# play game after training!\n",
    "#play(env, policy, time=100) \n",
    "polprobs"
   ]
  },
  {
   "cell_type": "code",
   "execution_count": null,
   "metadata": {
    "id": "Gm3n6N4byZA9",
    "tags": []
   },
   "outputs": [],
   "source": [
    "plt.plot(mean_rewards)"
   ]
  },
  {
   "cell_type": "code",
   "execution_count": null,
   "metadata": {
    "id": "o_aALEueyZA9",
    "tags": []
   },
   "outputs": [],
   "source": [
    "# save your policy!\n",
    "#torch.save(policy, 'data/in_training_PPO.policy')\n",
    "#torch.save(policy, 'data/trained_PPO.policy')\n",
    "\n",
    "# load your policy if needed\n",
    "#policy = torch.load('data/PPO_high.policy')\n",
    "\n",
    "# try and test out the solution!\n",
    "#policy = torch.load('data/PPO_OG.policy')"
   ]
  },
  {
   "cell_type": "code",
   "execution_count": 26,
   "metadata": {
    "id": "TOAWmC1lV-HD",
    "tags": []
   },
   "outputs": [
    {
     "name": "stdout",
     "output_type": "stream",
     "text": [
      "Game over at step 395\n"
     ]
    },
    {
     "data": {
      "image/png": "[encoded data removed]",
      "text/plain": [
       "<Figure size 640x480 with 1 Axes>"
      ]
     },
     "metadata": {},
     "output_type": "display_data"
    }
   ],
   "source": [
    "seed=1234\n",
    "steps = 1800\n",
    "frame, _ = env.reset(seed=seed)\n",
    "frame = preprocess_single(frame)\n",
    "img = plt.imshow(frame)\n",
    "action =  np.random.choice([RIGHT, LEFT])   \n",
    "\n",
    "for t in range(steps):\n",
    "    frame1, reward1, is_done, is_trunc, info = env.step(action)\n",
    "    if is_done or is_trunc:\n",
    "        print(\"Frame 1 done at step\", t)\n",
    "        break \n",
    "    frame2, reward2, is_done, is_trunc, info = env.step(0)\n",
    "\n",
    "    frame = preprocess_batch(np.asarray([frame1, frame2]))\n",
    "    framesor = torch.from_numpy(frame).float().to(device)\n",
    "\n",
    "    # probs will only be used as the pi_old no gradient propagation is needed \"so we move it to the cpu\"\n",
    "    # where and where not to no_grad..?\n",
    "    policy.eval()\n",
    "    with torch.no_grad():\n",
    "        prob = policy(framesor).squeeze()#) # n polprobs\n",
    "    policy.train()\n",
    "\n",
    "    action = RIGHT if random.random() < prob else LEFT\n",
    "    frame = np.mean(frame.squeeze(), axis=0) #now shape is (80,80)\n",
    "\n",
    "    img.set_data(frame)   #frame.detach().cpu().numpy()) \n",
    "    plt.axis('off')\n",
    "    display(plt.gcf())   #\n",
    "    display(clear=True)\n",
    "\n",
    "    if is_done or is_trunc:\n",
    "        print(\"Game over at step\", t)\n",
    "        break \n"
   ]
  },
  {
   "cell_type": "code",
   "execution_count": null,
   "metadata": {},
   "outputs": [],
   "source": [
    "seed=1234\n",
    "steps = 1800\n",
    "env = gym.make('PongDeterministic-v4', render_mode='rgb_array')\n",
    "frame, _ = env.reset()#seed=seed)\n",
    "#print(frames.shape)\n",
    "frame = preprocess_single(frame)\n",
    "#print(frame.shape)\n",
    "img = plt.imshow(frame)\n",
    "action =  np.random.choice([RIGHT, LEFT])   \n",
    "for t in range(steps):\n",
    "    frame1, reward1, is_done, is_trunc, info = env.step(action)\n",
    "    frame2, reward2, is_done, is_trunc, info = env.step(0)\n",
    "    is_done = is_done or is_trunc\n",
    "    \n",
    "    frame = preprocess_batch(np.asarray([frame1//2, frame2]))\n",
    "    framesor = torch.from_numpy(frame).float().to(device)\n",
    "        \n",
    "    # probs will only be used as the pi_old no gradient propagation is needed so we move it to the cpu\n",
    "    policy.eval()\n",
    "    with torch.no_grad():\n",
    "        prob = policy(framesor).squeeze()#) # n polprobs\n",
    "    policy.train()\n",
    "    \n",
    "    action = RIGHT if random.random() < prob else LEFT\n",
    "\n",
    "    frame = np.mean(frame.squeeze(), axis=0) #now shape is (80,80)\n",
    "    img.set_data(frame)   #frame.detach().cpu().numpy()) \n",
    "    plt.axis('off')\n",
    "    display(plt.gcf())   #\n",
    "    display(clear=True)\n",
    "\n",
    "    if is_done:\n",
    "        print(\"Game over at step\", t)\n",
    "        break "
   ]
  }
 ],
 "metadata": {
  "colab": {
   "collapsed_sections": [
    "BKH0-yBwyZA4",
    "wpACk9hYyZA6",
    "7yutVg1-yZA7",
    "yCVhvhANyZA8"
   ],
   "provenance": []
  },
  "gpuClass": "standard",
  "kernelspec": {
   "display_name": "Python 3 (ipykernel)",
   "language": "python",
   "name": "python3"
  },
  "language_info": {
   "codemirror_mode": {
    "name": "ipython",
    "version": 3
   },
   "file_extension": ".py",
   "mimetype": "text/x-python",
   "name": "python",
   "nbconvert_exporter": "python",
   "pygments_lexer": "ipython3",
   "version": "3.9.0"
  },
  "toc-autonumbering": true,
  "toc-showcode": true
 },
 "nbformat": 4,
 "nbformat_minor": 4
}
