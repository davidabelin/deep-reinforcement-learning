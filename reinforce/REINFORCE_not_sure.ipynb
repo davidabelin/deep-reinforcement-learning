{
 "cells": [
  {
   "cell_type": "markdown",
   "metadata": {},
   "source": [
    "# REINFORCE\n",
    "\n",
    "---\n",
    "\n",
    "In this notebook, we will train REINFORCE with OpenAI Gym's Cartpole environment."
   ]
  },
  {
   "cell_type": "markdown",
   "metadata": {},
   "source": [
    "### 1. Import the Necessary Packages"
   ]
  },
  {
   "cell_type": "code",
   "execution_count": 2,
   "metadata": {},
   "outputs": [
    {
     "name": "stdout",
     "output_type": "stream",
     "text": [
      "Collecting pyvirtualdisplay\n",
      "  Downloading https://files.pythonhosted.org/packages/90/eb/c3b8deb661cb3846db63288c99bbb39f217b7807fc8acb2fd058db41e2e6/PyVirtualDisplay-3.0-py3-none-any.whl\n",
      "Installing collected packages: pyvirtualdisplay\n",
      "Successfully installed pyvirtualdisplay-3.0\n"
     ]
    }
   ],
   "source": [
    "import gym\n",
    "gym.logger.set_level(40) # suppress warnings (please remove if gives error)\n",
    "import numpy as np\n",
    "from collections import deque\n",
    "import matplotlib.pyplot as plt\n",
    "%matplotlib inline\n",
    "\n",
    "import torch\n",
    "torch.manual_seed(0) # set random seed\n",
    "import torch.nn as nn\n",
    "import torch.nn.functional as F\n",
    "import torch.optim as optim\n",
    "from torch.distributions import Categorical\n",
    "\n",
    "!python -m pip install pyvirtualdisplay\n",
    "from pyvirtualdisplay import Display\n",
    "display = Display(visible=0, size=(1400, 900))\n",
    "display.start()\n",
    "\n",
    "is_ipython = 'inline' in plt.get_backend()\n",
    "if is_ipython:\n",
    "    from IPython import display\n",
    "\n",
    "plt.ion()"
   ]
  },
  {
   "cell_type": "markdown",
   "metadata": {},
   "source": [
    "### 2. Define the Architecture of the Policy"
   ]
  },
  {
   "cell_type": "code",
   "execution_count": 66,
   "metadata": {},
   "outputs": [
    {
     "name": "stdout",
     "output_type": "stream",
     "text": [
      "observation space: 8\n",
      "action space: 2\n"
     ]
    }
   ],
   "source": [
    "env = gym.make('LunarLander-v2')\n",
    "env.seed(0)\n",
    "nO = int(env.observation_space.shape[0])\n",
    "nA = 2 # int(env.action_space)\n",
    "print('observation space:', nO)\n",
    "print('action space:', nA)\n",
    "\n",
    "device = torch.device(\"cuda:0\" if torch.cuda.is_available() else \"cpu\")\n",
    "\n"
   ]
  },
  {
   "cell_type": "code",
   "execution_count": 67,
   "metadata": {},
   "outputs": [
    {
     "name": "stdout",
     "output_type": "stream",
     "text": [
      "cart_observation space: 4\n",
      "cart_action space: 2\n"
     ]
    }
   ],
   "source": [
    "cart_env = gym.make('CartPole-v0')\n",
    "cart_env.seed(0)\n",
    "cart_nO = int(cart_env.observation_space.shape[0])\n",
    "cart_nA = 2 # int(env.action_space)\n",
    "print('cart_observation space:', cart_nO)\n",
    "print('cart_action space:', cart_nA)"
   ]
  },
  {
   "cell_type": "code",
   "execution_count": 88,
   "metadata": {},
   "outputs": [],
   "source": [
    "class Policy(nn.Module):\n",
    "    def __init__(self, s_size=nO, h_size=nO*4, a_size=nA):\n",
    "        super(Policy, self).__init__()\n",
    "        self.intake = nn.Linear(s_size, h_size)\n",
    "        self.hidden = nn.Linear(h_size, a_size*4)\n",
    "        self.outward = nn.Linear(a_size*4, a_size)\n",
    "\n",
    "    def forward(self, x):\n",
    "        x = F.relu(self.intake(x))\n",
    "        x = F.relu(self.hidden(x))\n",
    "        x = self.outward(x)\n",
    "        return F.softmax(x, dim=1)\n",
    "    \n",
    "    def act(self, state):\n",
    "        state = torch.from_numpy(state).float().unsqueeze(0).to(device)\n",
    "        probs = self.forward(state).cpu()\n",
    "        m = Categorical(probs)\n",
    "        action = m.sample()\n",
    "        return action.item(), m.log_prob(action)"
   ]
  },
  {
   "cell_type": "code",
   "execution_count": 90,
   "metadata": {},
   "outputs": [],
   "source": [
    "cart_policy = Policy(s_size=cart_nO, h_size=cart_nO*4, a_size=cart_nA).to(device)\n",
    "cart_optimizer = optim.Adam(cart_policy.parameters(), lr=1e-2)"
   ]
  },
  {
   "cell_type": "markdown",
   "metadata": {},
   "source": [
    "### 3. Train the Agent with REINFORCE"
   ]
  },
  {
   "cell_type": "code",
   "execution_count": 91,
   "metadata": {},
   "outputs": [],
   "source": [
    "policy = Policy().to(device)\n",
    "optimizer = optim.Adam(policy.parameters(), lr=1e-3)"
   ]
  },
  {
   "cell_type": "code",
   "execution_count": 72,
   "metadata": {
    "collapsed": true
   },
   "outputs": [
    {
     "data": {
      "text/plain": [
       "[Parameter containing:\n",
       " tensor([[-0.1655, -0.2043,  0.0171,  0.2162, -0.0858, -0.1263, -0.1713,\n",
       "          -0.1815],\n",
       "         [ 0.1878,  0.3469, -0.2141,  0.2322, -0.0742,  0.2738,  0.3385,\n",
       "           0.3133],\n",
       "         [-0.0464,  0.2861, -0.2450, -0.1576,  0.1960,  0.0184, -0.1795,\n",
       "          -0.2281],\n",
       "         [ 0.3534, -0.1866, -0.2784,  0.1072, -0.1359, -0.0335, -0.0122,\n",
       "           0.0955],\n",
       "         [ 0.2639, -0.3503,  0.0184,  0.0543, -0.1865,  0.0020, -0.3316,\n",
       "           0.0733],\n",
       "         [ 0.1176, -0.3353, -0.2398, -0.1524,  0.2941, -0.2757,  0.3318,\n",
       "           0.3064],\n",
       "         [ 0.0398,  0.0091, -0.1224, -0.1890,  0.1665, -0.0444,  0.0488,\n",
       "           0.3178],\n",
       "         [ 0.2425,  0.1927, -0.0090,  0.1210, -0.0376, -0.2445,  0.1514,\n",
       "          -0.0827],\n",
       "         [-0.1807, -0.3418,  0.0652, -0.0742, -0.2619, -0.1733, -0.0233,\n",
       "          -0.1535],\n",
       "         [-0.0997, -0.1265,  0.2504, -0.2827, -0.1865, -0.1020, -0.2689,\n",
       "          -0.0308],\n",
       "         [-0.3211,  0.1366, -0.2017,  0.1165,  0.0487, -0.3452,  0.0028,\n",
       "          -0.1365],\n",
       "         [-0.0441,  0.1860,  0.2900,  0.0507,  0.1822,  0.1142,  0.1593,\n",
       "          -0.2757],\n",
       "         [ 0.2122, -0.2176, -0.1742,  0.3025, -0.0172, -0.3143,  0.0651,\n",
       "           0.2893],\n",
       "         [ 0.0729,  0.2926, -0.1660, -0.3060, -0.0715, -0.1591, -0.1252,\n",
       "           0.0120],\n",
       "         [ 0.2836,  0.2970, -0.1709,  0.2286, -0.1081, -0.2840, -0.3425,\n",
       "          -0.0109],\n",
       "         [-0.1395,  0.0536,  0.2338,  0.0879, -0.2713, -0.1142,  0.2551,\n",
       "          -0.1108],\n",
       "         [-0.0651,  0.2994, -0.2818, -0.0172, -0.0027, -0.0168,  0.1970,\n",
       "          -0.1960],\n",
       "         [ 0.3229, -0.1707,  0.2390,  0.2711, -0.1496,  0.0649,  0.2637,\n",
       "           0.2050],\n",
       "         [ 0.2844,  0.1638,  0.1819, -0.1839,  0.3063, -0.1415, -0.2414,\n",
       "          -0.1878],\n",
       "         [ 0.1190,  0.2856,  0.0916, -0.1241,  0.3384,  0.1296,  0.3249,\n",
       "           0.3380],\n",
       "         [ 0.0115,  0.0298, -0.1286, -0.2810, -0.1058,  0.3132,  0.2887,\n",
       "           0.3333],\n",
       "         [ 0.1884, -0.0949, -0.3503,  0.1730, -0.2136,  0.2629,  0.1237,\n",
       "          -0.1426],\n",
       "         [-0.2722,  0.0533,  0.0685, -0.1016, -0.1060, -0.1734, -0.2107,\n",
       "          -0.1368],\n",
       "         [-0.2062,  0.0947, -0.1991,  0.2539, -0.2275,  0.1218,  0.2081,\n",
       "          -0.0645],\n",
       "         [-0.3491,  0.3039,  0.3488, -0.0635, -0.0863,  0.2696, -0.3396,\n",
       "           0.2364],\n",
       "         [ 0.2575, -0.1169,  0.0762,  0.3259,  0.0370,  0.2506, -0.1965,\n",
       "           0.2386],\n",
       "         [ 0.1499,  0.0859, -0.2885, -0.2389,  0.1233,  0.0901, -0.0386,\n",
       "          -0.0159],\n",
       "         [ 0.3398,  0.0213,  0.3524, -0.2309, -0.0447,  0.3358,  0.2553,\n",
       "          -0.1504],\n",
       "         [ 0.0610,  0.0897,  0.1664, -0.3114,  0.0566,  0.0022, -0.0197,\n",
       "           0.2138],\n",
       "         [ 0.0305,  0.0111,  0.2129,  0.0675,  0.1465,  0.0815,  0.0928,\n",
       "          -0.0411],\n",
       "         [ 0.1775, -0.1507, -0.2788, -0.1433,  0.0909, -0.1899, -0.3478,\n",
       "           0.3159],\n",
       "         [ 0.1240, -0.1185, -0.1569, -0.0671, -0.1934,  0.0532,  0.3172,\n",
       "           0.2590]]), Parameter containing:\n",
       " tensor([-0.0852,  0.0938, -0.1364,  0.2934, -0.3293, -0.0140, -0.0992,\n",
       "          0.2568, -0.0107,  0.1054,  0.1700, -0.2805,  0.1596, -0.1909,\n",
       "         -0.3102,  0.2845, -0.1943,  0.3414, -0.1930,  0.1481,  0.3035,\n",
       "          0.1354,  0.0318, -0.3464, -0.0829, -0.1448,  0.0771, -0.1075,\n",
       "         -0.2552, -0.3268, -0.3181, -0.0572]), Parameter containing:\n",
       " tensor([[-0.1149, -0.0542, -0.0670,  0.1036, -0.0834,  0.1642, -0.0636,\n",
       "           0.0880,  0.1739,  0.0001,  0.1665,  0.0938, -0.0093, -0.1484,\n",
       "          -0.0626,  0.0541, -0.0166, -0.1557, -0.1250,  0.1408, -0.0665,\n",
       "          -0.0110,  0.0411,  0.0278,  0.1021, -0.1554,  0.1139,  0.0652,\n",
       "          -0.0934, -0.1464,  0.0872, -0.1194],\n",
       "         [-0.1046, -0.1374,  0.0318, -0.1142,  0.1453,  0.0639,  0.1661,\n",
       "          -0.1277,  0.0845,  0.0787, -0.0431, -0.1000,  0.1085,  0.1037,\n",
       "          -0.1261,  0.0790, -0.1572,  0.0474,  0.1410, -0.0153,  0.1584,\n",
       "           0.1681,  0.0818, -0.0504, -0.1761,  0.1347, -0.0877,  0.0241,\n",
       "          -0.1016, -0.0049, -0.1427,  0.0489],\n",
       "         [-0.1197,  0.1261,  0.0590,  0.1414,  0.0815, -0.1474, -0.0019,\n",
       "          -0.0040,  0.1034,  0.1748, -0.0921, -0.1723, -0.1158,  0.1026,\n",
       "           0.1413, -0.1745, -0.1604,  0.1654,  0.0124, -0.1527, -0.1513,\n",
       "          -0.0840, -0.0804, -0.0059, -0.1091,  0.0301,  0.0849,  0.0452,\n",
       "           0.0283,  0.1392,  0.0790, -0.1363],\n",
       "         [ 0.0274,  0.0990, -0.1330,  0.0179,  0.0426,  0.1436,  0.0969,\n",
       "           0.0095,  0.0857, -0.0895, -0.0096, -0.0486,  0.1415, -0.0354,\n",
       "           0.0637, -0.1462, -0.0241,  0.0326,  0.0908,  0.1264,  0.0719,\n",
       "          -0.0054,  0.0555, -0.1754, -0.1135,  0.1286,  0.1236,  0.1480,\n",
       "           0.1268, -0.1535, -0.0289,  0.0584],\n",
       "         [ 0.1483,  0.1438,  0.0411,  0.1207, -0.0261,  0.0760, -0.0340,\n",
       "           0.0784, -0.0621,  0.1324,  0.0524, -0.1228,  0.0127, -0.1508,\n",
       "           0.0789, -0.1537, -0.0710,  0.0106,  0.1714,  0.0727,  0.0458,\n",
       "          -0.0132,  0.1351,  0.1132, -0.0957,  0.0066, -0.1660, -0.1479,\n",
       "          -0.0760,  0.1127,  0.1729,  0.1055],\n",
       "         [ 0.0621, -0.0743,  0.0190,  0.0946, -0.0871, -0.1560, -0.0190,\n",
       "          -0.0695, -0.1053, -0.0593, -0.0551,  0.0675,  0.0076, -0.0595,\n",
       "          -0.1293,  0.1470,  0.1045, -0.0917, -0.0578, -0.0660,  0.1193,\n",
       "           0.0900, -0.1037, -0.0869,  0.1077,  0.1014, -0.1745,  0.1080,\n",
       "           0.1629,  0.0009, -0.1611, -0.0418],\n",
       "         [ 0.1616, -0.1692,  0.0813, -0.0333, -0.1478,  0.1685, -0.1560,\n",
       "           0.1273,  0.0744, -0.0987, -0.0393, -0.1289, -0.1353,  0.0481,\n",
       "           0.0452, -0.0303,  0.0634, -0.0985,  0.1602, -0.0244,  0.1752,\n",
       "           0.0615,  0.0326,  0.1114,  0.1469,  0.1525,  0.1642,  0.0107,\n",
       "          -0.0861, -0.0487,  0.1440,  0.0367],\n",
       "         [ 0.0833,  0.1072,  0.1311, -0.0257, -0.0272,  0.0320,  0.1063,\n",
       "          -0.1276, -0.0283,  0.0517,  0.0809,  0.0582,  0.1623, -0.1418,\n",
       "          -0.1066, -0.0946,  0.0094, -0.1226, -0.0358,  0.0238,  0.0369,\n",
       "          -0.0209,  0.0816, -0.1536, -0.1523,  0.0786, -0.1669,  0.1590,\n",
       "           0.1018, -0.0475, -0.0849, -0.0734],\n",
       "         [ 0.0985,  0.0562,  0.0402,  0.1509,  0.1756,  0.0464,  0.1664,\n",
       "           0.0622, -0.0624,  0.0459,  0.0217, -0.1052, -0.1228,  0.0649,\n",
       "           0.0328,  0.1766,  0.0169, -0.0398, -0.0290,  0.0543,  0.0455,\n",
       "          -0.1104, -0.1068, -0.0543, -0.0326, -0.1498, -0.0503,  0.1595,\n",
       "           0.0082,  0.0109, -0.0615,  0.1549],\n",
       "         [-0.0950,  0.0485, -0.0653,  0.0037,  0.1396,  0.0956,  0.1265,\n",
       "          -0.1158, -0.0992,  0.0272,  0.0104,  0.1664, -0.0411, -0.0663,\n",
       "           0.1663, -0.0131, -0.1285,  0.1669,  0.0574, -0.0675,  0.1099,\n",
       "          -0.0243, -0.0346,  0.1640,  0.0866,  0.0383, -0.0688,  0.1283,\n",
       "          -0.1322, -0.1059, -0.0040, -0.1438],\n",
       "         [ 0.0112,  0.0730, -0.0691, -0.1554,  0.0702, -0.1757,  0.0841,\n",
       "           0.1224,  0.0322,  0.1123,  0.1322,  0.0485,  0.1752, -0.1578,\n",
       "           0.0528, -0.0243,  0.0333, -0.1479, -0.0446, -0.0993,  0.0062,\n",
       "          -0.1017,  0.1433,  0.1237, -0.0363, -0.1159,  0.0138,  0.1124,\n",
       "          -0.1429,  0.0495, -0.0861,  0.1653],\n",
       "         [-0.1308,  0.1730, -0.0034, -0.0153, -0.0150,  0.0280, -0.1165,\n",
       "           0.0317, -0.0568,  0.1316,  0.1274,  0.0449,  0.0101, -0.1106,\n",
       "           0.0567,  0.1408,  0.1628, -0.0636,  0.0930, -0.1084, -0.1039,\n",
       "          -0.1154,  0.1247, -0.0096,  0.0641, -0.0059, -0.0426, -0.0630,\n",
       "           0.1737, -0.1198,  0.0941, -0.0457],\n",
       "         [-0.1256,  0.1038,  0.0496, -0.0577, -0.1552, -0.0260, -0.0999,\n",
       "           0.1076, -0.0431, -0.0699,  0.0795, -0.1268, -0.0265,  0.1572,\n",
       "           0.1346,  0.0126, -0.1767,  0.1057,  0.1583, -0.0078,  0.0594,\n",
       "          -0.0392,  0.0970,  0.0385,  0.1081, -0.0727, -0.1029,  0.0559,\n",
       "          -0.0393, -0.0617, -0.1191,  0.0962],\n",
       "         [-0.1716,  0.0875,  0.1579, -0.1256, -0.0746, -0.1268, -0.0476,\n",
       "           0.0652,  0.1360, -0.0714,  0.0171, -0.1295, -0.0476, -0.1605,\n",
       "          -0.0252,  0.1457, -0.1214,  0.1144, -0.0269,  0.1057,  0.1678,\n",
       "          -0.1417,  0.0386,  0.0731,  0.0103, -0.0906,  0.0387,  0.0216,\n",
       "           0.0232,  0.1013,  0.1138, -0.0809],\n",
       "         [-0.0818,  0.0526,  0.0981,  0.0845,  0.0838, -0.1022, -0.1571,\n",
       "           0.1290, -0.1553, -0.1117, -0.1192, -0.1531, -0.1267,  0.0876,\n",
       "           0.0575,  0.1164,  0.1093, -0.1489, -0.1102, -0.0725, -0.0745,\n",
       "          -0.1048, -0.0117, -0.0816,  0.0385, -0.0908,  0.1186, -0.0231,\n",
       "           0.0385, -0.1001,  0.0776, -0.1612],\n",
       "         [ 0.1286,  0.0681, -0.1374, -0.1614, -0.0030,  0.1670, -0.1078,\n",
       "           0.0993,  0.1569,  0.0942, -0.1619, -0.0797, -0.0345, -0.1095,\n",
       "           0.1132,  0.0004,  0.1230, -0.0510, -0.0327, -0.0224,  0.0916,\n",
       "          -0.1365, -0.0924,  0.0330,  0.0416, -0.1599, -0.0867, -0.0744,\n",
       "           0.0687, -0.1404, -0.0689,  0.0941]]), Parameter containing:\n",
       " tensor([ 0.0149, -0.0649,  0.1458,  0.0728,  0.0844, -0.1694,  0.1619,\n",
       "         -0.1078, -0.1251, -0.0556, -0.1477,  0.0555,  0.1142, -0.1544,\n",
       "          0.1534,  0.0989]), Parameter containing:\n",
       " tensor([[ 0.2074,  0.0943,  0.0284, -0.1286, -0.2002,  0.1914, -0.1723,\n",
       "           0.2172, -0.1867,  0.1318, -0.2262,  0.0104,  0.1427, -0.1136,\n",
       "           0.1546, -0.0210],\n",
       "         [ 0.1026,  0.1613, -0.2434,  0.0976, -0.0914, -0.2435,  0.1941,\n",
       "          -0.1525, -0.1271,  0.0206, -0.0698,  0.0039,  0.1885,  0.1320,\n",
       "          -0.1426, -0.0544]]), Parameter containing:\n",
       " tensor([ 0.0490,  0.1829])]"
      ]
     },
     "execution_count": 72,
     "metadata": {},
     "output_type": "execute_result"
    }
   ],
   "source": [
    "[next for next in policy.parameters()]"
   ]
  },
  {
   "cell_type": "code",
   "execution_count": 92,
   "metadata": {},
   "outputs": [],
   "source": [
    "# REINFORCE\n",
    "def reinforce(env=env, policy=policy, optimizer=optimizer, \n",
    "              n_episodes=1000, max_t=1000, gamma=1.0, print_every=100):\n",
    "    scores_deque = deque(maxlen=100)\n",
    "    scores = []\n",
    "    for i_episode in range(1, n_episodes+1):\n",
    "        saved_log_probs = []\n",
    "        rewards = []\n",
    "        state = env.reset()\n",
    "        for t in range(max_t):\n",
    "            action, log_prob = policy.act(state)\n",
    "            saved_log_probs.append(log_prob)\n",
    "            state, reward, done, _ = env.step(action)\n",
    "            rewards.append(reward)\n",
    "            if done:\n",
    "                break \n",
    "        scores_deque.append(sum(rewards))\n",
    "        scores.append(sum(rewards))\n",
    "        \n",
    "        discounts = [gamma**i for i in range(len(rewards)+1)]\n",
    "        R = sum([a*b for a,b in zip(discounts, rewards)])\n",
    "        \n",
    "        policy_loss = []\n",
    "        for log_prob in saved_log_probs:\n",
    "            policy_loss.append(-log_prob * R)\n",
    "        policy_loss = torch.cat(policy_loss).sum()\n",
    "        \n",
    "        optimizer.zero_grad()\n",
    "        policy_loss.backward()\n",
    "        optimizer.step()\n",
    "        \n",
    "        if i_episode % print_every == 0:\n",
    "            print('Episode {}\\tAverage Score: {:.2f}'.format(i_episode, np.mean(scores_deque)))\n",
    "        if np.mean(scores_deque)>=195.0:\n",
    "            print('Environment solved in {:d} episodes!\\tAverage Score: {:.2f}'.format(i_episode-100, np.mean(scores_deque)))\n",
    "        ### STORE WEIGHTS\n",
    "            break\n",
    "        \n",
    "    return (scores, policy)\n",
    "    \n"
   ]
  },
  {
   "cell_type": "code",
   "execution_count": 93,
   "metadata": {},
   "outputs": [
    {
     "name": "stdout",
     "output_type": "stream",
     "text": [
      "Episode 100\tAverage Score: 12.81\n",
      "Episode 200\tAverage Score: 11.79\n",
      "Episode 300\tAverage Score: 18.92\n",
      "Episode 400\tAverage Score: 20.02\n",
      "Episode 500\tAverage Score: 20.55\n",
      "Episode 600\tAverage Score: 28.82\n",
      "Episode 700\tAverage Score: 19.76\n",
      "Episode 800\tAverage Score: 23.10\n",
      "Episode 900\tAverage Score: 76.70\n",
      "Episode 1000\tAverage Score: 27.52\n",
      "Episode 1100\tAverage Score: 42.87\n",
      "Episode 1200\tAverage Score: 50.55\n",
      "Episode 1300\tAverage Score: 80.30\n",
      "Episode 1400\tAverage Score: 49.53\n",
      "Episode 1500\tAverage Score: 45.67\n",
      "Episode 1600\tAverage Score: 89.92\n",
      "Episode 1700\tAverage Score: 85.83\n",
      "Episode 1800\tAverage Score: 110.68\n",
      "Episode 1900\tAverage Score: 138.55\n",
      "Episode 2000\tAverage Score: 83.64\n",
      "Episode 2100\tAverage Score: 131.88\n",
      "Episode 2200\tAverage Score: 150.95\n",
      "Environment solved in 2164 episodes!\tAverage Score: 195.41\n"
     ]
    }
   ],
   "source": [
    "(cart_scores, cart_policy) = reinforce(env=cart_env, policy=cart_policy, optimizer=cart_optimizer, \n",
    "                                       n_episodes=2500, max_t=300)"
   ]
  },
  {
   "cell_type": "code",
   "execution_count": 94,
   "metadata": {},
   "outputs": [
    {
     "name": "stdout",
     "output_type": "stream",
     "text": [
      "Episode 100\tAverage Score: -463.61\n",
      "Episode 200\tAverage Score: -527.78\n",
      "Episode 300\tAverage Score: -538.35\n",
      "Episode 400\tAverage Score: -467.57\n",
      "Episode 500\tAverage Score: -467.89\n",
      "Episode 600\tAverage Score: -385.30\n",
      "Episode 700\tAverage Score: -390.75\n",
      "Episode 800\tAverage Score: -355.99\n",
      "Episode 900\tAverage Score: -343.36\n",
      "Episode 1000\tAverage Score: -335.53\n",
      "Episode 1100\tAverage Score: -337.74\n",
      "Episode 1200\tAverage Score: -352.19\n",
      "Episode 1300\tAverage Score: -297.98\n",
      "Episode 1400\tAverage Score: -272.15\n",
      "Episode 1500\tAverage Score: -272.53\n",
      "Episode 1600\tAverage Score: -282.48\n",
      "Episode 1700\tAverage Score: -276.28\n",
      "Episode 1800\tAverage Score: -275.38\n",
      "Episode 1900\tAverage Score: -234.76\n",
      "Episode 2000\tAverage Score: -223.45\n",
      "Episode 2100\tAverage Score: -203.43\n",
      "Episode 2200\tAverage Score: -204.74\n",
      "Episode 2300\tAverage Score: -194.00\n",
      "Episode 2400\tAverage Score: -196.52\n",
      "Episode 2500\tAverage Score: -207.94\n"
     ]
    }
   ],
   "source": [
    "(scores, policy) = reinforce(policy=policy, n_episodes=2500, max_t=800)"
   ]
  },
  {
   "cell_type": "markdown",
   "metadata": {},
   "source": [
    "### 4. Plot the Scores"
   ]
  },
  {
   "cell_type": "code",
   "execution_count": 95,
   "metadata": {},
   "outputs": [
    {
     "data": {
      "image/png": "[encoded data removed]",
      "text/plain": [
       "<matplotlib.figure.Figure at 0x7f73199ef5c0>"
      ]
     },
     "metadata": {
      "needs_background": "light"
     },
     "output_type": "display_data"
    }
   ],
   "source": [
    "fig = plt.figure()\n",
    "ax = fig.add_subplot(111)\n",
    "plt.plot(np.arange(1, len(cart_scores)+1), cart_scores)\n",
    "plt.plot(np.arange(1, len(scores)+1), scores)\n",
    "plt.ylabel('Score')\n",
    "plt.xlabel('Episode #')\n",
    "plt.show()"
   ]
  },
  {
   "cell_type": "markdown",
   "metadata": {},
   "source": [
    "### 5. Watch a Smart Agent!"
   ]
  },
  {
   "cell_type": "code",
   "execution_count": 104,
   "metadata": {},
   "outputs": [
    {
     "data": {
      "image/png": "[encoded data removed]",
      "text/plain": [
       "<matplotlib.figure.Figure at 0x7f731a1c6198>"
      ]
     },
     "metadata": {
      "needs_background": "light"
     },
     "output_type": "display_data"
    }
   ],
   "source": [
    "env = gym.make('LunarLander-v2')\n",
    "env.seed(0)\n",
    "\n",
    "state = env.reset()\n",
    "img = plt.imshow(env.render(mode='rgb_array'))\n",
    "for t in range(1000):\n",
    "    action, _ = policy.act(state)\n",
    "    img.set_data(env.render(mode='rgb_array')) \n",
    "    plt.axis('off')\n",
    "    display.display(plt.gcf())\n",
    "    display.clear_output(wait=True)\n",
    "    state, reward, done, _ = env.step(action)\n",
    "    if done:\n",
    "        break \n",
    "\n",
    "#env.close()"
   ]
  },
  {
   "cell_type": "code",
   "execution_count": 102,
   "metadata": {},
   "outputs": [
    {
     "data": {
      "image/png": "[encoded data removed]",
      "text/plain": [
       "<matplotlib.figure.Figure at 0x7f731993c6a0>"
      ]
     },
     "metadata": {
      "needs_background": "light"
     },
     "output_type": "display_data"
    }
   ],
   "source": [
    "cart_env = gym.make('CartPole-v0')\n",
    "cart_env.seed(0)\n",
    "\n",
    "cart_state = cart_env.reset()\n",
    "img = plt.imshow(cart_env.render(mode='rgb_array'))\n",
    "for t in range(1000):\n",
    "    cart_action, _ = cart_policy.act(cart_state)\n",
    "    img.set_data(cart_env.render(mode='rgb_array')) \n",
    "    plt.axis('off')\n",
    "    display.display(plt.gcf())\n",
    "    display.clear_output(wait=True)\n",
    "    cart_state, reward, done, _ = cart_env.step(action)\n",
    "    if done:\n",
    "        break "
   ]
  },
  {
   "cell_type": "code",
   "execution_count": null,
   "metadata": {},
   "outputs": [],
   "source": []
  },
  {
   "cell_type": "code",
   "execution_count": null,
   "metadata": {},
   "outputs": [],
   "source": []
  }
 ],
 "metadata": {
  "anaconda-cloud": {},
  "kernelspec": {
   "display_name": "Python 3",
   "language": "python",
   "name": "python3"
  },
  "language_info": {
   "codemirror_mode": {
    "name": "ipython",
    "version": 3
   },
   "file_extension": ".py",
   "mimetype": "text/x-python",
   "name": "python",
   "nbconvert_exporter": "python",
   "pygments_lexer": "ipython3",
   "version": "3.6.3"
  }
 },
 "nbformat": 4,
 "nbformat_minor": 2
}
