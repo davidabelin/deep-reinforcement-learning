{
  "cells": [
    {
      "cell_type": "markdown",
      "metadata": {
        "id": "ArKFzS5ksz5C"
      },
      "source": [
        "# Deep Q-Network (DQN)\n",
        "---\n",
        "In this notebook, you will implement a DQN agent with OpenAI Gym's LunarLander-v2 environment.\n",
        "\n",
        "### 1. Import the Necessary Packages"
      ]
    },
    {
      "cell_type": "code",
      "source": [
        "!pip install gymnasium"
      ],
      "metadata": {
        "colab": {
          "base_uri": "https://localhost:8080/"
        },
        "id": "zmh97SL0e7P_",
        "outputId": "7edde971-23d8-4de4-e20e-b89cb3c17fec"
      },
      "execution_count": 16,
      "outputs": [
        {
          "output_type": "stream",
          "name": "stdout",
          "text": [
            "Looking in indexes: https://pypi.org/simple, https://us-python.pkg.dev/colab-wheels/public/simple/\n",
            "Collecting gymnasium\n",
            "  Downloading gymnasium-0.27.0-py3-none-any.whl (879 kB)\n",
            "\u001b[?25l     \u001b[90m━━━━━━━━━━━━━━━━━━━━━━━━━━━━━━━━━━━━━━━━\u001b[0m \u001b[32m0.0/879.1 KB\u001b[0m \u001b[31m?\u001b[0m eta \u001b[36m-:--:--\u001b[0m\r\u001b[2K     \u001b[90m━━━━━━━━━━━━━━━━━━━━━━━━━━━━━━━━━━━━━━\u001b[0m \u001b[32m879.1/879.1 KB\u001b[0m \u001b[31m38.1 MB/s\u001b[0m eta \u001b[36m0:00:00\u001b[0m\n",
            "\u001b[?25hCollecting jax-jumpy>=0.2.0\n",
            "  Downloading jax_jumpy-0.2.0-py3-none-any.whl (11 kB)\n",
            "Requirement already satisfied: cloudpickle>=1.2.0 in /usr/local/lib/python3.8/dist-packages (from gymnasium) (2.2.0)\n",
            "Requirement already satisfied: importlib-metadata>=4.8.0 in /usr/local/lib/python3.8/dist-packages (from gymnasium) (6.0.0)\n",
            "Requirement already satisfied: typing-extensions>=4.3.0 in /usr/local/lib/python3.8/dist-packages (from gymnasium) (4.4.0)\n",
            "Requirement already satisfied: numpy>=1.21.0 in /usr/local/lib/python3.8/dist-packages (from gymnasium) (1.21.6)\n",
            "Collecting shimmy<1.0,>=0.1.0\n",
            "  Downloading Shimmy-0.2.0-py3-none-any.whl (25 kB)\n",
            "Collecting gymnasium-notices>=0.0.1\n",
            "  Downloading gymnasium_notices-0.0.1-py3-none-any.whl (2.8 kB)\n",
            "Requirement already satisfied: zipp>=0.5 in /usr/local/lib/python3.8/dist-packages (from importlib-metadata>=4.8.0->gymnasium) (3.11.0)\n",
            "Installing collected packages: gymnasium-notices, jax-jumpy, shimmy, gymnasium\n",
            "Successfully installed gymnasium-0.27.0 gymnasium-notices-0.0.1 jax-jumpy-0.2.0 shimmy-0.2.0\n"
          ]
        }
      ]
    },
    {
      "cell_type": "code",
      "execution_count": 1,
      "metadata": {
        "id": "NXsjjok7sz5D",
        "colab": {
          "base_uri": "https://localhost:8080/"
        },
        "outputId": "1e1731cc-82f3-49af-a088-f1996663bb61"
      },
      "outputs": [
        {
          "output_type": "stream",
          "name": "stdout",
          "text": [
            "Looking in indexes: https://pypi.org/simple, https://us-python.pkg.dev/colab-wheels/public/simple/\n",
            "Requirement already satisfied: gym[box2d] in /usr/local/lib/python3.8/dist-packages (0.25.2)\n",
            "Requirement already satisfied: importlib-metadata>=4.8.0 in /usr/local/lib/python3.8/dist-packages (from gym[box2d]) (6.0.0)\n",
            "Requirement already satisfied: gym-notices>=0.0.4 in /usr/local/lib/python3.8/dist-packages (from gym[box2d]) (0.0.8)\n",
            "Requirement already satisfied: cloudpickle>=1.2.0 in /usr/local/lib/python3.8/dist-packages (from gym[box2d]) (2.2.0)\n",
            "Requirement already satisfied: numpy>=1.18.0 in /usr/local/lib/python3.8/dist-packages (from gym[box2d]) (1.21.6)\n",
            "Requirement already satisfied: swig==4.* in /usr/local/lib/python3.8/dist-packages (from gym[box2d]) (4.1.1)\n",
            "Requirement already satisfied: box2d-py==2.3.5 in /usr/local/lib/python3.8/dist-packages (from gym[box2d]) (2.3.5)\n",
            "Requirement already satisfied: pygame==2.1.0 in /usr/local/lib/python3.8/dist-packages (from gym[box2d]) (2.1.0)\n",
            "Requirement already satisfied: zipp>=0.5 in /usr/local/lib/python3.8/dist-packages (from importlib-metadata>=4.8.0->gym[box2d]) (3.11.0)\n"
          ]
        }
      ],
      "source": [
        "import gym #nasium as gym\n",
        "#!pip3 install box2d\n",
        "!pip install gym[box2d]\n",
        "import random\n",
        "import torch\n",
        "import numpy as np\n",
        "from collections import deque\n",
        "import matplotlib.pyplot as plt\n",
        "%matplotlib inline\n",
        "\n",
        "#!python -m pip install pyvirtualdisplay\n",
        "#from pyvirtualdisplay import Display\n",
        "#display = Display(visible=True, size=(1400, 900))\n",
        "#display.start()\n",
        "\n",
        "is_ipython = 'inline' in plt.get_backend()\n",
        "if is_ipython:\n",
        "    from IPython import display\n",
        "\n",
        "plt.ion()"
      ]
    },
    {
      "cell_type": "code",
      "source": [
        "# @title Generated by ChatGPT!!\n",
        "\n",
        "import tensorflow as tf\n",
        "\n",
        "class SARSA_Model(tf.keras.Model):\n",
        "  def __init__(self, state_size, action_size):\n",
        "    super(SARSA_Model, self).__init__()\n",
        "    self.fc1 = tf.keras.layers.Dense(64, activation='relu')\n",
        "    self.fc2 = tf.keras.layers.Dense(32, activation='relu')\n",
        "    self.fc3 = tf.keras.layers.Dense(action_size)\n",
        "\n",
        "  def call(self, state):\n",
        "    x = self.fc1(state)\n",
        "    x = self.fc2(x)\n",
        "    x = self.fc3(x)\n",
        "    return x\n",
        "\n",
        "def train(model, episodes, optimizer, loss_fn):\n",
        "  states = []\n",
        "  actions = []\n",
        "  rewards = []\n",
        "  \n",
        "  # Extract states, actions, and rewards from episodes\n",
        "  for episode in episodes:\n",
        "    for state, action, reward in episode:\n",
        "      states.append(state)\n",
        "      actions.append(action)\n",
        "      rewards.append(reward)\n",
        "      \n",
        "  with tf.GradientTape() as tape:\n",
        "    q_values = model(np.array(states))\n",
        "    q_values = tf.reduce_sum(q_values * tf.one_hot(actions, depth=q_values.shape[-1]), axis=-1)\n",
        "    loss = loss_fn(rewards, q_values)\n",
        "    grads = tape.gradient(loss, model.trainable_variables)\n",
        "    optimizer.apply_gradients(zip(grads, model.trainable_variables))\n"
      ],
      "metadata": {
        "id": "tP1cJ4Lr1O-5",
        "cellView": "form"
      },
      "execution_count": null,
      "outputs": []
    },
    {
      "cell_type": "markdown",
      "metadata": {
        "id": "r4Sl_Wc_sz5E"
      },
      "source": [
        "### 2. Instantiate the Environment and Agent\n",
        "\n",
        "Initialize the environment in the code cell below."
      ]
    },
    {
      "cell_type": "code",
      "execution_count": 27,
      "metadata": {
        "id": "SY0GEqHHsz5E",
        "colab": {
          "base_uri": "https://localhost:8080/"
        },
        "outputId": "b2d06c70-e9cf-4e78-bb52-c6f1bc82712d"
      },
      "outputs": [
        {
          "output_type": "stream",
          "name": "stdout",
          "text": [
            "State shape:  Box([-1.5       -1.5       -5.        -5.        -3.1415927 -5.\n",
            " -0.        -0.       ], [1.5       1.5       5.        5.        3.1415927 5.        1.\n",
            " 1.       ], (8,), float32)\n",
            "Number of actions:  Discrete(4)\n"
          ]
        }
      ],
      "source": [
        "#!pip install gym[box2d]\n",
        "env = gym.make(\n",
        "            \"LunarLander-v2\",\n",
        "            continuous= False,\n",
        "            gravity= -10.0,\n",
        "            enable_wind= True,\n",
        "            wind_power= 20.0,\n",
        "            turbulence_power= 2.0,\n",
        "            render_mode=\"rgb_array\",\n",
        "            new_step_api=False,\n",
        ")\n",
        "#env.seed(0)\n",
        "print('State shape: ', env.observation_space.shape)\n",
        "print('Number of actions: ', env.action_space.n)#.shape[0])"
      ]
    },
    {
      "cell_type": "markdown",
      "metadata": {
        "id": "H4ukSEf9sz5E"
      },
      "source": [
        "Before running the next code cell, familiarize yourself with the code in **Step 2** and **Step 3** of this notebook, along with the code in `dqn_agent.py` and `model.py`.  Once you have an understanding of how the different files work together, \n",
        "- Define a neural network architecture in `model.py` that maps states to action values.  This file is mostly empty - it's up to you to define your own deep Q-network!\n",
        "- Finish the `learn` method in the `Agent` class in `dqn_agent.py`.  The sampled batch of experience tuples is already provided for you; you need only use the local and target Q-networks to compute the loss, before taking a step towards minimizing the loss.\n",
        "\n",
        "Once you have completed the code in `dqn_agent.py` and `model.py`, run the code cell below.  (_If you end up needing to make multiple changes and get unexpected behavior, please restart the kernel and run the cells from the beginning of the notebook!_)\n",
        "\n",
        "You can find the solution files, along with saved model weights for a trained agent, in the `solution/` folder.  (_Note that there are many ways to solve this exercise, and the \"solution\" is just one way of approaching the problem, to yield a trained agent._)"
      ]
    },
    {
      "cell_type": "code",
      "execution_count": null,
      "metadata": {
        "id": "RPD8Pq39sz5E"
      },
      "outputs": [],
      "source": [
        "from dqn_agent_solution import Agent\n",
        "\n",
        "seed = 0\n",
        "agent = Agent(state_size=8, action_size=4, seed=seed)\n",
        "agent.qnetwork_local.load_state_dict(torch.load('checkpoint.pth'))\n",
        "\n",
        "# watch a well-trained agent\n",
        "state = env.reset(seed=seed)\n",
        "img = plt.imshow(env.render()[0])\n",
        "for j in range(200):\n",
        "    action = agent.act(state)\n",
        "    state, reward, done, _ = env.step(action)\n",
        "    img.set_data(env.render()[0]) \n",
        "    plt.axis('off')\n",
        "    display.display(plt.gcf())\n",
        "    display.clear_output(wait=True)\n",
        "    if done:\n",
        "        break \n",
        "        \n",
        "env.close()"
      ]
    },
    {
      "cell_type": "markdown",
      "metadata": {
        "id": "bYCfgBlUsz5F"
      },
      "source": [
        "### 3. Train the Agent with DQN\n",
        "\n",
        "Run the code cell below to train the agent from scratch.  You are welcome to amend the supplied values of the parameters in the function, to try to see if you can get better performance!"
      ]
    },
    {
      "cell_type": "code",
      "execution_count": 37,
      "metadata": {
        "id": "wXYQj_P5sz5F"
      },
      "outputs": [],
      "source": [
        "def dqn(n_episodes=2000, max_t=1000, eps_start=1.0, eps_end=0.01, eps_decay=0.995):\n",
        "    \"\"\"Deep Q-Learning.\n",
        "    \n",
        "    Params\n",
        "    ======\n",
        "        n_episodes (int): maximum number of training episodes\n",
        "        max_t (int): maximum number of timesteps per episode\n",
        "        eps_start (float): starting value of epsilon, for epsilon-greedy action selection\n",
        "        eps_end (float): minimum value of epsilon\n",
        "        eps_decay (float): multiplicative factor (per episode) for decreasing epsilon\n",
        "    \"\"\"\n",
        "    scores = []                        # list containing scores from each episode\n",
        "    window_size = 111                  # scores to rolling-remember\n",
        "    scores_window = deque(maxlen=window_size)\n",
        "    eps = eps_start                    # initialize epsilon\n",
        "    for i_episode in range(1, n_episodes+1):\n",
        "        state = env.reset()\n",
        "        score = 0\n",
        "        for t in range(max_t):\n",
        "            action = agent.act(state, eps)\n",
        "            next_state, reward, done, _ = env.step(action)\n",
        "            agent.step(state, action, reward, next_state, done)\n",
        "            state = next_state\n",
        "            score += reward\n",
        "            if done:\n",
        "                break \n",
        "        scores_window.append(score)       # save most recent score\n",
        "        scores.append(score)              # save most recent score\n",
        "        eps = max(eps_end, eps_decay*eps) # decrease epsilon\n",
        "        print('\\rEpisode {}\\tAverage Score: {:.2f}'.format(i_episode, np.mean(scores_window)), end=\"\")\n",
        "        if i_episode % 100 == 0:\n",
        "            print('\\rEpisode {}\\tAverage Score: {:.2f}'.format(i_episode, np.mean(scores_window)))\n",
        "        if np.mean(scores_window)>=150.0:\n",
        "            print('\\nEnvironment solved in {:d} episodes!\\tAverage Score: {:.2f}'.format(i_episode-100, np.mean(scores_window)))\n",
        "            torch.save(agent.qnetwork_local.state_dict(), 'highpoint.pth')\n",
        "            break\n",
        "        elif np.mean(scores_window)>=100.0:\n",
        "            print('\\nEnvironment solved in {:d} episodes!\\tAverage Score: {:.2f}'.format(i_episode-100, np.mean(scores_window)))\n",
        "            torch.save(agent.qnetwork_local.state_dict(), 'checkpoint.pth')           \n",
        "    return scores\n"
      ]
    },
    {
      "cell_type": "code",
      "source": [
        "agent.qnetwork_local.load_state_dict(torch.load('checkpoint.pth'))"
      ],
      "metadata": {
        "colab": {
          "base_uri": "https://localhost:8080/"
        },
        "id": "BUkcFzLAU91i",
        "outputId": "f8d2c539-6a63-4ff0-8a95-79f680be09ef"
      },
      "execution_count": null,
      "outputs": [
        {
          "output_type": "execute_result",
          "data": {
            "text/plain": [
              "<All keys matched successfully>"
            ]
          },
          "metadata": {},
          "execution_count": 13
        }
      ]
    },
    {
      "cell_type": "code",
      "source": [
        "scores = dqn(n_episodes=1000, max_t=555, eps_start=0.5, eps_end=0.025, eps_decay=0.9975)\n",
        "\n",
        "# plot the scores\n",
        "fig = plt.figure()\n",
        "ax = fig.add_subplot(111)\n",
        "plt.plot(np.arange(len(scores)), scores)\n",
        "plt.ylabel('Score')\n",
        "plt.xlabel('Episode #')\n",
        "plt.show()"
      ],
      "metadata": {
        "colab": {
          "base_uri": "https://localhost:8080/",
          "height": 634
        },
        "id": "veUfdWa1PaXE",
        "outputId": "c372dd90-2418-4fcd-91a4-9975225233d4"
      },
      "execution_count": 38,
      "outputs": [
        {
          "output_type": "stream",
          "name": "stdout",
          "text": [
            "Episode 100\tAverage Score: -324.07\n",
            "Episode 200\tAverage Score: -323.26\n",
            "Episode 300\tAverage Score: -278.46\n",
            "Episode 400\tAverage Score: -251.40\n",
            "Episode 500\tAverage Score: -201.17\n",
            "Episode 600\tAverage Score: -163.92\n",
            "Episode 700\tAverage Score: -148.06\n",
            "Episode 800\tAverage Score: -120.29\n",
            "Episode 900\tAverage Score: -115.24\n",
            "Episode 1000\tAverage Score: -100.29\n",
            "Episode 1100\tAverage Score: -103.82\n",
            "Episode 1200\tAverage Score: -87.41\n",
            "Episode 1300\tAverage Score: -82.45\n",
            "Episode 1400\tAverage Score: -87.06\n",
            "Episode 1500\tAverage Score: -81.72\n",
            "Episode 1600\tAverage Score: -68.97\n",
            "Episode 1700\tAverage Score: -60.38\n",
            "Episode 1800\tAverage Score: -55.52\n",
            "Episode 1900\tAverage Score: -55.10\n",
            "Episode 2000\tAverage Score: -92.05\n"
          ]
        },
        {
          "output_type": "display_data",
          "data": {
            "text/plain": [
              "<Figure size 432x288 with 1 Axes>"
            ],
            "image/png": "[encoded data removed]"
          },
          "metadata": {
            "needs_background": "light"
          }
        }
      ]
    },
    {
      "cell_type": "code",
      "source": [
        "torch.save(agent.qnetwork_local.state_dict(), 'dqn_windypoint.pth')"
      ],
      "metadata": {
        "id": "rouVehFdXq6X"
      },
      "execution_count": 39,
      "outputs": []
    },
    {
      "cell_type": "code",
      "source": [
        "agent.memory"
      ],
      "metadata": {
        "id": "xlEVcDPpCBJR"
      },
      "execution_count": null,
      "outputs": []
    },
    {
      "cell_type": "markdown",
      "metadata": {
        "id": "6iS8M8Eisz5G"
      },
      "source": [
        "### 4. Watch a Smart Agent!\n",
        "\n",
        "In the next code cell, you will load the trained weights from file to watch a smart agent!"
      ]
    },
    {
      "cell_type": "code",
      "execution_count": null,
      "metadata": {
        "id": "AuWpi8dcsz5G"
      },
      "outputs": [],
      "source": [
        "# load the weights from file\n",
        "agent.qnetwork_local.load_state_dict(torch.load('checkpoint.pth'))\n",
        "\n",
        "# watch a well-trained agent\n",
        "state = env.reset(seed=seed)\n",
        "img = plt.imshow(env.render()[0])\n",
        "for j in range(200):\n",
        "    action = agent.act(state)\n",
        "    state, reward, done, _ = env.step(action)\n",
        "    img.set_data(env.render()[0]) \n",
        "    plt.axis('off')\n",
        "    display.display(plt.gcf())\n",
        "    display.clear_output(wait=True)\n",
        "    if done:\n",
        "        break \n",
        "        \n",
        "env.close()"
      ]
    },
    {
      "cell_type": "markdown",
      "metadata": {
        "id": "PGxg3gjKsz5G"
      },
      "source": [
        "### 5. Explore\n",
        "\n",
        "In this exercise, you have implemented a DQN agent and demonstrated how to use it to solve an OpenAI Gym environment.  To continue your learning, you are encouraged to complete any (or all!) of the following tasks:\n",
        "- Amend the various hyperparameters and network architecture to see if you can get your agent to solve the environment faster.  Once you build intuition for the hyperparameters that work well with this environment, try solving a different OpenAI Gym task with discrete actions!\n",
        "- You may like to implement some improvements such as prioritized experience replay, Double DQN, or Dueling DQN! \n",
        "- Write a blog post explaining the intuition behind the DQN algorithm and demonstrating how to use it to solve an RL environment of your choosing.  "
      ]
    }
  ],
  "metadata": {
    "kernelspec": {
      "display_name": "Python 3",
      "language": "python",
      "name": "python3"
    },
    "language_info": {
      "codemirror_mode": {
        "name": "ipython",
        "version": 3
      },
      "file_extension": ".py",
      "mimetype": "text/x-python",
      "name": "python",
      "nbconvert_exporter": "python",
      "pygments_lexer": "ipython3",
      "version": "3.6.3"
    },
    "colab": {
      "provenance": []
    },
    "accelerator": "GPU",
    "gpuClass": "standard"
  },
  "nbformat": 4,
  "nbformat_minor": 0
}