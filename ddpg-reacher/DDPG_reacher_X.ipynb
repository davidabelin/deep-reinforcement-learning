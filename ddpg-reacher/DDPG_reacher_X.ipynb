{
  "cells": [
    {
      "cell_type": "markdown",
      "metadata": {
        "id": "9b058ADVF-G_"
      },
      "source": [
        "# Deep Deterministic Policy Gradients (DDPG)\n",
        "---\n",
        "In this notebook, we train DDPG with OpenAI Gym's BipedalWalker-v2 environment.\n",
        "\n",
        "### 1. Import the Necessary Packages"
      ]
    },
    {
      "cell_type": "code",
      "execution_count": null,
      "metadata": {
        "id": "OotjxPANF-HB"
      },
      "outputs": [],
      "source": [
        "!pip install gymnasium[box2d]\n",
        "import gymnasium as gym\n",
        "import random\n",
        "import torch\n",
        "import numpy as np\n",
        "import pandas as pd\n",
        "from google.colab import files\n",
        "from collections import deque\n",
        "import matplotlib.pyplot as plt\n",
        "%matplotlib inline\n",
        "from IPython import display\n",
        "\n",
        "from ddpg_agent_bip_X import Agent"
      ]
    },
    {
      "cell_type": "markdown",
      "metadata": {
        "id": "L21oAff8F-HC"
      },
      "source": [
        "### 2. Instantiate the Environment and Agent"
      ]
    },
    {
      "cell_type": "code",
      "execution_count": null,
      "metadata": {
        "id": "3BVpbenjF-HC"
      },
      "outputs": [],
      "source": [
        "#from ddpg_agent_bip import Agent\n",
        "\n",
        "env = gym.make('BipedalWalker-v3', render_mode=\"rgb_array\")\n",
        "seed=0\n",
        "state_size=env.observation_space.shape[0]\n",
        "action_size=env.action_space.shape[0]\n",
        "agent = Agent(state_size=state_size, action_size=action_size, random_seed=seed)\n",
        "print(state_size, action_size)\n",
        "\n",
        "### Uncomment to run saved agents of CPU\n",
        "agent.actor_local.load_state_dict(torch.load('highscore_actorA_bip.pth', map_location=torch.device('cpu')))\n",
        "agent.critic_local.load_state_dict(torch.load('highscore_criticA_bip.pth', map_location=torch.device('cpu')))"
      ]
    },
    {
      "cell_type": "markdown",
      "metadata": {
        "id": "gVzlW7asF-HD"
      },
      "source": [
        "### 3. Train the Agent with DDPG\n",
        "\n",
        "Run the code cell below to train the agent from scratch.  Alternatively, you can skip to the next code cell to load the pre-trained weights from file."
      ]
    },
    {
      "cell_type": "code",
      "execution_count": null,
      "metadata": {
        "id": "zRWlT6LhF-HD"
      },
      "outputs": [],
      "source": [
        "def ddpg(n_episodes=2000, max_t=1600, max_score=-10000.):\n",
        "    scores_deque = deque(maxlen=100)\n",
        "    scores = []\n",
        "    #max_score = -10000 #-np.Inf\n",
        "    for i_episode in range(1, n_episodes+1):\n",
        "        state, _ = env.reset(seed=seed)\n",
        "        agent.reset()\n",
        "        score = 0\n",
        "        for t in range(max_t):\n",
        "            action = agent.act(state)\n",
        "            next_state, reward, done, trun, _ = env.step(action)\n",
        "            agent.step(state, action, reward, next_state, done or trun)\n",
        "            state = next_state\n",
        "            score += reward\n",
        "            if done or trun:\n",
        "                break \n",
        "        scores_deque.append(score)\n",
        "        scores.append(score)\n",
        "        if score >= max_score + int(np.round(np.abs(0.2*max_score))):\n",
        "            torch.save(agent.actor_local.state_dict(), 'highscore_actor_bip.pth')\n",
        "            torch.save(agent.critic_local.state_dict(), 'highscore_critic_bip.pth')\n",
        "            print('\\rEpisode {}\\tNEW HIGH SCORE! {:.2f}'.format(i_episode,score))\n",
        "            max_score = score           \n",
        "        print('\\rEpisode {}\\tAverage Score: {:.2f}\\tScore: {:.2f}'.format(i_episode, np.mean(scores_deque), score), end=\"\")\n",
        "        if i_episode % 100 == 0:\n",
        "            torch.save(agent.actor_local.state_dict(), 'checkpoint_actor_bip.pth')\n",
        "            torch.save(agent.critic_local.state_dict(), 'checkpoint_critic_bip.pth')\n",
        "            print('\\rEpisode {}\\tAverage Score: {:.2f}\\tHigh Score: {:.2f}'.format(i_episode, np.mean(scores_deque), max_score))   \n",
        "    return scores, max_score\n"
      ]
    },
    {
      "cell_type": "code",
      "source": [
        "#scores = ddpg(n_episodes=2000, max_t=800)\n",
        "# ~23 min for N=1000 T=500\n",
        "scores = []; new_scores = []; high_score = -10000.\n",
        "n_episodes=[300, 600, 300, 300, 600,  300, 300, 600]\n",
        "max_t=     [100, 400, 200, 600, 1200, 200, 400, 800]\n",
        "#n_episodes=[ne//2 for ne in n_episodes]\n",
        "\n",
        "for ne, mt in zip(n_episodes, max_t):\n",
        "    print('\\r### Episodes: {}\\tTime Limit: {:.2f} ###'.format(ne,mt))\n",
        "    new_scores, high_score = ddpg(n_episodes=ne, max_score=high_score)\n",
        "    scores += new_scores\n"
      ],
      "metadata": {
        "id": "13qXAsmAqx0K"
      },
      "execution_count": null,
      "outputs": []
    },
    {
      "cell_type": "code",
      "source": [
        "torch.save(agent.actor_local.state_dict(), 'checkpoint_actorB_bip.pth')\n",
        "torch.save(agent.critic_local.state_dict(), 'checkpoint_criticB_bip.pth')\n",
        "files.download('checkpoint_criticB_bip.pth')\n",
        "files.download('checkpoint_actorB_bip.pth')"
      ],
      "metadata": {
        "id": "hlLJLwroNdzq"
      },
      "execution_count": null,
      "outputs": []
    },
    {
      "cell_type": "code",
      "source": [
        "### Scores plot\n",
        "fig = plt.figure(figsize=(12,6))\n",
        "ax = fig.add_subplot(111)\n",
        "plt.plot(np.arange(1, len(scores)+1), scores)\n",
        "plt.ylabel('Score')\n",
        "plt.xlabel('Episode #')\n",
        "plt.show()"
      ],
      "metadata": {
        "id": "Bu-bNkXYWwJL"
      },
      "execution_count": null,
      "outputs": []
    },
    {
      "cell_type": "markdown",
      "metadata": {
        "id": "oq-Y0saUF-HE"
      },
      "source": [
        "### 4. Watch a Smart Agent!\n",
        "\n",
        "In the next code cell, you will load the trained weights from file to watch a smart agent!"
      ]
    },
    {
      "cell_type": "code",
      "source": [
        "agent.actor_local.load_state_dict(torch.load('highscore_actorA_bip.pth'))\n",
        "agent.critic_local.load_state_dict(torch.load('highscore_criticA_bip.pth'))"
      ],
      "metadata": {
        "id": "TMEOLXYbVIOz"
      },
      "execution_count": null,
      "outputs": []
    },
    {
      "cell_type": "code",
      "source": [
        "#### Display from DQN notebook\n",
        "rewards = []\n",
        "steps = []\n",
        "t = 1600\n",
        "state, info = env.reset(seed=seed)\n",
        "img = plt.imshow(env.render())\n",
        "for j in range(t):\n",
        "    action = agent.act(state)\n",
        "    state, reward, done, trun, info = env.step(action)\n",
        "    rewards += [reward]\n",
        "    img.set_data(env.render()) \n",
        "    plt.axis('off')\n",
        "    display.display(plt.gcf())\n",
        "    display.clear_output(wait=True)\n",
        "    if done or trun:\n",
        "        break \n",
        "print(np.sum(rewards))"
      ],
      "metadata": {
        "id": "q2nu72h6kfSO"
      },
      "execution_count": null,
      "outputs": []
    },
    {
      "cell_type": "code",
      "source": [
        "action"
      ],
      "metadata": {
        "id": "cozryFUIQSMC"
      },
      "execution_count": null,
      "outputs": []
    },
    {
      "cell_type": "code",
      "source": [
        "#### Get data\n",
        "rewards = []\n",
        "final_rewards = []\n",
        "steps = []\n",
        "epi_acts = []\n",
        "actions = []\n",
        "tries = 1000\n",
        "max_t = 1000\n",
        "for i in range(tries):\n",
        "    step_count = 0\n",
        "    reward_sum = 0\n",
        "    state, info = env.reset(seed=seed)\n",
        "    for j in range(max_t):\n",
        "        action = agent.act(state)\n",
        "        epi_acts += [action]\n",
        "        state, reward, done, trun, info = env.step(action)\n",
        "        if done or trun:\n",
        "            final_rewards += [reward]\n",
        "            break \n",
        "        else:\n",
        "            final_rewards += [0]\n",
        "            reward_sum += reward\n",
        "            step_count += 1\n",
        "    actions += [epi_acts]\n",
        "    steps += [step_count]\n",
        "    rewards += [reward_sum]\n",
        "\n",
        "actions = np.asarray(actions)\n",
        "data = np.asarray([(int(s),int(r),int(f)) for s,r,f in zip(steps, np.round(rewards), final_rewards)])"
      ],
      "metadata": {
        "id": "SHxu9O8aaw6W"
      },
      "execution_count": null,
      "outputs": []
    },
    {
      "cell_type": "code",
      "source": [
        "[d for d in data if d[1]<0 ]"
      ],
      "metadata": {
        "id": "xdq0pwI0afFC"
      },
      "execution_count": null,
      "outputs": []
    },
    {
      "cell_type": "code",
      "source": [
        "data_df = pd.DataFrame(data, columns=[\"Steps\", \"Rewards\", \"Final Rewards\"])\n",
        "data_df.describe()"
      ],
      "metadata": {
        "id": "nGIWhy0IRm2Q"
      },
      "execution_count": null,
      "outputs": []
    },
    {
      "cell_type": "code",
      "source": [
        "fig = plt.figure(figsize=(12,6))\n",
        "ax = fig.add_subplot(111)\n",
        "plt.plot(np.arange(1, len(rewards)+1), rewards)\n",
        "plt.ylabel('Score')\n",
        "plt.xlabel('Episode')\n",
        "plt.show()\n",
        "print(\"Total Rewards[:-1]\", sum(data[1]), \"Average Reward:\", np.mean(data[1]), \"Avg. Final Rewards:\", np.mean(data[-1]))"
      ],
      "metadata": {
        "id": "DQLQdLKzgFaY"
      },
      "execution_count": null,
      "outputs": []
    },
    {
      "cell_type": "code",
      "source": [
        "fig = plt.figure(figsize=(12,6))\n",
        "ax = fig.add_subplot(111)\n",
        "plt.plot(np.arange(1, len(rewards[:-1])+1), rewards[:-1])\n",
        "plt.ylabel('Score')\n",
        "plt.xlabel('Step #')\n",
        "plt.show()\n",
        "print(\"Total Rewards[:-1]\", sum(rewards[:-1]), \"Final Reward:\", rewards[-1])"
      ],
      "metadata": {
        "id": "D3ihoD0dWi9L"
      },
      "execution_count": null,
      "outputs": []
    },
    {
      "cell_type": "markdown",
      "metadata": {
        "id": "h1wigUfbF-HF"
      },
      "source": [
        "# 5. Explore\n",
        "\n",
        "In this exercise, we have provided a sample DDPG agent and demonstrated how to use it to solve an OpenAI Gym environment.  To continue your learning, you are encouraged to complete any (or all!) of the following tasks:\n",
        "- **Amend the various hyperparameters and network architecture to see if you can get your agent to solve the environment faster than this benchmark implementation.**  Once you build intuition for the hyperparameters that work well with this environment, try solving a different OpenAI Gym task!\n",
        "- Write your own DDPG implementation.  Use this code as reference only when needed -- try as much as you can to write your own algorithm from scratch.\n",
        "- You may also like to implement **prioritized experience replay**, to see if it speeds learning.  \n",
        "- The current implementation adds Ornsetein-Uhlenbeck noise to the action space.  However, it has [been shown](https://blog.openai.com/better-exploration-with-parameter-noise/) that **adding noise to the parameters of the neural network policy can improve performance.  Make this change to the code, to verify it for yourself!**\n",
        "- Write a blog post explaining the intuition behind the DDPG algorithm and demonstrating how to use it to solve an RL environment of your choosing.  "
      ]
    },
    {
      "cell_type": "markdown",
      "source": [
        "## How well does DQN with Tile Coding how well does work?\n",
        "* Reuse DQN from Project 1, but use Tile Coding to turn continuous into discrete actions\n",
        "* Implement improvements on DQN from Project 1 first"
      ],
      "metadata": {
        "id": "kAsuFULRviuL"
      }
    },
    {
      "cell_type": "code",
      "source": [],
      "metadata": {
        "id": "zvUpCpQ7wXIh"
      },
      "execution_count": null,
      "outputs": []
    }
  ],
  "metadata": {
    "kernelspec": {
      "display_name": "Python 3",
      "language": "python",
      "name": "python3"
    },
    "language_info": {
      "codemirror_mode": {
        "name": "ipython",
        "version": 3
      },
      "file_extension": ".py",
      "mimetype": "text/x-python",
      "name": "python",
      "nbconvert_exporter": "python",
      "pygments_lexer": "ipython3",
      "version": "3.6.4"
    },
    "colab": {
      "provenance": [],
      "machine_shape": "hm"
    },
    "gpuClass": "standard"
  },
  "nbformat": 4,
  "nbformat_minor": 0
}