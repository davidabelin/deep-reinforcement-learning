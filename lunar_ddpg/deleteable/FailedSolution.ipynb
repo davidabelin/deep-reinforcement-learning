{
 "cells": [
  {
   "cell_type": "markdown",
   "metadata": {
    "jp-MarkdownHeadingCollapsed": true,
    "tags": []
   },
   "source": [
    "## Changes made to original\n",
    "\n",
    "1. model layer sizes: 400, 300 --> 64, 32\n",
    "> result: flatlined below 10\n",
    "2. model layer sizes: 400, 300 --> 256, 64 --> 256, 128\n",
    "> result: all got to 30 about same time\n",
    "3. multiple to single Agents.\n",
    "4. integrate parallelEnv for multiple agents"
   ]
  },
  {
   "cell_type": "markdown",
   "metadata": {},
   "source": [
    "## Import Necessary Modules"
   ]
  },
  {
   "cell_type": "code",
   "execution_count": null,
   "metadata": {
    "id": "OotjxPANF-HB",
    "tags": []
   },
   "outputs": [],
   "source": [
    "# render ai gym environment\n",
    "#!pip install gymnasium[box2d]\n",
    "import gymnasium as gym\n",
    "\n",
    "#!pip install progressbar\n",
    "#import progressbar as pb\n",
    "import torch\n",
    "import torch.nn as nn\n",
    "import torch.nn.functional as F\n",
    "from collections import deque, defaultdict\n",
    "import random\n",
    "import time\n",
    "import numpy as np\n",
    "# install package for displaying animation\n",
    "#!pip install JSAnimation\n",
    "#from JSAnimation.IPython_display import display_animation\n",
    "import matplotlib\n",
    "from matplotlib import animation\n",
    "import matplotlib.pyplot as plt\n",
    "%matplotlib inline\n",
    "\n",
    "is_ipython = 'inline' in plt.get_backend()\n",
    "if is_ipython:\n",
    "    from IPython import display\n",
    "else:  \n",
    "    #!python -m pip install pyvirtualdisplay\n",
    "    from pyvirtualdisplay import Display\n",
    "    display = Display(visible=True, size=(1400, 900))\n",
    "    display.start()\n",
    "    \n",
    "_=plt.ion()\n",
    "\n",
    "#import agents as AG\n",
    "from parallelEnv import parallelEnv\n",
    "from agents import Agents, device, BUFFER_SIZE, SEED, num_agents\n",
    "MANY = bool(num_agents>1)\n",
    "print(\"Using device: \",device) "
   ]
  },
  {
   "cell_type": "markdown",
   "metadata": {},
   "source": [
    "If *continuous=True* is passed, continuous actions (corresponding to the throttle of the engines) will be used and the action space will be `Box(-1, +1, (2,), dtype=np.float32)`. \n",
    "\n",
    "The **first coordinate** of an action determines the **throttle of the main engine**, while the **second** coordinate specifies the **throttle of the lateral boosters**. \n",
    "\n",
    "Given an action `np.array([main, lateral])`, the main engine will be turned off completely if **main < 0** and the throttle scales affinely from **50% to 100%** for **0 <= main <= 1** (in particular, the main engine doesn’t work with **less than 50% power**). \n",
    "\n",
    "Similarly, if **-0.5 < lateral < 0.5**, the lateral boosters will not fire at all. If **lateral < -0.5**, the **left booster** will fire, and if **lateral > 0.5**, the **right booster** will fire. Again, the throttle scales affinely from **50% to 100%** between **-1 and -0.5** (and **0.5 and 1**, respectively).\n",
    "\n",
    "*gravity* dictates the gravitational constant, this is bounded to be within **0 and -12.**\n",
    "\n",
    "If *enable_wind=True* is passed, there will be wind effects applied to the lander. The wind is generated using the function `tanh(sin(2 k (t+C)) + sin(pi k (t+C)))`. **k** is set to **0.01**. **C** is sampled randomly between **-9999 and 9999**.\n",
    "\n",
    "*wind_power* dictates the maximum magnitude of linear wind applied to the craft. The recommended value for *wind_power* is between **0.0 and 20.0**. \n",
    "\n",
    "*turbulence_power* dictates the maximum magnitude of rotational wind applied to the craft. The recommended value for *turbulence_power* is between **0.0 and 2.0**."
   ]
  },
  {
   "cell_type": "markdown",
   "metadata": {},
   "source": [
    "## Environment"
   ]
  },
  {
   "cell_type": "markdown",
   "metadata": {
    "id": "L21oAff8F-HC"
   },
   "source": [
    "### Instantiate the Environment and Agent"
   ]
  },
  {
   "cell_type": "code",
   "execution_count": null,
   "metadata": {
    "id": "f1-5W70xziVv",
    "tags": []
   },
   "outputs": [],
   "source": [
    "#print([k for k in gym.envs.registry.keys() if \"Continuous\" in k])  #.all().keys()  #.make\n",
    "#gym.envs.registry['LunarLanderContinuous-v2']\n",
    "\n",
    "num_agents = 1\n",
    "MANY = bool(num_agents>1)"
   ]
  },
  {
   "cell_type": "code",
   "execution_count": null,
   "metadata": {
    "colab": {
     "base_uri": "https://localhost:8080/"
    },
    "id": "3BVpbenjF-HC",
    "outputId": "482ba9be-1c04-4ece-bf66-cc2497cf9bb4",
    "tags": []
   },
   "outputs": [],
   "source": [
    "if not MANY:\n",
    "    ### SINGLE ENV\n",
    "    env = gym.make('LunarLanderContinuous-v2', render_mode=\"rgb_array\")\n",
    "    state_size=env.observation_space.shape[0]\n",
    "    action_size=env.action_space.shape[0]\n",
    "    print(state_size, action_size)\n",
    "\n",
    "    ### SINGLE AGENT\n",
    "    agent = Agents(state_size=state_size, action_size=action_size, num_agents=1, random_seed=SEED)\n",
    "    #actor_filename=None, critic_filename=None, num_agents=1\n",
    "\n",
    "    #agent.actor_local.load_state_dict(torch.load('data/highscore_actor.pth'))#, map_location=torch.device('cpu')))\n",
    "    #agent.critic_local.load_state_dict(torch.load('data/highscore_critic.pth'))#, map_location=torch.device('cpu')))\n",
    "    \n",
    "else:\n",
    "    ### PARALLEL ENVS\n",
    "    envs = parallelEnv(\"LunarLanderContinuous-v2\", n=num_agents, seed=SEED)\n",
    "    state_size=envs.observation_space.shape[0]\n",
    "    action_size=envs.action_space.shape[0]\n",
    "    print(state_size, action_size)\n",
    "\n",
    "    ### PARALLEL AGENTS\n",
    "    agents = Agents(state_size=state_size, action_size=action_size, num_agents=num_agents, random_seed=SEED,\n",
    "                    actor_filename='data/trained_actor.pth', critic_filename='data/trained_critic.pth')"
   ]
  },
  {
   "cell_type": "markdown",
   "metadata": {
    "jp-MarkdownHeadingCollapsed": true,
    "tags": []
   },
   "source": [
    "### Examine the State and Action Spaces"
   ]
  },
  {
   "cell_type": "markdown",
   "metadata": {
    "jp-MarkdownHeadingCollapsed": true,
    "tags": []
   },
   "source": [
    "## Random Agent"
   ]
  },
  {
   "cell_type": "markdown",
   "metadata": {
    "tags": []
   },
   "source": [
    "## DDPG"
   ]
  },
  {
   "cell_type": "markdown",
   "metadata": {},
   "source": [
    "### Train the Agent"
   ]
  },
  {
   "cell_type": "code",
   "execution_count": null,
   "metadata": {
    "tags": []
   },
   "outputs": [],
   "source": [
    "### Single Agent Training\n",
    "def sol_train(n_episodes=1000, print_every=100):\n",
    "    start = time.time\n",
    "    episode_times = []\n",
    "    episode_lengths = []\n",
    "    scores_deque = deque(maxlen=print_every)\n",
    "    scores = []\n",
    "    \n",
    "    for i_episode in (range(1, n_episodes+1)):\n",
    "        state, _ = env.reset(seed=SEED)\n",
    "        agent.reset()\n",
    "        score = 0        \n",
    "        episteps = 0\n",
    "        epistart = time.time()\n",
    "        while True:\n",
    "            action = agent.act(state)\n",
    "            next_state, reward, done, trun, _ = env.step(action)\n",
    "            agent.step(state, action, reward, next_state, done or trun)\n",
    "            state = next_state\n",
    "            score += reward \n",
    "            episteps += 1\n",
    "            if done or trun: \n",
    "                break \n",
    "        scores_deque.append(score)\n",
    "        scores.append(score)\n",
    "        episode_lengths.append(episteps)\n",
    "        episode_times.append(time.time()-epistart)\n",
    "   \n",
    "        cycle_steps = agent.steps%BUFFER_SIZE\n",
    "        buffer_cycle = agent.steps//BUFFER_SIZE\n",
    "        \n",
    "        print(\"\\rEpisode {} | Score:{:8.2f} | {:4d} Steps in {:5.3f} sec | Buffer cycle:{:3d} mod {:7d}\".format(i_episode,\n",
    "                                                                                                                score, \n",
    "                                                                                                                episteps,\n",
    "                                                                                                                time.time()-epistart,\n",
    "                                                                                                                buffer_cycle,\n",
    "                                                                                                                cycle_steps), end=\"\")\n",
    "        \n",
    "        if i_episode % 100 == 0:\n",
    "            print(\"\\rEpisodes {}-{} | Mean Score: {:7.2f} | Mean Steps {:4d} | Mean Time: {:5.3f} sec || Buffer cycle: {:3d} mod {:7d}\".format(i_episode-100, \n",
    "                                                                                                                                               i_episode, \n",
    "                                                                                                                                               np.mean(scores_deque), \n",
    "                                                                                                                                               round(np.mean(episode_lengths)),\n",
    "                                                                                                                                               np.mean(episode_times),\n",
    "                                                                                                                                               buffer_cycle,\n",
    "                                                                                                                                               cycle_steps))\n",
    "        if sum(np.array(scores_deque)>=200)>=100:\n",
    "            print('\\n\\nEnvironment Solved in {:d} episodes!\\tAverage Reward: {:.2f}'.format(i_episode-100,\n",
    "                                                                                            np.mean(scores_deque)))\n",
    "            torch.save(agent.actor_local.state_dict(), 'data/slvdpnt_actor.pth')\n",
    "            torch.save(agent.critic_local.state_dict(), 'data/slvdpnt_critic.pth')\n",
    "            break\n",
    "            \n",
    "    return scores #, agent_scores\n",
    "\n",
    "#scores, agent_scores = ddpg()\n"
   ]
  },
  {
   "cell_type": "code",
   "execution_count": null,
   "metadata": {},
   "outputs": [],
   "source": [
    "def poly_train(n_episodes=1000, print_every=100, num_agents=20):\n",
    "    start = time.time\n",
    "    episode_times = []\n",
    "    episode_lengths = []\n",
    "    scores_deque = deque(maxlen=print_every)\n",
    "    scores = []\n",
    "    agent_scores = []\n",
    "    for i_episode in (range(1, n_episodes+1)):\n",
    "        epistart = time.time()\n",
    "        states = envs.reset()\n",
    "        agents.reset()\n",
    "        episteps = 0\n",
    "        score = 0\n",
    "        individual_scores = np.zeros(num_agents)\n",
    "        while True:\n",
    "            actions = agents.act(states)\n",
    "            next_states, rewards, dones, _ = envs.step(actions)\n",
    "            agents.step(states, actions, rewards, next_states, dones)\n",
    "            states = next_states\n",
    "            score += np.mean(rewards)\n",
    "            individual_scores += rewards\n",
    "            episteps+=1\n",
    "            if np.any(dones):\n",
    "                break \n",
    "        scores_deque.append(score)\n",
    "        scores.append(score)\n",
    "        agent_scores.append(individual_scores)\n",
    "        episode_lengths.append(episteps)\n",
    "        episode_times.append(time.time()-epistart)\n",
    "        cycle_steps = agents.steps%BUFFER_SIZE\n",
    "        buffer_cycle = agents.steps//BUFFER_SIZE\n",
    "\n",
    "        print(\"\\rEpisode {} | Score: {:7.2f} | {:4d} Steps in {:5.3f} sec || Buffer cycle: {:3d} mod {:7d}\".format(i_episode,\n",
    "                                                                                                                score, \n",
    "                                                                                                                episteps,\n",
    "                                                                                                                time.time()-epistart,\n",
    "                                                                                                                buffer_cycle,\n",
    "                                                                                                                cycle_steps), end=\"\")\n",
    "        \n",
    "        if i_episode % 100 == 0:\n",
    "            print(\"\\rEpisodes {}-{} | Mean Score: {:7.2f} | Mean Steps {:4d} | Mean Time: {:5.3f} sec || Buffer cycle: {:3d} mod {:7d}\".format(i_episode-100, \n",
    "                                                                                                                                               i_episode, \n",
    "                                                                                                                                               np.mean(scores_deque), \n",
    "                                                                                                                                               round(np.mean(episode_lengths)),\n",
    "                                                                                                                                               np.mean(episode_times),\n",
    "                                                                                                                                               buffer_cycle,\n",
    "                                                                                                                                               cycle_steps))\n",
    "        if sum(np.array(scores_deque)>=200)>=100:\n",
    "            print('\\n\\nEnvironment Solved in {:d} episodes!\\tAverage Reward: {:.2f}'.format(i_episode-100, np.mean(scores_deque)))\n",
    "            torch.save(agents.actor_local.state_dict(), 'data/slvdpnt_actor.pth')\n",
    "            torch.save(agents.critic_local.state_dict(), 'data/slvdpnt_critic.pth')\n",
    "            break\n",
    "\n",
    "    return scores, agent_scores"
   ]
  },
  {
   "cell_type": "code",
   "execution_count": null,
   "metadata": {
    "jupyter": {
     "source_hidden": true
    },
    "tags": []
   },
   "outputs": [],
   "source": [
    "if False:\n",
    "    #def old poly_train(n_episodes=1000, print_every=100, num_agents=20): \n",
    "    scores_deque = deque(maxlen=print_every)\n",
    "    scores = []\n",
    "    agent_scores = []\n",
    "    for i_episode in (range(1, n_episodes+1)):\n",
    "        states = envs.reset()\n",
    "        agents.reset()\n",
    "        score = 0\n",
    "        individual_scores = np.zeros(num_agents)\n",
    "        while True:\n",
    "            actions = agents.act(states)\n",
    "            next_states, rewards, dones, _ = envs.step(actions)\n",
    "            agents.step(states, actions, rewards, next_states, dones)\n",
    "            states = next_states\n",
    "            score += np.mean(rewards)\n",
    "            individual_scores += rewards\n",
    "            if np.any(dones):\n",
    "                break \n",
    "        scores_deque.append(score)\n",
    "        scores.append(score)\n",
    "        agent_scores.append(individual_scores)\n",
    "        print('\\rEpisode {}\\tReward: {:.2f}\\tAverage Reward: {:.2f}'.format(i_episode, score, np.mean(scores_deque)), end=\"\")\n",
    "        \n",
    "        if i_episode % 100 == 0:\n",
    "            print('\\rEpisode {}\\tReward: {:.2f}\\tAverage Reward: {:.2f}'.format(i_episode, score, np.mean(scores_deque)))\n",
    "        \n",
    "        if sum(np.array(scores_deque)>=200)>=100:\n",
    "            print('\\n\\nEnvironment Solved in {:d} episodes!\\tAverage Reward: {:.2f}'.format(i_episode-100,\n",
    "                                                                                          np.mean(scores_deque)))\n",
    "            torch.save(agent.actor_local.state_dict(), 'data/slvdpnt_actor.pth')\n",
    "            torch.save(agent.critic_local.state_dict(), 'data/slvdpnt_critic.pth')\n",
    "            break\n",
    "            \n",
    "    #return scores, agent_scores"
   ]
  },
  {
   "cell_type": "code",
   "execution_count": null,
   "metadata": {
    "tags": []
   },
   "outputs": [],
   "source": [
    "if MANY:\n",
    "    ## TRAIN MANY AGENTS\n",
    "    sc, ag = sol_train(n_episodes=1000)#, num_agents=num_agents)\n",
    "    try:\n",
    "        scores+=sc \n",
    "        agent_scores+=ag\n",
    "    except:\n",
    "        scores=sc\n",
    "        agent_scores=ag\n",
    "else:    \n",
    "    ## TRAIN ONE AGENT\n",
    "    sc = sol_train(n_episodes=1000)\n",
    "    try: scores+=sc \n",
    "    except: scores=sc"
   ]
  },
  {
   "cell_type": "code",
   "execution_count": null,
   "metadata": {},
   "outputs": [],
   "source": [
    "torch.save(agents.actor_local.state_dict(), 'data/retraining_actor.pth')\n",
    "torch.save(agents.critic_local.state_dict(), 'data/retraining_critic.pth')"
   ]
  },
  {
   "cell_type": "code",
   "execution_count": null,
   "metadata": {
    "tags": []
   },
   "outputs": [],
   "source": [
    "### Plot Multiple Agent Scores\n",
    "fig, ax = plt.subplots(figsize=(16, 8))\n",
    "ax.plot(np.arange(1, len(scores)+1), scores, color='r', label=\"Mean Reward across {} Agents\".format(num_agents))\n",
    "for i in range(20):\n",
    "    ax.plot(np.arange(1, len(scores)+1), [s[i] for s in agent_scores], alpha=0.1)\n",
    "plt.legend()\n",
    "ax.set_xlabel('Episode #', fontsize=14)\n",
    "ax.set_ylabel('Reward', fontsize=14)\n",
    "ax.set_title('Gym LunarLander Environment using DDPG', fontsize=16)\n",
    "plt.show()"
   ]
  },
  {
   "cell_type": "code",
   "execution_count": null,
   "metadata": {},
   "outputs": [],
   "source": [
    "states, actions, rewards, next_states, dones = zip(*agent.memory.memory)\n",
    "actions[:20]"
   ]
  },
  {
   "cell_type": "markdown",
   "metadata": {},
   "source": [
    "When finished, you can close the environment."
   ]
  },
  {
   "cell_type": "code",
   "execution_count": null,
   "metadata": {},
   "outputs": [],
   "source": [
    "env.close()"
   ]
  },
  {
   "cell_type": "markdown",
   "metadata": {
    "tags": []
   },
   "source": [
    "# Evaluation"
   ]
  },
  {
   "cell_type": "code",
   "execution_count": null,
   "metadata": {},
   "outputs": [],
   "source": [
    "#from unityagents import UnityEnvironment\n",
    "import numpy as np\n",
    "import random\n",
    "import torch\n",
    "from collections import deque\n",
    "import matplotlib.pyplot as plt\n",
    "import agents\n",
    "%matplotlib inline"
   ]
  },
  {
   "cell_type": "code",
   "execution_count": null,
   "metadata": {},
   "outputs": [],
   "source": [
    "env = UnityEnvironment(file_name='.\\environment\\Reacher_Windows_x86_64\\Reacher.exe')"
   ]
  },
  {
   "cell_type": "code",
   "execution_count": null,
   "metadata": {},
   "outputs": [],
   "source": [
    "# get the default brain\n",
    "brain_name = env.brain_names[0]\n",
    "brain = env.brains[brain_name]"
   ]
  },
  {
   "cell_type": "code",
   "execution_count": null,
   "metadata": {},
   "outputs": [],
   "source": [
    "# reset the environment\n",
    "env_info = env.reset(train_mode=True)[brain_name]\n",
    "num_agents = len(env_info.agents)\n",
    "action_size = brain.vector_action_space_size\n",
    "states = env_info.vector_observations\n",
    "state_size = states.shape[1]"
   ]
  },
  {
   "cell_type": "code",
   "execution_count": null,
   "metadata": {},
   "outputs": [],
   "source": [
    "agent = ddpg_agent.Agent(state_size=state_size, action_size=action_size, num_agents=num_agents, random_seed=0, \n",
    "                         actor_filename='checkpoint_actor2.pth', critic_filename='checkpoint_critic2.pth')"
   ]
  },
  {
   "cell_type": "markdown",
   "metadata": {},
   "source": [
    "## Iteration 1"
   ]
  },
  {
   "cell_type": "code",
   "execution_count": null,
   "metadata": {},
   "outputs": [],
   "source": [
    "env_info = env.reset(train_mode=False)[brain_name]      # reset the environment    \n",
    "states = env_info.vector_observations                  # get the current state (for each agent)\n",
    "scores = np.zeros(num_agents)                          # initialize the score (for each agent)\n",
    "while True:\n",
    "    actions = agent.act(states, add_noise=False)       # select an action (for each agent)\n",
    "    env_info = env.step(actions)[brain_name]           # send all actions to tne environment\n",
    "    next_states = env_info.vector_observations         # get next state (for each agent)\n",
    "    rewards = env_info.rewards                         # get reward (for each agent)\n",
    "    dones = env_info.local_done                        # see if episode finished\n",
    "    scores += env_info.rewards                         # update the score (for each agent)\n",
    "    states = next_states                               # roll over states to next time step\n",
    "    if np.any(dones):                                  # exit loop if episode finished\n",
    "        break\n",
    "print('Total score (averaged over agents) this episode: {}'.format(np.mean(scores)))"
   ]
  },
  {
   "cell_type": "markdown",
   "metadata": {},
   "source": [
    "## Iteration 2"
   ]
  },
  {
   "cell_type": "code",
   "execution_count": null,
   "metadata": {},
   "outputs": [],
   "source": [
    "env_info = env.reset(train_mode=False)[brain_name]      # reset the environment    \n",
    "states = env_info.vector_observations                  # get the current state (for each agent)\n",
    "scores = np.zeros(num_agents)                          # initialize the score (for each agent)\n",
    "while True:\n",
    "    actions = agent.act(states, add_noise=False) # select an action (for each agent)\n",
    "    env_info = env.step(actions)[brain_name]           # send all actions to tne environment\n",
    "    next_states = env_info.vector_observations         # get next state (for each agent)\n",
    "    rewards = env_info.rewards                         # get reward (for each agent)\n",
    "    dones = env_info.local_done                        # see if episode finished\n",
    "    scores += env_info.rewards                         # update the score (for each agent)\n",
    "    states = next_states                               # roll over states to next time step\n",
    "    if np.any(dones):                                  # exit loop if episode finished\n",
    "        break\n",
    "print('Total score (averaged over agents) this episode: {}'.format(np.mean(scores)))"
   ]
  },
  {
   "cell_type": "markdown",
   "metadata": {},
   "source": [
    "## Iteration 3"
   ]
  },
  {
   "cell_type": "code",
   "execution_count": null,
   "metadata": {},
   "outputs": [],
   "source": [
    "env_info = env.reset(train_mode=False)[brain_name]      # reset the environment    \n",
    "states = env_info.vector_observations                  # get the current state (for each agent)\n",
    "scores = np.zeros(num_agents)                          # initialize the score (for each agent)\n",
    "while True:\n",
    "    actions = agent.act(states, add_noise=False) # select an action (for each agent)\n",
    "    env_info = env.step(actions)[brain_name]           # send all actions to tne environment\n",
    "    next_states = env_info.vector_observations         # get next state (for each agent)\n",
    "    rewards = env_info.rewards                         # get reward (for each agent)\n",
    "    dones = env_info.local_done                        # see if episode finished\n",
    "    scores += env_info.rewards                         # update the score (for each agent)\n",
    "    states = next_states                               # roll over states to next time step\n",
    "    if np.any(dones):                                  # exit loop if episode finished\n",
    "        break\n",
    "print('Total score (averaged over agents) this episode: {}'.format(np.mean(scores)))"
   ]
  },
  {
   "cell_type": "markdown",
   "metadata": {},
   "source": [
    "## Iteration 4"
   ]
  },
  {
   "cell_type": "code",
   "execution_count": null,
   "metadata": {},
   "outputs": [],
   "source": [
    "env_info = env.reset(train_mode=False)[brain_name]      # reset the environment    \n",
    "states = env_info.vector_observations                  # get the current state (for each agent)\n",
    "scores = np.zeros(num_agents)                          # initialize the score (for each agent)\n",
    "while True:\n",
    "    actions = agent.act(states, add_noise=True) # select an action (for each agent)\n",
    "    env_info = env.step(actions)[brain_name]           # send all actions to tne environment\n",
    "    next_states = env_info.vector_observations         # get next state (for each agent)\n",
    "    rewards = env_info.rewards                         # get reward (for each agent)\n",
    "    dones = env_info.local_done                        # see if episode finished\n",
    "    scores += env_info.rewards                         # update the score (for each agent)\n",
    "    states = next_states                               # roll over states to next time step\n",
    "    if np.any(dones):                                  # exit loop if episode finished\n",
    "        break\n",
    "print('Total score (averaged over agents) this episode: {}'.format(np.mean(scores)))"
   ]
  },
  {
   "cell_type": "code",
   "execution_count": null,
   "metadata": {
    "scrolled": true
   },
   "outputs": [],
   "source": [
    "env.close()"
   ]
  }
 ],
 "metadata": {
  "kernelspec": {
   "display_name": "Python 3 (ipykernel)",
   "language": "python",
   "name": "python3"
  },
  "language_info": {
   "codemirror_mode": {
    "name": "ipython",
    "version": 3
   },
   "file_extension": ".py",
   "mimetype": "text/x-python",
   "name": "python",
   "nbconvert_exporter": "python",
   "pygments_lexer": "ipython3",
   "version": "3.9.0"
  }
 },
 "nbformat": 4,
 "nbformat_minor": 4
}
